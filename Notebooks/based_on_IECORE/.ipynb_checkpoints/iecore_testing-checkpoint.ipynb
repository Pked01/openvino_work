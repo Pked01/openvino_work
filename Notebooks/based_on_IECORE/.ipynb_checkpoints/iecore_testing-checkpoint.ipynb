{
 "cells": [
  {
   "cell_type": "code",
   "execution_count": 1,
   "metadata": {
    "ExecuteTime": {
     "end_time": "2020-05-21T04:25:51.376050Z",
     "start_time": "2020-05-21T04:25:51.232384Z"
    }
   },
   "outputs": [],
   "source": [
    "from openvino.inference_engine import IECore"
   ]
  },
  {
   "cell_type": "code",
   "execution_count": 2,
   "metadata": {
    "ExecuteTime": {
     "end_time": "2020-05-21T04:25:51.418631Z",
     "start_time": "2020-05-21T04:25:51.389927Z"
    }
   },
   "outputs": [],
   "source": [
    "import openvino,cv2\n",
    "import os\n",
    "\n",
    "os.sys.path.append(\"../\")"
   ]
  },
  {
   "cell_type": "code",
   "execution_count": 3,
   "metadata": {
    "ExecuteTime": {
     "end_time": "2020-05-21T04:25:52.248364Z",
     "start_time": "2020-05-21T04:25:52.139464Z"
    }
   },
   "outputs": [],
   "source": [
    "import pkg_resources\n",
    "import logging"
   ]
  },
  {
   "cell_type": "code",
   "execution_count": 4,
   "metadata": {
    "ExecuteTime": {
     "end_time": "2020-05-20T06:09:18.614872Z",
     "start_time": "2020-05-20T06:09:18.594802Z"
    }
   },
   "outputs": [
    {
     "data": {
      "text/plain": [
       "'2.1.42025'"
      ]
     },
     "execution_count": 4,
     "metadata": {},
     "output_type": "execute_result"
    }
   ],
   "source": [
    "openvino.inference_engine.__version__"
   ]
  },
  {
   "cell_type": "code",
   "execution_count": 23,
   "metadata": {
    "ExecuteTime": {
     "end_time": "2020-05-21T11:03:10.455721Z",
     "start_time": "2020-05-21T11:03:10.447593Z"
    }
   },
   "outputs": [
    {
     "ename": "RuntimeError",
     "evalue": "Unsupported Plugin metric: OPTIMIZATION_CAPABILITIES",
     "output_type": "error",
     "traceback": [
      "\u001b[0;31m---------------------------------------------------------------------------\u001b[0m",
      "\u001b[0;31mRuntimeError\u001b[0m                              Traceback (most recent call last)",
      "\u001b[0;32m<ipython-input-23-27fea77a7d4e>\u001b[0m in \u001b[0;36m<module>\u001b[0;34m\u001b[0m\n\u001b[0;32m----> 1\u001b[0;31m \u001b[0mie\u001b[0m\u001b[0;34m.\u001b[0m\u001b[0mget_metric\u001b[0m\u001b[0;34m(\u001b[0m\u001b[0mmetric_name\u001b[0m\u001b[0;34m=\u001b[0m\u001b[0;34m\"OPTIMIZATION_CAPABILITIES\"\u001b[0m\u001b[0;34m,\u001b[0m \u001b[0mdevice_name\u001b[0m\u001b[0;34m=\u001b[0m\u001b[0;34m\"HETERO\"\u001b[0m\u001b[0;34m)\u001b[0m\u001b[0;34m\u001b[0m\u001b[0;34m\u001b[0m\u001b[0m\n\u001b[0m",
      "\u001b[0;32mie_api.pyx\u001b[0m in \u001b[0;36mopenvino.inference_engine.ie_api.IECore.get_metric\u001b[0;34m()\u001b[0m\n",
      "\u001b[0;31mRuntimeError\u001b[0m: Unsupported Plugin metric: OPTIMIZATION_CAPABILITIES"
     ]
    }
   ],
   "source": [
    "ie.get_metric(metric_name=\"OPTIMIZATION_CAPABILITIES\", device_name=\"HETERO\")"
   ]
  },
  {
   "cell_type": "code",
   "execution_count": 4,
   "metadata": {
    "ExecuteTime": {
     "end_time": "2020-05-21T04:26:23.971921Z",
     "start_time": "2020-05-21T04:25:54.521225Z"
    }
   },
   "outputs": [],
   "source": [
    "ie = IECore()\n",
    "model_path = \"/home/prateek/prateek_space/intel_model_dump/intel/face-detection-adas-0001/FP32/face-detection-adas-0001.xml\"\n",
    "net = ie.read_network(model=model_path, weights=model_path.replace(\".xml\",\".bin\"))\n",
    "exec_net = ie.load_network(net, \"GPU\", num_requests=4)"
   ]
  },
  {
   "cell_type": "code",
   "execution_count": 10,
   "metadata": {
    "ExecuteTime": {
     "end_time": "2020-05-21T05:37:28.862962Z",
     "start_time": "2020-05-21T05:37:28.860209Z"
    }
   },
   "outputs": [],
   "source": [
    "ie.set_config({'DYN_BATCH_ENABLED': 'YES'},'GPU')"
   ]
  },
  {
   "cell_type": "code",
   "execution_count": 13,
   "metadata": {
    "ExecuteTime": {
     "end_time": "2020-05-20T10:44:35.320414Z",
     "start_time": "2020-05-20T10:44:35.317253Z"
    }
   },
   "outputs": [
    {
     "data": {
      "text/plain": [
       "['data']"
      ]
     },
     "execution_count": 13,
     "metadata": {},
     "output_type": "execute_result"
    }
   ],
   "source": [
    "list(net.inputs.keys())"
   ]
  },
  {
   "cell_type": "code",
   "execution_count": 35,
   "metadata": {
    "ExecuteTime": {
     "end_time": "2020-05-20T05:55:18.906080Z",
     "start_time": "2020-05-20T05:55:18.900299Z"
    }
   },
   "outputs": [
    {
     "data": {
      "text/plain": [
       "{'detection_out': <openvino.inference_engine.ie_api.DataPtr at 0x7fe9568b12d0>}"
      ]
     },
     "execution_count": 35,
     "metadata": {},
     "output_type": "execute_result"
    }
   ],
   "source": [
    "net.outputs"
   ]
  },
  {
   "cell_type": "code",
   "execution_count": 32,
   "metadata": {
    "ExecuteTime": {
     "end_time": "2020-05-20T05:52:49.400364Z",
     "start_time": "2020-05-20T05:52:49.393293Z"
    }
   },
   "outputs": [
    {
     "data": {
      "text/plain": [
       "{'data': <openvino.inference_engine.ie_api.DataPtr at 0x7fe9568b15f0>}"
      ]
     },
     "execution_count": 32,
     "metadata": {},
     "output_type": "execute_result"
    }
   ],
   "source": [
    "exec_net.inputs"
   ]
  },
  {
   "cell_type": "code",
   "execution_count": 33,
   "metadata": {
    "ExecuteTime": {
     "end_time": "2020-05-20T05:52:56.854522Z",
     "start_time": "2020-05-20T05:52:56.851339Z"
    }
   },
   "outputs": [
    {
     "data": {
      "text/plain": [
       "{'detection_out': <openvino.inference_engine.ie_api.CDataPtr at 0x7fe9568b1c90>}"
      ]
     },
     "execution_count": 33,
     "metadata": {},
     "output_type": "execute_result"
    }
   ],
   "source": [
    "exec_net.outputs"
   ]
  },
  {
   "cell_type": "code",
   "execution_count": 14,
   "metadata": {
    "ExecuteTime": {
     "end_time": "2020-05-20T05:18:59.581257Z",
     "start_time": "2020-05-20T05:18:59.505242Z"
    }
   },
   "outputs": [],
   "source": [
    "im = cv2.imread(\"/home/prateek/prateek_space/helmet_n_vest/2019_12_26_cleaned_helmet_vest_pallavi/camera_2/train_frames/0000001.jpeg\")\n",
    "im1 =  cv2.resize(im,(672,384))\n",
    "im2 = im1.reshape(exec_net.inputs['data'].shape)"
   ]
  },
  {
   "cell_type": "code",
   "execution_count": 15,
   "metadata": {
    "ExecuteTime": {
     "end_time": "2020-05-20T05:27:15.569661Z",
     "start_time": "2020-05-20T05:27:15.564341Z"
    }
   },
   "outputs": [],
   "source": [
    "callback = lambda status, py_data: print(\"Request with id {} finished with status {}\".format(py_data, status))\n"
   ]
  },
  {
   "cell_type": "code",
   "execution_count": 16,
   "metadata": {
    "ExecuteTime": {
     "end_time": "2020-05-20T05:27:43.593811Z",
     "start_time": "2020-05-20T05:27:43.591498Z"
    }
   },
   "outputs": [],
   "source": [
    "for id, req in enumerate(exec_net.requests):\n",
    "    req.set_completion_callback(py_callback=callback, py_data=id)"
   ]
  },
  {
   "cell_type": "code",
   "execution_count": 17,
   "metadata": {
    "ExecuteTime": {
     "end_time": "2020-05-20T05:28:14.796862Z",
     "start_time": "2020-05-20T05:28:14.792520Z"
    }
   },
   "outputs": [
    {
     "name": "stdout",
     "output_type": "stream",
     "text": [
      "Request with id 0 finished with status 0\n",
      "Request with id 1 finished with status 0\n",
      "Request with id 2 finished with status 0\n",
      "Request with id 3 finished with status 0\n"
     ]
    }
   ],
   "source": [
    "for i in range(4):\n",
    "    exec_net.requests[i].async_infer({\"data\":im2})"
   ]
  },
  {
   "cell_type": "code",
   "execution_count": 11,
   "metadata": {
    "ExecuteTime": {
     "end_time": "2020-05-20T05:28:50.181070Z",
     "start_time": "2020-05-20T05:28:50.178796Z"
    }
   },
   "outputs": [],
   "source": [
    "for i in range(4):\n",
    "    res = exec_net.requests[i].outputs\n"
   ]
  },
  {
   "cell_type": "code",
   "execution_count": 13,
   "metadata": {
    "ExecuteTime": {
     "end_time": "2020-05-09T07:53:40.361890Z",
     "start_time": "2020-05-09T07:53:40.355717Z"
    }
   },
   "outputs": [
    {
     "data": {
      "text/plain": [
       "{'data': <openvino.inference_engine.ie_api.DataPtr at 0x7f718b65dc50>}"
      ]
     },
     "execution_count": 13,
     "metadata": {},
     "output_type": "execute_result"
    }
   ],
   "source": [
    "exec_net.inputs"
   ]
  },
  {
   "cell_type": "code",
   "execution_count": 15,
   "metadata": {
    "ExecuteTime": {
     "end_time": "2020-05-09T07:54:16.322995Z",
     "start_time": "2020-05-09T07:54:16.308213Z"
    }
   },
   "outputs": [
    {
     "data": {
      "text/plain": [
       "[1, 3, 384, 672]"
      ]
     },
     "execution_count": 15,
     "metadata": {},
     "output_type": "execute_result"
    }
   ],
   "source": [
    "exec_net.inputs['data'].shape"
   ]
  },
  {
   "cell_type": "code",
   "execution_count": 5,
   "metadata": {
    "ExecuteTime": {
     "end_time": "2020-05-09T07:45:32.719895Z",
     "start_time": "2020-05-09T07:45:32.716353Z"
    }
   },
   "outputs": [
    {
     "data": {
      "text/plain": [
       "['AVAILABLE_DEVICES',\n",
       " 'SUPPORTED_METRICS',\n",
       " 'FULL_DEVICE_NAME',\n",
       " 'OPTIMIZATION_CAPABILITIES',\n",
       " 'SUPPORTED_CONFIG_KEYS',\n",
       " 'RANGE_FOR_ASYNC_INFER_REQUESTS',\n",
       " 'RANGE_FOR_STREAMS']"
      ]
     },
     "execution_count": 5,
     "metadata": {},
     "output_type": "execute_result"
    }
   ],
   "source": [
    "ie.get_metric(metric_name=\"SUPPORTED_METRICS\", device_name=\"CPU\",)\n"
   ]
  },
  {
   "cell_type": "code",
   "execution_count": 11,
   "metadata": {
    "ExecuteTime": {
     "end_time": "2020-05-09T07:51:40.123582Z",
     "start_time": "2020-05-09T07:51:39.834815Z"
    }
   },
   "outputs": [],
   "source": [
    "import support_utility_openvino"
   ]
  },
  {
   "cell_type": "code",
   "execution_count": 12,
   "metadata": {
    "ExecuteTime": {
     "end_time": "2020-05-09T07:52:18.423845Z",
     "start_time": "2020-05-09T07:52:18.398108Z"
    }
   },
   "outputs": [
    {
     "ename": "TypeError",
     "evalue": "preprocess_frame() missing 1 required positional argument: 'frame'",
     "output_type": "error",
     "traceback": [
      "\u001b[0;31m---------------------------------------------------------------------------\u001b[0m",
      "\u001b[0;31mTypeError\u001b[0m                                 Traceback (most recent call last)",
      "\u001b[0;32m<ipython-input-12-766bd81f5264>\u001b[0m in \u001b[0;36m<module>\u001b[0;34m\u001b[0m\n\u001b[0;32m----> 1\u001b[0;31m \u001b[0msupport_utility_openvino\u001b[0m\u001b[0;34m.\u001b[0m\u001b[0masync_infer\u001b[0m\u001b[0;34m.\u001b[0m\u001b[0mpreprocess_frame\u001b[0m\u001b[0;34m(\u001b[0m\u001b[0mim\u001b[0m\u001b[0;34m)\u001b[0m\u001b[0;34m\u001b[0m\u001b[0;34m\u001b[0m\u001b[0m\n\u001b[0m",
      "\u001b[0;31mTypeError\u001b[0m: preprocess_frame() missing 1 required positional argument: 'frame'"
     ]
    }
   ],
   "source": [
    "support_utility_openvino.async_infer.preprocess_frame(im)"
   ]
  },
  {
   "cell_type": "code",
   "execution_count": 18,
   "metadata": {
    "ExecuteTime": {
     "end_time": "2020-05-09T07:55:25.258958Z",
     "start_time": "2020-05-09T07:55:25.240812Z"
    }
   },
   "outputs": [
    {
     "data": {
      "text/plain": [
       "{'detection_out': array([[[[0.        , 1.        , 0.07635968, ..., 0.8205075 ,\n",
       "           0.7707091 , 0.87830114],\n",
       "          [0.        , 1.        , 0.07393593, ..., 0.6182586 ,\n",
       "           0.7645484 , 0.6855664 ],\n",
       "          [0.        , 1.        , 0.07346141, ..., 0.540742  ,\n",
       "           0.2861867 , 0.5902806 ],\n",
       "          ...,\n",
       "          [0.        , 0.        , 0.        , ..., 0.        ,\n",
       "           0.        , 0.        ],\n",
       "          [0.        , 0.        , 0.        , ..., 0.        ,\n",
       "           0.        , 0.        ],\n",
       "          [0.        , 0.        , 0.        , ..., 0.        ,\n",
       "           0.        , 0.        ]]]], dtype=float32)}"
      ]
     },
     "execution_count": 18,
     "metadata": {},
     "output_type": "execute_result"
    }
   ],
   "source": [
    "exec_net.infer({'data':im2})"
   ]
  },
  {
   "cell_type": "code",
   "execution_count": 16,
   "metadata": {
    "ExecuteTime": {
     "end_time": "2020-05-09T07:32:25.194636Z",
     "start_time": "2020-05-09T07:32:25.181319Z"
    }
   },
   "outputs": [
    {
     "ename": "RuntimeError",
     "evalue": "[NOT_IMPLEMENTED] ",
     "output_type": "error",
     "traceback": [
      "\u001b[0;31m---------------------------------------------------------------------------\u001b[0m",
      "\u001b[0;31mRuntimeError\u001b[0m                              Traceback (most recent call last)",
      "\u001b[0;32m<ipython-input-16-9abf1a295abe>\u001b[0m in \u001b[0;36m<module>\u001b[0;34m\u001b[0m\n\u001b[0;32m----> 1\u001b[0;31m \u001b[0mexec_net\u001b[0m\u001b[0;34m.\u001b[0m\u001b[0mexport\u001b[0m\u001b[0;34m(\u001b[0m\u001b[0;34m\"test/test_net\"\u001b[0m\u001b[0;34m)\u001b[0m\u001b[0;34m\u001b[0m\u001b[0;34m\u001b[0m\u001b[0m\n\u001b[0m",
      "\u001b[0;32mie_api.pyx\u001b[0m in \u001b[0;36mopenvino.inference_engine.ie_api.ExecutableNetwork.export\u001b[0;34m()\u001b[0m\n",
      "\u001b[0;31mRuntimeError\u001b[0m: [NOT_IMPLEMENTED] "
     ]
    }
   ],
   "source": [
    "exec_net.export(\"test/test_net\")"
   ]
  },
  {
   "cell_type": "code",
   "execution_count": null,
   "metadata": {},
   "outputs": [],
   "source": [
    "for id, req in enumerate(exec_net.requests):\n",
    "    req.set_completion_callback(py_callback=callback, py_data=id)\n",
    "for req in exec_net.requests:\n",
    "    req.async_infer({\"data\": img})"
   ]
  }
 ],
 "metadata": {
  "kernelspec": {
   "display_name": "openvino",
   "language": "python",
   "name": "openvino"
  },
  "language_info": {
   "codemirror_mode": {
    "name": "ipython",
    "version": 3
   },
   "file_extension": ".py",
   "mimetype": "text/x-python",
   "name": "python",
   "nbconvert_exporter": "python",
   "pygments_lexer": "ipython3",
   "version": "3.6.8"
  },
  "widgets": {
   "application/vnd.jupyter.widget-state+json": {
    "state": {},
    "version_major": 2,
    "version_minor": 0
   }
  }
 },
 "nbformat": 4,
 "nbformat_minor": 4
}
