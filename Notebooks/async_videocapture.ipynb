{
 "cells": [
  {
   "cell_type": "code",
   "execution_count": 5,
   "metadata": {
    "ExecuteTime": {
     "end_time": "2019-08-03T11:22:28.422811Z",
     "start_time": "2019-08-03T11:22:28.411884Z"
    }
   },
   "outputs": [],
   "source": [
    "# file: videocaptureasync.py\n",
    "import threading\n",
    "import cv2\n",
    "\n",
    "class VideoCaptureAsync:\n",
    "    def __init__(self, src=0, width=640, height=480):\n",
    "        self.src = src\n",
    "        self.cap = cv2.VideoCapture(self.src)\n",
    "        self.cap.set(cv2.CAP_PROP_FRAME_WIDTH, width)\n",
    "        self.cap.set(cv2.CAP_PROP_FRAME_HEIGHT, height)\n",
    "        self.grabbed, self.frame = self.cap.read()\n",
    "        self.started = False\n",
    "        self.read_lock = threading.Lock()\n",
    "\n",
    "    def set(self, var1, var2):\n",
    "        self.cap.set(var1, var2)\n",
    "\n",
    "    def start(self):\n",
    "        if self.started:\n",
    "            print('[!] Asynchroneous video capturing has already been started.')\n",
    "            return None\n",
    "        self.started = True\n",
    "        self.thread = threading.Thread(target=self.update, args=())\n",
    "        self.thread.start()\n",
    "        return self\n",
    "\n",
    "    def update(self):\n",
    "        while self.started:\n",
    "            grabbed, frame = self.cap.read()\n",
    "            with self.read_lock:\n",
    "                self.grabbed = grabbed\n",
    "                self.frame = frame\n",
    "\n",
    "    def read(self):\n",
    "        with self.read_lock:\n",
    "            frame = self.frame.copy()\n",
    "            grabbed = self.grabbed\n",
    "        return grabbed, frame\n",
    "\n",
    "    def stop(self):\n",
    "        self.started = False\n",
    "        self.thread.join()\n",
    "\n",
    "    def __exit__(self, exec_type, exc_value, traceback):\n",
    "        self.cap.release()"
   ]
  },
  {
   "cell_type": "code",
   "execution_count": 9,
   "metadata": {
    "ExecuteTime": {
     "end_time": "2019-08-03T11:23:59.180322Z",
     "start_time": "2019-08-03T11:23:07.118087Z"
    }
   },
   "outputs": [
    {
     "name": "stdout",
     "output_type": "stream",
     "text": [
      "[i] Frames per second: 9.96, async=False\n",
      "[i] Frames per second: 358.04, async=True\n"
     ]
    }
   ],
   "source": [
    "import cv2\n",
    "import time\n",
    "\n",
    "def test(n_frames=500, width=1280, height=720, async=False):\n",
    "    if async:\n",
    "        cap = VideoCaptureAsync(0)\n",
    "    else:\n",
    "        cap = cv2.VideoCapture(0)\n",
    "    cap.set(cv2.CAP_PROP_FRAME_WIDTH, width)\n",
    "    cap.set(cv2.CAP_PROP_FRAME_HEIGHT, height)\n",
    "    if async:\n",
    "        cap.start()\n",
    "    t0 = time.time()\n",
    "    i = 0\n",
    "    while i < n_frames:\n",
    "        _, frame = cap.read()\n",
    "        cv2.imshow('Frame', frame)\n",
    "        cv2.waitKey(1) & 0xFF\n",
    "        i += 1\n",
    "    print('[i] Frames per second: {:.2f}, async={}'.format(n_frames / (time.time() - t0), async))\n",
    "    if async:\n",
    "        cap.stop()\n",
    "    cv2.destroyAllWindows()\n",
    "\n",
    "\n",
    "if __name__ == '__main__':\n",
    "    test(n_frames=500, width=1280, height=720, async=False)\n",
    "    test(n_frames=500, width=1280, height=720, async=True)"
   ]
  },
  {
   "cell_type": "code",
   "execution_count": null,
   "metadata": {},
   "outputs": [],
   "source": []
  }
 ],
 "metadata": {
  "hide_input": false,
  "kernelspec": {
   "display_name": "cv_p36",
   "language": "python",
   "name": "cv_p36"
  },
  "language_info": {
   "codemirror_mode": {
    "name": "ipython",
    "version": 3
   },
   "file_extension": ".py",
   "mimetype": "text/x-python",
   "name": "python",
   "nbconvert_exporter": "python",
   "pygments_lexer": "ipython3",
   "version": "3.6.7"
  }
 },
 "nbformat": 4,
 "nbformat_minor": 2
}
