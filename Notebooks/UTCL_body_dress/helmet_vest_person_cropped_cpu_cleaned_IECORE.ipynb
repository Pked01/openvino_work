{
 "cells": [
  {
   "cell_type": "code",
   "execution_count": 1,
   "metadata": {
    "ExecuteTime": {
     "end_time": "2020-11-12T06:53:34.451260Z",
     "start_time": "2020-11-12T06:53:34.449095Z"
    },
    "execution": {
     "iopub.execute_input": "2021-05-04T06:37:26.526081Z",
     "iopub.status.busy": "2021-05-04T06:37:26.525318Z",
     "iopub.status.idle": "2021-05-04T06:37:26.532843Z",
     "shell.execute_reply": "2021-05-04T06:37:26.531574Z",
     "shell.execute_reply.started": "2021-05-04T06:37:26.526004Z"
    },
    "hide_input": false
   },
   "outputs": [],
   "source": [
    "helmet_vest_model_path = \"/media/prateek/shared_space/useful_models/utcl_model/person_crop_model/mobilnet_FPN_ssd/openvino_model/frozen_inference_graph.xml\"#ssd inception net model\n",
    "# helmet_vest_model_path = \"/media/prateek/prateek_space/model_files/openvino_model/2020_02_21_only_person_model/converted/frozen_inference_graph.xml\"# ssd mobilenet model\n",
    "\n",
    "person_detection_model_path = \"/media/prateek/shared_space/useful_models/openvino/person-detection-0202/FP32/person-detection-0202.xml\"\n",
    "person_detection_model_path = \"/media/prateek/shared_space/Notebooks/git_repos/openvino_training_extensions/pytorch_toolkit/object_detection/custom_model/person_detection_1/outputs/openvino/alt_ssd_export/2020_03_18_person_detection.xml\"\n",
    "# mask_detection_model_path = \"/media/prateek/prateek_space/model_files/mask_detection/mobilenet/basemaskmodel_mobilenet.xml\"\n",
    "# person_detection_model_path = \"/media/prateek/prateek_space/model_files/openvino_model/2020_02_25_person_detection_model/converted/frozen_inference_graph.xml\" ##ssd mobilenet trained model\n",
    "# cpu_extension = '/home/prateek/shared_space/Notebooks/abg/openvino/build_samples/intel64/Release/lib/libcpu_extension.so'\n"
   ]
  },
  {
   "cell_type": "code",
   "execution_count": 2,
   "metadata": {
    "ExecuteTime": {
     "end_time": "2020-11-12T06:53:35.767786Z",
     "start_time": "2020-11-12T06:53:35.751496Z"
    },
    "execution": {
     "iopub.execute_input": "2021-05-04T06:37:28.636530Z",
     "iopub.status.busy": "2021-05-04T06:37:28.636281Z",
     "iopub.status.idle": "2021-05-04T06:37:29.296750Z",
     "shell.execute_reply": "2021-05-04T06:37:29.296358Z",
     "shell.execute_reply.started": "2021-05-04T06:37:28.636498Z"
    }
   },
   "outputs": [],
   "source": [
    "import time,cv2,os,glob\n",
    "os.sys.path.append('../utilities/')\n",
    "from datetime import datetime\n",
    "import numpy as np\n",
    "import IPython.display as Disp\n",
    "import support_utility_openvino\n",
    "import matplotlib.pyplot as plt\n",
    "import ipywidgets as widgets\n"
   ]
  },
  {
   "cell_type": "code",
   "execution_count": 3,
   "metadata": {
    "ExecuteTime": {
     "end_time": "2020-11-12T06:53:36.825103Z",
     "start_time": "2020-11-12T06:53:36.822533Z"
    },
    "execution": {
     "iopub.execute_input": "2021-05-04T06:37:29.539769Z",
     "iopub.status.busy": "2021-05-04T06:37:29.538947Z",
     "iopub.status.idle": "2021-05-04T06:37:29.548881Z",
     "shell.execute_reply": "2021-05-04T06:37:29.546184Z",
     "shell.execute_reply.started": "2021-05-04T06:37:29.539664Z"
    }
   },
   "outputs": [],
   "source": [
    "num_requests =4"
   ]
  },
  {
   "cell_type": "code",
   "execution_count": 4,
   "metadata": {
    "ExecuteTime": {
     "end_time": "2020-11-12T06:53:37.407991Z",
     "start_time": "2020-11-12T06:53:37.364960Z"
    },
    "execution": {
     "iopub.execute_input": "2021-05-04T06:37:30.527485Z",
     "iopub.status.busy": "2021-05-04T06:37:30.526788Z",
     "iopub.status.idle": "2021-05-04T06:37:31.233753Z",
     "shell.execute_reply": "2021-05-04T06:37:31.233254Z",
     "shell.execute_reply.started": "2021-05-04T06:37:30.527402Z"
    }
   },
   "outputs": [
    {
     "name": "stdout",
     "output_type": "stream",
     "text": [
      "Available Devices :  ['CPU', 'GNA', 'GPU']\n",
      "OPTIMIZATION_CAPABILITIES for CPU:  ['FP32', 'FP16', 'INT8', 'BIN']\n",
      "model inputs : dict_keys(['image_tensor'])\n",
      "model outputs :  dict_keys(['DetectionOutput'])\n"
     ]
    }
   ],
   "source": [
    "helmet_vest_model = support_utility_openvino.async_infer(num_requests)\n",
    "helmet_vest_model.load_model(model_path=helmet_vest_model_path,device=\"CPU\")"
   ]
  },
  {
   "cell_type": "code",
   "execution_count": 5,
   "metadata": {
    "ExecuteTime": {
     "end_time": "2020-04-22T09:43:43.957389Z",
     "start_time": "2020-04-22T09:43:43.551155Z"
    },
    "execution": {
     "iopub.execute_input": "2021-05-04T06:37:33.557645Z",
     "iopub.status.busy": "2021-05-04T06:37:33.556728Z",
     "iopub.status.idle": "2021-05-04T06:37:33.722638Z",
     "shell.execute_reply": "2021-05-04T06:37:33.722200Z",
     "shell.execute_reply.started": "2021-05-04T06:37:33.557517Z"
    },
    "scrolled": true
   },
   "outputs": [
    {
     "name": "stdout",
     "output_type": "stream",
     "text": [
      "Available Devices :  ['CPU', 'GNA', 'GPU']\n",
      "OPTIMIZATION_CAPABILITIES for CPU:  ['FP32', 'FP16', 'INT8', 'BIN']\n",
      "model inputs : dict_keys(['image'])\n",
      "model outputs :  dict_keys(['detection_out'])\n"
     ]
    }
   ],
   "source": [
    "person_detection_model = support_utility_openvino.async_infer(4)\n",
    "person_detection_model.load_model(model_path=person_detection_model_path,device=\"CPU\")\n",
    "output_support = support_utility_openvino.create_plot()"
   ]
  },
  {
   "cell_type": "markdown",
   "metadata": {},
   "source": [
    "#### get h_v detection"
   ]
  },
  {
   "cell_type": "code",
   "execution_count": 8,
   "metadata": {
    "ExecuteTime": {
     "end_time": "2020-04-22T09:43:45.480151Z",
     "start_time": "2020-04-22T09:43:45.466651Z"
    },
    "execution": {
     "iopub.execute_input": "2021-04-14T10:28:08.750968Z",
     "iopub.status.busy": "2021-04-14T10:28:08.750655Z",
     "iopub.status.idle": "2021-04-14T10:28:08.758718Z",
     "shell.execute_reply": "2021-04-14T10:28:08.758213Z",
     "shell.execute_reply.started": "2021-04-14T10:28:08.750928Z"
    }
   },
   "outputs": [],
   "source": [
    "def combine_results(frame,res_person,bbox,hv_results,thresh_hv=.5):\n",
    "    \"\"\"\n",
    "    ['helmet', 'hood', 'balacava', 'no_helmet', 'visor', 'jacket', 'vest', 'no_vest', 'worker', 'HeavyJacket']\n",
    "    frame :  frame for which results are generated \n",
    "    res_person :  person_detection model result\n",
    "    bbox : person detection bbox\n",
    "    res_hv : helmet vest model result\n",
    "    thresh_hv : helmet vest threshold\n",
    "    \"\"\"\n",
    "    res_person[:,1] = 11\n",
    "    res_all = []\n",
    "    for idx,res_hv in enumerate(hv_results):\n",
    "        res_hv = res_hv[0]\n",
    "        res_hv = res_hv[np.where(res_hv[:,:,:,2]>thresh_hv)]\n",
    "        if res_hv.shape[0]>0:\n",
    "                ##[1,2] helmet,no_helmet category\n",
    "                ##[3,4,5] vest,no_vest,worker \n",
    "            h_data = res_hv[np.isin(res_hv[:,1], [1,2,3,4,5])]\n",
    "            v_data = res_hv[np.isin(res_hv[:,1], [6,7,8,9,10])]\n",
    "            res_filt = []\n",
    "            try:\n",
    "                ## finding max for each category since there's only one person so one entry each category\n",
    "                if h_data.shape[0]!=0:\n",
    "                    res_filt.append(h_data[np.argmax(h_data[:,2])])\n",
    "                if v_data.shape[0]!=0:\n",
    "                    res_filt.append(v_data[np.argmax(v_data[:,2])])\n",
    "\n",
    "            except Exception as e:\n",
    "                pass\n",
    "                #                 print(e)\n",
    "                            ####changing the bbox value from local to global\n",
    "            res_filt = np.array(res_filt)\n",
    "            b = bbox[idx]\n",
    "            width,height = b[2]-b[0] ,b[3]-b[1] \n",
    "            res_filt[:,3:] = [width,height,width,height]*res_filt[:,3:]+[b[0],b[1],b[0],b[1]]\n",
    "            res_filt[:,3:]/=np.array([frame.shape[1],frame.shape[0],frame.shape[1],frame.shape[0]])\n",
    "            res_all.append(res_filt)  \n",
    "    # pdb.set_trace()\n",
    "\n",
    "    res_all.append(res_person)\n",
    "    res_all = np.concatenate(res_all)\n",
    "    return res_all"
   ]
  },
  {
   "cell_type": "markdown",
   "metadata": {},
   "source": [
    "### inference loop"
   ]
  },
  {
   "cell_type": "code",
   "execution_count": 9,
   "metadata": {
    "execution": {
     "iopub.execute_input": "2021-04-14T10:28:17.750124Z",
     "iopub.status.busy": "2021-04-14T10:28:17.749785Z",
     "iopub.status.idle": "2021-04-14T10:28:17.772648Z",
     "shell.execute_reply": "2021-04-14T10:28:17.772084Z",
     "shell.execute_reply.started": "2021-04-14T10:28:17.750018Z"
    }
   },
   "outputs": [],
   "source": [
    "\n",
    "class bbox_select():\n",
    "    %matplotlib widget \n",
    "\n",
    "\n",
    "    def __init__(self,im):\n",
    "        self.im = im\n",
    "        self.selected_points = []\n",
    "        self.fig,ax = plt.subplots()\n",
    "        self.img = ax.imshow(self.im.copy())\n",
    "        self.ka = self.fig.canvas.mpl_connect('button_press_event', self.onclick)\n",
    "        disconnect_button = widgets.Button(description=\"Disconnect mpl\")\n",
    "        Disp.display(disconnect_button)\n",
    "        disconnect_button.on_click(self.disconnect_mpl)\n",
    "\n",
    "\n",
    "        \n",
    "    def poly_img(self,img,pts):\n",
    "        pts = np.array(pts, np.int32)\n",
    "        pts = pts.reshape((-1,1,2))\n",
    "        cv2.polylines(img,[pts],True,(0,255,255),4)\n",
    "        return img\n",
    "\n",
    "    def onclick(self, event):\n",
    "    #display(str(event))\n",
    "        self.selected_points.append([event.xdata,event.ydata])\n",
    "        if len(self.selected_points)>1:\n",
    "            self.fig\n",
    "            self.img.set_data(self.poly_img(self.im.copy(),self.selected_points))\n",
    "    def disconnect_mpl(self,_):\n",
    "        self.fig.canvas.mpl_disconnect(self.ka)\n",
    "\n",
    "        \n",
    "            "
   ]
  },
  {
   "cell_type": "code",
   "execution_count": 15,
   "metadata": {
    "execution": {
     "iopub.execute_input": "2021-04-14T10:28:44.753520Z",
     "iopub.status.busy": "2021-04-14T10:28:44.753038Z",
     "iopub.status.idle": "2021-04-14T10:28:44.924339Z",
     "shell.execute_reply": "2021-04-14T10:28:44.923770Z",
     "shell.execute_reply.started": "2021-04-14T10:28:44.753481Z"
    }
   },
   "outputs": [],
   "source": [
    "channel = \"/media/prateek/shared_space/useful_vids/UTCL/VID-20210120-WA0076.mp4\"\n",
    "cap = cv2.VideoCapture(channel)\n",
    "ret,frame = cap.read()"
   ]
  },
  {
   "cell_type": "code",
   "execution_count": 17,
   "metadata": {
    "execution": {
     "iopub.execute_input": "2021-04-14T10:28:59.765306Z",
     "iopub.status.busy": "2021-04-14T10:28:59.764137Z",
     "iopub.status.idle": "2021-04-14T10:28:59.827820Z",
     "shell.execute_reply": "2021-04-14T10:28:59.827292Z",
     "shell.execute_reply.started": "2021-04-14T10:28:59.765153Z"
    }
   },
   "outputs": [
    {
     "name": "stderr",
     "output_type": "stream",
     "text": [
      "/home/prateek/.virtualenvs/openvino/lib/python3.6/site-packages/ipywidgets/widgets/widget.py:412: DeprecationWarning: Passing unrecoginized arguments to super(Canvas).__init__().\n",
      "__init__() missing 1 required positional argument: 'figure'\n",
      "This is deprecated in traitlets 4.2.This error will be raised in a future release of traitlets.\n",
      "  super(Widget, self).__init__(**kwargs)\n",
      "/home/prateek/.virtualenvs/openvino/lib/python3.6/site-packages/ipywidgets/widgets/widget.py:412: DeprecationWarning: Passing unrecoginized arguments to super(Toolbar).__init__().\n",
      "__init__() missing 1 required positional argument: 'canvas'\n",
      "This is deprecated in traitlets 4.2.This error will be raised in a future release of traitlets.\n",
      "  super(Widget, self).__init__(**kwargs)\n"
     ]
    },
    {
     "data": {
      "application/vnd.jupyter.widget-view+json": {
       "model_id": "4abf5b20da4d4fee8ad9d1ad2db06b85",
       "version_major": 2,
       "version_minor": 0
      },
      "text/plain": [
       "Canvas(toolbar=Toolbar(toolitems=[('Home', 'Reset original view', 'home', 'home'), ('Back', 'Back to previous …"
      ]
     },
     "metadata": {},
     "output_type": "display_data"
    },
    {
     "data": {
      "application/vnd.jupyter.widget-view+json": {
       "model_id": "7bb9d8f4d2874207b52d7b58bcca5f99",
       "version_major": 2,
       "version_minor": 0
      },
      "text/plain": [
       "Button(description='Disconnect mpl', style=ButtonStyle())"
      ]
     },
     "metadata": {},
     "output_type": "display_data"
    }
   ],
   "source": [
    "\n",
    "bs = bbox_select(frame)"
   ]
  },
  {
   "cell_type": "code",
   "execution_count": 18,
   "metadata": {
    "execution": {
     "iopub.execute_input": "2021-04-14T10:29:13.762553Z",
     "iopub.status.busy": "2021-04-14T10:29:13.761714Z",
     "iopub.status.idle": "2021-04-14T10:29:13.768052Z",
     "shell.execute_reply": "2021-04-14T10:29:13.767507Z",
     "shell.execute_reply.started": "2021-04-14T10:29:13.762439Z"
    }
   },
   "outputs": [],
   "source": [
    "def crop_image(image,roi):\n",
    "    try:\n",
    "        masked_image = np.multiply(image.copy(),\n",
    "                           cv2.fillPoly(np.zeros(image.shape, np.uint8),\n",
    "                                        np.array([roi], 'int'),\n",
    "                                        [1, 1, 1]))\n",
    "        return masked_image\n",
    "    except Exception as e:\n",
    "        print(e)\n",
    "        return image"
   ]
  },
  {
   "cell_type": "code",
   "execution_count": 19,
   "metadata": {
    "execution": {
     "iopub.execute_input": "2021-04-14T10:29:13.798858Z",
     "iopub.status.busy": "2021-04-14T10:29:13.798552Z",
     "iopub.status.idle": "2021-04-14T10:29:13.802497Z",
     "shell.execute_reply": "2021-04-14T10:29:13.801895Z",
     "shell.execute_reply.started": "2021-04-14T10:29:13.798829Z"
    }
   },
   "outputs": [],
   "source": [
    "def get_all_file_path(source_dir,ext='.csv'):\n",
    "    \"\"\"\n",
    "    all images with csv extension exist in set of dirs\n",
    "    \"\"\"\n",
    "    op =[]\n",
    "    for root, dirs, files in os.walk(source_dir):\n",
    "        for file in files:\n",
    "            if file.endswith(ext):\n",
    "                \n",
    "                 op.append(os.path.join(os.path.abspath(root), file))\n",
    "    return op\n"
   ]
  },
  {
   "cell_type": "code",
   "execution_count": 20,
   "metadata": {
    "execution": {
     "iopub.execute_input": "2021-04-14T10:29:17.781154Z",
     "iopub.status.busy": "2021-04-14T10:29:17.780867Z",
     "iopub.status.idle": "2021-04-14T10:29:17.905628Z",
     "shell.execute_reply": "2021-04-14T10:29:17.903862Z",
     "shell.execute_reply.started": "2021-04-14T10:29:17.781114Z"
    }
   },
   "outputs": [
    {
     "name": "stdout",
     "output_type": "stream",
     "text": [
      "mkdir: cannot create directory ‘heads_1’: File exists\n"
     ]
    }
   ],
   "source": [
    "import glob\n",
    "files = glob.glob(\"/media/prateek/prateek_space/dataset/mask_dataset/media/all_frames/*\")\n",
    "!mkdir heads_1"
   ]
  },
  {
   "cell_type": "code",
   "execution_count": 21,
   "metadata": {
    "execution": {
     "iopub.execute_input": "2021-04-14T10:29:17.908489Z",
     "iopub.status.busy": "2021-04-14T10:29:17.908085Z",
     "iopub.status.idle": "2021-04-14T10:29:17.913121Z",
     "shell.execute_reply": "2021-04-14T10:29:17.912120Z",
     "shell.execute_reply.started": "2021-04-14T10:29:17.908432Z"
    }
   },
   "outputs": [],
   "source": [
    "bs.selected_points = None"
   ]
  },
  {
   "cell_type": "code",
   "execution_count": 22,
   "metadata": {
    "execution": {
     "iopub.execute_input": "2021-04-14T10:29:20.782159Z",
     "iopub.status.busy": "2021-04-14T10:29:20.781846Z",
     "iopub.status.idle": "2021-04-14T10:29:20.787350Z",
     "shell.execute_reply": "2021-04-14T10:29:20.786464Z",
     "shell.execute_reply.started": "2021-04-14T10:29:20.782118Z"
    }
   },
   "outputs": [],
   "source": [
    "def get_all_file_path(source_dir,ext='.csv'):\n",
    "    \"\"\"\n",
    "    all images with csv extension exist in set of dirs\n",
    "    \"\"\"\n",
    "    op =[]\n",
    "    for root, dirs, files in os.walk(source_dir):\n",
    "        for file in files:\n",
    "            if file.endswith(ext):\n",
    "                \n",
    "                 op.append(os.path.join(os.path.abspath(root), file))\n",
    "    return op\n"
   ]
  },
  {
   "cell_type": "code",
   "execution_count": 58,
   "metadata": {
    "execution": {
     "iopub.execute_input": "2021-04-16T13:57:51.923361Z",
     "iopub.status.busy": "2021-04-16T13:57:51.922460Z",
     "iopub.status.idle": "2021-04-16T13:57:51.965697Z",
     "shell.execute_reply": "2021-04-16T13:57:51.964687Z",
     "shell.execute_reply.started": "2021-04-16T13:57:51.923227Z"
    }
   },
   "outputs": [],
   "source": [
    "files = get_all_file_path(\"/home/prateek/shared_space/useful_vids/person_dataset/HOT_MATERIAL_SUIT/2021/Apr/\",\"jpg\")"
   ]
  },
  {
   "cell_type": "code",
   "execution_count": 55,
   "metadata": {
    "execution": {
     "iopub.execute_input": "2021-04-16T09:08:17.902363Z",
     "iopub.status.busy": "2021-04-16T09:08:17.902075Z",
     "iopub.status.idle": "2021-04-16T09:08:18.029148Z",
     "shell.execute_reply": "2021-04-16T09:08:18.028549Z",
     "shell.execute_reply.started": "2021-04-16T09:08:17.902281Z"
    }
   },
   "outputs": [
    {
     "name": "stdout",
     "output_type": "stream",
     "text": [
      "mkdir: cannot create directory ‘output_images_prateek’: File exists\n"
     ]
    }
   ],
   "source": [
    "!mkdir output_images_prateek"
   ]
  },
  {
   "cell_type": "code",
   "execution_count": 59,
   "metadata": {
    "ExecuteTime": {
     "end_time": "2020-04-22T10:28:57.542014Z",
     "start_time": "2020-04-22T10:28:12.404746Z"
    },
    "execution": {
     "iopub.execute_input": "2021-04-16T13:57:54.079096Z",
     "iopub.status.busy": "2021-04-16T13:57:54.077885Z",
     "iopub.status.idle": "2021-04-16T13:59:32.962482Z",
     "shell.execute_reply": "2021-04-16T13:59:32.961906Z",
     "shell.execute_reply.started": "2021-04-16T13:57:54.078634Z"
    }
   },
   "outputs": [],
   "source": [
    "channel = \"/media/prateek/shared_space/useful_vids/face_detection/202003211445.mp4\"\n",
    "# channel = \"/media/prateek/shared_space/useful_vids/helmet_vest/Camera6_spandan office_spandan office_20181219030138_20181219030153_2989388.mp4\"\n",
    "\n",
    "channel = \"/media/prateek/shared_space/useful_vids/UTCL/VID-20210120-WA0076.mp4\"\n",
    "channel = \"/media/prateek/shared_space/useful_vids/helmet_vest/Embedded Net DVR_10.36.12.113_11_20190909165219_20190909165232_1568197987121.mp4\"\n",
    "channel  = \"/media/prateek/shared_space/useful_vids/helmet_vest/Camera6_spandan office_spandan office_20181219030138_20181219030153_2989388.mp4\"\n",
    "person_detection_model.reinit_model()\n",
    "helmet_vest_model.reinit_model()\n",
    "fps = []\n",
    "thresh_person = .5\n",
    "thresh_hv = .1\n",
    "cap = cv2.VideoCapture(channel)\n",
    "offset = 10\n",
    "resolution_thresh_range = None ##percentage threshold(on resolution) for person detection\n",
    "\n",
    "# cap.set(3,1280)\n",
    "# cap.set(4,720)\n",
    "# cap.set(5,60.0)\n",
    "# cap.set(1,50000.0)\n",
    "cv2.namedWindow(\"preview\",cv2.WINDOW_NORMAL)\n",
    "write_video = False\n",
    "if write_video:\n",
    "    fourcc = cv2.VideoWriter_fourcc(*'mp4v')\n",
    "    out = cv2.VideoWriter(\"../output_vids/helmet_vest/veraval/\"+\"violation_4_without_size_thresh\"+\".mp4\",fourcc, 20, (int(cap.get(3)),int(cap.get(4))))\n",
    "# cap.set(1,1000)\n",
    "# for f in files:\n",
    "#     frame = cv2.imread(f)\n",
    "# while True:\n",
    "#     Disp.clear_output(wait=True)\n",
    "#     fps = fps[-100:]\n",
    "#     ret,frame = cap.read()\n",
    "#     if not ret:\n",
    "#         break\n",
    "\n",
    "for f in files:\n",
    "    frame =  cv2.imread(f)\n",
    "#     try:\n",
    "#         masked_frame = crop_image(frame.copy(),bs.selected_points)\n",
    "#     except Exception as e:\n",
    "    masked_frame = frame.copy()\n",
    "\n",
    "    t1 = time.time()\n",
    "    person_detection_model.predict(masked_frame,attr=frame)\n",
    "    if person_detection_model.frame_processed>=person_detection_model.num_requests:\n",
    "        masked_frame,orig_frame,res_person = person_detection_model.postprocess_op()\n",
    "        cropped_frames,updated_bbox,res_person_filt = output_support.trim_frame_with_result(orig_frame,res_person[0],offset=offset,\\\n",
    "                                                                                            return_results=True,threshold=thresh_person,resolution_thresh_range =resolution_thresh_range )\n",
    "        \n",
    "#         res_all = get_h_v(cropped_frames,updated_bbox,thresh_hv)\n",
    "        hv_results =   helmet_vest_model.predict_batch_async(cropped_frames)\n",
    "        res_all = combine_results(orig_frame,res_person_filt,updated_bbox,hv_results,thresh_hv=thresh_hv)\n",
    "    \n",
    "        res_all = res_all.reshape(1,1,res_all.shape[0],7)\n",
    "        if res_all.shape[2]==0:\n",
    "            continue\n",
    "        fps.append([len(updated_bbox),1/(time.time()-t1)])\n",
    "\n",
    "#         #----------------------\n",
    "#         res_all_1 = res_all[res_all[:,:,:,1]<3]\n",
    "#         cropped_frames,bbox1= output_support.trim_frame_with_result(orig_frame,res_all_1.reshape(1,1,res_all_1.shape[0],7),offset=0,\\\n",
    "#                                                                                             return_results=False,threshold=thresh_person,resolution_thresh_range =None )\n",
    "#         for fr in cropped_frames:\n",
    "#             try:\n",
    "#                 cv2.imwrite(\"heads/%.05d.jpg\"%len(os.listdir(\"heads\")),fr)\n",
    "#             except Exception as e:\n",
    "#                 print(e)\n",
    "#         #----------------------    \n",
    "#         res_all_1 = res_all[np.logical_or(res_all[:,:,:,1] <3,res_all[:,:,:,1]>5)]\n",
    "        op_frame =  output_support.label_obj_detection(orig_frame,res_all,thresh=thresh_person,\\\n",
    "                                                       labels =     ['helmet', 'hood', 'balacava', 'no_helmet', 'visor', 'jacket', 'vest', 'no_vest', 'worker', 'HeavyJacket','person'],\\\n",
    "#                                                        colors=[(0,225,0),(0,0,225),(0,225,0),(0,0,225),(255,0,0),(0,0,0)],\\\n",
    "                                                      font_scale=.5,text_color=(255,255,255),create_highlight=False)\n",
    "        op_frame = output_support.write_text(op_frame,location='bottom-left',text=\"FPS = %.5s\"%np.mean(fps),text_color=(0, 0, 0),font_scale=1)\n",
    "        if write_video:\n",
    "            out.write(op_frame)\n",
    "        cv2.imshow(\"preview\",op_frame)\n",
    "#         cv2.imwrite(os.path.join(\"output_images_prateek\", os.path.basename(f)),op_frame)\n",
    "        k = cv2.waitKey(0)\n",
    "        if k==ord('q'):\n",
    "            break\n",
    "if write_video:\n",
    "    out.release()\n",
    "cap.release()\n",
    "cv2.destroyAllWindows()\n",
    "\n",
    "                \n",
    "            \n",
    "\n",
    "    \n",
    "    "
   ]
  },
  {
   "cell_type": "code",
   "execution_count": 30,
   "metadata": {
    "execution": {
     "iopub.execute_input": "2021-04-15T04:55:13.869997Z",
     "iopub.status.busy": "2021-04-15T04:55:13.869801Z",
     "iopub.status.idle": "2021-04-15T04:55:20.681789Z",
     "shell.execute_reply": "2021-04-15T04:55:20.679643Z",
     "shell.execute_reply.started": "2021-04-15T04:55:13.869972Z"
    }
   },
   "outputs": [],
   "source": [
    "for f in cropped_frames:\n",
    "    cv2.imshow(\"preview\",f)\n",
    "    cv2.waitKey(0)\n",
    "cv2.destroyAllWindows()"
   ]
  },
  {
   "cell_type": "code",
   "execution_count": 18,
   "metadata": {
    "execution": {
     "iopub.execute_input": "2021-02-02T05:08:15.951511Z",
     "iopub.status.busy": "2021-02-02T05:08:15.950578Z",
     "iopub.status.idle": "2021-02-02T05:08:15.963596Z",
     "shell.execute_reply": "2021-02-02T05:08:15.961398Z",
     "shell.execute_reply.started": "2021-02-02T05:08:15.951388Z"
    }
   },
   "outputs": [
    {
     "data": {
      "text/plain": [
       "1.5431016964950688"
      ]
     },
     "execution_count": 18,
     "metadata": {},
     "output_type": "execute_result"
    }
   ],
   "source": [
    "np.mean(fps)"
   ]
  },
  {
   "cell_type": "code",
   "execution_count": 47,
   "metadata": {},
   "outputs": [],
   "source": [
    "import pandas as pd"
   ]
  },
  {
   "cell_type": "code",
   "execution_count": 49,
   "metadata": {},
   "outputs": [],
   "source": [
    "df = pd.DataFrame(fps,columns=[\"number_ppl\",\"FPS\"])"
   ]
  },
  {
   "cell_type": "code",
   "execution_count": 52,
   "metadata": {},
   "outputs": [
    {
     "data": {
      "text/html": [
       "<div>\n",
       "<style scoped>\n",
       "    .dataframe tbody tr th:only-of-type {\n",
       "        vertical-align: middle;\n",
       "    }\n",
       "\n",
       "    .dataframe tbody tr th {\n",
       "        vertical-align: top;\n",
       "    }\n",
       "\n",
       "    .dataframe thead th {\n",
       "        text-align: right;\n",
       "    }\n",
       "</style>\n",
       "<table border=\"1\" class=\"dataframe\">\n",
       "  <thead>\n",
       "    <tr style=\"text-align: right;\">\n",
       "      <th></th>\n",
       "      <th>FPS</th>\n",
       "    </tr>\n",
       "    <tr>\n",
       "      <th>number_ppl</th>\n",
       "      <th></th>\n",
       "    </tr>\n",
       "  </thead>\n",
       "  <tbody>\n",
       "    <tr>\n",
       "      <th>0</th>\n",
       "      <td>358.748387</td>\n",
       "    </tr>\n",
       "    <tr>\n",
       "      <th>1</th>\n",
       "      <td>23.441164</td>\n",
       "    </tr>\n",
       "    <tr>\n",
       "      <th>2</th>\n",
       "      <td>13.992254</td>\n",
       "    </tr>\n",
       "    <tr>\n",
       "      <th>3</th>\n",
       "      <td>8.924729</td>\n",
       "    </tr>\n",
       "    <tr>\n",
       "      <th>4</th>\n",
       "      <td>7.304369</td>\n",
       "    </tr>\n",
       "    <tr>\n",
       "      <th>5</th>\n",
       "      <td>5.586573</td>\n",
       "    </tr>\n",
       "  </tbody>\n",
       "</table>\n",
       "</div>"
      ],
      "text/plain": [
       "                   FPS\n",
       "number_ppl            \n",
       "0           358.748387\n",
       "1            23.441164\n",
       "2            13.992254\n",
       "3             8.924729\n",
       "4             7.304369\n",
       "5             5.586573"
      ]
     },
     "execution_count": 52,
     "metadata": {},
     "output_type": "execute_result"
    }
   ],
   "source": [
    "df.groupby(\"number_ppl\").median()"
   ]
  },
  {
   "cell_type": "code",
   "execution_count": 84,
   "metadata": {
    "ExecuteTime": {
     "end_time": "2020-04-22T10:20:10.375014Z",
     "start_time": "2020-04-22T10:20:10.264848Z"
    }
   },
   "outputs": [],
   "source": [
    "import matplotlib.pyplot as plt"
   ]
  },
  {
   "cell_type": "code",
   "execution_count": 100,
   "metadata": {
    "ExecuteTime": {
     "end_time": "2020-04-22T10:41:24.291714Z",
     "start_time": "2020-04-22T10:38:20.753823Z"
    }
   },
   "outputs": [
    {
     "data": {
      "image/png": "[encoded data removed]",
      "text/plain": [
       "<Figure size 432x288 with 1 Axes>"
      ]
     },
     "metadata": {
      "needs_background": "light"
     },
     "output_type": "display_data"
    },
    {
     "ename": "AttributeError",
     "evalue": "'NoneType' object has no attribute 'copy'",
     "output_type": "error",
     "traceback": [
      "\u001b[0;31m---------------------------------------------------------------------------\u001b[0m",
      "\u001b[0;31mAttributeError\u001b[0m                            Traceback (most recent call last)",
      "\u001b[0;32m<ipython-input-100-5d58d254047d>\u001b[0m in \u001b[0;36m<module>\u001b[0;34m\u001b[0m\n\u001b[1;32m      5\u001b[0m \u001b[0;32mfor\u001b[0m \u001b[0midx\u001b[0m\u001b[0;34m,\u001b[0m\u001b[0mf\u001b[0m \u001b[0;32min\u001b[0m \u001b[0menumerate\u001b[0m\u001b[0;34m(\u001b[0m\u001b[0mfiles\u001b[0m\u001b[0;34m)\u001b[0m\u001b[0;34m:\u001b[0m\u001b[0;34m\u001b[0m\u001b[0;34m\u001b[0m\u001b[0m\n\u001b[1;32m      6\u001b[0m     \u001b[0mim\u001b[0m \u001b[0;34m=\u001b[0m \u001b[0mcv2\u001b[0m\u001b[0;34m.\u001b[0m\u001b[0mimread\u001b[0m\u001b[0;34m(\u001b[0m\u001b[0mf\u001b[0m\u001b[0;34m)\u001b[0m\u001b[0;34m\u001b[0m\u001b[0;34m\u001b[0m\u001b[0m\n\u001b[0;32m----> 7\u001b[0;31m     \u001b[0mop\u001b[0m \u001b[0;34m=\u001b[0m \u001b[0mmask_model\u001b[0m\u001b[0;34m.\u001b[0m\u001b[0mpredict_sync\u001b[0m\u001b[0;34m(\u001b[0m\u001b[0mim\u001b[0m\u001b[0;34m)\u001b[0m\u001b[0;34m\u001b[0m\u001b[0;34m\u001b[0m\u001b[0m\n\u001b[0m\u001b[1;32m      8\u001b[0m     \u001b[0;32mif\u001b[0m \u001b[0mop\u001b[0m\u001b[0;34m[\u001b[0m\u001b[0;36m0\u001b[0m\u001b[0;34m]\u001b[0m\u001b[0;34m.\u001b[0m\u001b[0margmax\u001b[0m\u001b[0;34m(\u001b[0m\u001b[0;34m)\u001b[0m\u001b[0;34m==\u001b[0m\u001b[0;36m0\u001b[0m\u001b[0;34m:\u001b[0m\u001b[0;34m\u001b[0m\u001b[0;34m\u001b[0m\u001b[0m\n\u001b[1;32m      9\u001b[0m         \u001b[0mDisp\u001b[0m\u001b[0;34m.\u001b[0m\u001b[0mclear_output\u001b[0m\u001b[0;34m(\u001b[0m\u001b[0mwait\u001b[0m\u001b[0;34m=\u001b[0m\u001b[0;32mTrue\u001b[0m\u001b[0;34m)\u001b[0m\u001b[0;34m\u001b[0m\u001b[0;34m\u001b[0m\u001b[0m\n",
      "\u001b[0;32m~/shared_space/Notebooks/abg/openvino/Notebooks/support_utility_openvino.py\u001b[0m in \u001b[0;36mpredict_sync\u001b[0;34m(self, frame)\u001b[0m\n\u001b[1;32m    301\u001b[0m         \u001b[0;32mreturn\u001b[0m \u001b[0moutput_values\u001b[0m\u001b[0;34m\u001b[0m\u001b[0;34m\u001b[0m\u001b[0m\n\u001b[1;32m    302\u001b[0m         \"\"\"\n\u001b[0;32m--> 303\u001b[0;31m         \u001b[0mself\u001b[0m\u001b[0;34m.\u001b[0m\u001b[0mpreprocess_frame\u001b[0m\u001b[0;34m(\u001b[0m\u001b[0mframe\u001b[0m\u001b[0;34m)\u001b[0m\u001b[0;34m\u001b[0m\u001b[0;34m\u001b[0m\u001b[0m\n\u001b[0m\u001b[1;32m    304\u001b[0m         \u001b[0mself\u001b[0m\u001b[0;34m.\u001b[0m\u001b[0mexec_net\u001b[0m\u001b[0;34m.\u001b[0m\u001b[0mrequests\u001b[0m\u001b[0;34m[\u001b[0m\u001b[0;36m0\u001b[0m\u001b[0;34m]\u001b[0m\u001b[0;34m.\u001b[0m\u001b[0minfer\u001b[0m\u001b[0;34m(\u001b[0m\u001b[0;34m{\u001b[0m\u001b[0mself\u001b[0m\u001b[0;34m.\u001b[0m\u001b[0minput_blob\u001b[0m\u001b[0;34m:\u001b[0m \u001b[0mself\u001b[0m\u001b[0;34m.\u001b[0m\u001b[0min_frame\u001b[0m\u001b[0;34m}\u001b[0m\u001b[0;34m)\u001b[0m\u001b[0;34m\u001b[0m\u001b[0;34m\u001b[0m\u001b[0m\n\u001b[1;32m    305\u001b[0m         \u001b[0;32mreturn\u001b[0m \u001b[0;34m[\u001b[0m\u001b[0mself\u001b[0m\u001b[0;34m.\u001b[0m\u001b[0mexec_net\u001b[0m\u001b[0;34m.\u001b[0m\u001b[0mrequests\u001b[0m\u001b[0;34m[\u001b[0m\u001b[0;36m0\u001b[0m\u001b[0;34m]\u001b[0m\u001b[0;34m.\u001b[0m\u001b[0moutputs\u001b[0m\u001b[0;34m[\u001b[0m\u001b[0mnode\u001b[0m\u001b[0;34m]\u001b[0m \u001b[0;32mfor\u001b[0m \u001b[0mnode\u001b[0m \u001b[0;32min\u001b[0m \u001b[0mself\u001b[0m\u001b[0;34m.\u001b[0m\u001b[0mout_blob\u001b[0m \u001b[0;34m]\u001b[0m\u001b[0;34m\u001b[0m\u001b[0;34m\u001b[0m\u001b[0m\n",
      "\u001b[0;32m~/shared_space/Notebooks/abg/openvino/Notebooks/support_utility_openvino.py\u001b[0m in \u001b[0;36mpreprocess_frame\u001b[0;34m(self, frame)\u001b[0m\n\u001b[1;32m    290\u001b[0m         \u001b[0mafter\u001b[0m \u001b[0mprocessing\u001b[0m \u001b[0mcursor\u001b[0m \u001b[0mid\u001b[0m \u001b[0;32mis\u001b[0m \u001b[0mupdated\u001b[0m\u001b[0;34m\u001b[0m\u001b[0;34m\u001b[0m\u001b[0m\n\u001b[1;32m    291\u001b[0m         \"\"\"\n\u001b[0;32m--> 292\u001b[0;31m         \u001b[0min_frame\u001b[0m \u001b[0;34m=\u001b[0m \u001b[0mcv2\u001b[0m\u001b[0;34m.\u001b[0m\u001b[0mresize\u001b[0m\u001b[0;34m(\u001b[0m\u001b[0mframe\u001b[0m\u001b[0;34m.\u001b[0m\u001b[0mcopy\u001b[0m\u001b[0;34m(\u001b[0m\u001b[0;34m)\u001b[0m\u001b[0;34m,\u001b[0m \u001b[0;34m(\u001b[0m\u001b[0mself\u001b[0m\u001b[0;34m.\u001b[0m\u001b[0mwidth\u001b[0m\u001b[0;34m,\u001b[0m \u001b[0mself\u001b[0m\u001b[0;34m.\u001b[0m\u001b[0mheight\u001b[0m\u001b[0;34m)\u001b[0m\u001b[0;34m)\u001b[0m\u001b[0;34m\u001b[0m\u001b[0;34m\u001b[0m\u001b[0m\n\u001b[0m\u001b[1;32m    293\u001b[0m         \u001b[0min_frame\u001b[0m \u001b[0;34m=\u001b[0m \u001b[0min_frame\u001b[0m\u001b[0;34m.\u001b[0m\u001b[0mtranspose\u001b[0m\u001b[0;34m(\u001b[0m\u001b[0;34m(\u001b[0m\u001b[0;36m2\u001b[0m\u001b[0;34m,\u001b[0m \u001b[0;36m0\u001b[0m\u001b[0;34m,\u001b[0m \u001b[0;36m1\u001b[0m\u001b[0;34m)\u001b[0m\u001b[0;34m)\u001b[0m  \u001b[0;31m# Change data layout from HWC to CHW\u001b[0m\u001b[0;34m\u001b[0m\u001b[0;34m\u001b[0m\u001b[0m\n\u001b[1;32m    294\u001b[0m         \u001b[0min_frame\u001b[0m \u001b[0;34m=\u001b[0m \u001b[0min_frame\u001b[0m\u001b[0;34m.\u001b[0m\u001b[0mreshape\u001b[0m\u001b[0;34m(\u001b[0m\u001b[0;34m(\u001b[0m\u001b[0mself\u001b[0m\u001b[0;34m.\u001b[0m\u001b[0mbatch_size\u001b[0m\u001b[0;34m,\u001b[0m \u001b[0mself\u001b[0m\u001b[0;34m.\u001b[0m\u001b[0mchannel\u001b[0m\u001b[0;34m,\u001b[0m \u001b[0mself\u001b[0m\u001b[0;34m.\u001b[0m\u001b[0mheight\u001b[0m\u001b[0;34m,\u001b[0m \u001b[0mself\u001b[0m\u001b[0;34m.\u001b[0m\u001b[0mwidth\u001b[0m\u001b[0;34m)\u001b[0m\u001b[0;34m)\u001b[0m\u001b[0;34m\u001b[0m\u001b[0;34m\u001b[0m\u001b[0m\n",
      "\u001b[0;31mAttributeError\u001b[0m: 'NoneType' object has no attribute 'copy'"
     ]
    }
   ],
   "source": [
    "label = [\"mask\",\"no_mask\"]\n",
    "wrong_detection = []\n",
    "accuracy = []\n",
    "cv2.namedWindow(\"preview\",cv2.WINDOW_NORMAL)\n",
    "for idx,f in enumerate(files):\n",
    "    im = cv2.imread(f)\n",
    "    op = mask_model.predict_sync(im)\n",
    "    if op[0].argmax()==0:\n",
    "        Disp.clear_output(wait=True)\n",
    "        accuracy.append(len(wrong_detection)/(idx+1))\n",
    "        plt.plot(accuracy,)\n",
    "        plt.show()\n",
    "        wrong_detection.append(f)\n",
    "        im = cv2.putText(im, label[op[0].argmax()],(10,10),cv2.FONT_HERSHEY_SIMPLEX,.4,(255,255,255),1)\n",
    "        cv2.imshow(\"preview\",im)\n",
    "        k = cv2.waitKey(1)\n",
    "        if k in [ord('q'), ord('Q')]:\n",
    "            break\n",
    "cv2.destroyAllWindows()\n",
    "\n",
    "    "
   ]
  },
  {
   "cell_type": "code",
   "execution_count": 98,
   "metadata": {
    "ExecuteTime": {
     "end_time": "2020-04-22T10:33:22.010735Z",
     "start_time": "2020-04-22T10:33:22.005173Z"
    }
   },
   "outputs": [
    {
     "data": {
      "text/plain": [
       "0.2338772338772339"
      ]
     },
     "execution_count": 98,
     "metadata": {},
     "output_type": "execute_result"
    }
   ],
   "source": [
    "accuracy[-1]"
   ]
  },
  {
   "cell_type": "code",
   "execution_count": 99,
   "metadata": {
    "ExecuteTime": {
     "end_time": "2020-04-22T10:34:53.428096Z",
     "start_time": "2020-04-22T10:34:53.417331Z"
    }
   },
   "outputs": [
    {
     "data": {
      "text/plain": [
       "5148"
      ]
     },
     "execution_count": 99,
     "metadata": {},
     "output_type": "execute_result"
    }
   ],
   "source": [
    "idx"
   ]
  },
  {
   "cell_type": "code",
   "execution_count": null,
   "metadata": {},
   "outputs": [],
   "source": []
  }
 ],
 "metadata": {
  "kernelspec": {
   "display_name": "openvino",
   "language": "python",
   "name": "openvino"
  },
  "language_info": {
   "codemirror_mode": {
    "name": "ipython",
    "version": 3
   },
   "file_extension": ".py",
   "mimetype": "text/x-python",
   "name": "python",
   "nbconvert_exporter": "python",
   "pygments_lexer": "ipython3",
   "version": "3.6.8"
  },
  "widgets": {
   "application/vnd.jupyter.widget-state+json": {
    "state": {},
    "version_major": 2,
    "version_minor": 0
   }
  }
 },
 "nbformat": 4,
 "nbformat_minor": 4
}
