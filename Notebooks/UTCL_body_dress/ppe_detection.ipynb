{
 "cells": [
  {
   "cell_type": "code",
   "execution_count": 1,
   "metadata": {
    "execution": {
     "iopub.execute_input": "2021-03-04T13:14:01.355663Z",
     "iopub.status.busy": "2021-03-04T13:14:01.355314Z",
     "iopub.status.idle": "2021-03-04T13:14:02.087691Z",
     "shell.execute_reply": "2021-03-04T13:14:02.087124Z",
     "shell.execute_reply.started": "2021-03-04T13:14:01.355618Z"
    }
   },
   "outputs": [],
   "source": [
    "import cv2,os,time\n",
    "os.sys.path.append('../utilities/')\n",
    "from datetime import datetime\n",
    "import numpy as np\n",
    "import IPython.display as Disp\n",
    "import support_utility_openvino\n",
    "import matplotlib.pyplot as plt\n",
    "import ipywidgets as widgets\n"
   ]
  },
  {
   "cell_type": "code",
   "execution_count": 2,
   "metadata": {
    "execution": {
     "iopub.execute_input": "2021-03-04T13:14:02.680958Z",
     "iopub.status.busy": "2021-03-04T13:14:02.680540Z",
     "iopub.status.idle": "2021-03-04T13:14:02.684901Z",
     "shell.execute_reply": "2021-03-04T13:14:02.683843Z",
     "shell.execute_reply.started": "2021-03-04T13:14:02.680908Z"
    }
   },
   "outputs": [],
   "source": [
    "output_support = support_utility_openvino.create_plot()"
   ]
  },
  {
   "cell_type": "code",
   "execution_count": 3,
   "metadata": {
    "execution": {
     "iopub.execute_input": "2021-03-04T13:14:08.650919Z",
     "iopub.status.busy": "2021-03-04T13:14:08.650061Z",
     "iopub.status.idle": "2021-03-04T13:14:09.937707Z",
     "shell.execute_reply": "2021-03-04T13:14:09.937275Z",
     "shell.execute_reply.started": "2021-03-04T13:14:08.650808Z"
    }
   },
   "outputs": [
    {
     "name": "stdout",
     "output_type": "stream",
     "text": [
      "Available Devices :  ['CPU', 'GNA', 'GPU']\n",
      "OPTIMIZATION_CAPABILITIES for CPU:  ['FP32', 'FP16', 'INT8', 'BIN']\n",
      "model inputs : dict_keys(['image'])\n",
      "model outputs :  dict_keys(['detection_out'])\n",
      "Available Devices :  ['CPU', 'GNA', 'GPU']\n",
      "OPTIMIZATION_CAPABILITIES for CPU:  ['FP32', 'FP16', 'INT8', 'BIN']\n",
      "model inputs : dict_keys(['image_tensor'])\n",
      "model outputs :  dict_keys(['DetectionOutput'])\n"
     ]
    }
   ],
   "source": [
    "person_model_path = '/home/prateek/shared_space/useful_models/openvino/person-detection-0202/FP32/person-detection-0202.xml'\n",
    "# person_model_path = \"/home/prateek/prateek_space/intel_model_dump/intel/person-detection-retail-0002/FP32/person-detection-retail-0002.xml\"\n",
    "ppe_model_path = \"/media/prateek/prateek_space/model_files/UTCL_ppe/gas_chamber/models/ppe_no_ppe/openvino_inceptionV3/frozen_model.xml\"\n",
    "ppe_model_path = \"/media/prateek/shared_space/useful_models/utcl_model/person_crop_model/resnet50_FPN_ssd/openvino_model/frozen_inference_graph.xml\"\n",
    "threshold = .5\n",
    "device = 'CPU'\n",
    "\n",
    "person_detection = support_utility_openvino.async_infer(4)\n",
    "person_detection.load_model(model_path=person_model_path,device=device)\n",
    "\n",
    "ppe_detection = support_utility_openvino.async_infer(4,ie_network=person_detection.ie)\n",
    "ppe_detection.load_model(model_path=ppe_model_path,device=device)\n",
    "\n"
   ]
  },
  {
   "cell_type": "code",
   "execution_count": 4,
   "metadata": {
    "execution": {
     "iopub.execute_input": "2021-03-04T13:14:24.618077Z",
     "iopub.status.busy": "2021-03-04T13:14:24.617117Z",
     "iopub.status.idle": "2021-03-04T13:14:24.623154Z",
     "shell.execute_reply": "2021-03-04T13:14:24.622548Z",
     "shell.execute_reply.started": "2021-03-04T13:14:24.617945Z"
    }
   },
   "outputs": [],
   "source": [
    "ppe_class = ['helmet', 'hood', 'balacava', 'no_helmet', 'visor', 'jacket', 'vest', 'no_vest', 'worker', 'HeavyJacket']\n",
    "res_range = None"
   ]
  },
  {
   "cell_type": "code",
   "execution_count": 5,
   "metadata": {
    "execution": {
     "iopub.execute_input": "2021-03-04T13:14:40.752454Z",
     "iopub.status.busy": "2021-03-04T13:14:40.751559Z",
     "iopub.status.idle": "2021-03-04T13:14:59.178628Z",
     "shell.execute_reply": "2021-03-04T13:14:59.177989Z",
     "shell.execute_reply.started": "2021-03-04T13:14:40.752336Z"
    }
   },
   "outputs": [
    {
     "name": "stdout",
     "output_type": "stream",
     "text": [
      "list index out of range\n",
      "list index out of range\n",
      "list index out of range\n",
      "list index out of range\n",
      "list index out of range\n",
      "list index out of range\n",
      "list index out of range\n",
      "list index out of range\n"
     ]
    }
   ],
   "source": [
    "channel = \"/home/prateek/shared_space/useful_vids/UTCL/VID-20210120-WA0076.mp4\"\n",
    "cap = cv2.VideoCapture(channel)\n",
    "ret,frame = cap.read()\n",
    "\n",
    "cv2.namedWindow(\"preview\",cv2.WINDOW_NORMAL)\n",
    "ret,frame = cap.read()\n",
    "fps = []\n",
    "thresh = .2\n",
    "if res_range is None:\n",
    "    res_range = output_support.get_resolution_thresh(frame)\n",
    "person_detection.reinit_model()\n",
    "ppe_detection.reinit_model()\n",
    "write_video = False\n",
    "offset = 10\n",
    "if write_video:\n",
    "    fourcc = cv2.VideoWriter_fourcc(*'h264')\n",
    "    \n",
    "    videowriter = cv2.VideoWriter(\"../output_vids/UTCL/PPE/\"+\"gas_chamber\"+\".mp4\",fourcc, 20, (int(cap.get(3)),int(cap.get(4))))\n",
    "\n",
    "while True:\n",
    "    fps = fps\n",
    "#     Disp.clear_output(wait=True)\n",
    "    t1 = time.time()\n",
    "    ret,frame = cap.read()\n",
    "    if not ret:\n",
    "        break\n",
    "    \n",
    "    person_detection.predict(frame)\n",
    "    if person_detection.frame_processed>=person_detection.num_requests:\n",
    "        try:\n",
    "            frame,attr,res = person_detection.postprocess_op()\n",
    "#             res[0] = np.expand_dims(res[0][res[0][:,:,:,1]==2],[0,1])\n",
    "            op,bboxes,res_filt = output_support.trim_frame_with_result(frame,res[0],threshold=thresh,return_results = True,resolution_thresh_range = res_range,offset=offset)\n",
    "            attrs = ppe_detection.predict_batch_async(op)\n",
    "            attrs_text = [ppe_class[np.argmax(att[0])] for att in attrs]\n",
    "#             dets.append(len(attrs))\n",
    "            fps.append(1/(time.time()-t1))\n",
    "            op_frame = output_support.write_text(frame,\"FPS = \"+str(np.mean(fps,dtype='int')),text_color = (0,0,0),font_scale=1,font_thickness=2,highlight_color = (127,0,255))\n",
    "            for idx,b in enumerate(bboxes):\n",
    "                box_color = (0,255,0)\n",
    "                text = attrs_text[idx]\n",
    "                if \"no_\" in text:\n",
    "                    box_color = (0,0,255)\n",
    "                op_frame = output_support.create_bbox_with_text(op_frame,(tuple(b[:2]),tuple(b[2:])),text,box_color=box_color)\n",
    "#             op_frame = output_support.label_obj_detection(frame,res[0],labels=['vehicle','person','car'],font_scale=1,font_thickness = 1,thresh=.5)\n",
    "        except Exception as e:\n",
    "            print(e)\n",
    "#         print(person_detection.cursor_id,person_detection.frame_processed)\n",
    "        cv2.imshow(\"preview\",op_frame)\n",
    "        k = cv2.waitKey(1)\n",
    "        if k==ord('q'):\n",
    "            break\n",
    "        if write_video:\n",
    "            videowriter.write(op_frame)\n",
    "# cap.release()\n",
    "if write_video:\n",
    "    videowriter.release()\n",
    "cap.release()\n",
    "cv2.destroyAllWindows()\n",
    "        \n",
    "        \n",
    "    "
   ]
  },
  {
   "cell_type": "code",
   "execution_count": 35,
   "metadata": {},
   "outputs": [
    {
     "data": {
      "text/plain": [
       "(0.013937114197530864, 0.044376929012345676)"
      ]
     },
     "execution_count": 35,
     "metadata": {},
     "output_type": "execute_result"
    }
   ],
   "source": [
    "res_range"
   ]
  },
  {
   "cell_type": "code",
   "execution_count": null,
   "metadata": {},
   "outputs": [],
   "source": []
  }
 ],
 "metadata": {
  "kernelspec": {
   "display_name": "openvino",
   "language": "python",
   "name": "openvino"
  },
  "language_info": {
   "codemirror_mode": {
    "name": "ipython",
    "version": 3
   },
   "file_extension": ".py",
   "mimetype": "text/x-python",
   "name": "python",
   "nbconvert_exporter": "python",
   "pygments_lexer": "ipython3",
   "version": "3.6.8"
  },
  "widgets": {
   "application/vnd.jupyter.widget-state+json": {
    "state": {},
    "version_major": 2,
    "version_minor": 0
   }
  }
 },
 "nbformat": 4,
 "nbformat_minor": 4
}
