{
 "cells": [
  {
   "cell_type": "code",
   "execution_count": 1,
   "metadata": {
    "ExecuteTime": {
     "end_time": "2020-04-27T13:25:26.417810Z",
     "start_time": "2020-04-27T13:25:26.054736Z"
    }
   },
   "outputs": [],
   "source": [
    "import cv2\n",
    "import support_utility_openvino\n",
    "import numpy as np"
   ]
  },
  {
   "cell_type": "code",
   "execution_count": 2,
   "metadata": {
    "ExecuteTime": {
     "end_time": "2020-04-27T13:25:26.421455Z",
     "start_time": "2020-04-27T13:25:26.419299Z"
    }
   },
   "outputs": [],
   "source": [
    "model_path = \"/home/prateek/prateek_space/intel_model_dump/intel/single-image-super-resolution-1033/FP32/single-image-super-resolution-1033.xml\"\n",
    "cpu_extension = \"../build_samples/intel64/Release/lib/libcpu_extension.so\"\n",
    "device = \"CPU\""
   ]
  },
  {
   "cell_type": "code",
   "execution_count": 3,
   "metadata": {
    "ExecuteTime": {
     "end_time": "2020-04-27T13:25:27.164832Z",
     "start_time": "2020-04-27T13:25:26.786983Z"
    }
   },
   "outputs": [
    {
     "name": "stdout",
     "output_type": "stream",
     "text": [
      "model inputs : {'0': <openvino.inference_engine.ie_api.DataPtr object at 0x7f9d20ef1830>, '1': <openvino.inference_engine.ie_api.DataPtr object at 0x7f9d1851ef30>}\n",
      "model outputs :  {'90': <openvino.inference_engine.ie_api.DataPtr object at 0x7f9d20ef1830>}\n",
      "loading sample element\n"
     ]
    }
   ],
   "source": [
    "model_detection = support_utility_openvino.async_infer()\n",
    "\n",
    "model_detection.load_model(model_path,device,cpu_extension)"
   ]
  },
  {
   "cell_type": "code",
   "execution_count": 16,
   "metadata": {
    "ExecuteTime": {
     "end_time": "2020-04-27T17:37:36.073106Z",
     "start_time": "2020-04-27T17:36:51.238454Z"
    }
   },
   "outputs": [],
   "source": [
    "channel = \"/media/prateek/PK_HDD/Movies/Hindi/Ramayan - The Legend of Prince Ram(1992)-8plH4CW7Feo.mp4\"\n",
    "# channel = \"/media/prateek/shared_space/Notebooks/abg/openvino/Notebooks/output_vids/distance_measurement/stacker_bay_hot_mill/comb_out.mp4\"\n",
    "cap = cv2.VideoCapture(channel)\n",
    "cap.set(1,10000)\n",
    "while True:\n",
    "    ret,frame = cap.read()\n",
    "    bicupic_orig = cv2.resize(frame,(1920,1080), interpolation = cv2.INTER_CUBIC) \n",
    "    model_detection.preprocess_frame(frame)\n",
    "    bicupic =  bicupic_orig.transpose((2, 0, 1))\n",
    "#     model_detection.exec_net.requests[0].inputs['0'][:] = model_detection.in_frame\n",
    "#     model_detection.exec_net.requests[0].inputs['1'][:] = np.expand_dims(bicupic, axis=0)\n",
    "    model_detection.exec_net.requests[0].infer({'0': model_detection.in_frame,'1':np.expand_dims(bicupic, axis=0)})\n",
    "    res = [model_detection.exec_net.requests[0].outputs[node] for node in model_detection.out_blob ][0][0]\n",
    "    res *= 255\n",
    "    # for ensurance that all values in necessary diapasone\n",
    "    res = np.clip(res, 0., 255.)\n",
    "    # transpose CHW -> HWC and convert to unsigned int\n",
    "    res = res.transpose((1, 2, 0)).astype(np.uint8)\n",
    "    cv2.imshow(\"preview\",res)\n",
    "    cv2.imshow(\"preview1\",bicupic_orig)\n",
    "    k = cv2.waitKey(1)\n",
    "    if k==ord('q'):\n",
    "        break\n",
    "\n",
    "cap.release()\n",
    "cv2.destroyAllWindows()"
   ]
  },
  {
   "cell_type": "code",
   "execution_count": 8,
   "metadata": {
    "ExecuteTime": {
     "end_time": "2020-04-27T13:27:49.584494Z",
     "start_time": "2020-04-27T13:27:49.557327Z"
    }
   },
   "outputs": [
    {
     "data": {
      "text/plain": [
       "'0'"
      ]
     },
     "execution_count": 8,
     "metadata": {},
     "output_type": "execute_result"
    }
   ],
   "source": [
    "model_detection.input_blob"
   ]
  },
  {
   "cell_type": "code",
   "execution_count": null,
   "metadata": {},
   "outputs": [],
   "source": []
  }
 ],
 "metadata": {
  "kernelspec": {
   "display_name": "openvino",
   "language": "python",
   "name": "openvino"
  },
  "language_info": {
   "codemirror_mode": {
    "name": "ipython",
    "version": 3
   },
   "file_extension": ".py",
   "mimetype": "text/x-python",
   "name": "python",
   "nbconvert_exporter": "python",
   "pygments_lexer": "ipython3",
   "version": "3.6.8"
  }
 },
 "nbformat": 4,
 "nbformat_minor": 2
}
