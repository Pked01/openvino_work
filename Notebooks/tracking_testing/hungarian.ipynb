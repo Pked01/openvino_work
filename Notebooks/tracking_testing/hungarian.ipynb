{
 "cells": [
  {
   "cell_type": "code",
   "execution_count": null,
   "metadata": {
    "ExecuteTime": {
     "end_time": "2021-01-07T08:34:46.642520Z",
     "start_time": "2021-01-07T08:34:46.172728Z"
    },
    "execution": {
     "iopub.status.busy": "2021-01-08T06:46:14.504094Z"
    }
   },
   "outputs": [],
   "source": [
    "import cv2,os,time\n",
    "os.sys.path.append('../utilities/')\n",
    "from datetime import datetime\n",
    "import numpy as np\n",
    "import IPython.display as Disp\n",
    "import support_utility_openvino\n",
    "import matplotlib.pyplot as plt\n",
    "import ipywidgets as widgets\n",
    "from shapely.geometry import Polygon,Point"
   ]
  },
  {
   "cell_type": "code",
   "execution_count": 2,
   "metadata": {
    "ExecuteTime": {
     "end_time": "2021-01-07T08:34:46.646315Z",
     "start_time": "2021-01-07T08:34:46.644161Z"
    },
    "execution": {
     "iopub.execute_input": "2021-01-08T06:46:14.957485Z",
     "iopub.status.busy": "2021-01-08T06:46:14.957104Z",
     "iopub.status.idle": "2021-01-08T06:46:14.961018Z",
     "shell.execute_reply": "2021-01-08T06:46:14.960391Z",
     "shell.execute_reply.started": "2021-01-08T06:46:14.957432Z"
    }
   },
   "outputs": [],
   "source": [
    "output_support = support_utility_openvino.create_plot()"
   ]
  },
  {
   "cell_type": "code",
   "execution_count": 3,
   "metadata": {
    "ExecuteTime": {
     "end_time": "2021-01-07T08:34:46.649342Z",
     "start_time": "2021-01-07T08:34:46.647626Z"
    },
    "execution": {
     "iopub.execute_input": "2021-01-08T06:46:14.962461Z",
     "iopub.status.busy": "2021-01-08T06:46:14.962251Z",
     "iopub.status.idle": "2021-01-08T06:46:14.967927Z",
     "shell.execute_reply": "2021-01-08T06:46:14.967286Z",
     "shell.execute_reply.started": "2021-01-08T06:46:14.962435Z"
    }
   },
   "outputs": [],
   "source": [
    "face_model_path = \"/media/prateek/shared_space/useful_models/openvino/face-detection-retail-0004/FP32/face-detection-retail-0004.xml\"\n",
    "\n",
    "face_reid_model = \"/media/prateek/shared_space/useful_models/openvino/face-recognition-resnet34-arcface/model-r34-amf/openvino_model/face-recognition-resnet34-arcface.xml\"\n",
    "face_landmark_model = \"/media/prateek/shared_space/useful_models/openvino/landmarks-regression-retail-0009/FP32/landmarks-regression-retail-0009.xml\""
   ]
  },
  {
   "cell_type": "code",
   "execution_count": 4,
   "metadata": {
    "ExecuteTime": {
     "end_time": "2021-01-07T08:34:46.922068Z",
     "start_time": "2021-01-07T08:34:46.651007Z"
    },
    "execution": {
     "iopub.execute_input": "2021-01-08T06:46:14.973265Z",
     "iopub.status.busy": "2021-01-08T06:46:14.973022Z",
     "iopub.status.idle": "2021-01-08T06:46:15.161665Z",
     "shell.execute_reply": "2021-01-08T06:46:15.160783Z",
     "shell.execute_reply.started": "2021-01-08T06:46:14.973234Z"
    }
   },
   "outputs": [
    {
     "name": "stdout",
     "output_type": "stream",
     "text": [
      "Available Devices :  ['CPU', 'GNA', 'GPU']\n",
      "OPTIMIZATION_CAPABILITIES for CPU:  ['FP32', 'FP16', 'INT8', 'BIN']\n",
      "model inputs : dict_keys(['data'])\n",
      "model outputs :  dict_keys(['detection_out'])\n"
     ]
    }
   ],
   "source": [
    "face_det = support_utility_openvino.async_infer()\n",
    "\n",
    "face_det.load_model(face_model_path,\"CPU\")"
   ]
  },
  {
   "cell_type": "code",
   "execution_count": 5,
   "metadata": {
    "ExecuteTime": {
     "end_time": "2021-01-07T08:34:47.396640Z",
     "start_time": "2021-01-07T08:34:47.109905Z"
    },
    "execution": {
     "iopub.execute_input": "2021-01-08T06:46:15.868933Z",
     "iopub.status.busy": "2021-01-08T06:46:15.868500Z",
     "iopub.status.idle": "2021-01-08T06:46:16.168382Z",
     "shell.execute_reply": "2021-01-08T06:46:16.167935Z",
     "shell.execute_reply.started": "2021-01-08T06:46:15.868877Z"
    }
   },
   "outputs": [
    {
     "name": "stdout",
     "output_type": "stream",
     "text": [
      "Available Devices :  ['CPU', 'GNA', 'GPU']\n",
      "OPTIMIZATION_CAPABILITIES for CPU:  ['FP32', 'FP16', 'INT8', 'BIN']\n",
      "model inputs : dict_keys(['data'])\n",
      "model outputs :  dict_keys(['pre_fc1/Fused_Add_'])\n"
     ]
    }
   ],
   "source": [
    "face_rec = support_utility_openvino.async_infer(ie_network=face_det.ie)\n",
    "\n",
    "face_rec.load_model(face_reid_model,\"CPU\")"
   ]
  },
  {
   "cell_type": "code",
   "execution_count": 6,
   "metadata": {
    "ExecuteTime": {
     "end_time": "2021-01-07T08:34:48.026670Z",
     "start_time": "2021-01-07T08:34:47.937958Z"
    },
    "execution": {
     "iopub.execute_input": "2021-01-08T06:46:16.534456Z",
     "iopub.status.busy": "2021-01-08T06:46:16.534151Z",
     "iopub.status.idle": "2021-01-08T06:46:16.602011Z",
     "shell.execute_reply": "2021-01-08T06:46:16.601357Z",
     "shell.execute_reply.started": "2021-01-08T06:46:16.534414Z"
    }
   },
   "outputs": [
    {
     "name": "stdout",
     "output_type": "stream",
     "text": [
      "Available Devices :  ['CPU', 'GNA', 'GPU']\n",
      "OPTIMIZATION_CAPABILITIES for CPU:  ['FP32', 'FP16', 'INT8', 'BIN']\n",
      "model inputs : dict_keys(['0'])\n",
      "model outputs :  dict_keys(['95'])\n"
     ]
    }
   ],
   "source": [
    "face_landmark = support_utility_openvino.async_infer(ie_network=face_det.ie)\n",
    "face_landmark.load_model(face_landmark_model,\"CPU\")"
   ]
  },
  {
   "cell_type": "code",
   "execution_count": 7,
   "metadata": {
    "ExecuteTime": {
     "end_time": "2021-01-07T08:38:56.082559Z",
     "start_time": "2021-01-07T08:38:56.012973Z"
    },
    "execution": {
     "iopub.execute_input": "2021-01-08T06:46:16.727834Z",
     "iopub.status.busy": "2021-01-08T06:46:16.727618Z",
     "iopub.status.idle": "2021-01-08T06:46:16.799277Z",
     "shell.execute_reply": "2021-01-08T06:46:16.798609Z",
     "shell.execute_reply.started": "2021-01-08T06:46:16.727808Z"
    }
   },
   "outputs": [],
   "source": [
    "from tracker_1 import CentroidTracker\n",
    "ct= CentroidTracker(maxDistance=100,minAppeared=1, maxDisappeared=5)"
   ]
  },
  {
   "cell_type": "code",
   "execution_count": 8,
   "metadata": {
    "ExecuteTime": {
     "end_time": "2021-01-07T08:38:58.388883Z",
     "start_time": "2021-01-07T08:38:58.380419Z"
    },
    "execution": {
     "iopub.execute_input": "2021-01-08T06:46:18.863246Z",
     "iopub.status.busy": "2021-01-08T06:46:18.862357Z",
     "iopub.status.idle": "2021-01-08T06:46:18.893426Z",
     "shell.execute_reply": "2021-01-08T06:46:18.892502Z",
     "shell.execute_reply.started": "2021-01-08T06:46:18.863132Z"
    }
   },
   "outputs": [],
   "source": [
    "def normalize(array, axis):\n",
    "    mean = array.mean(axis=axis)\n",
    "    array -= mean\n",
    "    std = array.std()\n",
    "    array /= std\n",
    "    return mean, std\n",
    "\n",
    "\n",
    "def get_transform(src, dst):\n",
    "    src_col_mean, src_col_std = normalize(src, axis=(0))\n",
    "    dst_col_mean, dst_col_std = normalize(dst, axis=(0))\n",
    "\n",
    "    u, _, vt = np.linalg.svd(np.matmul(src.T, dst))\n",
    "    r = np.matmul(u, vt).T\n",
    "\n",
    "    transform = np.empty((2, 3))\n",
    "    transform[:, 0:2] = r * (dst_col_std / src_col_std)\n",
    "    transform[:, 2] = dst_col_mean.T - \\\n",
    "        np.matmul(transform[:, 0:2], src_col_mean.T)\n",
    "    return transform\n",
    "\n",
    "def align_rois(face_images, face_landmarks):\n",
    "    \n",
    "    REFERENCE_LANDMARKS = [\n",
    "        (30.2946 / 96, 51.6963 / 112), # left eye\n",
    "        (65.5318 / 96, 51.5014 / 112), # right eye\n",
    "        (48.0252 / 96, 71.7366 / 112), # nose tip\n",
    "        (33.5493 / 96, 92.3655 / 112), # left lip corner\n",
    "        (62.7299 / 96, 92.2041 / 112)]\n",
    "    \n",
    "    all_faces = []\n",
    "    for image, image_landmarks in zip(face_images, face_landmarks):\n",
    "        image = image.transpose((2,0,1))\n",
    "        \n",
    "        scale = np.array((image.shape[-1], image.shape[-2]))\n",
    "        desired_landmarks = np.array(REFERENCE_LANDMARKS, dtype=np.float64) * scale\n",
    "        landmarks = image_landmarks * scale\n",
    "\n",
    "        transform = get_transform(desired_landmarks, landmarks)\n",
    "        img = image.transpose((1, 2, 0))\n",
    "        img = cv2.warpAffine(img.copy(), transform, tuple(scale), img,\\\n",
    "                           flags=cv2.WARP_INVERSE_MAP)\n",
    "        img = img[0+5:img.shape[0]-5,0+5:img.shape[1]-5]\n",
    "        \n",
    "        all_faces.append(img)\n",
    "    return all_faces\n",
    "\n",
    "\n",
    "def merge_faces(aligned_faces,original_faces,face_size = (100,100)):\n",
    "    original_faces_concat = np.concatenate([cv2.resize(face,face_size) for face in original_faces])\n",
    "    aligned_faces_concat = np.concatenate([cv2.resize(face,face_size) for face in aligned_faces])\n",
    "    merged_win = np.concatenate([original_faces_concat,aligned_faces_concat],axis=1)\n",
    "    return merged_win"
   ]
  },
  {
   "cell_type": "code",
   "execution_count": 23,
   "metadata": {
    "ExecuteTime": {
     "end_time": "2021-01-07T18:33:50.749428Z",
     "start_time": "2021-01-07T18:33:20.569296Z"
    },
    "execution": {
     "iopub.execute_input": "2021-01-08T07:00:00.508056Z",
     "iopub.status.busy": "2021-01-08T07:00:00.507192Z",
     "iopub.status.idle": "2021-01-08T07:00:14.288847Z",
     "shell.execute_reply": "2021-01-08T07:00:14.288163Z",
     "shell.execute_reply.started": "2021-01-08T07:00:00.507932Z"
    }
   },
   "outputs": [],
   "source": [
    "channel = \"/media/prateek/shared_space/useful_vids/face_detection/202003211445.mp4\"\n",
    "# channel = 0\n",
    "cap =  cv2.VideoCapture(channel)\n",
    "thresh = .4\n",
    "face_det.reinit_model()\n",
    "face_rec.reinit_model()\n",
    "face_landmark.reinit_model()\n",
    "fps = []\n",
    "embedding = []\n",
    "while True:\n",
    "    t1  = time.time()\n",
    "    for i in range(4):\n",
    "        ret, frame = cap.read()\n",
    "    face_det.predict(frame)\n",
    "    if face_det.frame_processed>=face_det.num_requests:\n",
    "            frame,attr,res = face_det.postprocess_op()\n",
    "            frame_op = output_support.label_obj_detection(frame,res[0],thresh=thresh,font_thickness=2)\n",
    "            faces,bboxes = output_support.trim_frame_with_result(frame,res[0],threshold=thresh)\n",
    "            \n",
    "            objects = ct.update(bboxes)\n",
    "                        # loop over the tracked objects\n",
    "            for (objectID, centroid) in objects.items():\n",
    "                # draw both the ID of the object and the centroid of the\n",
    "                # object on the output frame\n",
    "                text = \"ID {}\".format(objectID)\n",
    "                cv2.putText(frame_op, text, (centroid[0] - 10, centroid[1] - 10),\n",
    "                    cv2.FONT_HERSHEY_SIMPLEX, 0.5, (0, 255, 0), 2)\n",
    "                cv2.circle(frame_op, (centroid[0], centroid[1]), 4, (0, 255, 0), -1)\n",
    "            \n",
    "            landmarks = face_landmark.predict_batch_async(faces)\n",
    "            landmarks = [np.array(out, dtype=np.float64).reshape(-1, 2) for out in landmarks]\n",
    "            \n",
    "            if len(faces)>0:\n",
    "                aligned_faces = align_rois(np.copy(faces),landmarks)\n",
    "                face_embedding = face_rec.predict_batch_async(aligned_faces)\n",
    "    #             op = face_rec.predict_batch_async(faces) ## old code\n",
    "                embedding.append(face_embedding)\n",
    "                cv2.imshow(\"preview1\",merge_faces(faces,aligned_faces))\n",
    "            frame_op = output_support.write_text(frame_op,\"FPS = %.4s\"%(1/(time.time()-t1) ),text_color=(0,0,0))\n",
    "            fps.append(1/(time.time()-t1))\n",
    "            cv2.imshow(\"preview\",frame_op)\n",
    "            k = cv2.waitKey(1)\n",
    "            if k==ord('q'):\n",
    "                break\n",
    "cap.release()\n",
    "cv2.destroyAllWindows()\n",
    "\n",
    "\n",
    "      "
   ]
  },
  {
   "cell_type": "code",
   "execution_count": 26,
   "metadata": {
    "ExecuteTime": {
     "end_time": "2021-01-06T08:59:33.411983Z",
     "start_time": "2021-01-06T08:59:33.402504Z"
    }
   },
   "outputs": [],
   "source": [
    "landmarks = face_landmark.predict_batch_async(faces)"
   ]
  },
  {
   "cell_type": "code",
   "execution_count": 28,
   "metadata": {
    "ExecuteTime": {
     "end_time": "2021-01-06T08:59:41.007172Z",
     "start_time": "2021-01-06T08:59:41.002526Z"
    }
   },
   "outputs": [],
   "source": [
    "landmarks = [np.array(out, dtype=np.float64).reshape(-1, 2) for out in landmarks]"
   ]
  },
  {
   "cell_type": "code",
   "execution_count": 64,
   "metadata": {
    "ExecuteTime": {
     "end_time": "2021-01-06T14:40:32.603419Z",
     "start_time": "2021-01-06T14:40:32.452283Z"
    }
   },
   "outputs": [
    {
     "data": {
      "text/plain": [
       "[]"
      ]
     },
     "execution_count": 64,
     "metadata": {},
     "output_type": "execute_result"
    }
   ],
   "source": [
    "align_rois(faces,landmarks)"
   ]
  },
  {
   "cell_type": "code",
   "execution_count": 40,
   "metadata": {
    "ExecuteTime": {
     "end_time": "2021-01-05T10:55:24.183377Z",
     "start_time": "2021-01-05T10:55:24.032919Z"
    },
    "execution": {
     "iopub.execute_input": "2020-12-27T15:49:08.445989Z",
     "iopub.status.busy": "2020-12-27T15:49:08.445770Z",
     "iopub.status.idle": "2020-12-27T15:49:08.450211Z",
     "shell.execute_reply": "2020-12-27T15:49:08.449467Z",
     "shell.execute_reply.started": "2020-12-27T15:49:08.445954Z"
    }
   },
   "outputs": [],
   "source": [
    "import pickle\n",
    "pickle.dump(embedding,open(\"sequential_embedding.pickle\",\"wb\"))"
   ]
  },
  {
   "cell_type": "code",
   "execution_count": 41,
   "metadata": {
    "ExecuteTime": {
     "end_time": "2021-01-05T10:55:33.012665Z",
     "start_time": "2021-01-05T10:55:33.010713Z"
    }
   },
   "outputs": [],
   "source": [
    "del embedding"
   ]
  },
  {
   "cell_type": "code",
   "execution_count": 12,
   "metadata": {
    "ExecuteTime": {
     "end_time": "2021-01-07T08:39:24.942332Z",
     "start_time": "2021-01-07T08:39:24.652303Z"
    },
    "execution": {
     "iopub.execute_input": "2021-01-08T06:47:30.146250Z",
     "iopub.status.busy": "2021-01-08T06:47:30.146034Z",
     "iopub.status.idle": "2021-01-08T06:47:30.445635Z",
     "shell.execute_reply": "2021-01-08T06:47:30.445120Z",
     "shell.execute_reply.started": "2021-01-08T06:47:30.146224Z"
    }
   },
   "outputs": [],
   "source": [
    "from scipy.optimize import linear_sum_assignment\n",
    "import  scipy.spatial.distance as dist\n",
    "from sklearn.metrics.pairwise import cosine_similarity\n",
    "import numpy as np"
   ]
  },
  {
   "cell_type": "code",
   "execution_count": 46,
   "metadata": {
    "execution": {
     "iopub.execute_input": "2020-12-28T05:02:57.451795Z",
     "iopub.status.busy": "2020-12-28T05:02:57.450949Z",
     "iopub.status.idle": "2020-12-28T05:02:57.457358Z",
     "shell.execute_reply": "2020-12-28T05:02:57.456969Z",
     "shell.execute_reply.started": "2020-12-28T05:02:57.451686Z"
    }
   },
   "outputs": [],
   "source": [
    "for idx in range(len(embedding)-1):\n",
    "    sim_mat = cosine_similarity(embedding[idx+1][0],embedding[idx][0])\n",
    "    np.argmax(sim_mat,axis=1)\n",
    "    break"
   ]
  },
  {
   "cell_type": "code",
   "execution_count": 12,
   "metadata": {
    "ExecuteTime": {
     "end_time": "2021-01-07T07:36:55.488217Z",
     "start_time": "2021-01-07T07:36:55.480737Z"
    },
    "execution": {
     "iopub.execute_input": "2021-01-08T06:40:09.551504Z",
     "iopub.status.busy": "2021-01-08T06:40:09.551279Z",
     "iopub.status.idle": "2021-01-08T06:40:09.557002Z",
     "shell.execute_reply": "2021-01-08T06:40:09.556331Z",
     "shell.execute_reply.started": "2021-01-08T06:40:09.551469Z"
    }
   },
   "outputs": [
    {
     "data": {
      "text/plain": [
       "0.0"
      ]
     },
     "execution_count": 12,
     "metadata": {},
     "output_type": "execute_result"
    }
   ],
   "source": [
    "dist.cosine(embedding[80][0][0],embedding[0][0][0])"
   ]
  },
  {
   "cell_type": "code",
   "execution_count": 50,
   "metadata": {
    "ExecuteTime": {
     "end_time": "2021-01-07T08:39:44.598236Z",
     "start_time": "2021-01-07T08:39:44.584421Z"
    },
    "execution": {
     "iopub.execute_input": "2021-01-08T08:39:39.837752Z",
     "iopub.status.busy": "2021-01-08T08:39:39.837512Z",
     "iopub.status.idle": "2021-01-08T08:39:39.841936Z",
     "shell.execute_reply": "2021-01-08T08:39:39.841458Z",
     "shell.execute_reply.started": "2021-01-08T08:39:39.837714Z"
    }
   },
   "outputs": [],
   "source": [
    "D = cosine_similarity([i[0].flatten() for i in embedding[0]],[i[0].flatten() for i in embedding[1]])"
   ]
  },
  {
   "cell_type": "code",
   "execution_count": 56,
   "metadata": {
    "ExecuteTime": {
     "end_time": "2021-01-06T09:55:48.035972Z",
     "start_time": "2021-01-06T09:55:48.031216Z"
    },
    "execution": {
     "iopub.execute_input": "2021-01-10T08:47:34.596436Z",
     "iopub.status.busy": "2021-01-10T08:47:34.595966Z",
     "iopub.status.idle": "2021-01-10T08:47:34.601943Z",
     "shell.execute_reply": "2021-01-10T08:47:34.600917Z",
     "shell.execute_reply.started": "2021-01-10T08:47:34.596376Z"
    }
   },
   "outputs": [],
   "source": [
    " rows = D.max(axis=1).argsort()"
   ]
  },
  {
   "cell_type": "code",
   "execution_count": 57,
   "metadata": {
    "execution": {
     "iopub.execute_input": "2021-01-10T08:47:36.906802Z",
     "iopub.status.busy": "2021-01-10T08:47:36.906589Z",
     "iopub.status.idle": "2021-01-10T08:47:36.910063Z",
     "shell.execute_reply": "2021-01-10T08:47:36.909513Z",
     "shell.execute_reply.started": "2021-01-10T08:47:36.906776Z"
    }
   },
   "outputs": [
    {
     "data": {
      "text/plain": [
       "array([2, 0, 1])"
      ]
     },
     "execution_count": 57,
     "metadata": {},
     "output_type": "execute_result"
    }
   ],
   "source": [
    "rows"
   ]
  },
  {
   "cell_type": "code",
   "execution_count": 58,
   "metadata": {
    "ExecuteTime": {
     "end_time": "2021-01-06T09:55:48.035972Z",
     "start_time": "2021-01-06T09:55:48.031216Z"
    },
    "execution": {
     "iopub.execute_input": "2021-01-10T08:50:32.944292Z",
     "iopub.status.busy": "2021-01-10T08:50:32.944075Z",
     "iopub.status.idle": "2021-01-10T08:50:32.946835Z",
     "shell.execute_reply": "2021-01-10T08:50:32.946409Z",
     "shell.execute_reply.started": "2021-01-10T08:50:32.944263Z"
    }
   },
   "outputs": [],
   "source": [
    "cols = D.argmax(axis=1)[rows]"
   ]
  },
  {
   "cell_type": "code",
   "execution_count": 59,
   "metadata": {
    "ExecuteTime": {
     "end_time": "2021-01-06T10:07:33.944086Z",
     "start_time": "2021-01-06T10:07:33.937909Z"
    },
    "execution": {
     "iopub.execute_input": "2021-01-10T08:50:34.693190Z",
     "iopub.status.busy": "2021-01-10T08:50:34.692262Z",
     "iopub.status.idle": "2021-01-10T08:50:34.701513Z",
     "shell.execute_reply": "2021-01-10T08:50:34.700419Z",
     "shell.execute_reply.started": "2021-01-10T08:50:34.693064Z"
    }
   },
   "outputs": [
    {
     "data": {
      "text/plain": [
       "array([0, 1, 0])"
      ]
     },
     "execution_count": 59,
     "metadata": {},
     "output_type": "execute_result"
    }
   ],
   "source": [
    "usedRows = set()\n",
    "usedCols = set()\n",
    "\n",
    "for (row, col) in zip(rows, cols):\n",
    "\n",
    "    if row in usedRows or col in usedCols:\n",
    "        continue\n",
    "\n",
    "    if D[row, col] > self.maxDistance:\n",
    "        continue\n",
    "\n",
    "    objectID = objectIDs[row]\n",
    "    self.objects[objectID] = inputCentroids[col]\n",
    "    self.disappeared[objectID] = 0\n",
    "\n",
    "    usedRows.add(row)\n",
    "    usedCols.add(col)"
   ]
  },
  {
   "cell_type": "code",
   "execution_count": 63,
   "metadata": {
    "ExecuteTime": {
     "end_time": "2021-01-06T10:08:39.645196Z",
     "start_time": "2021-01-06T10:08:39.622879Z"
    },
    "execution": {
     "iopub.execute_input": "2020-12-28T05:02:32.429021Z",
     "iopub.status.busy": "2020-12-28T05:02:32.428179Z",
     "iopub.status.idle": "2020-12-28T05:02:32.438247Z",
     "shell.execute_reply": "2020-12-28T05:02:32.437827Z",
     "shell.execute_reply.started": "2020-12-28T05:02:32.428913Z"
    }
   },
   "outputs": [
    {
     "ename": "ValueError",
     "evalue": "operands could not be broadcast together with shapes (3,512) (2,512) ",
     "output_type": "error",
     "traceback": [
      "\u001b[0;31m---------------------------------------------------------------------------\u001b[0m",
      "\u001b[0;31mValueError\u001b[0m                                Traceback (most recent call last)",
      "\u001b[0;32m<ipython-input-63-1a79ef671b1e>\u001b[0m in \u001b[0;36m<module>\u001b[0;34m\u001b[0m\n\u001b[0;32m----> 1\u001b[0;31m \u001b[0mnp\u001b[0m\u001b[0;34m.\u001b[0m\u001b[0mlinalg\u001b[0m\u001b[0;34m.\u001b[0m\u001b[0mnorm\u001b[0m\u001b[0;34m(\u001b[0m\u001b[0membedding\u001b[0m\u001b[0;34m[\u001b[0m\u001b[0;36m3\u001b[0m\u001b[0;34m]\u001b[0m\u001b[0;34m[\u001b[0m\u001b[0;36m0\u001b[0m\u001b[0;34m]\u001b[0m \u001b[0;34m-\u001b[0m \u001b[0membedding\u001b[0m\u001b[0;34m[\u001b[0m\u001b[0;36m0\u001b[0m\u001b[0;34m]\u001b[0m\u001b[0;34m[\u001b[0m\u001b[0;36m0\u001b[0m\u001b[0;34m]\u001b[0m\u001b[0;34m,\u001b[0m \u001b[0maxis\u001b[0m\u001b[0;34m=\u001b[0m\u001b[0;36m1\u001b[0m\u001b[0;34m)\u001b[0m\u001b[0;34m\u001b[0m\u001b[0;34m\u001b[0m\u001b[0m\n\u001b[0m",
      "\u001b[0;31mValueError\u001b[0m: operands could not be broadcast together with shapes (3,512) (2,512) "
     ]
    }
   ],
   "source": [
    "np.linalg.norm(embedding[3][0] - embedding[0][0], axis=1)"
   ]
  },
  {
   "cell_type": "code",
   "execution_count": 17,
   "metadata": {
    "execution": {
     "iopub.execute_input": "2020-12-27T15:08:08.435585Z",
     "iopub.status.busy": "2020-12-27T15:08:08.434726Z",
     "iopub.status.idle": "2020-12-27T15:08:08.440453Z",
     "shell.execute_reply": "2020-12-27T15:08:08.440021Z",
     "shell.execute_reply.started": "2020-12-27T15:08:08.435461Z"
    }
   },
   "outputs": [],
   "source": [
    "import matplotlib.pyplot as plt"
   ]
  },
  {
   "cell_type": "code",
   "execution_count": 21,
   "metadata": {
    "execution": {
     "iopub.execute_input": "2020-12-27T15:09:15.482998Z",
     "iopub.status.busy": "2020-12-27T15:09:15.482707Z",
     "iopub.status.idle": "2020-12-27T15:09:15.754174Z",
     "shell.execute_reply": "2020-12-27T15:09:15.753744Z",
     "shell.execute_reply.started": "2020-12-27T15:09:15.482887Z"
    }
   },
   "outputs": [
    {
     "data": {
      "text/plain": [
       "[<matplotlib.lines.Line2D at 0x7fadbce476d8>]"
      ]
     },
     "execution_count": 21,
     "metadata": {},
     "output_type": "execute_result"
    },
    {
     "data": {
      "image/png": "[encoded data removed]",
      "text/plain": [
       "<Figure size 1152x864 with 1 Axes>"
      ]
     },
     "metadata": {
      "needs_background": "light"
     },
     "output_type": "display_data"
    }
   ],
   "source": [
    "plt.figure(figsize=(16,12))\n",
    "plt.plot(fps)\n",
    "plt.plot(fps1)\n"
   ]
  },
  {
   "cell_type": "code",
   "execution_count": 25,
   "metadata": {
    "execution": {
     "iopub.execute_input": "2020-12-27T15:13:40.459380Z",
     "iopub.status.busy": "2020-12-27T15:13:40.459155Z",
     "iopub.status.idle": "2020-12-27T15:13:40.581667Z",
     "shell.execute_reply": "2020-12-27T15:13:40.581180Z",
     "shell.execute_reply.started": "2020-12-27T15:13:40.459343Z"
    }
   },
   "outputs": [
    {
     "data": {
      "text/plain": [
       "[<matplotlib.lines.Line2D at 0x7fade778ca20>]"
      ]
     },
     "execution_count": 25,
     "metadata": {},
     "output_type": "execute_result"
    },
    {
     "data": {
      "image/png": "[encoded data removed]",
      "text/plain": [
       "<Figure size 432x288 with 1 Axes>"
      ]
     },
     "metadata": {
      "needs_background": "light"
     },
     "output_type": "display_data"
    }
   ],
   "source": [
    "plt.plot(np.subtract(fps1[0:800],fps[0:800]))"
   ]
  },
  {
   "cell_type": "code",
   "execution_count": 8,
   "metadata": {
    "execution": {
     "iopub.execute_input": "2020-12-27T15:36:50.428965Z",
     "iopub.status.busy": "2020-12-27T15:36:50.428119Z",
     "iopub.status.idle": "2020-12-27T15:36:50.438675Z",
     "shell.execute_reply": "2020-12-27T15:36:50.438009Z",
     "shell.execute_reply.started": "2020-12-27T15:36:50.428854Z"
    }
   },
   "outputs": [
    {
     "ename": "NameError",
     "evalue": "name 'fps1' is not defined",
     "output_type": "error",
     "traceback": [
      "\u001b[0;31m---------------------------------------------------------------------------\u001b[0m",
      "\u001b[0;31mNameError\u001b[0m                                 Traceback (most recent call last)",
      "\u001b[0;32m<ipython-input-8-386447535dd1>\u001b[0m in \u001b[0;36m<module>\u001b[0;34m\u001b[0m\n\u001b[0;32m----> 1\u001b[0;31m \u001b[0;34m(\u001b[0m\u001b[0mnp\u001b[0m\u001b[0;34m.\u001b[0m\u001b[0msubtract\u001b[0m\u001b[0;34m(\u001b[0m\u001b[0mfps1\u001b[0m\u001b[0;34m[\u001b[0m\u001b[0;36m0\u001b[0m\u001b[0;34m:\u001b[0m\u001b[0;36m800\u001b[0m\u001b[0;34m]\u001b[0m\u001b[0;34m,\u001b[0m\u001b[0mfps\u001b[0m\u001b[0;34m[\u001b[0m\u001b[0;36m0\u001b[0m\u001b[0;34m:\u001b[0m\u001b[0;36m800\u001b[0m\u001b[0;34m]\u001b[0m\u001b[0;34m)\u001b[0m\u001b[0;34m.\u001b[0m\u001b[0msum\u001b[0m\u001b[0;34m(\u001b[0m\u001b[0;34m)\u001b[0m\u001b[0;34m)\u001b[0m\u001b[0;34m/\u001b[0m\u001b[0;36m800\u001b[0m\u001b[0;34m\u001b[0m\u001b[0;34m\u001b[0m\u001b[0m\n\u001b[0m",
      "\u001b[0;31mNameError\u001b[0m: name 'fps1' is not defined"
     ]
    }
   ],
   "source": [
    "(np.subtract(fps1[0:800],fps[0:800]).sum())/800"
   ]
  },
  {
   "cell_type": "code",
   "execution_count": 9,
   "metadata": {
    "execution": {
     "iopub.execute_input": "2020-12-27T15:37:00.432383Z",
     "iopub.status.busy": "2020-12-27T15:37:00.432152Z",
     "iopub.status.idle": "2020-12-27T15:37:00.436816Z",
     "shell.execute_reply": "2020-12-27T15:37:00.436244Z",
     "shell.execute_reply.started": "2020-12-27T15:37:00.432354Z"
    }
   },
   "outputs": [
    {
     "data": {
      "text/plain": [
       "2.10625"
      ]
     },
     "execution_count": 9,
     "metadata": {},
     "output_type": "execute_result"
    }
   ],
   "source": [
    "1685/800"
   ]
  },
  {
   "cell_type": "code",
   "execution_count": 33,
   "metadata": {
    "execution": {
     "iopub.execute_input": "2021-01-08T08:15:48.514360Z",
     "iopub.status.busy": "2021-01-08T08:15:48.513140Z",
     "iopub.status.idle": "2021-01-08T08:15:48.525961Z",
     "shell.execute_reply": "2021-01-08T08:15:48.523294Z",
     "shell.execute_reply.started": "2021-01-08T08:15:48.514207Z"
    }
   },
   "outputs": [],
   "source": [
    "a = [1,2,3,4]\n",
    "b = [12,13,44,11]"
   ]
  },
  {
   "cell_type": "code",
   "execution_count": 34,
   "metadata": {
    "execution": {
     "iopub.execute_input": "2021-01-08T08:16:18.872179Z",
     "iopub.status.busy": "2021-01-08T08:16:18.871986Z",
     "iopub.status.idle": "2021-01-08T08:16:18.875294Z",
     "shell.execute_reply": "2021-01-08T08:16:18.874878Z",
     "shell.execute_reply.started": "2021-01-08T08:16:18.872156Z"
    }
   },
   "outputs": [
    {
     "name": "stdout",
     "output_type": "stream",
     "text": [
      "1 12\n",
      "2 13\n",
      "3 44\n",
      "4 11\n"
     ]
    }
   ],
   "source": [
    "for idx,val in enumerate(zip(a,b)):\n",
    "    print(val[0],val[1])"
   ]
  },
  {
   "cell_type": "code",
   "execution_count": 37,
   "metadata": {
    "execution": {
     "iopub.execute_input": "2021-01-08T08:29:10.944465Z",
     "iopub.status.busy": "2021-01-08T08:29:10.944066Z",
     "iopub.status.idle": "2021-01-08T08:29:10.948646Z",
     "shell.execute_reply": "2021-01-08T08:29:10.947796Z",
     "shell.execute_reply.started": "2021-01-08T08:29:10.944408Z"
    }
   },
   "outputs": [],
   "source": [
    "d = dict(zip(list(range(4)),list(zip(a,b))))"
   ]
  },
  {
   "cell_type": "code",
   "execution_count": 44,
   "metadata": {
    "execution": {
     "iopub.execute_input": "2021-01-08T08:30:57.153063Z",
     "iopub.status.busy": "2021-01-08T08:30:57.152048Z",
     "iopub.status.idle": "2021-01-08T08:30:57.164282Z",
     "shell.execute_reply": "2021-01-08T08:30:57.163088Z",
     "shell.execute_reply.started": "2021-01-08T08:30:57.152945Z"
    }
   },
   "outputs": [
    {
     "data": {
      "text/plain": [
       "([1, 2, 3, 4], [12, 13, 44, 11])"
      ]
     },
     "execution_count": 44,
     "metadata": {},
     "output_type": "execute_result"
    }
   ],
   "source": [
    "[i[0] for i in list(d.values())],[i[1] for i in list(d.values())]"
   ]
  },
  {
   "cell_type": "code",
   "execution_count": 47,
   "metadata": {
    "execution": {
     "iopub.execute_input": "2021-01-08T08:32:07.505914Z",
     "iopub.status.busy": "2021-01-08T08:32:07.505043Z",
     "iopub.status.idle": "2021-01-08T08:32:07.519456Z",
     "shell.execute_reply": "2021-01-08T08:32:07.516493Z",
     "shell.execute_reply.started": "2021-01-08T08:32:07.505806Z"
    }
   },
   "outputs": [
    {
     "data": {
      "text/plain": [
       "array([[ 1, 12],\n",
       "       [ 2, 13],\n",
       "       [ 3, 44],\n",
       "       [ 4, 11]])"
      ]
     },
     "execution_count": 47,
     "metadata": {},
     "output_type": "execute_result"
    }
   ],
   "source": [
    "np.array(list(d.values()))[:]"
   ]
  },
  {
   "cell_type": "code",
   "execution_count": null,
   "metadata": {},
   "outputs": [],
   "source": []
  }
 ],
 "metadata": {
  "kernelspec": {
   "display_name": "cv_p36",
   "language": "python",
   "name": "cv_p36"
  },
  "language_info": {
   "codemirror_mode": {
    "name": "ipython",
    "version": 3
   },
   "file_extension": ".py",
   "mimetype": "text/x-python",
   "name": "python",
   "nbconvert_exporter": "python",
   "pygments_lexer": "ipython3",
   "version": "3.6.8"
  },
  "widgets": {
   "application/vnd.jupyter.widget-state+json": {
    "state": {},
    "version_major": 2,
    "version_minor": 0
   }
  }
 },
 "nbformat": 4,
 "nbformat_minor": 4
}
