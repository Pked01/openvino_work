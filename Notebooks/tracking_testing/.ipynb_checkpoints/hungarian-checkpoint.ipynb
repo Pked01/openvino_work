{
 "cells": [
  {
   "cell_type": "code",
   "execution_count": 5,
   "metadata": {
    "execution": {
     "iopub.execute_input": "2020-12-27T09:56:11.455673Z",
     "iopub.status.busy": "2020-12-27T09:56:11.454970Z",
     "iopub.status.idle": "2020-12-27T09:56:11.749809Z",
     "shell.execute_reply": "2020-12-27T09:56:11.749202Z",
     "shell.execute_reply.started": "2020-12-27T09:56:11.455485Z"
    }
   },
   "outputs": [],
   "source": [
    "import cv2,os,time\n",
    "os.sys.path.append('../utilities/')\n",
    "from datetime import datetime\n",
    "import numpy as np\n",
    "import IPython.display as Disp\n",
    "import support_utility_openvino\n",
    "import matplotlib.pyplot as plt\n",
    "import ipywidgets as widgets\n",
    "from shapely.geometry import Polygon,Point"
   ]
  },
  {
   "cell_type": "code",
   "execution_count": 6,
   "metadata": {
    "execution": {
     "iopub.execute_input": "2020-12-27T09:56:11.751132Z",
     "iopub.status.busy": "2020-12-27T09:56:11.750928Z",
     "iopub.status.idle": "2020-12-27T09:56:11.753973Z",
     "shell.execute_reply": "2020-12-27T09:56:11.753422Z",
     "shell.execute_reply.started": "2020-12-27T09:56:11.751068Z"
    }
   },
   "outputs": [],
   "source": [
    "output_support = support_utility_openvino.create_plot()"
   ]
  },
  {
   "cell_type": "code",
   "execution_count": 7,
   "metadata": {
    "execution": {
     "iopub.execute_input": "2020-12-27T09:56:12.421232Z",
     "iopub.status.busy": "2020-12-27T09:56:12.420994Z",
     "iopub.status.idle": "2020-12-27T09:56:12.424030Z",
     "shell.execute_reply": "2020-12-27T09:56:12.423482Z",
     "shell.execute_reply.started": "2020-12-27T09:56:12.421202Z"
    }
   },
   "outputs": [],
   "source": [
    "face_model_path = \"/media/prateek/PK_HDD/intel_model_zoo/intel/face-detection-retail-0004/FP32/face-detection-retail-0004.xml\"\n",
    "\n",
    "face_reid_model = \"/media/prateek/PK_HDD/intel_model_zoo/public/face-recognition-resnet34-arcface/model-r34-amf/openvino_model/model-0000.xml\""
   ]
  },
  {
   "cell_type": "code",
   "execution_count": 8,
   "metadata": {
    "execution": {
     "iopub.execute_input": "2020-12-27T09:56:12.485288Z",
     "iopub.status.busy": "2020-12-27T09:56:12.485067Z",
     "iopub.status.idle": "2020-12-27T09:56:12.671705Z",
     "shell.execute_reply": "2020-12-27T09:56:12.671234Z",
     "shell.execute_reply.started": "2020-12-27T09:56:12.485263Z"
    }
   },
   "outputs": [
    {
     "name": "stdout",
     "output_type": "stream",
     "text": [
      "Available Devices :  ['CPU', 'GNA', 'GPU']\n",
      "OPTIMIZATION_CAPABILITIES for CPU:  ['FP32', 'FP16', 'INT8', 'BIN']\n",
      "model inputs : dict_keys(['data'])\n",
      "model outputs :  dict_keys(['detection_out'])\n"
     ]
    }
   ],
   "source": [
    "face_det = support_utility_openvino.async_infer()\n",
    "\n",
    "face_det.load_model(face_model_path,\"CPU\")"
   ]
  },
  {
   "cell_type": "code",
   "execution_count": 9,
   "metadata": {
    "execution": {
     "iopub.execute_input": "2020-12-27T09:56:13.425125Z",
     "iopub.status.busy": "2020-12-27T09:56:13.424649Z",
     "iopub.status.idle": "2020-12-27T09:56:13.728492Z",
     "shell.execute_reply": "2020-12-27T09:56:13.727757Z",
     "shell.execute_reply.started": "2020-12-27T09:56:13.425065Z"
    }
   },
   "outputs": [
    {
     "name": "stdout",
     "output_type": "stream",
     "text": [
      "Available Devices :  ['CPU', 'GNA', 'GPU']\n",
      "OPTIMIZATION_CAPABILITIES for CPU:  ['FP32', 'FP16', 'INT8', 'BIN']\n",
      "model inputs : dict_keys(['data'])\n",
      "model outputs :  dict_keys(['pre_fc1/Fused_Add_'])\n"
     ]
    }
   ],
   "source": [
    "face_rec = support_utility_openvino.async_infer(ie_network=face_det.ie)\n",
    "\n",
    "face_rec.load_model(face_reid_model,\"CPU\",DYN_BATCH_ENABLED=True)"
   ]
  },
  {
   "cell_type": "code",
   "execution_count": 10,
   "metadata": {
    "execution": {
     "iopub.execute_input": "2020-12-27T09:56:13.729601Z",
     "iopub.status.busy": "2020-12-27T09:56:13.729309Z",
     "iopub.status.idle": "2020-12-27T09:56:50.124073Z",
     "shell.execute_reply": "2020-12-27T09:56:50.123364Z",
     "shell.execute_reply.started": "2020-12-27T09:56:13.729472Z"
    }
   },
   "outputs": [],
   "source": [
    "channel = \"/media/prateek/PK_HDD/prateek_space_penD/dataset/veraval_test_video/face_veraval/202003211445.mp4\"\n",
    "cap =  cv2.VideoCapture(channel)\n",
    "thresh = .4\n",
    "face_det.reinit_model()\n",
    "fps = []\n",
    "embedding = []\n",
    "while True:\n",
    "    t1  = time.time()\n",
    "    ret, frame = cap.read()\n",
    "    face_det.predict(frame)\n",
    "    if face_det.frame_processed>=face_det.num_requests:\n",
    "            frame,attr,res = face_det.postprocess_op()\n",
    "            frame_op = output_support.label_obj_detection(frame,res[0],thresh=thresh,font_thickness=2)\n",
    "            faces,bboxes = output_support.trim_frame_with_result(frame,res[0],threshold=thresh)\n",
    "            op = face_rec.predict_batch_dyn(faces)\n",
    "            embedding.append(op)\n",
    "            frame_op = output_support.write_text(frame_op,\"FPS = %.4s\"%(1/(time.time()-t1) ),text_color=(0,0,0))\n",
    "            cv2.imshow(\"preview\",frame_op)\n",
    "            k = cv2.waitKey(1)\n",
    "            if k==ord('q'):\n",
    "                break\n",
    "cap.release()\n",
    "cv2.destroyAllWindows()\n",
    "\n",
    "\n",
    "      "
   ]
  },
  {
   "cell_type": "code",
   "execution_count": null,
   "metadata": {},
   "outputs": [],
   "source": []
  }
 ],
 "metadata": {
  "kernelspec": {
   "display_name": "cv_p36",
   "language": "python",
   "name": "cv_p36"
  },
  "language_info": {
   "codemirror_mode": {
    "name": "ipython",
    "version": 3
   },
   "file_extension": ".py",
   "mimetype": "text/x-python",
   "name": "python",
   "nbconvert_exporter": "python",
   "pygments_lexer": "ipython3",
   "version": "3.6.8"
  },
  "widgets": {
   "application/vnd.jupyter.widget-state+json": {
    "state": {},
    "version_major": 2,
    "version_minor": 0
   }
  }
 },
 "nbformat": 4,
 "nbformat_minor": 4
}
