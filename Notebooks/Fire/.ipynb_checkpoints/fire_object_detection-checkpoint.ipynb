{
 "cells": [
  {
   "cell_type": "code",
   "execution_count": 1,
   "metadata": {
    "ExecuteTime": {
     "end_time": "2020-10-09T12:35:34.761703Z",
     "start_time": "2020-10-09T12:35:34.754066Z"
    },
    "execution": {
     "iopub.execute_input": "2020-11-12T10:11:56.324876Z",
     "iopub.status.busy": "2020-11-12T10:11:56.324034Z",
     "iopub.status.idle": "2020-11-12T10:11:56.329892Z",
     "shell.execute_reply": "2020-11-12T10:11:56.329376Z",
     "shell.execute_reply.started": "2020-11-12T10:11:56.324751Z"
    }
   },
   "outputs": [],
   "source": [
    "detection_model_path = '/media/prateek/shared_space/Notebooks/abg/fire/2020_11_12/openvino_model/frozen_inference_graph.xml'\n",
    "device = 'CPU'\n"
   ]
  },
  {
   "cell_type": "code",
   "execution_count": 2,
   "metadata": {
    "ExecuteTime": {
     "end_time": "2020-10-09T12:35:35.475491Z",
     "start_time": "2020-10-09T12:35:35.292962Z"
    },
    "execution": {
     "iopub.execute_input": "2020-11-12T10:11:57.348049Z",
     "iopub.status.busy": "2020-11-12T10:11:57.347691Z",
     "iopub.status.idle": "2020-11-12T10:11:57.558497Z",
     "shell.execute_reply": "2020-11-12T10:11:57.557983Z",
     "shell.execute_reply.started": "2020-11-12T10:11:57.348003Z"
    }
   },
   "outputs": [],
   "source": [
    "import time,cv2,os\n",
    "import numpy as np\n",
    "import IPython.display as Disp"
   ]
  },
  {
   "cell_type": "code",
   "execution_count": 3,
   "metadata": {
    "ExecuteTime": {
     "end_time": "2020-10-09T12:35:35.954623Z",
     "start_time": "2020-10-09T12:35:35.798052Z"
    },
    "execution": {
     "iopub.execute_input": "2020-11-12T10:11:59.441373Z",
     "iopub.status.busy": "2020-11-12T10:11:59.441147Z",
     "iopub.status.idle": "2020-11-12T10:11:59.722521Z",
     "shell.execute_reply": "2020-11-12T10:11:59.721974Z",
     "shell.execute_reply.started": "2020-11-12T10:11:59.441345Z"
    }
   },
   "outputs": [],
   "source": [
    "os.sys.path.append(\"../utilities/\")\n",
    "import support_utility_openvino"
   ]
  },
  {
   "cell_type": "code",
   "execution_count": 4,
   "metadata": {
    "ExecuteTime": {
     "end_time": "2020-10-09T12:35:36.723930Z",
     "start_time": "2020-10-09T12:35:36.234044Z"
    },
    "execution": {
     "iopub.execute_input": "2020-11-12T10:12:02.368808Z",
     "iopub.status.busy": "2020-11-12T10:12:02.367932Z",
     "iopub.status.idle": "2020-11-12T10:12:02.893233Z",
     "shell.execute_reply": "2020-11-12T10:12:02.892799Z",
     "shell.execute_reply.started": "2020-11-12T10:12:02.368694Z"
    }
   },
   "outputs": [
    {
     "name": "stdout",
     "output_type": "stream",
     "text": [
      "Available Devices :  ['CPU', 'GNA', 'GPU']\n",
      "OPTIMIZATION_CAPABILITIES for CPU:  ['FP32', 'FP16', 'INT8', 'BIN']\n",
      "model inputs : dict_keys(['image_tensor'])\n",
      "model outputs :  dict_keys(['DetectionOutput'])\n"
     ]
    }
   ],
   "source": [
    "fire_detection = support_utility_openvino.async_infer(4)\n",
    "fire_detection.load_model(model_path=detection_model_path,device=device)\n",
    "output_support = support_utility_openvino.create_plot()"
   ]
  },
  {
   "cell_type": "code",
   "execution_count": 5,
   "metadata": {
    "ExecuteTime": {
     "end_time": "2020-10-09T12:35:37.315227Z",
     "start_time": "2020-10-09T12:35:37.308966Z"
    },
    "execution": {
     "iopub.execute_input": "2020-11-12T10:12:04.351985Z",
     "iopub.status.busy": "2020-11-12T10:12:04.351138Z",
     "iopub.status.idle": "2020-11-12T10:12:04.362056Z",
     "shell.execute_reply": "2020-11-12T10:12:04.359127Z",
     "shell.execute_reply.started": "2020-11-12T10:12:04.351872Z"
    }
   },
   "outputs": [],
   "source": [
    "class_labels = ['fire','smoke','neutral']"
   ]
  },
  {
   "cell_type": "code",
   "execution_count": 12,
   "metadata": {
    "ExecuteTime": {
     "start_time": "2020-10-09T12:43:16.511Z"
    },
    "execution": {
     "iopub.execute_input": "2020-11-12T10:17:53.399634Z",
     "iopub.status.busy": "2020-11-12T10:17:53.399271Z",
     "iopub.status.idle": "2020-11-12T10:18:08.704521Z",
     "shell.execute_reply": "2020-11-12T10:18:08.703578Z",
     "shell.execute_reply.started": "2020-11-12T10:17:53.399586Z"
    }
   },
   "outputs": [],
   "source": [
    "channel = '/media/prateek/PK_HDD/prateek_space_penD/dataset/fire/How to build a small cooking fire-cHf3efip0UU.mp4'\n",
    "# channel =0\n",
    "cap = cv2.VideoCapture(channel)\n",
    "cv2.namedWindow(\"preview\",cv2.WINDOW_NORMAL)\n",
    "ret,frame = cap.read()\n",
    "# frame = cv2.cvtColor(frame, cv2.COLOR_BGR2RGB)\n",
    "cap.set(1,2500)\n",
    "fps = []\n",
    "thresh = .5\n",
    "fire_detection.reinit_model()\n",
    "while True:\n",
    "    ret,frame = cap.read()\n",
    "    fps = fps[-100:]\n",
    "    if not ret:\n",
    "        break\n",
    "    t1 = time.time()\n",
    "    fire_detection.predict(frame)\n",
    "    if fire_detection.frame_processed>fire_detection.num_requests:\n",
    "        op_frame,attr, res = fire_detection.postprocess_op()\n",
    "        op_frame = output_support.label_obj_detection(op_frame,res[0],labels=class_labels,thresh=thresh)\n",
    "\n",
    "        op_frame = output_support.write_text(op_frame,\"FPS = %.3f\"%np.mean(fps),text_color = (0,0,0),font_scale=1,font_thickness=2,highlight_color = (127,0,255))\n",
    "        fps.append(1/(time.time()-t1))\n",
    "\n",
    "        cv2.imshow(\"preview\",op_frame)\n",
    "        k = cv2.waitKey(1)\n",
    "        if k==27:\n",
    "            break\n",
    "cap.release()\n",
    "cv2.destroyAllWindows()"
   ]
  },
  {
   "cell_type": "code",
   "execution_count": 18,
   "metadata": {
    "execution": {
     "iopub.execute_input": "2020-10-09T13:02:08.885692Z",
     "iopub.status.busy": "2020-10-09T13:02:08.884849Z",
     "iopub.status.idle": "2020-10-09T13:02:08.892743Z",
     "shell.execute_reply": "2020-10-09T13:02:08.892325Z",
     "shell.execute_reply.started": "2020-10-09T13:02:08.885580Z"
    }
   },
   "outputs": [
    {
     "data": {
      "text/plain": [
       "array([[[1., 3., 0., 0., 0., 0., 0., 0., 0., 0., 0., 0., 0., 0., 0., 0.,\n",
       "         0., 0., 0., 0., 0., 0., 0., 0., 0., 0., 0., 0., 0., 0., 0., 0.,\n",
       "         0., 0., 0., 0., 0., 0., 0., 0., 0., 0., 0., 0., 0., 0., 0., 0.,\n",
       "         0., 0., 0., 0., 0., 0., 0., 0., 0., 0., 0., 0., 0., 0., 0., 0.,\n",
       "         0., 0., 0., 0., 0., 0., 0., 0., 0., 0., 0., 0., 0., 0., 0., 0.,\n",
       "         0., 0., 0., 0., 0., 0., 0., 0., 0., 0., 0., 0., 0., 0., 0., 0.,\n",
       "         0., 0., 0., 0.]]], dtype=float32)"
      ]
     },
     "execution_count": 18,
     "metadata": {},
     "output_type": "execute_result"
    }
   ],
   "source": [
    "res[0][:,:,:, 1]"
   ]
  },
  {
   "cell_type": "code",
   "execution_count": null,
   "metadata": {},
   "outputs": [],
   "source": []
  }
 ],
 "metadata": {
  "kernelspec": {
   "display_name": "cv_p36",
   "language": "python",
   "name": "cv_p36"
  },
  "language_info": {
   "codemirror_mode": {
    "name": "ipython",
    "version": 3
   },
   "file_extension": ".py",
   "mimetype": "text/x-python",
   "name": "python",
   "nbconvert_exporter": "python",
   "pygments_lexer": "ipython3",
   "version": "3.6.8"
  },
  "widgets": {
   "application/vnd.jupyter.widget-state+json": {
    "state": {},
    "version_major": 2,
    "version_minor": 0
   }
  }
 },
 "nbformat": 4,
 "nbformat_minor": 4
}
