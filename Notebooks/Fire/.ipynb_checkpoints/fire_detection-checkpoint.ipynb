{
 "cells": [
  {
   "cell_type": "code",
   "execution_count": 1,
   "metadata": {
    "ExecuteTime": {
     "end_time": "2020-02-19T06:59:32.617316Z",
     "start_time": "2020-02-19T06:59:32.610291Z"
    },
    "execution": {
     "iopub.execute_input": "2020-10-09T07:41:33.939532Z",
     "iopub.status.busy": "2020-10-09T07:41:33.939109Z",
     "iopub.status.idle": "2020-10-09T07:41:33.942356Z",
     "shell.execute_reply": "2020-10-09T07:41:33.941921Z",
     "shell.execute_reply.started": "2020-10-09T07:41:33.939469Z"
    }
   },
   "outputs": [],
   "source": [
    "detection_model_path = '/media/prateek/prateek_space/model_files/openvino_model/fire_model/inceptionv1onfire.xml'\n",
    "cpu_extension_path = '../build_samples/intel64/Release/lib/libcpu_extension.so'\n",
    "device = 'CPU'\n"
   ]
  },
  {
   "cell_type": "code",
   "execution_count": 2,
   "metadata": {
    "ExecuteTime": {
     "end_time": "2020-02-19T06:59:33.255873Z",
     "start_time": "2020-02-19T06:59:33.248428Z"
    },
    "execution": {
     "iopub.execute_input": "2020-10-09T07:41:34.935721Z",
     "iopub.status.busy": "2020-10-09T07:41:34.934895Z",
     "iopub.status.idle": "2020-10-09T07:41:35.162654Z",
     "shell.execute_reply": "2020-10-09T07:41:35.161896Z",
     "shell.execute_reply.started": "2020-10-09T07:41:34.935610Z"
    }
   },
   "outputs": [
    {
     "ename": "ModuleNotFoundError",
     "evalue": "No module named 'support_utility_openvino'",
     "output_type": "error",
     "traceback": [
      "\u001b[0;31m---------------------------------------------------------------------------\u001b[0m",
      "\u001b[0;31mModuleNotFoundError\u001b[0m                       Traceback (most recent call last)",
      "\u001b[0;32m<ipython-input-2-c8a16635cb1c>\u001b[0m in \u001b[0;36m<module>\u001b[0;34m\u001b[0m\n\u001b[1;32m      2\u001b[0m \u001b[0;32mimport\u001b[0m \u001b[0mnumpy\u001b[0m \u001b[0;32mas\u001b[0m \u001b[0mnp\u001b[0m\u001b[0;34m\u001b[0m\u001b[0;34m\u001b[0m\u001b[0m\n\u001b[1;32m      3\u001b[0m \u001b[0;32mimport\u001b[0m \u001b[0mIPython\u001b[0m\u001b[0;34m.\u001b[0m\u001b[0mdisplay\u001b[0m \u001b[0;32mas\u001b[0m \u001b[0mDisp\u001b[0m\u001b[0;34m\u001b[0m\u001b[0;34m\u001b[0m\u001b[0m\n\u001b[0;32m----> 4\u001b[0;31m \u001b[0;32mimport\u001b[0m \u001b[0msupport_utility_openvino\u001b[0m\u001b[0;34m\u001b[0m\u001b[0;34m\u001b[0m\u001b[0m\n\u001b[0m",
      "\u001b[0;31mModuleNotFoundError\u001b[0m: No module named 'support_utility_openvino'"
     ]
    }
   ],
   "source": [
    "import time,cv2\n",
    "import numpy as np\n",
    "import IPython.display as Disp\n",
    "import support_utility_openvino"
   ]
  },
  {
   "cell_type": "code",
   "execution_count": 8,
   "metadata": {
    "ExecuteTime": {
     "end_time": "2020-02-19T06:59:34.059620Z",
     "start_time": "2020-02-19T06:59:33.745353Z"
    }
   },
   "outputs": [
    {
     "name": "stdout",
     "output_type": "stream",
     "text": [
      "loading sample element\n"
     ]
    }
   ],
   "source": [
    "fire_detection = support_utility_openvino.async_infer(4)\n",
    "fire_detection.load_model(cpu_exension_path=cpu_extension_path,model_path=detection_model_path,device=device)\n",
    "output_support = support_utility_openvino.create_plot()"
   ]
  },
  {
   "cell_type": "code",
   "execution_count": 9,
   "metadata": {
    "ExecuteTime": {
     "end_time": "2020-02-19T06:59:35.074433Z",
     "start_time": "2020-02-19T06:59:35.071773Z"
    }
   },
   "outputs": [],
   "source": [
    "class_labels = ['fire','no_fire']"
   ]
  },
  {
   "cell_type": "code",
   "execution_count": 11,
   "metadata": {
    "ExecuteTime": {
     "end_time": "2020-02-19T07:01:50.603480Z",
     "start_time": "2020-02-19T07:00:55.707174Z"
    }
   },
   "outputs": [],
   "source": [
    "channel = '/media/prateek/prateek_space/dataset/fire_data/fire_videos/Amazing Aerial Footage Braintree Industrial Fire_2.mp4'\n",
    "channel =0\n",
    "cap = cv2.VideoCapture(channel)\n",
    "cv2.namedWindow(\"preview\",cv2.WINDOW_NORMAL)\n",
    "ret,frame = cap.read()\n",
    "fps = []\n",
    "thresh = .7\n",
    "fire_detection.cursor_id = 0\n",
    "while True:\n",
    "    ret,frame = cap.read()\n",
    "    fps = fps[-100:]\n",
    "    if not ret:\n",
    "        break\n",
    "    t1 = time.time()\n",
    "    fire_detection.predict(frame)\n",
    "    if fire_detection.frame_processed>fire_detection.buffer_shape:\n",
    "        try:\n",
    "            op_frame,attr, res = fire_detection.postprocess_op()\n",
    "            id_max = res[0].argmax()\n",
    "            label =  class_labels[id_max]\n",
    "            op_frame = output_support.write_text(op_frame,label+\"(%.2f)\"%res[0].max(),location='top-right',text_color=(0, 0, 0))\n",
    "            op_frame = output_support.write_text(op_frame,\"FPS = %.3f\"%np.mean(fps),text_color = (0,0,0),font_scale=1,font_thickness=2,highlight_color = (127,0,255))\n",
    "            fps.append(1/(time.time()-t1))\n",
    "        except Exception as e:\n",
    "            print(e)\n",
    "        cv2.imshow(\"preview\",op_frame)\n",
    "        k = cv2.waitKey(1)\n",
    "        if k==27:\n",
    "            break\n",
    "cap.release()\n",
    "cv2.destroyAllWindows()\n",
    "\n",
    "            "
   ]
  },
  {
   "cell_type": "code",
   "execution_count": 17,
   "metadata": {
    "ExecuteTime": {
     "end_time": "2019-12-18T11:20:43.280535Z",
     "start_time": "2019-12-18T11:20:43.274615Z"
    }
   },
   "outputs": [
    {
     "data": {
      "text/plain": [
       "' thresh=1.00'"
      ]
     },
     "execution_count": 17,
     "metadata": {},
     "output_type": "execute_result"
    }
   ],
   "source": [
    "\" thresh=%.2f\"%res[0].max()"
   ]
  },
  {
   "cell_type": "code",
   "execution_count": 10,
   "metadata": {
    "ExecuteTime": {
     "end_time": "2019-12-18T11:16:47.070578Z",
     "start_time": "2019-12-18T11:16:47.057089Z"
    }
   },
   "outputs": [
    {
     "data": {
      "text/plain": [
       "1.0"
      ]
     },
     "execution_count": 10,
     "metadata": {},
     "output_type": "execute_result"
    }
   ],
   "source": []
  },
  {
   "cell_type": "code",
   "execution_count": null,
   "metadata": {},
   "outputs": [],
   "source": []
  }
 ],
 "metadata": {
  "kernelspec": {
   "display_name": "openvino",
   "language": "python",
   "name": "openvino"
  },
  "language_info": {
   "codemirror_mode": {
    "name": "ipython",
    "version": 3
   },
   "file_extension": ".py",
   "mimetype": "text/x-python",
   "name": "python",
   "nbconvert_exporter": "python",
   "pygments_lexer": "ipython3",
   "version": "3.6.8"
  },
  "widgets": {
   "application/vnd.jupyter.widget-state+json": {
    "state": {},
    "version_major": 2,
    "version_minor": 0
   }
  }
 },
 "nbformat": 4,
 "nbformat_minor": 4
}
