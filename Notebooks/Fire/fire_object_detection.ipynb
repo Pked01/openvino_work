{
 "cells": [
  {
   "cell_type": "code",
   "execution_count": 1,
   "metadata": {
    "ExecuteTime": {
     "end_time": "2020-10-09T12:35:34.761703Z",
     "start_time": "2020-10-09T12:35:34.754066Z"
    },
    "execution": {
     "iopub.execute_input": "2021-04-26T05:54:18.578194Z",
     "iopub.status.busy": "2021-04-26T05:54:18.577996Z",
     "iopub.status.idle": "2021-04-26T05:54:18.580758Z",
     "shell.execute_reply": "2021-04-26T05:54:18.580217Z",
     "shell.execute_reply.started": "2021-04-26T05:54:18.578166Z"
    }
   },
   "outputs": [],
   "source": [
    "detection_model_path = '/media/prateek/shared_space/useful_models/FIRE/2021_04_26_ssd_inception/openvino_graph/frozen_inference_graph.xml'\n",
    "device = 'CPU'\n"
   ]
  },
  {
   "cell_type": "code",
   "execution_count": 2,
   "metadata": {
    "ExecuteTime": {
     "end_time": "2020-10-09T12:35:35.475491Z",
     "start_time": "2020-10-09T12:35:35.292962Z"
    },
    "execution": {
     "iopub.execute_input": "2021-04-26T05:54:20.560029Z",
     "iopub.status.busy": "2021-04-26T05:54:20.559168Z",
     "iopub.status.idle": "2021-04-26T05:54:20.769844Z",
     "shell.execute_reply": "2021-04-26T05:54:20.769418Z",
     "shell.execute_reply.started": "2021-04-26T05:54:20.559918Z"
    }
   },
   "outputs": [],
   "source": [
    "import time,cv2,os\n",
    "import numpy as np\n",
    "import IPython.display as Disp"
   ]
  },
  {
   "cell_type": "code",
   "execution_count": 3,
   "metadata": {
    "ExecuteTime": {
     "end_time": "2020-10-09T12:35:35.954623Z",
     "start_time": "2020-10-09T12:35:35.798052Z"
    },
    "execution": {
     "iopub.execute_input": "2021-04-26T05:54:21.547587Z",
     "iopub.status.busy": "2021-04-26T05:54:21.546705Z",
     "iopub.status.idle": "2021-04-26T05:54:21.906173Z",
     "shell.execute_reply": "2021-04-26T05:54:21.904917Z",
     "shell.execute_reply.started": "2021-04-26T05:54:21.547474Z"
    }
   },
   "outputs": [],
   "source": [
    "os.sys.path.append(\"../utilities/\")\n",
    "import support_utility_openvino"
   ]
  },
  {
   "cell_type": "code",
   "execution_count": 4,
   "metadata": {
    "ExecuteTime": {
     "end_time": "2020-10-09T12:35:36.723930Z",
     "start_time": "2020-10-09T12:35:36.234044Z"
    },
    "execution": {
     "iopub.execute_input": "2021-04-26T05:54:21.908987Z",
     "iopub.status.busy": "2021-04-26T05:54:21.908446Z",
     "iopub.status.idle": "2021-04-26T05:54:22.464199Z",
     "shell.execute_reply": "2021-04-26T05:54:22.463814Z",
     "shell.execute_reply.started": "2021-04-26T05:54:21.908814Z"
    }
   },
   "outputs": [
    {
     "name": "stdout",
     "output_type": "stream",
     "text": [
      "Available Devices :  ['CPU', 'GNA', 'GPU']\n",
      "OPTIMIZATION_CAPABILITIES for CPU:  ['FP32', 'FP16', 'INT8', 'BIN']\n",
      "model inputs : dict_keys(['image_tensor'])\n",
      "model outputs :  dict_keys(['DetectionOutput'])\n"
     ]
    }
   ],
   "source": [
    "fire_detection = support_utility_openvino.async_infer(4)\n",
    "fire_detection.load_model(model_path=detection_model_path,device=device)\n",
    "output_support = support_utility_openvino.create_plot()"
   ]
  },
  {
   "cell_type": "code",
   "execution_count": 5,
   "metadata": {
    "ExecuteTime": {
     "end_time": "2020-10-09T12:35:37.315227Z",
     "start_time": "2020-10-09T12:35:37.308966Z"
    },
    "execution": {
     "iopub.execute_input": "2021-04-26T05:54:25.560243Z",
     "iopub.status.busy": "2021-04-26T05:54:25.559404Z",
     "iopub.status.idle": "2021-04-26T05:54:25.564706Z",
     "shell.execute_reply": "2021-04-26T05:54:25.564242Z",
     "shell.execute_reply.started": "2021-04-26T05:54:25.560134Z"
    }
   },
   "outputs": [],
   "source": [
    "class_labels = ['fire','smoke','neutral']"
   ]
  },
  {
   "cell_type": "code",
   "execution_count": 15,
   "metadata": {
    "ExecuteTime": {
     "start_time": "2020-10-09T12:43:16.511Z"
    },
    "execution": {
     "iopub.execute_input": "2021-04-26T06:02:56.549677Z",
     "iopub.status.busy": "2021-04-26T06:02:56.548839Z",
     "iopub.status.idle": "2021-04-26T06:05:05.806276Z",
     "shell.execute_reply": "2021-04-26T06:05:05.805161Z",
     "shell.execute_reply.started": "2021-04-26T06:02:56.549566Z"
    }
   },
   "outputs": [],
   "source": [
    "channel = '/home/prateek/shared_space/Notebooks/abg/fire/fire-detection-cnn/fire_vid.mp4'\n",
    "colors = {}\n",
    "channel =0\n",
    "cap = cv2.VideoCapture(channel)\n",
    "cv2.namedWindow(\"preview\",cv2.WINDOW_NORMAL)\n",
    "ret,frame = cap.read()\n",
    "# frame = cv2.cvtColor(frame, cv2.COLOR_BGR2RGB)\n",
    "# cap.set(1,2500)\n",
    "fps = []\n",
    "thresh = .5\n",
    "fire_detection.reinit_model()\n",
    "while True:\n",
    "    ret,frame = cap.read()\n",
    "    fps = fps[-100:]\n",
    "    if not ret:\n",
    "        break\n",
    "    t1 = time.time()\n",
    "    fire_detection.predict(frame)\n",
    "    if fire_detection.frame_processed>fire_detection.num_requests:\n",
    "        op_frame,attr, res = fire_detection.postprocess_op()\n",
    "        op_frame = output_support.label_obj_detection(op_frame,res[0],labels=class_labels,thresh=thresh)\n",
    "\n",
    "        op_frame = output_support.write_text(op_frame,\"FPS = %.3f\"%np.mean(fps),text_color = (0,0,0),font_scale=1,font_thickness=2,highlight_color = (127,0,255))\n",
    "        fps.append(1/(time.time()-t1))\n",
    "\n",
    "        cv2.imshow(\"preview\",op_frame)\n",
    "        k = cv2.waitKey(1)\n",
    "        if k==ord('q'):\n",
    "            break\n",
    "cap.release()\n",
    "cv2.destroyAllWindows()"
   ]
  },
  {
   "cell_type": "markdown",
   "metadata": {},
   "source": [
    "##### on images"
   ]
  },
  {
   "cell_type": "code",
   "execution_count": 23,
   "metadata": {
    "execution": {
     "iopub.execute_input": "2021-04-26T06:17:43.564767Z",
     "iopub.status.busy": "2021-04-26T06:17:43.564553Z",
     "iopub.status.idle": "2021-04-26T06:17:43.570205Z",
     "shell.execute_reply": "2021-04-26T06:17:43.569709Z",
     "shell.execute_reply.started": "2021-04-26T06:17:43.564740Z"
    }
   },
   "outputs": [],
   "source": [
    "import os\n",
    "def get_all_file_path(source_dir,ext='.csv'):\n",
    "    \"\"\"\n",
    "    all images with csv extension exist in set of dirs\n",
    "    \"\"\"\n",
    "    op =[]\n",
    "    for root, dirs, files in os.walk(source_dir):\n",
    "        for file in files:\n",
    "            if file.endswith(ext):\n",
    "                 op.append(os.path.join(os.path.abspath(root), file))\n",
    "    return op\n",
    "\n",
    "im_files = get_all_file_path(\"/media/prateek/shared_space/useful_vids/fire_data/bmcsl/\",\".jpg\\n\")\n",
    "files = np.random.choice(im_files,size = int(1*len(im_files)))"
   ]
  },
  {
   "cell_type": "code",
   "execution_count": 25,
   "metadata": {
    "execution": {
     "iopub.execute_input": "2021-04-26T06:18:36.680573Z",
     "iopub.status.busy": "2021-04-26T06:18:36.680198Z",
     "iopub.status.idle": "2021-04-26T06:18:48.436530Z",
     "shell.execute_reply": "2021-04-26T06:18:48.435707Z",
     "shell.execute_reply.started": "2021-04-26T06:18:36.680525Z"
    }
   },
   "outputs": [],
   "source": [
    "fire_detection.reinit_model()\n",
    "thresh = .3\n",
    "fps = []\n",
    "cv2.namedWindow(\"preview\",cv2.WINDOW_NORMAL)\n",
    "for f in im_files:\n",
    "    t1 = time.time()\n",
    "    frame = cv2.imread(f)\n",
    "    fire_detection.predict(frame)\n",
    "    if fire_detection.frame_processed>=fire_detection.num_requests:\n",
    "        op_frame,attr, res = fire_detection.postprocess_op()\n",
    "        op_frame = output_support.label_obj_detection(op_frame,res[0],labels=class_labels,thresh=thresh)\n",
    "\n",
    "        op_frame = output_support.write_text(op_frame,\"FPS = %.3f\"%np.mean(fps),text_color = (0,0,0),font_scale=1,font_thickness=2,highlight_color = (127,0,255))\n",
    "        fps.append(1/(time.time()-t1))\n",
    "        \n",
    "        cv2.imshow(\"preview\",op_frame)\n",
    "        k = cv2.waitKey(1)\n",
    "        if k==ord('q'):\n",
    "            break\n",
    "cv2.destroyAllWindows()\n",
    "    "
   ]
  },
  {
   "cell_type": "code",
   "execution_count": 45,
   "metadata": {
    "execution": {
     "iopub.execute_input": "2021-02-24T08:35:11.217827Z",
     "iopub.status.busy": "2021-02-24T08:35:11.217470Z",
     "iopub.status.idle": "2021-02-24T08:35:11.220963Z",
     "shell.execute_reply": "2021-02-24T08:35:11.220376Z",
     "shell.execute_reply.started": "2021-02-24T08:35:11.217784Z"
    }
   },
   "outputs": [],
   "source": [
    "i = im_files[0]"
   ]
  },
  {
   "cell_type": "code",
   "execution_count": 20,
   "metadata": {
    "execution": {
     "iopub.execute_input": "2021-04-26T06:16:52.613229Z",
     "iopub.status.busy": "2021-04-26T06:16:52.613033Z",
     "iopub.status.idle": "2021-04-26T06:16:52.619767Z",
     "shell.execute_reply": "2021-04-26T06:16:52.619120Z",
     "shell.execute_reply.started": "2021-04-26T06:16:52.613205Z"
    }
   },
   "outputs": [
    {
     "data": {
      "text/plain": [
       "[]"
      ]
     },
     "execution_count": 20,
     "metadata": {},
     "output_type": "execute_result"
    }
   ],
   "source": [
    "im_files"
   ]
  },
  {
   "cell_type": "code",
   "execution_count": null,
   "metadata": {},
   "outputs": [],
   "source": []
  }
 ],
 "metadata": {
  "kernelspec": {
   "display_name": "openvino",
   "language": "python",
   "name": "openvino"
  },
  "language_info": {
   "codemirror_mode": {
    "name": "ipython",
    "version": 3
   },
   "file_extension": ".py",
   "mimetype": "text/x-python",
   "name": "python",
   "nbconvert_exporter": "python",
   "pygments_lexer": "ipython3",
   "version": "3.6.8"
  },
  "widgets": {
   "application/vnd.jupyter.widget-state+json": {
    "state": {},
    "version_major": 2,
    "version_minor": 0
   }
  }
 },
 "nbformat": 4,
 "nbformat_minor": 4
}
