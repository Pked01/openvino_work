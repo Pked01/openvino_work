{
 "cells": [
  {
   "cell_type": "code",
   "execution_count": 3,
   "metadata": {
    "execution": {
     "iopub.execute_input": "2021-05-10T03:15:51.683777Z",
     "iopub.status.busy": "2021-05-10T03:15:51.683299Z",
     "iopub.status.idle": "2021-05-10T03:15:51.686334Z",
     "shell.execute_reply": "2021-05-10T03:15:51.685697Z",
     "shell.execute_reply.started": "2021-05-10T03:15:51.683581Z"
    }
   },
   "outputs": [],
   "source": [
    "import easyocr"
   ]
  },
  {
   "cell_type": "code",
   "execution_count": 4,
   "metadata": {
    "execution": {
     "iopub.execute_input": "2021-05-10T03:15:54.721258Z",
     "iopub.status.busy": "2021-05-10T03:15:54.721036Z",
     "iopub.status.idle": "2021-05-10T03:15:59.532964Z",
     "shell.execute_reply": "2021-05-10T03:15:59.532418Z",
     "shell.execute_reply.started": "2021-05-10T03:15:54.721236Z"
    }
   },
   "outputs": [
    {
     "name": "stderr",
     "output_type": "stream",
     "text": [
      "Using CPU. Note: This module is much faster with a GPU.\n"
     ]
    }
   ],
   "source": [
    "reader = easyocr.Reader(['en'],model_storage_directory=\"/home/prateek/shared_space/DATA_N_MODELS/useful_models/\",gpu=False) # need to run only once to load model into memory\n",
    "result = reader.readtext(\"/home/prateek/Pictures/Screenshot from 2021-05-09 21-16-16.png\")"
   ]
  },
  {
   "cell_type": "code",
   "execution_count": 6,
   "metadata": {
    "execution": {
     "iopub.execute_input": "2021-05-10T03:20:09.750062Z",
     "iopub.status.busy": "2021-05-10T03:20:09.749822Z",
     "iopub.status.idle": "2021-05-10T03:20:28.689971Z",
     "shell.execute_reply": "2021-05-10T03:20:28.689432Z",
     "shell.execute_reply.started": "2021-05-10T03:20:09.750036Z"
    }
   },
   "outputs": [
    {
     "name": "stdout",
     "output_type": "stream",
     "text": [
      "2.38 s ± 53.9 ms per loop (mean ± std. dev. of 7 runs, 1 loop each)\n"
     ]
    }
   ],
   "source": [
    "%%timeit\n",
    "result = reader.readtext(\"/home/prateek/Pictures/Screenshot from 2021-05-09 21-16-16.png\")"
   ]
  },
  {
   "cell_type": "code",
   "execution_count": null,
   "metadata": {},
   "outputs": [],
   "source": [
    "from torch.autograd import Variable\n",
    "\n",
    "import torch.onnx\n",
    "import torchvision\n",
    "import torch\n",
    "\n",
    "dummy_input = Variable(torch.randn(1, 3, 256, 256))\n",
    "state_dict = torch.load('./my_model.pth')\n",
    "model.load_state_dict(state_dict)\n",
    "torch.onnx.export(model, dummy_input, \"moment-in-time.onnx\")"
   ]
  }
 ],
 "metadata": {
  "kernelspec": {
   "display_name": "openvino",
   "language": "python",
   "name": "openvino"
  },
  "language_info": {
   "codemirror_mode": {
    "name": "ipython",
    "version": 3
   },
   "file_extension": ".py",
   "mimetype": "text/x-python",
   "name": "python",
   "nbconvert_exporter": "python",
   "pygments_lexer": "ipython3",
   "version": "3.6.8"
  },
  "widgets": {
   "application/vnd.jupyter.widget-state+json": {
    "state": {},
    "version_major": 2,
    "version_minor": 0
   }
  }
 },
 "nbformat": 4,
 "nbformat_minor": 4
}
