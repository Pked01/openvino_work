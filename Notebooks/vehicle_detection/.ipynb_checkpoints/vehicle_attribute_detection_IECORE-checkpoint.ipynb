{
 "cells": [
  {
   "cell_type": "code",
   "execution_count": 1,
   "metadata": {
    "ExecuteTime": {
     "end_time": "2020-05-21T17:46:03.023835Z",
     "start_time": "2020-05-21T17:46:03.021489Z"
    }
   },
   "outputs": [],
   "source": [
    "model_detection_path = '/media/prateek/prateek_space/intel_model_dump/intel/person-vehicle-bike-detection-crossroad-0078/FP16/person-vehicle-bike-detection-crossroad-0078.xml'\n",
    "model_detection_path1 = '/home/prateek/prateek_space/intel_model_dump/intel/vehicle-detection-adas-0002/FP32/vehicle-detection-adas-0002.xml'\n",
    "\n",
    "# cpu_extension = '../build_samples/intel64/Release/lib/libcpu_extension.so'\n",
    "attr_model_path = \"/home/prateek/prateek_space/intel_model_dump/intel/vehicle-attributes-recognition-barrier-0039/INT8/vehicle-attributes-recognition-barrier-0039.xml\"\n"
   ]
  },
  {
   "cell_type": "code",
   "execution_count": 2,
   "metadata": {},
   "outputs": [],
   "source": [
    "import openvino"
   ]
  },
  {
   "cell_type": "code",
   "execution_count": 3,
   "metadata": {
    "ExecuteTime": {
     "end_time": "2020-05-21T17:46:03.310857Z",
     "start_time": "2020-05-21T17:46:03.307276Z"
    }
   },
   "outputs": [],
   "source": [
    "import os\n",
    "os.sys.path.append(\"../utilities/\")"
   ]
  },
  {
   "cell_type": "code",
   "execution_count": 4,
   "metadata": {
    "ExecuteTime": {
     "end_time": "2020-05-21T17:46:04.291175Z",
     "start_time": "2020-05-21T17:46:03.952190Z"
    }
   },
   "outputs": [],
   "source": [
    "import time,cv2,importlib\n",
    "import numpy as np\n",
    "import IPython.display as Disp\n",
    "import support_utility_openvino"
   ]
  },
  {
   "cell_type": "code",
   "execution_count": 5,
   "metadata": {
    "ExecuteTime": {
     "end_time": "2020-05-21T17:46:05.535940Z",
     "start_time": "2020-05-21T17:46:05.532784Z"
    }
   },
   "outputs": [],
   "source": [
    "support_utility_openvino = importlib.reload(support_utility_openvino)"
   ]
  },
  {
   "cell_type": "code",
   "execution_count": 6,
   "metadata": {
    "ExecuteTime": {
     "end_time": "2020-05-21T17:46:06.629037Z",
     "start_time": "2020-05-21T17:46:06.518503Z"
    }
   },
   "outputs": [
    {
     "name": "stdout",
     "output_type": "stream",
     "text": [
      "Available Devices :  ['CPU', 'GNA', 'GPU']\n"
     ]
    }
   ],
   "source": [
    "attr_detection = support_utility_openvino.async_infer(4)"
   ]
  },
  {
   "cell_type": "code",
   "execution_count": 7,
   "metadata": {},
   "outputs": [
    {
     "name": "stdout",
     "output_type": "stream",
     "text": [
      "Available Devices :  ['CPU', 'GNA', 'GPU']\n",
      "Available Devices :  ['CPU', 'GNA', 'GPU']\n"
     ]
    }
   ],
   "source": [
    "vehicle_detection0 = support_utility_openvino.async_infer(4,ie_network=attr_detection.ie)\n",
    "\n",
    "vehicle_detection1 = support_utility_openvino.async_infer(4,ie_network=attr_detection.ie)"
   ]
  },
  {
   "cell_type": "code",
   "execution_count": 8,
   "metadata": {
    "ExecuteTime": {
     "end_time": "2020-05-21T17:46:12.520632Z",
     "start_time": "2020-05-21T17:46:06.933294Z"
    }
   },
   "outputs": [
    {
     "name": "stdout",
     "output_type": "stream",
     "text": [
      "model inputs : dict_keys(['input'])\n",
      "model outputs :  dict_keys(['color', 'type'])\n"
     ]
    }
   ],
   "source": [
    "attr_detection.load_model(model_path=attr_model_path,device=\"MULTI:CPU,GPU\")\n"
   ]
  },
  {
   "cell_type": "code",
   "execution_count": 9,
   "metadata": {
    "ExecuteTime": {
     "end_time": "2020-05-21T17:46:38.894802Z",
     "start_time": "2020-05-21T17:46:12.522202Z"
    }
   },
   "outputs": [
    {
     "name": "stdout",
     "output_type": "stream",
     "text": [
      "OPTIMIZATION_CAPABILITIES for CPU:  ['FP32', 'INT8', 'BIN']\n",
      "model inputs : dict_keys(['data'])\n",
      "model outputs :  dict_keys(['detection_out'])\n"
     ]
    }
   ],
   "source": [
    "vehicle_detection0.load_model(model_path=model_detection_path,device=\"CPU\")\n",
    "output_support = support_utility_openvino.create_plot()"
   ]
  },
  {
   "cell_type": "code",
   "execution_count": 10,
   "metadata": {},
   "outputs": [
    {
     "name": "stdout",
     "output_type": "stream",
     "text": [
      "OPTIMIZATION_CAPABILITIES for CPU:  ['FP32', 'INT8', 'BIN']\n",
      "model inputs : dict_keys(['data'])\n",
      "model outputs :  dict_keys(['detection_out'])\n"
     ]
    }
   ],
   "source": [
    "vehicle_detection1.load_model(model_path=model_detection_path1,device=\"CPU\")\n",
    "output_support = support_utility_openvino.create_plot()"
   ]
  },
  {
   "cell_type": "code",
   "execution_count": 11,
   "metadata": {
    "ExecuteTime": {
     "end_time": "2020-05-21T17:46:38.900467Z",
     "start_time": "2020-05-21T17:46:38.896142Z"
    }
   },
   "outputs": [],
   "source": [
    "vehicle_colors = [\"White\", \"gray\", \"yellow\", \"red\", \"green\", \"blue\", \"black\"]\n",
    "vehicle_type = [\"Car\", \"bus\", \"truck\", \"van\"]"
   ]
  },
  {
   "cell_type": "code",
   "execution_count": 48,
   "metadata": {
    "ExecuteTime": {
     "end_time": "2020-05-21T17:48:38.670236Z",
     "start_time": "2020-05-21T17:48:35.518947Z"
    }
   },
   "outputs": [],
   "source": [
    "channel = '/media/prateek/prateek_space/dataset/vehicle_related/china_number_plate_detection.mp4'\n",
    "channel = '/media/prateek/prateek_space/dataset/veraval_test_video/vehicle/CSY_IP Camera9_CSY_20191022113859_20191022114100_7495885.mp4'\n",
    "channel = '/media/prateek/prateek_space/dataset/veraval_test_video/vehicle/20191017_20191017095543_20191017100900_095957.mp4'\n",
    "# channel = '/media/prateek/prateek_space/dataset/veraval_test_video/vehicle/Time office_IP Camera4_Time office_20190906150322_20190906150546_18994919.mp4'\n",
    "channel = \"/media/prateek/prateek_space/dataset/veraval_test_video/vehicle/Tankerfiling.mp4\"\n",
    "cap = cv2.VideoCapture(channel)\n",
    "cv2.namedWindow(\"preview\",cv2.WINDOW_NORMAL)\n",
    "ret,frame = cap.read()\n",
    "fps = []\n",
    "thresh = .09\n",
    "res_range = [0,.1]\n",
    "vehicle_detection = vehicle_detection1\n",
    "vehicle_detection.reinit_model()\n",
    "attr_detection.reinit_model()\n",
    "write_video = True\n",
    "if write_video:\n",
    "    fourcc = cv2.VideoWriter_fourcc(*'h264')\n",
    "    videowriter = cv2.VideoWriter(\"../output_vids/vehicle/veraval/\"+\"Tankfilling\"+\".mp4\",fourcc, 20, (int(cap.get(3)),int(cap.get(4))))\n",
    "\n",
    "while True:\n",
    "    fps = fps\n",
    "#     Disp.clear_output(wait=True)\n",
    "    t1 = time.time()\n",
    "    ret,frame = cap.read()\n",
    "    if not ret:\n",
    "        break\n",
    "    \n",
    "    vehicle_detection.predict(frame)\n",
    "    if vehicle_detection.frame_processed>=vehicle_detection.num_requests:\n",
    "        try:\n",
    "            frame,attr,res = vehicle_detection.postprocess_op()\n",
    "#             res[0] = np.expand_dims(res[0][res[0][:,:,:,1]==2],[0,1])\n",
    "            op,bboxes,res_filt = output_support.trim_frame_with_result(frame,res[0],threshold=thresh,return_results = True,resolution_thresh_range = res_range)\n",
    "            attrs = attr_detection.predict_batch_async(op)\n",
    "            attrs = [(vehicle_colors[np.argmax(att[0])], vehicle_type[np.argmax(att[1])]) for att in attrs]\n",
    "#             dets.append(len(attrs))\n",
    "            fps.append(1/(time.time()-t1))\n",
    "            op_frame = output_support.write_text(frame,\"FPS = \"+str(np.mean(fps,dtype='int')),text_color = (0,0,0),font_scale=1,font_thickness=2,highlight_color = (127,0,255))\n",
    "            for idx,b in enumerate(bboxes):\n",
    "                op_frame = output_support.create_bbox_with_text(op_frame,(tuple(b[:2]),tuple(b[2:])),\",\".join(attrs[idx]))\n",
    "#             op_frame = output_support.label_obj_detection(frame,res[0],labels=['vehicle','person','car'],font_scale=1,font_thickness = 1,thresh=.5)\n",
    "        except Exception as e:\n",
    "            print(e)\n",
    "#         print(vehicle_detection.cursor_id,vehicle_detection.frame_processed)\n",
    "        cv2.imshow(\"preview\",op_frame)\n",
    "        k = cv2.waitKey(1)\n",
    "        if k==27:\n",
    "            break\n",
    "        if write_video:\n",
    "            videowriter.write(op_frame)\n",
    "# cap.release()\n",
    "if write_video:\n",
    "    videowriter.release()\n",
    "cap.release()\n",
    "cv2.destroyAllWindows()\n",
    "        \n",
    "        \n",
    "    "
   ]
  },
  {
   "cell_type": "code",
   "execution_count": null,
   "metadata": {},
   "outputs": [],
   "source": []
  },
  {
   "cell_type": "markdown",
   "metadata": {},
   "source": [
    "#### testing on images"
   ]
  },
  {
   "cell_type": "code",
   "execution_count": 12,
   "metadata": {},
   "outputs": [],
   "source": [
    "file_path = \"/media/prateek/prateek_space/dataset/veraval_production/4July/TankerFilling/VEHICLE/\"\n",
    "def get_all_file_path(source_dir,ext='.csv'):\n",
    "    \"\"\"\n",
    "    all images with csv extension exist in set of dirs\n",
    "    \"\"\"\n",
    "    op =[]\n",
    "    for root, dirs, files in os.walk(source_dir):\n",
    "        for file in files:\n",
    "            if file.endswith(ext):\n",
    "                \n",
    "                 op.append(os.path.join(os.path.abspath(root), file))\n",
    "    return op\n",
    "all_jpg = get_all_file_path(file_path,\".jpg\")"
   ]
  },
  {
   "cell_type": "code",
   "execution_count": 23,
   "metadata": {
    "ExecuteTime": {
     "end_time": "2020-05-21T17:48:38.670236Z",
     "start_time": "2020-05-21T17:48:35.518947Z"
    }
   },
   "outputs": [],
   "source": [
    "\n",
    "\n",
    "fps = []\n",
    "thresh = .5\n",
    "res_range = [0.05,.2]\n",
    "vehicle_detection1.reinit_model()\n",
    "attr_detection.reinit_model()\n",
    "size = (1920,1080)\n",
    "write_video = False\n",
    "if write_video:\n",
    "    fourcc = cv2.VideoWriter_fourcc(*'mp4v')\n",
    "    videowriter = cv2.VideoWriter(\"../output_vids/vehicle/veraval/\"+\"dispatch_liquid\"+\".mp4\",fourcc, 20, size)\n",
    "\n",
    "for f in all_jpg:\n",
    "    cv2.namedWindow(\"preview\",cv2.WINDOW_NORMAL)\n",
    "    fps = fps[-100:]\n",
    "#     Disp.clear_output(wait=True)\n",
    "    frame = cv2.imread(f)\n",
    "    t1 = time.time()\n",
    "\n",
    "#     if not ret:\n",
    "#         break\n",
    "    \n",
    "    vehicle_detection1.predict(frame)\n",
    "    if vehicle_detection1.frame_processed>=vehicle_detection1.num_requests:\n",
    "        try:\n",
    "            frame,attr,res = vehicle_detection1.postprocess_op()\n",
    "#             res[0] = np.expand_dims(res[0][res[0][:,:,:,1]==2],[0,1])\n",
    "            op,bboxes,res_filt = output_support.trim_frame_with_result(frame,res[0],threshold=thresh,return_results = True)#,resolution_thresh_range=res_range)\n",
    "            attrs = attr_detection.predict_batch_async(op)\n",
    "            attrs = [(vehicle_colors[np.argmax(att[0])], vehicle_type[np.argmax(att[1])]) for att in attrs]\n",
    "#             dets.append(len(attrs))\n",
    "            fps.append(1/(time.time()-t1))\n",
    "            op_frame = output_support.write_text(frame,\"FPS = \"+str(np.mean(fps,dtype='int')),text_color = (0,0,0),font_scale=1,font_thickness=2,highlight_color = (127,0,255))\n",
    "            op_frame = output_support.write_text(op_frame,\"number of detections = %s\"%len(bboxes),location=\"top-right\",text_color = (0,0,0),font_scale=1,font_thickness=2,highlight_color = (127,0,255))\n",
    "\n",
    "            for idx,b in enumerate(bboxes):\n",
    "                op_frame = output_support.create_bbox_with_text(op_frame,(tuple(b[:2]),tuple(b[2:])),\",\".join(attrs[idx]))\n",
    "#             op_frame = output_support.label_obj_detection(frame,res[0],labels=['vehicle','person','car'],font_scale=1,font_thickness = 1,thresh=.5)\n",
    "        except Exception as e:\n",
    "            print(e)\n",
    "#         print(vehicle_detection.cursor_id,vehicle_detection.frame_processed)\n",
    "        cv2.imshow(\"preview\",op_frame)\n",
    "        k = cv2.waitKey()\n",
    "        if k==ord('q'):\n",
    "            break\n",
    "            \n",
    "            \n",
    "        if write_video:\n",
    "            videowriter.write(cv2.resize(op_frame,size))\n",
    "# cap.release()\n",
    "if write_video:\n",
    "    videowriter.release()\n",
    "# cap.release()\n",
    "cv2.destroyAllWindows()\n",
    "\n",
    "        \n",
    "        \n",
    "    "
   ]
  },
  {
   "cell_type": "code",
   "execution_count": 49,
   "metadata": {},
   "outputs": [],
   "source": [
    "frame,attr,res = vehicle_detection.postprocess_op()"
   ]
  },
  {
   "cell_type": "code",
   "execution_count": 20,
   "metadata": {},
   "outputs": [
    {
     "data": {
      "text/plain": [
       "'number of detections = 0'"
      ]
     },
     "execution_count": 20,
     "metadata": {},
     "output_type": "execute_result"
    }
   ],
   "source": [
    "\"number of detections = %s\"%len(bboxes)"
   ]
  },
  {
   "cell_type": "code",
   "execution_count": 48,
   "metadata": {},
   "outputs": [],
   "source": [
    "frame = cv2.imread(f)\n",
    "\n",
    "t1 = time.time()\n",
    "vehicle_detection1.predict(frame)"
   ]
  },
  {
   "cell_type": "code",
   "execution_count": null,
   "metadata": {},
   "outputs": [],
   "source": []
  }
 ],
 "metadata": {
  "kernelspec": {
   "display_name": "openvino",
   "language": "python",
   "name": "openvino"
  },
  "language_info": {
   "codemirror_mode": {
    "name": "ipython",
    "version": 3
   },
   "file_extension": ".py",
   "mimetype": "text/x-python",
   "name": "python",
   "nbconvert_exporter": "python",
   "pygments_lexer": "ipython3",
   "version": "3.6.8"
  }
 },
 "nbformat": 4,
 "nbformat_minor": 4
}
