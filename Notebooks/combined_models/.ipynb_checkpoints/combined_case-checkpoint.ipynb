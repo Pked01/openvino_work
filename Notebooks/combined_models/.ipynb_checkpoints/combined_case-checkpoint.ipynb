{
 "cells": [
  {
   "cell_type": "code",
   "execution_count": 1,
   "metadata": {},
   "outputs": [],
   "source": [
    "import cv2,os,time\n",
    "os.sys.path.append('/home/prateek/shared_space/Notebooks/abg/openvino/Notebooks/utilities/')\n",
    "from datetime import datetime\n",
    "import numpy as np\n",
    "import IPython.display as Disp\n",
    "import support_utility_openvino"
   ]
  },
  {
   "cell_type": "code",
   "execution_count": 2,
   "metadata": {},
   "outputs": [],
   "source": [
    "person_vehicle_model_path = \"/home/prateek/prateek_space/intel_model_dump/intel/pedestrian-and-vehicle-detector-adas-0001/INT8/pedestrian-and-vehicle-detector-adas-0001.xml\"\n",
    "helmet_vest_model_path = \"/media/prateek/prateek_space/model_files/openvino_model/2020_02_04_only_person_model/converted_1/frozen_inference_graph.xml\"#ssd inception net model\n",
    "attr_model_path = \"/home/prateek/prateek_space/intel_model_dump/intel/vehicle-attributes-recognition-barrier-0039/INT8/vehicle-attributes-recognition-barrier-0039.xml\""
   ]
  },
  {
   "cell_type": "code",
   "execution_count": null,
   "metadata": {},
   "outputs": [],
   "source": [
    "num_requests = 2"
   ]
  },
  {
   "cell_type": "code",
   "execution_count": null,
   "metadata": {},
   "outputs": [],
   "source": [
    "person_detection_model = support_utility_openvino.async_infer(num_requests=num_requests)\n",
    "person_detection_model.load_model(model_path=person_vehicle_model_path,device=\"MYRIAD\")"
   ]
  },
  {
   "cell_type": "code",
   "execution_count": null,
   "metadata": {},
   "outputs": [],
   "source": [
    "helmet_vest_model = support_utility_openvino.async_infer(num_requests=num_requests,ie_network=person_detection_model.ie)\n",
    "helmet_vest_model.load_model(model_path=helmet_vest_model_path,device=\"MYRIAD\")"
   ]
  },
  {
   "cell_type": "code",
   "execution_count": null,
   "metadata": {},
   "outputs": [],
   "source": [
    "attr_model = support_utility_openvino.async_infer(num_requests=num_requests,ie_network=person_detection_model.ie)\n",
    "attr_model.load_model(model_path=attr_model_path,device=\"MYRIAD\")"
   ]
  },
  {
   "cell_type": "code",
   "execution_count": null,
   "metadata": {},
   "outputs": [],
   "source": [
    "def poly_intersection_shapely(pt1,pt2,intersection_threshold=.5):\n",
    "    \"\"\"\n",
    "    bool : return True or False\n",
    "    \"\"\"\n",
    "    p1 = Polygon(pt1)\n",
    "    p2 = Polygon(pt2)\n",
    "    intersection_area = p1.intersection(p2).area\n",
    "    if intersection_area/p2.area>intersection_threshold:\n",
    "        return True\n",
    "    return False"
   ]
  },
  {
   "cell_type": "code",
   "execution_count": 3,
   "metadata": {},
   "outputs": [],
   "source": [
    "channel = \"/home/prateek/prateek_space/dataset/vehicle_related/china_number_plate_detection.mp4\""
   ]
  },
  {
   "cell_type": "code",
   "execution_count": 4,
   "metadata": {},
   "outputs": [],
   "source": [
    "cap = cv2.VideoCapture(channel)"
   ]
  },
  {
   "cell_type": "code",
   "execution_count": null,
   "metadata": {},
   "outputs": [],
   "source": [
    "while True"
   ]
  }
 ],
 "metadata": {
  "kernelspec": {
   "display_name": "openvino",
   "language": "python",
   "name": "openvino"
  },
  "language_info": {
   "codemirror_mode": {
    "name": "ipython",
    "version": 3
   },
   "file_extension": ".py",
   "mimetype": "text/x-python",
   "name": "python",
   "nbconvert_exporter": "python",
   "pygments_lexer": "ipython3",
   "version": "3.6.8"
  }
 },
 "nbformat": 4,
 "nbformat_minor": 4
}
