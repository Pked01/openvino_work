{
 "cells": [
  {
   "cell_type": "code",
   "execution_count": 1,
   "metadata": {
    "ExecuteTime": {
     "end_time": "2020-03-26T10:20:51.711437Z",
     "start_time": "2020-03-26T10:20:51.702532Z"
    }
   },
   "outputs": [],
   "source": [
    "detection_model_path = '/media/prateek/prateek_space/intel_model_dump/intel/vehicle-detection-adas-0002/FP32/vehicle-detection-adas-0002.xml'\n",
    "attr_model_path = '/media/prateek/prateek_space/intel_model_dump/intel/vehicle-attributes-recognition-barrier-0039/FP32/vehicle-attributes-recognition-barrier-0039.xml'\n",
    "cpu_extension = '../build_samples/intel64/Release/lib/libcpu_extension.so'\n",
    "device = 'CPU'\n"
   ]
  },
  {
   "cell_type": "code",
   "execution_count": 2,
   "metadata": {
    "ExecuteTime": {
     "end_time": "2020-03-26T10:20:52.561263Z",
     "start_time": "2020-03-26T10:20:51.995253Z"
    }
   },
   "outputs": [],
   "source": [
    "import time,cv2\n",
    "import numpy as np\n",
    "import IPython.display as Disp\n",
    "import support_utility_openvino"
   ]
  },
  {
   "cell_type": "code",
   "execution_count": 3,
   "metadata": {
    "ExecuteTime": {
     "end_time": "2020-03-26T10:20:55.631859Z",
     "start_time": "2020-03-26T10:20:54.842809Z"
    }
   },
   "outputs": [
    {
     "name": "stdout",
     "output_type": "stream",
     "text": [
      "loading sample element\n",
      "loading sample element\n"
     ]
    }
   ],
   "source": [
    "vehicle_detection = support_utility_openvino.async_infer(4)\n",
    "vehicle_detection.load_model(cpu_exension_path=cpu_extension,model_path=detection_model_path,device=device)\n",
    "\n",
    "attr_detection = support_utility_openvino.async_infer()\n",
    "attr_detection.load_model(cpu_exension_path=cpu_extension,model_path=attr_model_path,device=device)\n",
    "\n",
    "output_support = support_utility_openvino.create_plot()"
   ]
  },
  {
   "cell_type": "code",
   "execution_count": 4,
   "metadata": {
    "ExecuteTime": {
     "end_time": "2020-03-26T10:20:55.687160Z",
     "start_time": "2020-03-26T10:20:55.680430Z"
    }
   },
   "outputs": [],
   "source": [
    "vehicle_colors =  [\"white\", \"gray\", \"yellow\", \"red\", \"green\", \"blue\", \"black\"]\n",
    "vehicle_type = [\"car\", \"bus\", \"truck\", \"van\"]"
   ]
  },
  {
   "cell_type": "code",
   "execution_count": 6,
   "metadata": {
    "ExecuteTime": {
     "end_time": "2020-03-26T10:23:53.293016Z",
     "start_time": "2020-03-26T10:21:47.715455Z"
    }
   },
   "outputs": [],
   "source": [
    "channel = \"/media/prateek/prateek_space/dataset/china_number_plate_detection.mp4\"\n",
    "cap = cv2.VideoCapture(channel)\n",
    "cv2.namedWindow(\"preview\",cv2.WINDOW_NORMAL)\n",
    "ret,frame = cap.read()\n",
    "fps = []\n",
    "thresh = .5\n",
    "# dets = []\n",
    "while True:\n",
    "    fps = fps[-100:]\n",
    "#     Disp.clear_output(wait=True)\n",
    "    ret,frame = cap.read()\n",
    "    if not ret:\n",
    "        break\n",
    "    t1 = time.time()\n",
    "    vehicle_detection.predict(frame)\n",
    "    if vehicle_detection.frame_processed>vehicle_detection.buffer_shape:\n",
    "        try:\n",
    "            frame,attr,res = vehicle_detection.postprocess_op()\n",
    "            op,bboxes = output_support.trim_frame_with_result(frame,res[0],threshold=thresh)\n",
    "            attrs = [attr_detection.predict_sync(vehicle) for vehicle in op]\n",
    "            attrs = [(vehicle_colors[np.argmax(att[0])], vehicle_type[np.argmax(att[1])]) for att in attrs]\n",
    "#             dets.append(len(attrs))\n",
    "            fps.append(1/(time.time()-t1))\n",
    "            op_frame = output_support.write_text(frame,\"FPS = \"+str(np.mean(fps,dtype='int')),text_color = (0,0,0),font_scale=1,font_thickness=2,highlight_color = (127,0,255))\n",
    "            for idx,b in enumerate(bboxes):\n",
    "                op_frame = output_support.create_bbox_with_text(op_frame,(tuple(b[:2]),tuple(b[2:])),\",\".join(attrs[idx]))\n",
    "#             op_frame = output_support.label_obj_detection(frame,res[0],labels=['vehicle','person','car'],font_scale=1,font_thickness = 1,thresh=.5)\n",
    "        except Exception as e:\n",
    "            print(e)\n",
    "#         print(vehicle_detection.cursor_id,vehicle_detection.frame_processed)\n",
    "        cv2.imshow(\"preview\",op_frame)\n",
    "        k = cv2.waitKey(1)\n",
    "        if k==27:\n",
    "            break\n",
    "cap.release()\n",
    "cv2.destroyAllWindows()\n",
    "        \n",
    "        \n",
    "    "
   ]
  },
  {
   "cell_type": "code",
   "execution_count": null,
   "metadata": {},
   "outputs": [],
   "source": []
  }
 ],
 "metadata": {
  "kernelspec": {
   "display_name": "openvino",
   "language": "python",
   "name": "openvino"
  },
  "language_info": {
   "codemirror_mode": {
    "name": "ipython",
    "version": 3
   },
   "file_extension": ".py",
   "mimetype": "text/x-python",
   "name": "python",
   "nbconvert_exporter": "python",
   "pygments_lexer": "ipython3",
   "version": "3.6.8"
  }
 },
 "nbformat": 4,
 "nbformat_minor": 2
}
