{
 "cells": [
  {
   "cell_type": "code",
   "execution_count": 1,
   "metadata": {
    "ExecuteTime": {
     "end_time": "2019-12-03T09:44:32.809685Z",
     "start_time": "2019-12-03T09:44:32.758929Z"
    }
   },
   "outputs": [],
   "source": [
    "from elasticsearch import Elasticsearch \n",
    "es = Elasticsearch([{'host': 'localhost', 'port': 9200}]) "
   ]
  },
  {
   "cell_type": "code",
   "execution_count": 4,
   "metadata": {
    "ExecuteTime": {
     "end_time": "2019-12-03T10:03:46.533892Z",
     "start_time": "2019-12-03T10:03:46.519009Z"
    }
   },
   "outputs": [
    {
     "data": {
      "text/plain": [
       "{'count': 25888,\n",
       " '_shards': {'total': 10, 'successful': 10, 'skipped': 0, 'failed': 0}}"
      ]
     },
     "execution_count": 4,
     "metadata": {},
     "output_type": "execute_result"
    }
   ],
   "source": [
    "es.count()"
   ]
  },
  {
   "cell_type": "code",
   "execution_count": 10,
   "metadata": {
    "ExecuteTime": {
     "end_time": "2019-11-29T04:52:15.271532Z",
     "start_time": "2019-11-29T04:52:15.245585Z"
    }
   },
   "outputs": [
    {
     "ename": "NameError",
     "evalue": "name 'doc' is not defined",
     "output_type": "error",
     "traceback": [
      "\u001b[0;31m---------------------------------------------------------------------------\u001b[0m",
      "\u001b[0;31mNameError\u001b[0m                                 Traceback (most recent call last)",
      "\u001b[0;32m<ipython-input-10-6d44b1a1b549>\u001b[0m in \u001b[0;36m<module>\u001b[0;34m\u001b[0m\n\u001b[0;32m----> 1\u001b[0;31m \u001b[0mr\u001b[0m \u001b[0;34m=\u001b[0m \u001b[0mes\u001b[0m\u001b[0;34m.\u001b[0m\u001b[0mindex\u001b[0m\u001b[0;34m(\u001b[0m\u001b[0mindex\u001b[0m\u001b[0;34m=\u001b[0m\u001b[0;34m'fulcrum'\u001b[0m\u001b[0;34m,\u001b[0m \u001b[0mdoc_type\u001b[0m\u001b[0;34m=\u001b[0m\u001b[0;34m'people_emotions'\u001b[0m\u001b[0;34m,\u001b[0m\u001b[0mbody\u001b[0m\u001b[0;34m=\u001b[0m\u001b[0mdoc\u001b[0m\u001b[0;34m)\u001b[0m\u001b[0;34m\u001b[0m\u001b[0;34m\u001b[0m\u001b[0m\n\u001b[0m",
      "\u001b[0;31mNameError\u001b[0m: name 'doc' is not defined"
     ]
    }
   ],
   "source": [
    "r = es.index(index='fulcrum', doc_type='people_emotions',body=doc)"
   ]
  },
  {
   "cell_type": "code",
   "execution_count": 20,
   "metadata": {
    "ExecuteTime": {
     "end_time": "2019-12-02T03:11:38.014330Z",
     "start_time": "2019-12-02T03:11:37.855964Z"
    }
   },
   "outputs": [
    {
     "data": {
      "text/plain": [
       "{'acknowledged': True}"
      ]
     },
     "execution_count": 20,
     "metadata": {},
     "output_type": "execute_result"
    }
   ],
   "source": [
    "# es.indices.delete(index='fulcrum', ignore=[400, 404])"
   ]
  },
  {
   "cell_type": "code",
   "execution_count": 15,
   "metadata": {
    "ExecuteTime": {
     "end_time": "2019-11-29T09:10:18.287998Z",
     "start_time": "2019-11-29T09:10:18.281317Z"
    }
   },
   "outputs": [],
   "source": [
    "params = \"{\\\"mappings\\\":{\\\"logs_june\\\":{\\\"_timestamp\\\": {\\\"enabled\\\": \\\"true\\\"},\\\"properties\\\":{\\\"logdate\\\":{\\\"type\\\":\\\"date\\\",\\\"format\\\":\\\"dd/MM/yyy HH:mm:ss\\\"}}}}}\""
   ]
  },
  {
   "cell_type": "code",
   "execution_count": 16,
   "metadata": {
    "ExecuteTime": {
     "end_time": "2019-11-29T09:10:25.191918Z",
     "start_time": "2019-11-29T09:10:25.184608Z"
    }
   },
   "outputs": [],
   "source": [
    "import json"
   ]
  },
  {
   "cell_type": "code",
   "execution_count": 17,
   "metadata": {
    "ExecuteTime": {
     "end_time": "2019-11-29T09:10:35.580022Z",
     "start_time": "2019-11-29T09:10:35.568408Z"
    }
   },
   "outputs": [
    {
     "data": {
      "text/plain": [
       "{'mappings': {'logs_june': {'_timestamp': {'enabled': 'true'},\n",
       "   'properties': {'logdate': {'type': 'date',\n",
       "     'format': 'dd/MM/yyy HH:mm:ss'}}}}}"
      ]
     },
     "execution_count": 17,
     "metadata": {},
     "output_type": "execute_result"
    }
   ],
   "source": [
    "json.loads(params)"
   ]
  },
  {
   "cell_type": "code",
   "execution_count": 18,
   "metadata": {
    "ExecuteTime": {
     "end_time": "2019-11-29T09:11:39.441232Z",
     "start_time": "2019-11-29T09:11:39.404231Z"
    }
   },
   "outputs": [
    {
     "data": {
      "text/plain": [
       "{'error': {'root_cause': [{'type': 'mapper_parsing_exception',\n",
       "    'reason': 'Root mapping definition has unsupported parameters:  [_timestamp : {enabled=true}]'}],\n",
       "  'type': 'mapper_parsing_exception',\n",
       "  'reason': 'Failed to parse mapping [logs_june]: Root mapping definition has unsupported parameters:  [_timestamp : {enabled=true}]',\n",
       "  'caused_by': {'type': 'mapper_parsing_exception',\n",
       "   'reason': 'Root mapping definition has unsupported parameters:  [_timestamp : {enabled=true}]'}},\n",
       " 'status': 400}"
      ]
     },
     "execution_count": 18,
     "metadata": {},
     "output_type": "execute_result"
    }
   ],
   "source": [
    "from elasticsearch import Elasticsearch\n",
    "\n",
    "mapping = '''\n",
    "{  \n",
    "  \"mappings\":{  \n",
    "    \"logs_june\":{  \n",
    "      \"_timestamp\":{  \n",
    "        \"enabled\":\"true\"\n",
    "      },\n",
    "      \"properties\":{  \n",
    "        \"logdate\":{  \n",
    "          \"type\":\"date\",\n",
    "          \"format\":\"dd/MM/yyy HH:mm:ss\"\n",
    "        }\n",
    "      }\n",
    "    }\n",
    "  }\n",
    "}'''\n",
    "es.indices.create(index='test-index', ignore=400, body=mapping)"
   ]
  },
  {
   "cell_type": "code",
   "execution_count": null,
   "metadata": {},
   "outputs": [],
   "source": []
  }
 ],
 "metadata": {
  "kernelspec": {
   "display_name": "openvino",
   "language": "python",
   "name": "openvino"
  },
  "language_info": {
   "codemirror_mode": {
    "name": "ipython",
    "version": 3
   },
   "file_extension": ".py",
   "mimetype": "text/x-python",
   "name": "python",
   "nbconvert_exporter": "python",
   "pygments_lexer": "ipython3",
   "version": "3.6.8"
  }
 },
 "nbformat": 4,
 "nbformat_minor": 2
}
