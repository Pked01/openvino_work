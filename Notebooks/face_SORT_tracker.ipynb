{
 "cells": [
  {
   "cell_type": "code",
   "execution_count": null,
   "metadata": {},
   "outputs": [],
   "source": [
    "import os,cv2\n",
    "os.sys.path.append(\"../utilities/\")\n"
   ]
  },
  {
   "cell_type": "code",
   "execution_count": 2,
   "metadata": {
    "execution": {
     "iopub.execute_input": "2020-08-20T10:18:59.017530Z",
     "iopub.status.busy": "2020-08-20T10:18:59.017098Z",
     "iopub.status.idle": "2020-08-20T10:18:59.737321Z",
     "shell.execute_reply": "2020-08-20T10:18:59.736885Z",
     "shell.execute_reply.started": "2020-08-20T10:18:59.017476Z"
    }
   },
   "outputs": [
    {
     "name": "stderr",
     "output_type": "stream",
     "text": [
      "/home/prateek/.virtualenvs/openvino/lib/python3.6/site-packages/sklearn/utils/linear_assignment_.py:22: FutureWarning: The linear_assignment_ module is deprecated in 0.21 and will be removed from 0.23. Use scipy.optimize.linear_sum_assignment instead.\n",
      "  FutureWarning)\n"
     ]
    }
   ],
   "source": [
    "import numpy as np\n",
    "\n",
    "import support_utility_openvino\n",
    "from mobileface_sort_v1 import Sort\n"
   ]
  },
  {
   "cell_type": "code",
   "execution_count": 3,
   "metadata": {
    "execution": {
     "iopub.execute_input": "2020-08-20T10:18:59.739465Z",
     "iopub.status.busy": "2020-08-20T10:18:59.739306Z",
     "iopub.status.idle": "2020-08-20T10:18:59.741644Z",
     "shell.execute_reply": "2020-08-20T10:18:59.741240Z",
     "shell.execute_reply.started": "2020-08-20T10:18:59.739441Z"
    }
   },
   "outputs": [],
   "source": [
    "detection_model_path = '/media/prateek/prateek_space/intel_model_dump/intel/face-detection-adas-0001/FP32/face-detection-adas-0001.xml'\n",
    "device = 'CPU'\n",
    "output_support = support_utility_openvino.create_plot()"
   ]
  },
  {
   "cell_type": "code",
   "execution_count": 4,
   "metadata": {
    "execution": {
     "iopub.execute_input": "2020-08-20T10:18:59.742357Z",
     "iopub.status.busy": "2020-08-20T10:18:59.742201Z",
     "iopub.status.idle": "2020-08-20T10:18:59.909006Z",
     "shell.execute_reply": "2020-08-20T10:18:59.908595Z",
     "shell.execute_reply.started": "2020-08-20T10:18:59.742333Z"
    }
   },
   "outputs": [
    {
     "name": "stdout",
     "output_type": "stream",
     "text": [
      "Available Devices :  ['CPU', 'GNA', 'GPU']\n",
      "OPTIMIZATION_CAPABILITIES for CPU:  ['FP32', 'FP16', 'INT8', 'BIN']\n",
      "model inputs : dict_keys(['data'])\n",
      "model outputs :  dict_keys(['detection_out'])\n"
     ]
    }
   ],
   "source": [
    "face_detection = support_utility_openvino.async_infer(4)\n",
    "face_detection.load_model(model_path=detection_model_path,device=device)"
   ]
  },
  {
   "cell_type": "code",
   "execution_count": 5,
   "metadata": {
    "execution": {
     "iopub.execute_input": "2020-08-20T10:19:03.029641Z",
     "iopub.status.busy": "2020-08-20T10:19:03.028748Z",
     "iopub.status.idle": "2020-08-20T10:19:03.034564Z",
     "shell.execute_reply": "2020-08-20T10:19:03.034052Z",
     "shell.execute_reply.started": "2020-08-20T10:19:03.029508Z"
    }
   },
   "outputs": [],
   "source": [
    "channel = \"/media/prateek/prateek_space/dataset/veraval_production/videos/face_veraval/202003211445.mp4\""
   ]
  },
  {
   "cell_type": "code",
   "execution_count": 6,
   "metadata": {
    "execution": {
     "iopub.execute_input": "2020-08-20T10:17:16.011268Z",
     "iopub.status.busy": "2020-08-20T10:17:16.010053Z",
     "iopub.status.idle": "2020-08-20T10:17:22.592937Z",
     "shell.execute_reply": "2020-08-20T10:17:22.591762Z",
     "shell.execute_reply.started": "2020-08-20T10:17:16.010854Z"
    }
   },
   "outputs": [
    {
     "data": {
      "text/plain": [
       "(0.002951388888888889, 0.07165316358024691)"
      ]
     },
     "execution_count": 6,
     "metadata": {},
     "output_type": "execute_result"
    }
   ],
   "source": [
    "cap = cv2.VideoCapture(channel)\n",
    "ret,frame = cap.read()\n",
    "output_support.get_resolution_thresh(frame)"
   ]
  },
  {
   "cell_type": "code",
   "execution_count": 6,
   "metadata": {
    "execution": {
     "iopub.execute_input": "2020-08-20T10:19:05.029976Z",
     "iopub.status.busy": "2020-08-20T10:19:05.029100Z",
     "iopub.status.idle": "2020-08-20T10:19:07.947287Z",
     "shell.execute_reply": "2020-08-20T10:19:07.946434Z",
     "shell.execute_reply.started": "2020-08-20T10:19:05.029864Z"
    }
   },
   "outputs": [
    {
     "name": "stderr",
     "output_type": "stream",
     "text": [
      "/home/prateek/.virtualenvs/openvino/lib/python3.6/site-packages/sklearn/utils/linear_assignment_.py:128: FutureWarning: The linear_assignment function is deprecated in 0.21 and will be removed from 0.23. Use scipy.optimize.linear_sum_assignment instead.\n",
      "  FutureWarning)\n"
     ]
    }
   ],
   "source": [
    "mot_tracker = Sort(10, 3)\n",
    "\n",
    "thresh = .2\n",
    "\n",
    "cap = cv2.VideoCapture(channel)\n",
    "frame_width, frame_height = int(cap.get(3)),int(cap.get(4))\n",
    "# ratio_li = []\n",
    "write_video = False\n",
    "if write_video:\n",
    "    fourcc = cv2.VideoWriter_fourcc(*'X264')\n",
    "    videowriter = cv2.VideoWriter(\"output_vids/face_detection/\"+\"temperature_reading\"+\".mp4\",fourcc, 30, (int(cap.get(3)),int(cap.get(4))))\n",
    "face_detection.reinit_model()\n",
    "while True:\n",
    "\n",
    "    ret,frame = cap.read()\n",
    "    if not ret:\n",
    "        break\n",
    "    face_detection.predict(frame)\n",
    "    if face_detection.frame_processed>=face_detection.num_requests:\n",
    "        frame,attr,res = face_detection.postprocess_op()\n",
    "        res_filt,bboxes = output_support.res2bbox(res[0],(frame_width,frame_height),[.0005,.06],thresh = thresh,return_res=True)\n",
    "        if len(bboxes)>0:\n",
    "            ids = [[0]]*len(bboxes)\n",
    "            dets = np.concatenate((bboxes,ids),axis=1)\n",
    "            trackers = mot_tracker.update(dets)\n",
    "            for d in trackers:\n",
    "                cv2.rectangle(frame, (int(d[0]), int(d[1])), (int(d[2]), int(d[3])), (255,255,255), 3)\n",
    "                cv2.putText(frame, str('%s%d' % ('face', d[4])), \n",
    "                           (int(d[0]), int(d[1]) - 5), cv2.FONT_HERSHEY_COMPLEX , 0.8, (255,255,255), 2)\n",
    "            cv2.imshow(\"preview\",frame)\n",
    "            k = cv2.waitKey(1)\n",
    "            if k==ord('q'):\n",
    "                break\n",
    "cap.release()\n",
    "cv2.destroyAllWindows()"
   ]
  },
  {
   "cell_type": "code",
   "execution_count": null,
   "metadata": {},
   "outputs": [],
   "source": []
  }
 ],
 "metadata": {
  "kernelspec": {
   "display_name": "openvino",
   "language": "python",
   "name": "openvino"
  },
  "language_info": {
   "codemirror_mode": {
    "name": "ipython",
    "version": 3
   },
   "file_extension": ".py",
   "mimetype": "text/x-python",
   "name": "python",
   "nbconvert_exporter": "python",
   "pygments_lexer": "ipython3",
   "version": "3.6.8"
  }
 },
 "nbformat": 4,
 "nbformat_minor": 4
}
