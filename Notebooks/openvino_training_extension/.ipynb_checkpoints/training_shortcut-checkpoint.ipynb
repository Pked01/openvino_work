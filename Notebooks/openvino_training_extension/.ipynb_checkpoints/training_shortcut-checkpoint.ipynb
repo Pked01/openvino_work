{
 "cells": [
  {
   "cell_type": "markdown",
   "metadata": {
    "execution": {
     "iopub.execute_input": "2021-03-17T14:03:24.827873Z",
     "iopub.status.busy": "2021-03-17T14:03:24.827598Z",
     "iopub.status.idle": "2021-03-17T14:03:24.831511Z",
     "shell.execute_reply": "2021-03-17T14:03:24.831018Z",
     "shell.execute_reply.started": "2021-03-17T14:03:24.827819Z"
    }
   },
   "source": [
    "```shell\n",
    "\n",
    "export MODEL_TEMPLATE = /media/prateek/shared_space/Notebooks/git_repos/openvino_training_extensions/pytorch_toolkit/object_detection/model_templates/person-detection/person-detection-0200/template.yaml\n",
    "export WORK_DIR=/media/prateek/shared_space/Notebooks/git_repos/openvino_training_extensions/pytorch_toolkit/object_detection/custom_model/person_detection_1\n",
    "export SNAPSHOT=snapshot.pth\n",
    "\n",
    "\n",
    "\n",
    "\n",
    "python ../tools/instantiate_template.py ${MODEL_TEMPLATE} ${WORK_DIR} \n",
    "\n",
    "\n",
    "export SNAPSHOT=/media/prateek/shared_space/Notebooks/git_repos/openvino_training_extensions/pytorch_toolkit/object_detection/custom_model/person_detection_1/snapshot.pth\n",
    "export TRAIN_ANN_FILE=/media/prateek/shared_space/useful_vids/person_dataset/CVAT/combined_train_coco.json\n",
    "export TRAIN_IMG_ROOT=/media/prateek/shared_space/useful_vids/person_dataset/CVAT/\n",
    "export VAL_ANN_FILE=/media/prateek/shared_space/useful_vids/person_dataset/CVAT/combined_val_coco.json\n",
    "export VAL_IMG_ROOT=/media/prateek/shared_space/useful_vids/person_dataset/CVAT/\n",
    "export EPOCHS_NUM=500\n",
    "\n",
    "python train.py \\\n",
    "   --resume-from ${SNAPSHOT} \\\n",
    "   --train-ann-files ${TRAIN_ANN_FILE} \\\n",
    "   --train-data-roots ${TRAIN_IMG_ROOT} \\\n",
    "   --val-ann-files ${VAL_ANN_FILE} \\\n",
    "   --val-data-roots ${VAL_IMG_ROOT} \\\n",
    "   --save-checkpoints-to outputs \\\n",
    "   --epochs ${EPOCHS_NUM} \n",
    "   --batch-size 60\n",
    "\n",
    "   \n",
    "\n",
    "\n",
    "/home/prateek/.virtualenvs/pytorch_p37/bin/python -u /media/prateek/shared_space/Notebooks/git_repos/openvino_training_extensions/external/mmdetection/tools/train.py --local_rank=0 model.py  --update_config data.train.dataset.ann_file=/media/prateek/shared_space/useful_vids/person_dataset/CVAT/combined_train_coco.json data.train.dataset.img_prefix=/media/prateek/shared_space/useful_vids/person_dataset/CVAT/ data.val.ann_file=/media/prateek/shared_space/useful_vids/person_dataset/CVAT/combined_val_coco.json data.val.img_prefix=/media/prateek/shared_space/useful_vids/person_dataset/CVAT/ work_dir=outputs data.samples_per_gpu=122 resume_from=/media/prateek/shared_space/Notebooks/git_repos/openvino_training_extensions/pytorch_toolkit/object_detection/custom_model/person_detection_1/snapshot.pth load_from= optimizer.lr=0.05 total_epochs=500\n",
    "\n",
    "```"
   ]
  }
 ],
 "metadata": {
  "kernelspec": {
   "display_name": "pytorch_p37",
   "language": "python",
   "name": "pytorch_p37"
  },
  "language_info": {
   "codemirror_mode": {
    "name": "ipython",
    "version": 3
   },
   "file_extension": ".py",
   "mimetype": "text/x-python",
   "name": "python",
   "nbconvert_exporter": "python",
   "pygments_lexer": "ipython3",
   "version": "3.7.5"
  },
  "widgets": {
   "application/vnd.jupyter.widget-state+json": {
    "state": {},
    "version_major": 2,
    "version_minor": 0
   }
  }
 },
 "nbformat": 4,
 "nbformat_minor": 4
}
