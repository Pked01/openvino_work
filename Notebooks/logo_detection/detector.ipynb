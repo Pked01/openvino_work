{
 "cells": [
  {
   "cell_type": "code",
   "execution_count": 79,
   "metadata": {
    "execution": {
     "iopub.execute_input": "2021-03-03T09:40:39.396534Z",
     "iopub.status.busy": "2021-03-03T09:40:39.395068Z",
     "iopub.status.idle": "2021-03-03T09:40:39.483983Z",
     "shell.execute_reply": "2021-03-03T09:40:39.483307Z",
     "shell.execute_reply.started": "2021-03-03T09:40:39.396215Z"
    }
   },
   "outputs": [],
   "source": [
    "import cv2,os,time,glob\n",
    "os.sys.path.append('../utilities/')\n",
    "from datetime import datetime\n",
    "import numpy as np\n",
    "import IPython.display as Disp\n",
    "import support_utility_openvino\n",
    "import matplotlib.pyplot as plt\n",
    "import ipywidgets as widgets\n",
    "from shapely.geometry import Polygon,Point\n",
    "import pandas as pd"
   ]
  },
  {
   "cell_type": "code",
   "execution_count": 80,
   "metadata": {
    "execution": {
     "iopub.execute_input": "2021-03-03T09:40:39.486900Z",
     "iopub.status.busy": "2021-03-03T09:40:39.486219Z",
     "iopub.status.idle": "2021-03-03T09:40:39.731179Z",
     "shell.execute_reply": "2021-03-03T09:40:39.730400Z",
     "shell.execute_reply.started": "2021-03-03T09:40:39.486384Z"
    }
   },
   "outputs": [
    {
     "name": "stdout",
     "output_type": "stream",
     "text": [
      "Available Devices :  ['CPU', 'GNA', 'GPU']\n",
      "Available Devices :  ['CPU', 'GNA', 'GPU']\n"
     ]
    }
   ],
   "source": [
    "logo_detector = support_utility_openvino.async_infer()\n",
    "person_detector = support_utility_openvino.async_infer(ie_network=logo_detector.ie)"
   ]
  },
  {
   "cell_type": "code",
   "execution_count": 81,
   "metadata": {
    "execution": {
     "iopub.execute_input": "2021-03-03T09:40:39.733522Z",
     "iopub.status.busy": "2021-03-03T09:40:39.733017Z",
     "iopub.status.idle": "2021-03-03T09:40:41.639904Z",
     "shell.execute_reply": "2021-03-03T09:40:41.639356Z",
     "shell.execute_reply.started": "2021-03-03T09:40:39.733268Z"
    }
   },
   "outputs": [
    {
     "name": "stdout",
     "output_type": "stream",
     "text": [
      "OPTIMIZATION_CAPABILITIES for CPU:  ['FP32', 'FP16', 'INT8', 'BIN']\n",
      "model inputs : dict_keys(['image_tensor'])\n",
      "model outputs :  dict_keys(['DetectionOutput'])\n",
      "OPTIMIZATION_CAPABILITIES for CPU:  ['FP32', 'FP16', 'INT8', 'BIN']\n",
      "model inputs : dict_keys(['image'])\n",
      "model outputs :  dict_keys(['detection_out'])\n"
     ]
    }
   ],
   "source": [
    "logo_detector.load_model(\"/home/prateek/shared_space/useful_models/logos/ssd_inception/openvino_model/frozen_inference_graph.xml\",\"CPU\")\n",
    "person_detector.load_model(\"/home/prateek/shared_space/useful_models/openvino/person-detection-0202/FP32/person-detection-0202.xml\",\"CPU\")"
   ]
  },
  {
   "cell_type": "code",
   "execution_count": 82,
   "metadata": {
    "execution": {
     "iopub.execute_input": "2021-03-03T09:40:43.578155Z",
     "iopub.status.busy": "2021-03-03T09:40:43.577425Z",
     "iopub.status.idle": "2021-03-03T09:40:43.599175Z",
     "shell.execute_reply": "2021-03-03T09:40:43.597209Z",
     "shell.execute_reply.started": "2021-03-03T09:40:43.578030Z"
    }
   },
   "outputs": [],
   "source": [
    "output_support = support_utility_openvino.create_plot()"
   ]
  },
  {
   "cell_type": "code",
   "execution_count": 83,
   "metadata": {
    "execution": {
     "iopub.execute_input": "2021-03-03T09:40:45.384034Z",
     "iopub.status.busy": "2021-03-03T09:40:45.383006Z",
     "iopub.status.idle": "2021-03-03T09:40:45.551560Z",
     "shell.execute_reply": "2021-03-03T09:40:45.550839Z",
     "shell.execute_reply.started": "2021-03-03T09:40:45.383882Z"
    }
   },
   "outputs": [],
   "source": [
    "data = pd.read_csv(\"/home/prateek/shared_space/flickr_logos_27_dataset/flickr_logos_27_dataset_training_set_annotation.txt\",sep=\" \",header=None)\n",
    "labels = data[1].unique()"
   ]
  },
  {
   "cell_type": "code",
   "execution_count": 84,
   "metadata": {
    "execution": {
     "iopub.execute_input": "2021-03-03T09:40:51.397395Z",
     "iopub.status.busy": "2021-03-03T09:40:51.396751Z",
     "iopub.status.idle": "2021-03-03T09:40:51.429704Z",
     "shell.execute_reply": "2021-03-03T09:40:51.428235Z",
     "shell.execute_reply.started": "2021-03-03T09:40:51.397353Z"
    }
   },
   "outputs": [
    {
     "data": {
      "text/plain": [
       "array(['Adidas', 'Apple', 'BMW', 'Citroen', 'Cocacola', 'DHL', 'Fedex',\n",
       "       'Ferrari', 'Ford', 'Google', 'Heineken', 'HP', 'Intel',\n",
       "       'McDonalds', 'Mini', 'Nbc', 'Nike', 'Pepsi', 'Porsche', 'Puma',\n",
       "       'RedBull', 'Sprite', 'Starbucks', 'Texaco', 'Unicef', 'Vodafone',\n",
       "       'Yahoo'], dtype=object)"
      ]
     },
     "execution_count": 84,
     "metadata": {},
     "output_type": "execute_result"
    }
   ],
   "source": [
    "labels"
   ]
  },
  {
   "cell_type": "code",
   "execution_count": 85,
   "metadata": {
    "execution": {
     "iopub.execute_input": "2021-03-03T09:40:55.787337Z",
     "iopub.status.busy": "2021-03-03T09:40:55.786984Z",
     "iopub.status.idle": "2021-03-03T09:40:55.798837Z",
     "shell.execute_reply": "2021-03-03T09:40:55.798092Z",
     "shell.execute_reply.started": "2021-03-03T09:40:55.787218Z"
    }
   },
   "outputs": [],
   "source": [
    "images = glob.glob(\"sample_images/*\")"
   ]
  },
  {
   "cell_type": "code",
   "execution_count": 86,
   "metadata": {
    "execution": {
     "iopub.execute_input": "2021-03-03T09:40:59.377210Z",
     "iopub.status.busy": "2021-03-03T09:40:59.376863Z",
     "iopub.status.idle": "2021-03-03T09:41:14.586339Z",
     "shell.execute_reply": "2021-03-03T09:41:14.585216Z",
     "shell.execute_reply.started": "2021-03-03T09:40:59.377171Z"
    }
   },
   "outputs": [],
   "source": [
    "logo_detector.reinit_model()\n",
    "for im_path in images:\n",
    "    img = cv2.imread(im_path)\n",
    "    res = logo_detector.predict_sync(img)\n",
    "    frame_op = output_support.label_obj_detection(img,res[0],labels=labels,thresh=.1)\n",
    "    cv2.imshow(\"preview\",frame_op)\n",
    "    k = cv2.waitKey(0)\n",
    "    cv2.imwrite(os.path.basename(im_path)+\"_output.jpg\",frame_op)\n",
    "cv2.destroyAllWindows()\n",
    "    "
   ]
  },
  {
   "cell_type": "code",
   "execution_count": 87,
   "metadata": {
    "execution": {
     "iopub.execute_input": "2021-03-03T09:41:47.374142Z",
     "iopub.status.busy": "2021-03-03T09:41:47.373919Z",
     "iopub.status.idle": "2021-03-03T09:42:23.334477Z",
     "shell.execute_reply": "2021-03-03T09:42:23.333394Z",
     "shell.execute_reply.started": "2021-03-03T09:41:47.374116Z"
    }
   },
   "outputs": [],
   "source": [
    "channel = \"/media/prateek/shared_space/useful_vids/general/Top 5 WORST Delivery Drivers that Damaged Packages-7p497WsUEqA.mp4\"\n",
    "cap = cv2.VideoCapture(channel)\n",
    "cap.set(1,0)\n",
    "cv2.namedWindow(\"preview\",cv2.WINDOW_NORMAL)\n",
    "person_detector.reinit_model()\n",
    "thresh = .4\n",
    "\n",
    "while True:\n",
    "    t0 = time.time()\n",
    "    ret,frame = cap.read()\n",
    "#     frame = rotate_image(frame,-10)\n",
    "    person_detector.predict(frame)\n",
    "    if person_detector.frame_processed>=person_detector.num_requests:\n",
    "        frame,attr,res = person_detector.postprocess_op()\n",
    "        person,bboxes = output_support.trim_frame_with_result(frame,res[0],threshold=thresh)## person will go to bag model \n",
    "\n",
    "        frame_op = output_support.label_obj_detection(frame,res[0],labels=[\"person\"],thresh=thresh)\n",
    "        t1 = time.time()\n",
    "        frame_op = output_support.write_text(frame_op,\"FPS= %.4s\"%(1/(t1-t0)),text_color=(0,0,0))\n",
    "\n",
    "        cv2.imshow(\"preview\",cv2.resize(frame_op,(1920,1080)))\n",
    "        k = cv2.waitKey(1)\n",
    "        if k==ord('q'):\n",
    "            break\n",
    "\n",
    "cv2.destroyAllWindows()\n",
    "cap.release()\n",
    "        \n",
    "\n",
    "        \n",
    "    \n",
    "    "
   ]
  },
  {
   "cell_type": "markdown",
   "metadata": {},
   "source": [
    "Internals of neural network is not easy to understand, but to create an autonomous system, multiple of such neural network have to be combined. \n",
    "What's the best way to fine tune such large meta/multi task learning?"
   ]
  }
 ],
 "metadata": {
  "kernelspec": {
   "display_name": "cv_p36",
   "language": "python",
   "name": "cv_p36"
  },
  "language_info": {
   "codemirror_mode": {
    "name": "ipython",
    "version": 3
   },
   "file_extension": ".py",
   "mimetype": "text/x-python",
   "name": "python",
   "nbconvert_exporter": "python",
   "pygments_lexer": "ipython3",
   "version": "3.6.8"
  },
  "widgets": {
   "application/vnd.jupyter.widget-state+json": {
    "state": {},
    "version_major": 2,
    "version_minor": 0
   }
  }
 },
 "nbformat": 4,
 "nbformat_minor": 4
}
