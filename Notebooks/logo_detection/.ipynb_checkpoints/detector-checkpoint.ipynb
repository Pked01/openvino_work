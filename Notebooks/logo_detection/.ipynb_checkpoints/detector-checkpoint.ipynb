{
 "cells": [
  {
   "cell_type": "code",
   "execution_count": 37,
   "metadata": {
    "execution": {
     "iopub.execute_input": "2021-02-26T13:35:13.199110Z",
     "iopub.status.busy": "2021-02-26T13:35:13.198864Z",
     "iopub.status.idle": "2021-02-26T13:35:13.202781Z",
     "shell.execute_reply": "2021-02-26T13:35:13.202118Z",
     "shell.execute_reply.started": "2021-02-26T13:35:13.199080Z"
    }
   },
   "outputs": [],
   "source": [
    "import cv2,os,time,glob\n",
    "os.sys.path.append('../utilities/')\n",
    "from datetime import datetime\n",
    "import numpy as np\n",
    "import IPython.display as Disp\n",
    "import support_utility_openvino\n",
    "import matplotlib.pyplot as plt\n",
    "import ipywidgets as widgets\n",
    "from shapely.geometry import Polygon,Point\n",
    "import pandas as pd"
   ]
  },
  {
   "cell_type": "code",
   "execution_count": 70,
   "metadata": {
    "execution": {
     "iopub.execute_input": "2021-02-27T06:38:05.251100Z",
     "iopub.status.busy": "2021-02-27T06:38:05.250227Z",
     "iopub.status.idle": "2021-02-27T06:38:05.290886Z",
     "shell.execute_reply": "2021-02-27T06:38:05.288534Z",
     "shell.execute_reply.started": "2021-02-27T06:38:05.250989Z"
    }
   },
   "outputs": [
    {
     "name": "stdout",
     "output_type": "stream",
     "text": [
      "Available Devices :  ['CPU', 'GNA', 'GPU']\n",
      "Available Devices :  ['CPU', 'GNA', 'GPU']\n"
     ]
    }
   ],
   "source": [
    "logo_detector = support_utility_openvino.async_infer()\n",
    "person_detector = support_utility_openvino.async_infer(ie_network=logo_detector.ie)"
   ]
  },
  {
   "cell_type": "code",
   "execution_count": 72,
   "metadata": {
    "execution": {
     "iopub.execute_input": "2021-02-27T06:38:41.835026Z",
     "iopub.status.busy": "2021-02-27T06:38:41.834665Z",
     "iopub.status.idle": "2021-02-27T06:38:42.459695Z",
     "shell.execute_reply": "2021-02-27T06:38:42.459179Z",
     "shell.execute_reply.started": "2021-02-27T06:38:41.834842Z"
    }
   },
   "outputs": [
    {
     "name": "stdout",
     "output_type": "stream",
     "text": [
      "OPTIMIZATION_CAPABILITIES for CPU:  ['FP32', 'FP16', 'INT8', 'BIN']\n",
      "model inputs : dict_keys(['image_tensor'])\n",
      "model outputs :  dict_keys(['DetectionOutput'])\n",
      "OPTIMIZATION_CAPABILITIES for CPU:  ['FP32', 'FP16', 'INT8', 'BIN']\n",
      "model inputs : dict_keys(['image'])\n",
      "model outputs :  dict_keys(['detection_out'])\n"
     ]
    }
   ],
   "source": [
    "logo_detector.load_model(\"/home/prateek/shared_space/useful_models/logos/ssd_inception/openvino_model/frozen_inference_graph.xml\",\"CPU\")\n",
    "person_detector.load_model(\"/home/prateek/shared_space/useful_models/openvino/person-detection-0202/FP32/person-detection-0202.xml\",\"CPU\")"
   ]
  },
  {
   "cell_type": "code",
   "execution_count": 48,
   "metadata": {
    "execution": {
     "iopub.execute_input": "2021-02-27T06:20:39.173617Z",
     "iopub.status.busy": "2021-02-27T06:20:39.173413Z",
     "iopub.status.idle": "2021-02-27T06:20:39.176211Z",
     "shell.execute_reply": "2021-02-27T06:20:39.175810Z",
     "shell.execute_reply.started": "2021-02-27T06:20:39.173592Z"
    }
   },
   "outputs": [],
   "source": [
    "output_support = support_utility_openvino.create_plot()"
   ]
  },
  {
   "cell_type": "code",
   "execution_count": 49,
   "metadata": {
    "execution": {
     "iopub.execute_input": "2021-02-27T06:20:45.175377Z",
     "iopub.status.busy": "2021-02-27T06:20:45.175152Z",
     "iopub.status.idle": "2021-02-27T06:20:45.182586Z",
     "shell.execute_reply": "2021-02-27T06:20:45.181996Z",
     "shell.execute_reply.started": "2021-02-27T06:20:45.175354Z"
    }
   },
   "outputs": [],
   "source": [
    "data = pd.read_csv(\"/home/prateek/shared_space/flickr_logos_27_dataset/flickr_logos_27_dataset_training_set_annotation.txt\",sep=\" \",header=None)\n",
    "labels = data[1].unique()"
   ]
  },
  {
   "cell_type": "code",
   "execution_count": 68,
   "metadata": {
    "execution": {
     "iopub.execute_input": "2021-02-27T06:31:21.184540Z",
     "iopub.status.busy": "2021-02-27T06:31:21.183664Z",
     "iopub.status.idle": "2021-02-27T06:31:21.189279Z",
     "shell.execute_reply": "2021-02-27T06:31:21.188733Z",
     "shell.execute_reply.started": "2021-02-27T06:31:21.184415Z"
    }
   },
   "outputs": [],
   "source": [
    "images = glob.glob(\"sample_images/*\")"
   ]
  },
  {
   "cell_type": "code",
   "execution_count": 78,
   "metadata": {
    "execution": {
     "iopub.execute_input": "2021-02-27T07:03:33.262715Z",
     "iopub.status.busy": "2021-02-27T07:03:33.261801Z",
     "iopub.status.idle": "2021-02-27T07:03:40.473297Z",
     "shell.execute_reply": "2021-02-27T07:03:40.471102Z",
     "shell.execute_reply.started": "2021-02-27T07:03:33.262599Z"
    }
   },
   "outputs": [],
   "source": [
    "logo_detector.reinit_model()\n",
    "for im_path in images:\n",
    "    img = cv2.imread(im_path)\n",
    "    res = logo_detector.predict_sync(img)\n",
    "    frame_op = output_support.label_obj_detection(img,res[0],labels=labels,thresh=.1)\n",
    "    cv2.imshow(\"preview\",frame_op)\n",
    "    k = cv2.waitKey(0)\n",
    "    cv2.imwrite(os.path.basename(im_path)+\"_output.jpg\",frame_op)\n",
    "cv2.destroyAllWindows()\n",
    "    "
   ]
  },
  {
   "cell_type": "code",
   "execution_count": 77,
   "metadata": {
    "execution": {
     "iopub.execute_input": "2021-02-27T06:54:32.226020Z",
     "iopub.status.busy": "2021-02-27T06:54:32.225140Z",
     "iopub.status.idle": "2021-02-27T06:58:10.677738Z",
     "shell.execute_reply": "2021-02-27T06:58:10.676417Z",
     "shell.execute_reply.started": "2021-02-27T06:54:32.225900Z"
    }
   },
   "outputs": [],
   "source": [
    "channel = \"/media/prateek/shared_space/useful_vids/general/Top 5 WORST Delivery Drivers that Damaged Packages-7p497WsUEqA.mp4\"\n",
    "cap = cv2.VideoCapture(channel)\n",
    "cap.set(1,0)\n",
    "cv2.namedWindow(\"preview\",cv2.WINDOW_NORMAL)\n",
    "person_detector.reinit_model()\n",
    "thresh = .4\n",
    "\n",
    "while True:\n",
    "    t0 = time.time()\n",
    "    ret,frame = cap.read()\n",
    "#     frame = rotate_image(frame,-10)\n",
    "    person_detector.predict(frame)\n",
    "    if person_detector.frame_processed>=person_detector.num_requests:\n",
    "        frame,attr,res = person_detector.postprocess_op()\n",
    "        person,bboxes = output_support.trim_frame_with_result(frame,res[0],threshold=thresh)## person will go to bag model \n",
    "\n",
    "        frame_op = output_support.label_obj_detection(frame,res[0],labels=[\"person\"],thresh=thresh)\n",
    "        t1 = time.time()\n",
    "        frame_op = output_support.write_text(frame_op,\"FPS= %.4s\"%(1/(t1-t0)),text_color=(0,0,0))\n",
    "\n",
    "        cv2.imshow(\"preview\",cv2.resize(frame_op,(1920,1080)))\n",
    "        k = cv2.waitKey(1)\n",
    "        if k==ord('q'):\n",
    "            break\n",
    "\n",
    "cv2.destroyAllWindows()\n",
    "cap.release()\n",
    "        \n",
    "\n",
    "        \n",
    "    \n",
    "    "
   ]
  },
  {
   "cell_type": "markdown",
   "metadata": {},
   "source": [
    "Internals of neural network is not easy to understand, but to create an autonomous system, multiple of such neural network have to be combined. \n",
    "What's the best way to fine tune such large meta/multi task learning?"
   ]
  }
 ],
 "metadata": {
  "kernelspec": {
   "display_name": "cv_p36",
   "language": "python",
   "name": "cv_p36"
  },
  "language_info": {
   "codemirror_mode": {
    "name": "ipython",
    "version": 3
   },
   "file_extension": ".py",
   "mimetype": "text/x-python",
   "name": "python",
   "nbconvert_exporter": "python",
   "pygments_lexer": "ipython3",
   "version": "3.6.8"
  },
  "widgets": {
   "application/vnd.jupyter.widget-state+json": {
    "state": {},
    "version_major": 2,
    "version_minor": 0
   }
  }
 },
 "nbformat": 4,
 "nbformat_minor": 4
}
