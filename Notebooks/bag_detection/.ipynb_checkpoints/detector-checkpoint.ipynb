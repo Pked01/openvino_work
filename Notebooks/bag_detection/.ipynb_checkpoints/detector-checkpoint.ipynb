{
 "cells": [
  {
   "cell_type": "code",
   "execution_count": 3,
   "metadata": {
    "execution": {
     "iopub.execute_input": "2021-01-11T10:42:52.059670Z",
     "iopub.status.busy": "2021-01-11T10:42:52.059367Z",
     "iopub.status.idle": "2021-01-11T10:42:52.070190Z",
     "shell.execute_reply": "2021-01-11T10:42:52.069468Z",
     "shell.execute_reply.started": "2021-01-11T10:42:52.059634Z"
    }
   },
   "outputs": [],
   "source": [
    "import cv2,os,time\n",
    "os.sys.path.append('../utilities/')\n",
    "from datetime import datetime\n",
    "import numpy as np\n",
    "import IPython.display as Disp\n",
    "import support_utility_openvino\n",
    "import matplotlib.pyplot as plt\n",
    "import ipywidgets as widgets\n",
    "from shapely.geometry import Polygon,Point\n"
   ]
  },
  {
   "cell_type": "code",
   "execution_count": 5,
   "metadata": {
    "execution": {
     "iopub.execute_input": "2021-01-11T10:43:18.157518Z",
     "iopub.status.busy": "2021-01-11T10:43:18.157180Z",
     "iopub.status.idle": "2021-01-11T10:43:18.163450Z",
     "shell.execute_reply": "2021-01-11T10:43:18.162907Z",
     "shell.execute_reply.started": "2021-01-11T10:43:18.157425Z"
    }
   },
   "outputs": [
    {
     "name": "stdout",
     "output_type": "stream",
     "text": [
      "Available Devices :  ['CPU', 'GNA', 'GPU']\n"
     ]
    }
   ],
   "source": [
    "bag_detector = support_utility_openvino.async_infer()\n"
   ]
  },
  {
   "cell_type": "code",
   "execution_count": 6,
   "metadata": {
    "execution": {
     "iopub.execute_input": "2021-01-11T10:44:07.827834Z",
     "iopub.status.busy": "2021-01-11T10:44:07.827323Z",
     "iopub.status.idle": "2021-01-11T10:44:08.205416Z",
     "shell.execute_reply": "2021-01-11T10:44:08.204908Z",
     "shell.execute_reply.started": "2021-01-11T10:44:07.827795Z"
    }
   },
   "outputs": [
    {
     "name": "stdout",
     "output_type": "stream",
     "text": [
      "OPTIMIZATION_CAPABILITIES for CPU:  ['FP32', 'FP16', 'INT8', 'BIN']\n",
      "model inputs : dict_keys(['image_tensor'])\n",
      "model outputs :  dict_keys(['DetectionOutput'])\n"
     ]
    }
   ],
   "source": [
    "bag_detector.load_model(\"/home/prateek/shared_space/useful_models/bag_counter/v4/openvino_model/frozen_inference_graph.xml\",\"CPU\")"
   ]
  },
  {
   "cell_type": "code",
   "execution_count": 7,
   "metadata": {
    "execution": {
     "iopub.execute_input": "2021-01-11T10:44:10.789150Z",
     "iopub.status.busy": "2021-01-11T10:44:10.788934Z",
     "iopub.status.idle": "2021-01-11T10:44:10.792454Z",
     "shell.execute_reply": "2021-01-11T10:44:10.791613Z",
     "shell.execute_reply.started": "2021-01-11T10:44:10.789115Z"
    }
   },
   "outputs": [],
   "source": [
    "output_support = support_utility_openvino.create_plot()"
   ]
  },
  {
   "cell_type": "code",
   "execution_count": null,
   "metadata": {},
   "outputs": [],
   "source": [
    "from tracker_1 import CentroidTracker\n",
    "ct= CentroidTracker(maxDistance=100,minAppeared=1, maxDisappeared=5)"
   ]
  },
  {
   "cell_type": "code",
   "execution_count": 24,
   "metadata": {
    "execution": {
     "iopub.execute_input": "2021-01-11T15:04:10.690104Z",
     "iopub.status.busy": "2021-01-11T15:04:10.689915Z",
     "iopub.status.idle": "2021-01-11T15:04:56.179589Z",
     "shell.execute_reply": "2021-01-11T15:04:56.176912Z",
     "shell.execute_reply.started": "2021-01-11T15:04:10.690078Z"
    }
   },
   "outputs": [],
   "source": [
    "channel = \"/media/prateek/shared_space/useful_vids/bag_Counter/IP Camera28_10.5.209.71_10.5.209.71_20201014070913_20201014074028_10207409.mp4\"\n",
    "cap = cv2.VideoCapture(channel)\n",
    "cap.set(1,13000)\n",
    "cv2.namedWindow(\"preview\",cv2.WINDOW_NORMAL)\n",
    "bag_detector.reinit_model()\n",
    "\n",
    "while True:\n",
    "    t0 = time.time()\n",
    "    ret,frame = cap.read()\n",
    "    bag_detector.predict(frame)\n",
    "    if bag_detector.frame_processed>=bag_detector.num_requests:\n",
    "        frame,attr,res = bag_detector.postprocess_op()\n",
    "        \n",
    "        objects = ct.update(bboxes)\n",
    "        bags,bboxes = output_support.trim_frame_with_result(frame,res[0],threshold=thresh)\n",
    "        # loop over the tracked objects\n",
    "        for (objectID, centroid) in objects.items():\n",
    "            # draw both the ID of the object and the centroid of the\n",
    "            # object on the output frame\n",
    "            text = \"ID {}\".format(objectID)\n",
    "            cv2.putText(frame_op, text, (centroid[0] - 10, centroid[1] - 10),\n",
    "                cv2.FONT_HERSHEY_SIMPLEX, 0.5, (0, 255, 0), 2)\n",
    "            cv2.circle(frame_op, (centroid[0], centroid[1]), 4, (0, 255, 0), -1)\n",
    "\n",
    "        frame_op = output_support.label_obj_detection(frame,res[0],labels=[\"bags\"])\n",
    "        t1 = time.time()\n",
    "        frame_op = output_support.write_text(frame_op,\"FPS= %.4s\"%(1/(t1-t0)),text_color=(0,0,0))\n",
    "        cv2.imshow(\"preview\",cv2.resize(frame_op,(1920,1080)))\n",
    "        k = cv2.waitKey(1)\n",
    "        if k==ord('q'):\n",
    "            break\n",
    "cv2.destroyAllWindows()\n",
    "cap.release()\n",
    "        \n",
    "\n",
    "        \n",
    "    \n",
    "    "
   ]
  }
 ],
 "metadata": {
  "kernelspec": {
   "display_name": "cv_p36",
   "language": "python",
   "name": "cv_p36"
  },
  "language_info": {
   "codemirror_mode": {
    "name": "ipython",
    "version": 3
   },
   "file_extension": ".py",
   "mimetype": "text/x-python",
   "name": "python",
   "nbconvert_exporter": "python",
   "pygments_lexer": "ipython3",
   "version": "3.6.8"
  },
  "widgets": {
   "application/vnd.jupyter.widget-state+json": {
    "state": {},
    "version_major": 2,
    "version_minor": 0
   }
  }
 },
 "nbformat": 4,
 "nbformat_minor": 4
}
