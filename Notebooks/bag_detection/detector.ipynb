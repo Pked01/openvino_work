{
 "cells": [
  {
   "cell_type": "code",
   "execution_count": 1,
   "metadata": {
    "execution": {
     "iopub.execute_input": "2021-09-27T06:27:41.529930Z",
     "iopub.status.busy": "2021-09-27T06:27:41.529295Z",
     "iopub.status.idle": "2021-09-27T06:27:42.433644Z",
     "shell.execute_reply": "2021-09-27T06:27:42.433047Z",
     "shell.execute_reply.started": "2021-09-27T06:27:41.529898Z"
    },
    "tags": []
   },
   "outputs": [],
   "source": [
    "import cv2,os,time\n",
    "os.sys.path.append('../utilities/')\n",
    "from datetime import datetime\n",
    "import numpy as np\n",
    "import IPython.display as Disp\n",
    "import support_utility_openvino\n",
    "import matplotlib.pyplot as plt\n",
    "import ipywidgets as widgets\n",
    "from shapely.geometry import Polygon,Point\n"
   ]
  },
  {
   "cell_type": "code",
   "execution_count": 2,
   "metadata": {
    "execution": {
     "iopub.execute_input": "2021-09-27T06:27:42.435030Z",
     "iopub.status.busy": "2021-09-27T06:27:42.434762Z",
     "iopub.status.idle": "2021-09-27T06:27:42.625519Z",
     "shell.execute_reply": "2021-09-27T06:27:42.624854Z",
     "shell.execute_reply.started": "2021-09-27T06:27:42.434994Z"
    },
    "tags": []
   },
   "outputs": [
    {
     "name": "stdout",
     "output_type": "stream",
     "text": [
      "Available Devices :  ['CPU', 'GNA', 'GPU']\n"
     ]
    }
   ],
   "source": [
    "bag_detector = support_utility_openvino.async_infer()\n"
   ]
  },
  {
   "cell_type": "code",
   "execution_count": 4,
   "metadata": {
    "execution": {
     "iopub.execute_input": "2021-09-27T06:27:55.915204Z",
     "iopub.status.busy": "2021-09-27T06:27:55.914926Z",
     "iopub.status.idle": "2021-09-27T06:27:56.146431Z",
     "shell.execute_reply": "2021-09-27T06:27:56.145890Z",
     "shell.execute_reply.started": "2021-09-27T06:27:55.915161Z"
    },
    "tags": []
   },
   "outputs": [
    {
     "name": "stdout",
     "output_type": "stream",
     "text": [
      "OPTIMIZATION_CAPABILITIES for CPU:  ['FP32', 'FP16', 'INT8', 'BIN']\n",
      "model inputs : dict_keys(['image_tensor'])\n",
      "model outputs :  dict_keys(['DetectionOutput'])\n"
     ]
    }
   ],
   "source": [
    "bag_detector.load_model(\"/home/prateek/shared_space/DATA_N_MODELS/useful_models/bag_counter/v4/openvino_model/frozen_inference_graph.xml\",\"CPU\")"
   ]
  },
  {
   "cell_type": "code",
   "execution_count": 7,
   "metadata": {
    "execution": {
     "iopub.execute_input": "2021-09-27T07:09:30.572735Z",
     "iopub.status.busy": "2021-09-27T07:09:30.572296Z",
     "iopub.status.idle": "2021-09-27T07:09:30.576364Z",
     "shell.execute_reply": "2021-09-27T07:09:30.575405Z",
     "shell.execute_reply.started": "2021-09-27T07:09:30.572601Z"
    },
    "tags": []
   },
   "outputs": [],
   "source": [
    "output_support = support_utility_openvino.create_plot()"
   ]
  },
  {
   "cell_type": "code",
   "execution_count": 8,
   "metadata": {
    "execution": {
     "iopub.execute_input": "2021-09-27T07:09:30.846021Z",
     "iopub.status.busy": "2021-09-27T07:09:30.845591Z",
     "iopub.status.idle": "2021-09-27T07:09:31.102947Z",
     "shell.execute_reply": "2021-09-27T07:09:31.102336Z",
     "shell.execute_reply.started": "2021-09-27T07:09:30.845902Z"
    },
    "tags": []
   },
   "outputs": [],
   "source": [
    "from tracker_2 import CentroidTracker\n",
    "ct= CentroidTracker(maxDistance=300,minAppeared=5, maxDisappeared=10)"
   ]
  },
  {
   "cell_type": "code",
   "execution_count": 9,
   "metadata": {
    "execution": {
     "iopub.execute_input": "2021-09-27T07:09:31.552227Z",
     "iopub.status.busy": "2021-09-27T07:09:31.551871Z",
     "iopub.status.idle": "2021-09-27T07:09:31.556860Z",
     "shell.execute_reply": "2021-09-27T07:09:31.556297Z",
     "shell.execute_reply.started": "2021-09-27T07:09:31.552186Z"
    },
    "tags": []
   },
   "outputs": [],
   "source": [
    "def rotate_image(image, angle):\n",
    "    image_center = tuple(np.array(image.shape[1::-1]) / 2)\n",
    "    rot_mat = cv2.getRotationMatrix2D(image_center, angle, 1.0)\n",
    "    result = cv2.warpAffine(image, rot_mat, image.shape[1::-1], flags=cv2.INTER_LINEAR)\n",
    "    return result"
   ]
  },
  {
   "cell_type": "code",
   "execution_count": 14,
   "metadata": {
    "execution": {
     "iopub.execute_input": "2021-09-27T07:12:24.987956Z",
     "iopub.status.busy": "2021-09-27T07:12:24.987640Z",
     "iopub.status.idle": "2021-09-27T07:12:51.181544Z",
     "shell.execute_reply": "2021-09-27T07:12:51.178631Z",
     "shell.execute_reply.started": "2021-09-27T07:12:24.987919Z"
    },
    "tags": []
   },
   "outputs": [],
   "source": [
    "channel = \"/media/prateek/shared_space/DATA_N_MODELS/useful_vids/bag_Counter/2021_01_25/TL1_Noon.mp4\"\n",
    "cap = cv2.VideoCapture(channel)\n",
    "cap.set(1,3000)\n",
    "cv2.namedWindow(\"preview\",cv2.WINDOW_NORMAL)\n",
    "bag_detector.reinit_model()\n",
    "thresh = .2\n",
    "counting_line_location = .4\n",
    "min_appeared = 10\n",
    "write_video = False\n",
    "total_count = 0\n",
    "if write_video:\n",
    "    fourcc = cv2.VideoWriter_fourcc(*'mp4v')\n",
    "    out = cv2.VideoWriter(\"../output_vids/bag_counter/\"+os.path.basename(channel)+\"_output.mp4\",fourcc, 20, (int(cap.get(3)),int(cap.get(4))))\n",
    "    \n",
    "while True:\n",
    "    t0 = time.time()\n",
    "    ret,frame = cap.read()\n",
    "#     frame = rotate_image(frame,-10)\n",
    "    bag_detector.predict(frame)\n",
    "    if bag_detector.frame_processed>=bag_detector.num_requests:\n",
    "        frame,attr,res = bag_detector.postprocess_op()\n",
    "        bags,bboxes = output_support.trim_frame_with_result(frame,res[0],threshold=thresh)\n",
    "        objects = ct.update(bboxes)\n",
    "\n",
    "        # loop over the tracked objects\n",
    "        for idx,(objectID, centroid) in enumerate(objects.items()):\n",
    "            appeared_frames = ct.appeared[objectID] \n",
    "            incremented = False\n",
    "            if not ct.count_dict[objectID]:\n",
    "                if centroid[0] > frame.shape[1]*counting_line_location and appeared_frames>min_appeared:\n",
    "                    total_count+=1\n",
    "                    ct.count_dict[objectID] = True\n",
    "                    incremented = True\n",
    "                # draw both the ID of the object and the centroid of the\n",
    "            # object on the output frame\n",
    "            text = \"ID {}\".format(objectID)\n",
    "            frame_op = cv2.putText(frame, text, (centroid[0] - 10, centroid[1] - 10),cv2.FONT_HERSHEY_SIMPLEX, 2, (0, 255, 0), 2)\n",
    "            frame_op = cv2.circle(frame_op, (centroid[0], centroid[1]), 4, (0, 255, 0), -1)\n",
    "\n",
    "        frame_op = output_support.label_obj_detection(frame,res[0],labels=[\"bags\"],thresh=thresh)\n",
    "        t1 = time.time()\n",
    "        frame_op = output_support.write_text(frame_op,\"FPS= %.4s\"%(1/(t1-t0)),text_color=(0,0,0))\n",
    "        frame_op = output_support.write_text(frame_op,\"Count = %s\"%total_count,text_color=(0,0,255),location=\"top-right\")\n",
    "\n",
    "        if write_video:\n",
    "            out.write(frame_op)\n",
    "        cv2.imshow(\"preview\",cv2.resize(frame_op,(1920,1080)))\n",
    "        k = cv2.waitKey(1)\n",
    "        if k==ord('q'):\n",
    "            break\n",
    "if write_video:\n",
    "    out.release()\n",
    "cv2.destroyAllWindows()\n",
    "cap.release()\n",
    "        \n",
    "\n",
    "        \n",
    "    \n",
    "    "
   ]
  },
  {
   "cell_type": "markdown",
   "metadata": {},
   "source": [
    "Internals of neural network is not easy to understand, but to create an autonomous system, multiple of such neural network have to be combined. \n",
    "What's the best way to fine tune such large meta/multi task learning?"
   ]
  }
 ],
 "metadata": {
  "kernelspec": {
   "display_name": "openvino",
   "language": "python",
   "name": "openvino"
  },
  "language_info": {
   "codemirror_mode": {
    "name": "ipython",
    "version": 3
   },
   "file_extension": ".py",
   "mimetype": "text/x-python",
   "name": "python",
   "nbconvert_exporter": "python",
   "pygments_lexer": "ipython3",
   "version": "3.6.8"
  },
  "widgets": {
   "application/vnd.jupyter.widget-state+json": {
    "state": {},
    "version_major": 2,
    "version_minor": 0
   }
  }
 },
 "nbformat": 4,
 "nbformat_minor": 4
}
