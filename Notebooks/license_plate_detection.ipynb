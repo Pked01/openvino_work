{
 "cells": [
  {
   "cell_type": "code",
   "execution_count": 4,
   "metadata": {
    "ExecuteTime": {
     "end_time": "2019-09-09T13:37:28.890635Z",
     "start_time": "2019-09-09T13:37:28.877870Z"
    }
   },
   "outputs": [],
   "source": [
    "from __future__ import print_function\n",
    "import sys\n",
    "import os\n",
    "from argparse import ArgumentParser, SUPPRESS\n",
    "import cv2,threading\n",
    "import time,datetime\n",
    "import logging as log\n",
    "from openvino.inference_engine import IENetwork, IEPlugin\n",
    "import numpy as np\n",
    "from multiprocessing import Process,Pool\n"
   ]
  },
  {
   "cell_type": "code",
   "execution_count": 5,
   "metadata": {
    "ExecuteTime": {
     "end_time": "2019-09-09T13:37:29.281401Z",
     "start_time": "2019-09-09T13:37:29.274636Z"
    }
   },
   "outputs": [],
   "source": [
    "m_lpd = '../model_downloader/Security/object_detection/barrier/0106/dldt/FP32/vehicle-license-plate-detection-barrier-0106.xml'\n",
    "m_attr = '../model_downloader/Security/object_attributes/vehicle/resnet10_update_1/dldt/FP32/vehicle-attributes-recognition-barrier-0039.xml'\n",
    "m_text = '../model_downloader/Retail/text_recognition/bilstm_crnn_bilstm_decoder/0012/dldt/FP32/text-recognition-0012.xml'\n",
    "#m_lpd = '../model_files/vehicle_license_plate/mssd512_voc.xml'\n",
    "\n",
    "channel = '../dataset/china_number_plate_detection.mp4'\n",
    "cpu_extension = '../build_samples/intel64/Release/lib/libcpu_extension.so'\n",
    "device = 'CPU'\n"
   ]
  },
  {
   "cell_type": "code",
   "execution_count": 7,
   "metadata": {
    "ExecuteTime": {
     "end_time": "2019-09-09T13:38:17.900367Z",
     "start_time": "2019-09-09T13:38:17.844784Z"
    }
   },
   "outputs": [],
   "source": [
    "# Plugin initialization for specified device and load extensions library if specified\n",
    "log.info(\"Initializing plugin for {} device...\".format('CPU'))\n",
    "plugin = IEPlugin(device='CPU')\n",
    "if cpu_extension and 'CPU' in device:\n",
    "    plugin.add_cpu_extension(cpu_extension)\n",
    "# Read IR\n",
    "log.info(\"Reading IR...\")\n",
    "m_lpd_net = IENetwork(model=m_lpd, weights=os.path.splitext(m_lpd)[0] + \".bin\")\n",
    "m_attr_net = IENetwork(model=m_attr, weights=os.path.splitext(m_attr)[0] + \".bin\")\n",
    "m_text_net = IENetwork(model=m_text, weights=os.path.splitext(m_text)[0] + \".bin\")"
   ]
  },
  {
   "cell_type": "code",
   "execution_count": 8,
   "metadata": {
    "ExecuteTime": {
     "end_time": "2019-09-09T13:38:19.018516Z",
     "start_time": "2019-09-09T13:38:18.981878Z"
    }
   },
   "outputs": [],
   "source": [
    "\n",
    "if device == \"CPU\":\n",
    "    for net in [m_lpd_net,m_attr_net,m_text_net]:\n",
    "        supported_layers = plugin.get_supported_layers(net)\n",
    "        not_supported_layers = [l for l in net.layers.keys() if l not in supported_layers]\n",
    "        if len(not_supported_layers) != 0:\n",
    "            log.error(\"Following layers are not supported by the plugin for specified device {}:\\n {}\".\n",
    "                      format(plugin.device, ', '.join(not_supported_layers)))\n",
    "            log.error(\"Please try to specify cpu extensions library path in demo's command line parameters using -l \"\n",
    "                      \"or --cpu_extension command line argument\")\n",
    "            sys.exit(1)"
   ]
  },
  {
   "cell_type": "code",
   "execution_count": 9,
   "metadata": {
    "ExecuteTime": {
     "end_time": "2019-09-09T13:38:20.260383Z",
     "start_time": "2019-09-09T13:38:19.673802Z"
    }
   },
   "outputs": [
    {
     "name": "stdout",
     "output_type": "stream",
     "text": [
      "1 300 3 300\n",
      "1 72 3 72\n",
      "1 32 1 120\n"
     ]
    }
   ],
   "source": [
    "input_blob = []\n",
    "out_blob = []\n",
    "exec_net = []\n",
    "for i,net in enumerate([m_lpd_net,m_attr_net,m_text_net]):\n",
    "    # assert len(net.inputs.keys()) == 1, \"Demo supports only single input topologies\"\n",
    "    # assert len(net.outputs) == 1, \"Demo supports only single output topologies\"\n",
    "    input_blob.append(next(iter(net.inputs)))\n",
    "    out_blob.append(next(iter(net.outputs)))\n",
    "    log.info(\"Loading IR to the plugin...\")\n",
    "    exec_net.append(plugin.load(network=net, num_requests=16))\n",
    "    # Read and pre-process input image\n",
    "    n, c, h, w = net.inputs[input_blob[i]].shape\n",
    "    print(n,h,c,w)\n"
   ]
  },
  {
   "cell_type": "code",
   "execution_count": 10,
   "metadata": {
    "ExecuteTime": {
     "end_time": "2019-09-09T13:38:20.863292Z",
     "start_time": "2019-09-09T13:38:20.849202Z"
    }
   },
   "outputs": [],
   "source": [
    "def generate_vd(input_frame,n=1,c=3,w=300,h=300,thresh=.05):\n",
    "    op_frame = cv2.resize(input_frame,(w,h)).transpose((2, 0, 1)).reshape(n,c,h,w) \n",
    "    ### we can add multiple requests and just enumerate request ids\n",
    "    exec_net[0].start_async(request_id=1, inputs={input_blob[0]: op_frame})\n",
    "    if exec_net[0].requests[1].wait(-1)==0:\n",
    "        res = exec_net[0].requests[1].outputs[out_blob[0]]\n",
    "    res_filt =  res[np.where(res[:,:,:,2]>thresh)]\n",
    "    res_filt = res_filt[np.min(res_filt,axis=1)>=0]\n",
    "    return res_filt\n",
    "    "
   ]
  },
  {
   "cell_type": "code",
   "execution_count": 11,
   "metadata": {
    "ExecuteTime": {
     "end_time": "2019-09-09T13:38:21.456470Z",
     "start_time": "2019-09-09T13:38:21.429783Z"
    }
   },
   "outputs": [],
   "source": [
    "def generate_attr(input_frame,bboxes,n=1,c=3,w=72,h=72):\n",
    "    \"\"\"\n",
    "        labels_map = {1:'vehicle',2:'license_plate'}\n",
    "        Supported colors : White, gray, yellow, red, green, blue, black\n",
    "        Supported types : Car, bus, truck, van\n",
    "    \"\"\"\n",
    "    veh_color = ['white', 'gray', 'yellow', 'red', 'green', 'blue', 'black']\n",
    "    veh_type = ['car','bus','truck','van']\n",
    "    res = []\n",
    "    vehicles = [cv2.resize(input_frame[b[1]:b[3],b[0]:b[2]],(w,h)).transpose((2, 0, 1)).reshape(n,c,h,w) for b in bboxes]\n",
    "    ### we can add multiple requests and just enumerate request ids\n",
    "    [exec_net[1].start_async(request_id=cursor_id, inputs={input_blob[1]: vehicle}) for cursor_id,vehicle in enumerate(vehicles)]\n",
    "    for i in range(len(vehicles)):\n",
    "        if exec_net[1]. requests[i].wait(-1)==0:\n",
    "            res.append(exec_net[1].requests[i].outputs)\n",
    "\n",
    "    return [(veh_type[np.argmax(r['type'])],veh_color[np.argmax(r['color'])]) for r in res]\n",
    "    "
   ]
  },
  {
   "cell_type": "code",
   "execution_count": 20,
   "metadata": {
    "ExecuteTime": {
     "end_time": "2019-09-09T13:40:01.535502Z",
     "start_time": "2019-09-09T13:40:01.502885Z"
    }
   },
   "outputs": [],
   "source": [
    "def generate_plot(in_frame,thresh = .05):\n",
    "    \"\"\"\n",
    "    input_frame\n",
    "    labels_map = {1:'vehicle',2:'license_plate'}\n",
    "\n",
    "    \"\"\"\n",
    "    ### all detect and plot should be called sequently \n",
    "    res_filt = generate_vd(in_frame,thresh=thresh)\n",
    "    initial_h,initial_w = in_frame.shape[:2]\n",
    "    bboxes = np.multiply([[initial_w,initial_h,initial_w,initial_h]],(res_filt[:,3:])).astype('int')\n",
    "    veh_idx = np.where(res_filt[:,1]==1)[0]\n",
    "\n",
    "    veh_color = (255,255,255)\n",
    "    attr_color = (0,0,255)\n",
    "    license_plate = (3,244,252)\n",
    "    if len(bboxes)>0:\n",
    "        type_color = generate_attr(in_frame,bboxes[veh_idx])\n",
    "        for idx,b in enumerate(bboxes):\n",
    "            if idx in veh_idx:\n",
    "#                 print(idx,veh_idx)\n",
    "                caption = ' , '.join(type_color[idx])\n",
    "                cv2.rectangle(in_frame, (b[0], b[1]), (b[2], b[3]), veh_color, 2)\n",
    "                cv2.putText(frame, caption,\n",
    "                                    (b[0]+15, b[1] + 30),cv2.FONT_HERSHEY_COMPLEX, 0.8, attr_color, 1)\n",
    "            else:\n",
    "                cv2.rectangle(in_frame, (b[0], b[1]), (b[2], b[3]), license_plate, 2)\n",
    "               \n",
    "    return frame\n",
    "    \n",
    "    "
   ]
  },
  {
   "cell_type": "code",
   "execution_count": 21,
   "metadata": {
    "ExecuteTime": {
     "end_time": "2019-09-09T13:40:01.781597Z",
     "start_time": "2019-09-09T13:40:01.777989Z"
    }
   },
   "outputs": [],
   "source": [
    "channel = '../dataset/utcl/Raw_VideoData/RC/plant_gate/ch08_20190607135808.mp4'\n",
    "channel = '/home/prateek/Desktop/Video_Data/utcl/Raw_VideoData/AC/Factory Gate 2.asf'\n",
    "# channel = '../dataset/entry_gate.mp4'\n",
    "#channel = '../dataset/vehicle related/china_number_plate_detection.mp4'\n",
    "#channel = '../dataset/vehicle related/Factory_Gate_3.asf'\n",
    "#channel = '../dataset/vehicle related/indian_toll_gate.mp4'"
   ]
  },
  {
   "cell_type": "code",
   "execution_count": 23,
   "metadata": {
    "ExecuteTime": {
     "end_time": "2019-09-09T13:48:05.426884Z",
     "start_time": "2019-09-09T13:41:23.212313Z"
    }
   },
   "outputs": [],
   "source": [
    "\n",
    "cv2.namedWindow(\"Detection Results\",cv2.WINDOW_NORMAL)\n",
    "fd_thresh = .05\n",
    "write_video = True\n",
    "if write_video:\n",
    "    out = None\n",
    "# if labels:\n",
    "#     with open(labels, 'r') as f:\n",
    "#         labels_map = [x.strip() for x in f]\n",
    "# else:\n",
    "#     labels_map = None\n",
    "\n",
    "cap = cv2.VideoCapture(channel)\n",
    "retry_connect = 10\n",
    "cur_request_id = 0\n",
    "fps_fd = []\n",
    "initial_h,initial_w = cap.get(3),cap.get(4)\n",
    "\n",
    "while (cap.isOpened()):\n",
    "    fps_fd = fps_fd[-100:]\n",
    "    render_start = time.time()\n",
    "    ret,frame  = cap.read()\n",
    "\n",
    "    if not cap.isOpened():\n",
    "        cap = cv2.VideoCapture(channel)\n",
    "        retry_connect-=1\n",
    "        if retry_connect<0:\n",
    "            break\n",
    "    else:\n",
    "        if not ret:\n",
    "            break\n",
    "    \n",
    "    frame = generate_plot(frame)\n",
    "    \n",
    "    render_time = time.time() - render_start\n",
    "    fps_fd.append(1/render_time)\n",
    "    cv2.putText(frame, \"Inference FPS  detection: {:.3f} \".format(np.mean(fps_fd)), (10, int(frame.shape[0] - 100)), cv2.FONT_HERSHEY_COMPLEX, 0.5,\n",
    "            (10, 10, 200), 1)\n",
    "    #\n",
    "    if write_video:\n",
    "        if out is None:\n",
    "            out = cv2.VideoWriter('../output_vids/'+datetime.datetime.now().strftime(\"%Y_%m_%d_%H_%M_%S_\")+os.path.basename(channel)+'_out.mp4',cv2.VideoWriter_fourcc('M','J','P','G'), 20, (frame.shape[1],frame.shape[0]))\n",
    "        out.write(frame)\n",
    "        \n",
    "    cv2.imshow(\"Detection Results\", frame)\n",
    "    key = cv2.waitKey(1)\n",
    "\n",
    "    if key == 27:\n",
    "        break\n",
    "if write_video:\n",
    "    out.release()\n",
    "cv2.destroyAllWindows()\n",
    "cap.release()\n",
    "    \n",
    "        \n",
    "    "
   ]
  },
  {
   "cell_type": "code",
   "execution_count": null,
   "metadata": {},
   "outputs": [],
   "source": []
  }
 ],
 "metadata": {
  "hide_input": false,
  "kernelspec": {
   "display_name": "openvino",
   "language": "python",
   "name": "openvino"
  },
  "language_info": {
   "codemirror_mode": {
    "name": "ipython",
    "version": 3
   },
   "file_extension": ".py",
   "mimetype": "text/x-python",
   "name": "python",
   "nbconvert_exporter": "python",
   "pygments_lexer": "ipython3",
   "version": "3.6.8"
  }
 },
 "nbformat": 4,
 "nbformat_minor": 2
}
