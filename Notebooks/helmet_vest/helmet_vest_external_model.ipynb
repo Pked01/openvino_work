{
 "cells": [
  {
   "cell_type": "code",
   "execution_count": 1,
   "metadata": {
    "ExecuteTime": {
     "end_time": "2020-02-03T05:16:33.652611Z",
     "start_time": "2020-02-03T05:16:33.647358Z"
    }
   },
   "outputs": [],
   "source": [
    "model_path = \"/media/prateek/prateek_space/model_files/openvino_model/external_data_hat_person_ssd_inception_v2_coco_2018_01_28/converted/iter1/frozen_inference_graph.xml\"\n",
    "cpu_extension = '../build_samples/intel64/Release/lib/libcpu_extension.so'\n",
    "device = 'CPU'"
   ]
  },
  {
   "cell_type": "code",
   "execution_count": 2,
   "metadata": {
    "ExecuteTime": {
     "end_time": "2020-02-03T05:16:34.390033Z",
     "start_time": "2020-02-03T05:16:34.005839Z"
    }
   },
   "outputs": [],
   "source": [
    "import time,cv2,os,glob\n",
    "from datetime import datetime\n",
    "import numpy as np\n",
    "import IPython.display as Disp\n",
    "import support_utility_openvino"
   ]
  },
  {
   "cell_type": "code",
   "execution_count": 3,
   "metadata": {
    "ExecuteTime": {
     "end_time": "2020-02-03T05:16:35.150914Z",
     "start_time": "2020-02-03T05:16:34.719518Z"
    }
   },
   "outputs": [
    {
     "name": "stdout",
     "output_type": "stream",
     "text": [
      "loading sample element\n"
     ]
    }
   ],
   "source": [
    "helmet_detection_model = support_utility_openvino.async_infer(4)\n",
    "helmet_detection_model.load_model(cpu_exension_path=cpu_extension,model_path=model_path,device=device)\n",
    "output_support = support_utility_openvino.create_plot()"
   ]
  },
  {
   "cell_type": "code",
   "execution_count": 19,
   "metadata": {
    "ExecuteTime": {
     "end_time": "2020-02-05T06:22:46.567902Z",
     "start_time": "2020-02-05T06:22:42.304841Z"
    }
   },
   "outputs": [],
   "source": [
    "channel  = '/media/prateek/prateek_space/dataset/lab_camera_data/vlc-record-2019-02-01-17h41m18s-vlc-record-2019-02-01-15h23m10s-.mp4'\n",
    "channel = 0\n",
    "fps = []\n",
    "thresh = .5\n",
    "cap = cv2.VideoCapture(channel)\n",
    "cap.set(3,1280)\n",
    "cap.set(4,720)\n",
    "cap.set(5,60.0)\n",
    "\n",
    "cv2.namedWindow(\"preview\",cv2.WINDOW_NORMAL)\n",
    "while True:\n",
    "    fps = fps[-100:]\n",
    "    ret,frame = cap.read()\n",
    "#     print(cap.get(5))\n",
    "    if not ret:\n",
    "        break\n",
    "\n",
    "    t1 = time.time()\n",
    "    helmet_detection_model.predict(frame)\n",
    "    if helmet_detection_model.frame_processed>helmet_detection_model.buffer_shape:\n",
    "        frame,attr,res = helmet_detection_model.postprocess_op()\n",
    "        fps.append(1/(time.time()-t1))\n",
    "        op_frame =  output_support.label_obj_detection(frame,res[0],thresh=thresh,labels = ['helmet','no_helmet'],colors=[(0,225,0),(0,0,225)])\n",
    "        op_frame = output_support.write_text(op_frame,\"FPS = \"+str(np.mean(fps,dtype='int')),text_color=(0, 0, 0))\n",
    "        cv2.imshow(\"preview\",op_frame)\n",
    "        k = cv2.waitKey(1)\n",
    "        if k==ord('q'):\n",
    "            break\n",
    "        \n",
    "cv2.destroyAllWindows()\n",
    "cap.release()\n",
    "        "
   ]
  },
  {
   "cell_type": "code",
   "execution_count": 27,
   "metadata": {
    "ExecuteTime": {
     "end_time": "2020-01-31T10:37:28.449294Z",
     "start_time": "2020-01-31T10:37:28.443104Z"
    }
   },
   "outputs": [
    {
     "data": {
      "text/plain": [
       "0.0"
      ]
     },
     "execution_count": 27,
     "metadata": {},
     "output_type": "execute_result"
    }
   ],
   "source": [
    "cap.get(4)"
   ]
  },
  {
   "cell_type": "code",
   "execution_count": 7,
   "metadata": {
    "ExecuteTime": {
     "end_time": "2020-02-03T05:17:17.824423Z",
     "start_time": "2020-02-03T05:17:17.817689Z"
    }
   },
   "outputs": [
    {
     "data": {
      "text/plain": [
       "False"
      ]
     },
     "execution_count": 7,
     "metadata": {},
     "output_type": "execute_result"
    }
   ],
   "source": [
    "ret"
   ]
  },
  {
   "cell_type": "code",
   "execution_count": null,
   "metadata": {},
   "outputs": [],
   "source": []
  }
 ],
 "metadata": {
  "kernelspec": {
   "display_name": "openvino",
   "language": "python",
   "name": "openvino"
  },
  "language_info": {
   "codemirror_mode": {
    "name": "ipython",
    "version": 3
   },
   "file_extension": ".py",
   "mimetype": "text/x-python",
   "name": "python",
   "nbconvert_exporter": "python",
   "pygments_lexer": "ipython3",
   "version": "3.6.8"
  }
 },
 "nbformat": 4,
 "nbformat_minor": 2
}
