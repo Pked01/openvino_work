{
 "cells": [
  {
   "cell_type": "code",
   "execution_count": 1,
   "metadata": {
    "ExecuteTime": {
     "end_time": "2021-09-13T11:44:34.983544Z",
     "start_time": "2021-09-13T11:44:34.002123Z"
    },
    "execution": {
     "iopub.execute_input": "2021-10-04T05:51:21.645864Z",
     "iopub.status.busy": "2021-10-04T05:51:21.644810Z",
     "iopub.status.idle": "2021-10-04T05:51:24.907577Z",
     "shell.execute_reply": "2021-10-04T05:51:24.905874Z",
     "shell.execute_reply.started": "2021-10-04T05:51:21.645728Z"
    },
    "tags": []
   },
   "outputs": [],
   "source": [
    "import cv2,os,time,glob\n",
    "os.sys.path.append('../utilities/')\n",
    "from datetime import datetime\n",
    "import numpy as np\n",
    "import IPython.display as Disp\n",
    "import support_utility_openvino\n",
    "import matplotlib.pyplot as plt\n",
    "import ipywidgets as widgets\n",
    "from shapely.geometry import Polygon,Point\n"
   ]
  },
  {
   "cell_type": "code",
   "execution_count": 2,
   "metadata": {
    "ExecuteTime": {
     "end_time": "2021-09-13T11:44:34.989366Z",
     "start_time": "2021-09-13T11:44:34.985011Z"
    },
    "execution": {
     "iopub.execute_input": "2021-10-04T05:51:27.350931Z",
     "iopub.status.busy": "2021-10-04T05:51:27.350353Z",
     "iopub.status.idle": "2021-10-04T05:51:27.361803Z",
     "shell.execute_reply": "2021-10-04T05:51:27.360470Z",
     "shell.execute_reply.started": "2021-10-04T05:51:27.350850Z"
    },
    "tags": []
   },
   "outputs": [],
   "source": [
    "import imagesize\n",
    "import xml.etree.ElementTree as ET\n"
   ]
  },
  {
   "cell_type": "code",
   "execution_count": 3,
   "metadata": {
    "execution": {
     "iopub.execute_input": "2021-10-04T05:51:36.100295Z",
     "iopub.status.busy": "2021-10-04T05:51:36.099142Z",
     "iopub.status.idle": "2021-10-04T05:51:36.112134Z",
     "shell.execute_reply": "2021-10-04T05:51:36.108538Z",
     "shell.execute_reply.started": "2021-10-04T05:51:36.100161Z"
    },
    "tags": []
   },
   "outputs": [],
   "source": [
    "model_path = \"/media/prateek/shared_space/Notebooks/git_repos/openvino_training_extensions/pytorch_toolkit/object_detection/custom_model/person_detection_1/outputs/openvino/alt_ssd_export/2020_03_18_person_detection.xml\""
   ]
  },
  {
   "cell_type": "code",
   "execution_count": 4,
   "metadata": {
    "ExecuteTime": {
     "end_time": "2021-09-13T11:44:35.378090Z",
     "start_time": "2021-09-13T11:44:35.371518Z"
    },
    "execution": {
     "iopub.execute_input": "2021-10-04T05:51:50.582494Z",
     "iopub.status.busy": "2021-10-04T05:51:50.582169Z",
     "iopub.status.idle": "2021-10-04T05:51:50.586564Z",
     "shell.execute_reply": "2021-10-04T05:51:50.585332Z",
     "shell.execute_reply.started": "2021-10-04T05:51:50.582451Z"
    }
   },
   "outputs": [],
   "source": [
    "model_path = \"/media/prateek/shared_space/DATA_N_MODELS/useful_models/helmet_vest/2021_05_05_helmet_vest/tensorflow/openvino_graph/INT8/frozen_inference_graph_taloja_veraval_CROP.xml\""
   ]
  },
  {
   "cell_type": "code",
   "execution_count": 5,
   "metadata": {
    "ExecuteTime": {
     "end_time": "2021-09-13T11:44:37.423517Z",
     "start_time": "2021-09-13T11:44:37.167678Z"
    },
    "execution": {
     "iopub.execute_input": "2021-10-04T05:51:51.399524Z",
     "iopub.status.busy": "2021-10-04T05:51:51.399076Z",
     "iopub.status.idle": "2021-10-04T05:51:51.680433Z",
     "shell.execute_reply": "2021-10-04T05:51:51.679411Z",
     "shell.execute_reply.started": "2021-10-04T05:51:51.399402Z"
    },
    "tags": []
   },
   "outputs": [
    {
     "name": "stdout",
     "output_type": "stream",
     "text": [
      "Available Devices :  ['CPU', 'GNA', 'GPU']\n"
     ]
    }
   ],
   "source": [
    "detector_model = support_utility_openvino.async_infer()\n",
    "output_support = support_utility_openvino.create_plot()"
   ]
  },
  {
   "cell_type": "code",
   "execution_count": 6,
   "metadata": {
    "ExecuteTime": {
     "end_time": "2021-09-13T11:44:38.026853Z",
     "start_time": "2021-09-13T11:44:37.676451Z"
    },
    "execution": {
     "iopub.execute_input": "2021-10-04T05:51:54.375978Z",
     "iopub.status.busy": "2021-10-04T05:51:54.375695Z",
     "iopub.status.idle": "2021-10-04T05:51:56.214347Z",
     "shell.execute_reply": "2021-10-04T05:51:56.193739Z",
     "shell.execute_reply.started": "2021-10-04T05:51:54.375945Z"
    },
    "tags": []
   },
   "outputs": [
    {
     "name": "stdout",
     "output_type": "stream",
     "text": [
      "OPTIMIZATION_CAPABILITIES for CPU:  ['FP32', 'FP16', 'INT8', 'BIN']\n",
      "model inputs : dict_keys(['image_tensor'])\n",
      "model outputs :  dict_keys(['DetectionOutput'])\n"
     ]
    }
   ],
   "source": [
    "detector_model.load_model(model_path,\"CPU\")"
   ]
  },
  {
   "cell_type": "code",
   "execution_count": 63,
   "metadata": {
    "execution": {
     "iopub.execute_input": "2021-02-10T07:34:13.276601Z",
     "iopub.status.busy": "2021-02-10T07:34:13.276400Z",
     "iopub.status.idle": "2021-02-10T07:38:19.041871Z",
     "shell.execute_reply": "2021-02-10T07:38:19.040967Z",
     "shell.execute_reply.started": "2021-02-10T07:34:13.276577Z"
    }
   },
   "outputs": [],
   "source": [
    "cap = cv2.VideoCapture(f)\n",
    "while True:\n",
    "    ret,frame = cap.read()\n",
    "    thresh = variance_of_laplacian(frame)\n",
    "    cv2.putText(frame,str(thresh),(30,30),cv2.FONT_HERSHEY_COMPLEX_SMALL,1,cv2.LINE_AA)\n",
    "    cv2.imshow(\"preview\",frame)\n",
    "    k = cv2.waitKey(1)\n",
    "    if k==ord('q'):\n",
    "        break\n",
    "cv2.destroyAllWindows()\n",
    "cap.release()"
   ]
  },
  {
   "cell_type": "code",
   "execution_count": 7,
   "metadata": {
    "ExecuteTime": {
     "end_time": "2021-09-13T11:44:48.268209Z",
     "start_time": "2021-09-13T11:44:48.264066Z"
    },
    "execution": {
     "iopub.execute_input": "2021-10-04T05:52:26.087679Z",
     "iopub.status.busy": "2021-10-04T05:52:26.084802Z",
     "iopub.status.idle": "2021-10-04T05:52:26.114863Z",
     "shell.execute_reply": "2021-10-04T05:52:26.111970Z",
     "shell.execute_reply.started": "2021-10-04T05:52:26.087482Z"
    },
    "tags": []
   },
   "outputs": [],
   "source": [
    "def variance_of_laplacian(image):\n",
    "    # compute the Laplacian of the image and then return the focus\n",
    "    # measure, which is simply the variance of the Laplacian\n",
    "    return cv2.Laplacian(image, cv2.CV_64F).var()\n",
    "\n",
    "\n",
    "\n",
    "def get_all_file_path(source_dir,ext='.csv'):\n",
    "    \"\"\"\n",
    "    all images with csv extension exist in set of dirs\n",
    "    \"\"\"\n",
    "    op =[]\n",
    "    for root, dirs, files in os.walk(source_dir):\n",
    "        for file in files:\n",
    "            if file.endswith(ext):\n",
    "                \n",
    "                 op.append(os.path.join(os.path.abspath(root), file))\n",
    "    return op\n"
   ]
  },
  {
   "cell_type": "code",
   "execution_count": 9,
   "metadata": {
    "ExecuteTime": {
     "end_time": "2021-09-13T11:50:23.758852Z",
     "start_time": "2021-09-13T11:49:21.330816Z"
    },
    "execution": {
     "iopub.execute_input": "2021-10-04T06:01:29.003547Z",
     "iopub.status.busy": "2021-10-04T06:01:29.003035Z",
     "iopub.status.idle": "2021-10-04T06:09:47.342742Z",
     "shell.execute_reply": "2021-10-04T06:09:47.341402Z",
     "shell.execute_reply.started": "2021-10-04T06:01:29.003368Z"
    },
    "tags": []
   },
   "outputs": [],
   "source": [
    "files = get_all_file_path(\"/media/prateek/shared_space/DATA_N_MODELS/useful_vids/helmet_vest/hirakud/30-09-2021/cropped_frames/\",\".jpg\")\n",
    "project_name = \"helmet_vest_hirakud_1\"\n",
    "thresh = .2\n",
    "\n",
    "skip_frame = 0 ### number of frames for which you want to skip the video\n",
    "image_num = 0\n",
    "d = datetime.now()\n",
    "image_folder_path = \"images/\"+project_name+\"/\"+str(d.year)+\"_\"+str(d.month).zfill(2)+\"_\"+str(d.day).zfill(2)+\"_\"+str(d.hour).zfill(2)+\"/\"\n",
    "os.makedirs(image_folder_path,exist_ok= True)\n",
    "label_dict = {1:\"helmet\",2:\"no_helmet\",3:\"vest\",4:\"no_vest\",5:\"worker\"}\n",
    "\n",
    "annotation = ET.Element(\"annotations\")\n",
    "detector_model.reinit_model()\n",
    "\n",
    "for f in files:\n",
    "    # images\n",
    "    frame = cv2.imread(f)\n",
    "    #videos\n",
    "    \n",
    "    # cap = cv2.VideoCapture(f)\n",
    "    # while True:\n",
    "    #     try:\n",
    "    #         cap.set(1,int(cap.get(1))+skip_frame)\n",
    "    #     except Exception as e:\n",
    "    #         print(e)\n",
    "    #     ret,frame = cap.read()\n",
    "    #     if not ret:\n",
    "    #         break\n",
    "    detector_model.predict(frame)\n",
    "    if detector_model.frame_processed>=detector_model.num_requests:\n",
    "        frame, attrs, res = detector_model.postprocess_op()\n",
    "        res_filt,bboxes = output_support.res2bbox(res[0],(frame.shape[1],frame.shape[0]),thresh=thresh)\n",
    "        if len(bboxes)>0:\n",
    "            frame_op = output_support.label_obj_detection(frame, res[0],thresh,list(label_dict.values()))\n",
    "            cv2.imshow(\"preview\",frame_op)\n",
    "            k = cv2.waitKey(1)\n",
    "            if k==ord('q'):\n",
    "                cv2.destroyAllWindows()\n",
    "                break\n",
    "            filename = os.path.join(image_folder_path,str(image_num).zfill(6)+\".jpg\")\n",
    "            cv2.imwrite(filename,frame)\n",
    "            class_ids = res_filt[:,1].astype(int)\n",
    "            height,width = frame.shape[:2]\n",
    "            image = ET.Element(\"image\")\n",
    "            image.set(\"name\",str(image_num).zfill(6)+\".jpg\")\n",
    "            image.set(\"id\" ,str(image_num))\n",
    "            image.set(\"width\",str(width))\n",
    "            image.set(\"height\",str(height))\n",
    "            for idx,b in enumerate(bboxes):\n",
    "                box = ET.SubElement(image,\"box\")\n",
    "                box.set(\"label\",label_dict[class_ids[idx]])\n",
    "                box.set(\"occluded\",\"0\")\n",
    "                box.set(\"xtl\",str(b[0]))\n",
    "                box.set(\"ytl\",str(b[1]))\n",
    "                box.set(\"xbr\",str(b[2]))\n",
    "                box.set(\"ybr\",str(b[3]))\n",
    "            annotation.append(image)\n",
    "            image_num+=1\n",
    "    \n",
    "                \n",
    "\n",
    "                \n",
    "                \n",
    "               \n",
    "        \n",
    "\n",
    "mydata = ET.tostring(annotation)\n",
    "myfile = open(os.path.join(\"images/\"+project_name+\"/\",\"annotation.xml\"), \"wb\")\n",
    "myfile.write(mydata)\n",
    "myfile.close()\n",
    "cv2.destroyAllWindows()"
   ]
  },
  {
   "cell_type": "code",
   "execution_count": 12,
   "metadata": {
    "execution": {
     "iopub.execute_input": "2021-07-20T07:56:17.012953Z",
     "iopub.status.busy": "2021-07-20T07:56:17.012118Z",
     "iopub.status.idle": "2021-07-20T07:56:17.025710Z",
     "shell.execute_reply": "2021-07-20T07:56:17.024412Z",
     "shell.execute_reply.started": "2021-07-20T07:56:17.012842Z"
    },
    "tags": []
   },
   "outputs": [
    {
     "data": {
      "text/plain": [
       "[]"
      ]
     },
     "execution_count": 12,
     "metadata": {},
     "output_type": "execute_result"
    }
   ],
   "source": [
    "files"
   ]
  },
  {
   "cell_type": "markdown",
   "metadata": {},
   "source": [
    "### annotation for frames only not for video"
   ]
  },
  {
   "cell_type": "code",
   "execution_count": null,
   "metadata": {},
   "outputs": [],
   "source": [
    "#!/usr/bin/env python\n",
    "# coding:utf-8\n",
    "import imagesize\n",
    "import xml.etree.ElementTree as ET\n",
    "annotation = ET.Element(\"annotations\")\n",
    "for row in df.iterrows():\n",
    "    width, height = imagesize.get(row[1][\"filename\"])\n",
    "    image = ET.Element(\"image\")\n",
    "    image.set(\"name\",row[1][\"filename\"].replace(\"/media/prateek/prateek_space/dataset/UTCL\",\"/home/computer_vision/Downloads/Notebooks/UTCL\"))\n",
    "    image.set(\"id\" ,str(row[0]))\n",
    "    image.set(\"width\",str(width))\n",
    "    image.set(\"height\",str(height))\n",
    "    if not np.isnan(row[1][\"helmet_coords\"]).any():\n",
    "        coords = row[1][\"helmet_coords\"]\n",
    "        box = ET.SubElement(image,\"box\")\n",
    "        box.set(\"label\",row[1][\"helmet_label\"])\n",
    "        box.set(\"occluded\",\"0\")\n",
    "        box.set(\"xtl\",str(coords[0]))\n",
    "        box.set(\"ytl\",str(coords[1]))\n",
    "        box.set(\"xbr\",str(coords[2]))\n",
    "        box.set(\"ybr\",str(coords[3]))\n",
    "    if not np.isnan(row[1][\"vest_coords\"]).any():\n",
    "        coords = row[1][\"vest_coords\"]\n",
    "        box = ET.SubElement(image,\"box\")\n",
    "        box.set(\"label\",row[1][\"vest_label\"])\n",
    "        box.set(\"occluded\",\"0\")\n",
    "        box.set(\"xtl\",str(coords[0]))\n",
    "        box.set(\"ytl\",str(coords[1]))\n",
    "        box.set(\"xbr\",str(coords[2]))\n",
    "        box.set(\"ybr\",str(coords[3]))\n",
    "    annotation.append(image)\n",
    "    "
   ]
  }
 ],
 "metadata": {
  "kernelspec": {
   "display_name": "openvino",
   "language": "python",
   "name": "openvino"
  },
  "language_info": {
   "codemirror_mode": {
    "name": "ipython",
    "version": 3
   },
   "file_extension": ".py",
   "mimetype": "text/x-python",
   "name": "python",
   "nbconvert_exporter": "python",
   "pygments_lexer": "ipython3",
   "version": "3.6.8"
  },
  "widgets": {
   "application/vnd.jupyter.widget-state+json": {
    "state": {},
    "version_major": 2,
    "version_minor": 0
   }
  }
 },
 "nbformat": 4,
 "nbformat_minor": 4
}
