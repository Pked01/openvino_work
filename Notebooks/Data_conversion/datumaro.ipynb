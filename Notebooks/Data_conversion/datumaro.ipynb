{
 "cells": [
  {
   "cell_type": "code",
   "execution_count": 17,
   "metadata": {
    "execution": {
     "iopub.execute_input": "2021-03-09T05:39:26.751969Z",
     "iopub.status.busy": "2021-03-09T05:39:26.751744Z",
     "iopub.status.idle": "2021-03-09T05:39:26.761342Z",
     "shell.execute_reply": "2021-03-09T05:39:26.760543Z",
     "shell.execute_reply.started": "2021-03-09T05:39:26.751952Z"
    }
   },
   "outputs": [
    {
     "name": "stderr",
     "output_type": "stream",
     "text": [
      "/home/prateek/.virtualenvs/pytorch_p37/lib/python3.7/site-packages/ipykernel/ipkernel.py:283: DeprecationWarning: `should_run_async` will not call `transform_cell` automatically in the future. Please pass the result to `transformed_cell` argument and any exception that happen during thetransform in `preprocessing_exc_tuple` in IPython 7.17 and above.\n",
      "  and should_run_async(code)\n"
     ]
    }
   ],
   "source": [
    "from datumaro.components.dataset import Dataset\n",
    "from datumaro.components \n"
   ]
  },
  {
   "cell_type": "code",
   "execution_count": null,
   "metadata": {},
   "outputs": [],
   "source": [
    "merged_project = project.cr"
   ]
  },
  {
   "cell_type": "code",
   "execution_count": 2,
   "metadata": {
    "execution": {
     "iopub.execute_input": "2021-03-08T17:20:57.026302Z",
     "iopub.status.busy": "2021-03-08T17:20:57.026179Z",
     "iopub.status.idle": "2021-03-08T17:21:00.581097Z",
     "shell.execute_reply": "2021-03-08T17:21:00.580593Z",
     "shell.execute_reply.started": "2021-03-08T17:20:57.026286Z"
    }
   },
   "outputs": [
    {
     "name": "stderr",
     "output_type": "stream",
     "text": [
      "/home/prateek/.virtualenvs/pytorch_p37/lib/python3.7/importlib/_bootstrap.py:219: RuntimeWarning: compiletime version 3.6 of module 'openvino.inference_engine.ie_api' does not match runtime version 3.7\n",
      "  return f(*args, **kwds)\n",
      "/home/prateek/.virtualenvs/pytorch_p37/lib/python3.7/importlib/_bootstrap.py:219: RuntimeWarning: compiletime version 3.6 of module 'openvino.inference_engine.constants' does not match runtime version 3.7\n",
      "  return f(*args, **kwds)\n"
     ]
    },
    {
     "name": "stdout",
     "output_type": "stream",
     "text": [
      "creating index...\n",
      "index created!\n"
     ]
    }
   ],
   "source": [
    "# dataset0 = Dataset.import_from(\"/media/prateek/shared_space/useful_vids/person_dataset/train_1/0\",'coco')\n",
    "# dataset1 = Dataset.import_from(\"/media/prateek/shared_space/useful_vids/person_dataset/train_1/1\",'coco')\n",
    "# dataset2 = Dataset.import_from(\"/media/prateek/shared_space/useful_vids/person_dataset/train_1/2\",'coco')\n",
    "dataset3 = Dataset.import_from(\"/media/prateek/shared_space/useful_vids/person_dataset/train_data/source_data\",'coco')"
   ]
  },
  {
   "cell_type": "code",
   "execution_count": 6,
   "metadata": {
    "execution": {
     "iopub.execute_input": "2021-03-08T17:30:02.761644Z",
     "iopub.status.busy": "2021-03-08T17:30:02.761408Z",
     "iopub.status.idle": "2021-03-08T17:30:02.764821Z",
     "shell.execute_reply": "2021-03-08T17:30:02.764062Z",
     "shell.execute_reply.started": "2021-03-08T17:30:02.761618Z"
    }
   },
   "outputs": [],
   "source": [
    "dataset3_filter = dataset3.filter('/item/annotation[label!= \"person\"]')"
   ]
  },
  {
   "cell_type": "code",
   "execution_count": 16,
   "metadata": {
    "execution": {
     "iopub.execute_input": "2021-03-08T18:20:21.066462Z",
     "iopub.status.busy": "2021-03-08T18:20:21.065802Z",
     "iopub.status.idle": "2021-03-08T18:20:22.931171Z",
     "shell.execute_reply": "2021-03-08T18:20:22.930672Z",
     "shell.execute_reply.started": "2021-03-08T18:20:21.066369Z"
    }
   },
   "outputs": [],
   "source": [
    "dataset3.export(\"/media/prateek/shared_space/useful_vids/person_dataset/train_data/result/\",format=\"cvat\",save_images=True)"
   ]
  },
  {
   "cell_type": "code",
   "execution_count": null,
   "metadata": {},
   "outputs": [],
   "source": [
    "dataset3."
   ]
  },
  {
   "cell_type": "code",
   "execution_count": 12,
   "metadata": {
    "execution": {
     "iopub.execute_input": "2021-03-08T18:12:11.022229Z",
     "iopub.status.busy": "2021-03-08T18:12:11.021528Z",
     "iopub.status.idle": "2021-03-08T18:12:11.029801Z",
     "shell.execute_reply": "2021-03-08T18:12:11.028056Z",
     "shell.execute_reply.started": "2021-03-08T18:12:11.022152Z"
    }
   },
   "outputs": [],
   "source": [
    "dataset3_subset = dataset3.get_subset('person')"
   ]
  },
  {
   "cell_type": "code",
   "execution_count": 17,
   "metadata": {
    "execution": {
     "iopub.execute_input": "2021-03-08T17:18:34.721822Z",
     "iopub.status.busy": "2021-03-08T17:18:34.721123Z",
     "iopub.status.idle": "2021-03-08T17:18:34.733751Z",
     "shell.execute_reply": "2021-03-08T17:18:34.731366Z",
     "shell.execute_reply.started": "2021-03-08T17:18:34.721724Z"
    }
   },
   "outputs": [
    {
     "name": "stdout",
     "output_type": "stream",
     "text": [
      "Help on method export in module datumaro.components.dataset:\n",
      "\n",
      "export(save_dir: str, format, **kwargs) method of datumaro.components.dataset.Dataset instance\n",
      "\n"
     ]
    }
   ],
   "source": [
    "dataset3.transform"
   ]
  },
  {
   "cell_type": "code",
   "execution_count": 27,
   "metadata": {
    "execution": {
     "iopub.execute_input": "2021-03-07T07:37:40.006839Z",
     "iopub.status.busy": "2021-03-07T07:37:40.006598Z",
     "iopub.status.idle": "2021-03-07T07:37:40.019278Z",
     "shell.execute_reply": "2021-03-07T07:37:40.018589Z",
     "shell.execute_reply.started": "2021-03-07T07:37:40.006811Z"
    }
   },
   "outputs": [
    {
     "name": "stderr",
     "output_type": "stream",
     "text": [
      "/home/prateek/.virtualenvs/pytorch_p37/lib/python3.7/site-packages/ipykernel/ipkernel.py:283: DeprecationWarning: `should_run_async` will not call `transform_cell` automatically in the future. Please pass the result to `transformed_cell` argument and any exception that happen during thetransform in `preprocessing_exc_tuple` in IPython 7.17 and above.\n",
      "  and should_run_async(code)\n"
     ]
    },
    {
     "ename": "TypeError",
     "evalue": "unsupported operand type(s) for +: 'Dataset' and 'Dataset'",
     "output_type": "error",
     "traceback": [
      "\u001b[0;31m---------------------------------------------------------------------------\u001b[0m",
      "\u001b[0;31mTypeError\u001b[0m                                 Traceback (most recent call last)",
      "\u001b[0;32m<ipython-input-27-7bf28d204a63>\u001b[0m in \u001b[0;36m<module>\u001b[0;34m\u001b[0m\n\u001b[0;32m----> 1\u001b[0;31m \u001b[0mdataset\u001b[0m \u001b[0;34m=\u001b[0m \u001b[0mdataset0\u001b[0m\u001b[0;34m+\u001b[0m\u001b[0mdataset1\u001b[0m\u001b[0;34m+\u001b[0m\u001b[0mdataset2\u001b[0m\u001b[0;34m+\u001b[0m\u001b[0mdataset3\u001b[0m\u001b[0;34m\u001b[0m\u001b[0;34m\u001b[0m\u001b[0m\n\u001b[0m",
      "\u001b[0;31mTypeError\u001b[0m: unsupported operand type(s) for +: 'Dataset' and 'Dataset'"
     ]
    }
   ],
   "source": [
    "dataset = dataset0+dataset1+dataset2+dataset3"
   ]
  },
  {
   "cell_type": "code",
   "execution_count": 19,
   "metadata": {
    "execution": {
     "iopub.execute_input": "2021-03-05T12:49:25.944685Z",
     "iopub.status.busy": "2021-03-05T12:49:25.944282Z",
     "iopub.status.idle": "2021-03-05T12:49:25.951141Z",
     "shell.execute_reply": "2021-03-05T12:49:25.950061Z",
     "shell.execute_reply.started": "2021-03-05T12:49:25.944635Z"
    }
   },
   "outputs": [
    {
     "data": {
      "text/plain": [
       "[Polygon(id=1, attributes={'is_crowd': False}, group=1, points=[901.56, 239.02, 1088.0, 239.02, 1088.0, 689.0, 901.56, 689.0], label=1, z_order=0),\n",
       " Polygon(id=2, attributes={'is_crowd': False}, group=2, points=[1071.07, 309.0, 1204.0, 309.0, 1204.0, 624.0, 1071.07, 624.0], label=1, z_order=0),\n",
       " Polygon(id=3, attributes={'is_crowd': False}, group=3, points=[839.0, 304.0, 963.72, 304.0, 963.72, 785.0, 839.0, 785.0], label=1, z_order=0),\n",
       " Polygon(id=4, attributes={'is_crowd': False}, group=4, points=[1035.13, 335.0, 1247.0, 335.0, 1247.0, 821.0, 1035.13, 821.0], label=1, z_order=0)]"
      ]
     },
     "execution_count": 19,
     "metadata": {},
     "output_type": "execute_result"
    }
   ],
   "source": [
    "Dataset"
   ]
  },
  {
   "cell_type": "code",
   "execution_count": 18,
   "metadata": {
    "execution": {
     "iopub.execute_input": "2021-03-05T12:49:21.729991Z",
     "iopub.status.busy": "2021-03-05T12:49:21.729602Z",
     "iopub.status.idle": "2021-03-05T12:49:21.734551Z",
     "shell.execute_reply": "2021-03-05T12:49:21.733920Z",
     "shell.execute_reply.started": "2021-03-05T12:49:21.729945Z"
    }
   },
   "outputs": [
    {
     "name": "stdout",
     "output_type": "stream",
     "text": [
      "/home/django/data/tasks/39/export_cache/cvat_coco_lwesl6ls/images/0 [Polygon(id=1, attributes={'is_crowd': False}, group=1, points=[901.56, 239.02, 1088.0, 239.02, 1088.0, 689.0, 901.56, 689.0], label=1, z_order=0), Polygon(id=2, attributes={'is_crowd': False}, group=2, points=[1071.07, 309.0, 1204.0, 309.0, 1204.0, 624.0, 1071.07, 624.0], label=1, z_order=0), Polygon(id=3, attributes={'is_crowd': False}, group=3, points=[839.0, 304.0, 963.72, 304.0, 963.72, 785.0, 839.0, 785.0], label=1, z_order=0), Polygon(id=4, attributes={'is_crowd': False}, group=4, points=[1035.13, 335.0, 1247.0, 335.0, 1247.0, 821.0, 1035.13, 821.0], label=1, z_order=0)]\n"
     ]
    }
   ],
   "source": [
    "for item in dataset:\n",
    "    print(item.id, item.annotations)\n",
    "    break\n"
   ]
  },
  {
   "cell_type": "code",
   "execution_count": null,
   "metadata": {},
   "outputs": [],
   "source": []
  }
 ],
 "metadata": {
  "kernelspec": {
   "display_name": "pytorch_p37",
   "language": "python",
   "name": "pytorch_p37"
  },
  "language_info": {
   "codemirror_mode": {
    "name": "ipython",
    "version": 3
   },
   "file_extension": ".py",
   "mimetype": "text/x-python",
   "name": "python",
   "nbconvert_exporter": "python",
   "pygments_lexer": "ipython3",
   "version": "3.7.5"
  },
  "widgets": {
   "application/vnd.jupyter.widget-state+json": {
    "state": {},
    "version_major": 2,
    "version_minor": 0
   }
  }
 },
 "nbformat": 4,
 "nbformat_minor": 4
}
