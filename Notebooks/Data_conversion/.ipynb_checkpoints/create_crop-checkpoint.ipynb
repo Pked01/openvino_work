{
 "cells": [
  {
   "cell_type": "code",
   "execution_count": 4,
   "metadata": {
    "ExecuteTime": {
     "end_time": "2021-09-13T08:27:52.074862Z",
     "start_time": "2021-09-13T08:27:52.070726Z"
    },
    "execution": {
     "iopub.execute_input": "2021-04-22T06:05:04.425497Z",
     "iopub.status.busy": "2021-04-22T06:05:04.425259Z",
     "iopub.status.idle": "2021-04-22T06:05:04.840179Z",
     "shell.execute_reply": "2021-04-22T06:05:04.839586Z",
     "shell.execute_reply.started": "2021-04-22T06:05:04.425471Z"
    }
   },
   "outputs": [],
   "source": [
    "import cv2,os,time,glob\n",
    "os.sys.path.append('../utilities/')\n",
    "from datetime import datetime\n",
    "import numpy as np\n",
    "import IPython.display as Disp\n",
    "import support_utility_openvino\n",
    "import matplotlib.pyplot as plt\n",
    "import ipywidgets as widgets\n",
    "from shapely.geometry import Polygon,Point\n"
   ]
  },
  {
   "cell_type": "code",
   "execution_count": 2,
   "metadata": {
    "ExecuteTime": {
     "end_time": "2021-09-13T08:20:01.471670Z",
     "start_time": "2021-09-13T08:20:01.468038Z"
    },
    "execution": {
     "iopub.execute_input": "2021-04-22T06:05:04.841214Z",
     "iopub.status.busy": "2021-04-22T06:05:04.841005Z",
     "iopub.status.idle": "2021-04-22T06:05:04.843807Z",
     "shell.execute_reply": "2021-04-22T06:05:04.843288Z",
     "shell.execute_reply.started": "2021-04-22T06:05:04.841145Z"
    }
   },
   "outputs": [],
   "source": [
    "output_support = support_utility_openvino.create_plot()"
   ]
  },
  {
   "cell_type": "code",
   "execution_count": 3,
   "metadata": {
    "ExecuteTime": {
     "end_time": "2021-09-13T08:20:02.545527Z",
     "start_time": "2021-09-13T08:20:02.121825Z"
    },
    "execution": {
     "iopub.execute_input": "2021-04-22T06:05:06.418435Z",
     "iopub.status.busy": "2021-04-22T06:05:06.417711Z",
     "iopub.status.idle": "2021-04-22T06:05:06.665982Z",
     "shell.execute_reply": "2021-04-22T06:05:06.665483Z",
     "shell.execute_reply.started": "2021-04-22T06:05:06.418342Z"
    }
   },
   "outputs": [
    {
     "name": "stdout",
     "output_type": "stream",
     "text": [
      "Available Devices :  ['CPU', 'GPU']\n",
      "OPTIMIZATION_CAPABILITIES for CPU:  ['FP32', 'FP16', 'INT8', 'BIN']\n",
      "model inputs : dict_keys(['image'])\n",
      "model outputs :  dict_keys(['detection_out'])\n"
     ]
    }
   ],
   "source": [
    "model_path = \"/media/prateek/shared_space/Notebooks/git_repos/openvino_training_extensions/pytorch_toolkit/object_detection/custom_model/person_detection_1/outputs/openvino/alt_ssd_export/2020_03_18_person_detection.xml\"\n",
    "\n",
    "threshold = .5\n",
    "device = 'CPU'\n",
    "\n",
    "person_detection = support_utility_openvino.async_infer(4)\n",
    "person_detection.load_model(model_path=model_path,device=device)"
   ]
  },
  {
   "cell_type": "code",
   "execution_count": 37,
   "metadata": {
    "ExecuteTime": {
     "end_time": "2021-09-13T09:59:07.066305Z",
     "start_time": "2021-09-13T09:59:07.046336Z"
    },
    "execution": {
     "iopub.execute_input": "2021-04-22T06:05:07.416830Z",
     "iopub.status.busy": "2021-04-22T06:05:07.416539Z",
     "iopub.status.idle": "2021-04-22T06:05:07.428898Z",
     "shell.execute_reply": "2021-04-22T06:05:07.428420Z",
     "shell.execute_reply.started": "2021-04-22T06:05:07.416770Z"
    }
   },
   "outputs": [],
   "source": [
    "file_path = \"/media/prateek/shared_space/useful_vids/person_dataset/white_helmet_dataset/\"\n",
    "def get_all_file_path(source_dir,ext='.csv'):\n",
    "    \"\"\"\n",
    "    all images with csv extension exist in set of dirs\n",
    "    \"\"\"\n",
    "    op =[]\n",
    "    for root, dirs, files in os.walk(source_dir):\n",
    "        for file in files:\n",
    "            if file.endswith(ext):\n",
    "                \n",
    "                 op.append(os.path.join(os.path.abspath(root), file))\n",
    "    return op\n",
    "all_jpg = get_all_file_path(file_path,\".jpg\")\n",
    "\n",
    "def bbox2poly(b):\n",
    "    return [[b[0],b[1]],[b[2],b[1]],[b[2],b[3]],[b[0],b[3]]]\n",
    "    \n",
    "\n",
    "def poly_intersection_shapely(pt1,pt2,intersection_threshold=.1):\n",
    "    \"\"\"\n",
    "    pt1 : set of points for polygon 1 [[x1,y1],[x2,y2]] \n",
    "    pt2 : set of points for polygon 2[[x1,y1],[x2,y2]] \n",
    "    intersection theshold : intersection threshold for polygon intersection considered with ref to pt2\n",
    "    bool : return True or False\n",
    "    \"\"\"\n",
    "\n",
    "    p1 = Polygon(pt1)\n",
    "    p2 = Polygon(pt2)\n",
    "    intersection_area = p1.intersection(p2).area\n",
    "    if intersection_area/p2.area>intersection_threshold:\n",
    "        return True\n",
    "    return False"
   ]
  },
  {
   "cell_type": "code",
   "execution_count": 10,
   "metadata": {
    "execution": {
     "iopub.execute_input": "2021-04-22T06:22:50.525835Z",
     "iopub.status.busy": "2021-04-22T06:22:50.525597Z",
     "iopub.status.idle": "2021-04-22T06:24:25.375695Z",
     "shell.execute_reply": "2021-04-22T06:24:25.372798Z",
     "shell.execute_reply.started": "2021-04-22T06:22:50.525806Z"
    }
   },
   "outputs": [
    {
     "data": {
      "text/plain": [
       "(0.006089891975308642, 0.03020109953703704)"
      ]
     },
     "execution_count": 10,
     "metadata": {},
     "output_type": "execute_result"
    }
   ],
   "source": [
    "output_support.get_resolution_thresh(frame)\n"
   ]
  },
  {
   "cell_type": "markdown",
   "metadata": {},
   "source": [
    "##### for images as frames"
   ]
  },
  {
   "cell_type": "code",
   "execution_count": 12,
   "metadata": {
    "execution": {
     "iopub.execute_input": "2021-04-22T06:26:24.435052Z",
     "iopub.status.busy": "2021-04-22T06:26:24.434784Z",
     "iopub.status.idle": "2021-04-22T06:27:29.295611Z",
     "shell.execute_reply": "2021-04-22T06:27:29.294754Z",
     "shell.execute_reply.started": "2021-04-22T06:26:24.435017Z"
    }
   },
   "outputs": [],
   "source": [
    "thresh = .7\n",
    "saving_dir = \"/media/prateek/shared_space/useful_vids/person_dataset/white_helmet_dataset_cropped/\"\n",
    "os.makedirs(saving_dir,exist_ok=True)\n",
    "person_detection.reinit_model()\n",
    "fps_async = []\n",
    "frame_idx = 0\n",
    "cv2.namedWindow(\"preview\",cv2.WINDOW_NORMAL)\n",
    "for f in all_jpg:\n",
    "    t0 = time.time() \n",
    "    frame = cv2.imread(f)\n",
    "    person_detection.predict(frame)\n",
    "    if person_detection.frame_processed>=person_detection.num_requests:\n",
    "        frame,attr,res = person_detection.postprocess_op()\n",
    "        initial_w,initial_h = frame.shape[1],frame.shape[0]\n",
    "        trim_frames,bbox, res1 = output_support.trim_frame_with_result(frame,res[0],threshold=thresh,return_results=True,offset=10,resolution_thresh_range=[.006,.05])\n",
    "        op_frame = output_support.label_obj_detection(frame, np.expand_dims(res1,axis=[0,1]),thresh,['person'])\n",
    "        \n",
    "        for f in trim_frames:\n",
    "            frame_idx+=1\n",
    "            cv2.imwrite(saving_dir+\"image_\"+str(frame_idx).zfill(5)+\".jpg\",f)\n",
    "        cv2.imshow(\"preview\",op_frame)\n",
    "        k = cv2.waitKey(1)\n",
    "        if k==ord('q'):\n",
    "            break\n",
    "            \n",
    "\n",
    "    \n",
    "cv2.destroyAllWindows()\n"
   ]
  },
  {
   "cell_type": "code",
   "execution_count": null,
   "metadata": {},
   "outputs": [],
   "source": [
    "thresh = .7\n",
    "saving_dir = \"/media/prateek/shared_space/useful_vids/person_dataset/white_helmet_dataset_cropped/\"\n",
    "os.makedirs(saving_dir,exist_ok=True)\n",
    "person_detection.reinit_model()\n",
    "fps_async = []\n",
    "frame_idx = 0\n",
    "cv2.namedWindow(\"preview\",cv2.WINDOW_NORMAL)\n",
    "for f in all_jpg:\n",
    "    t0 = time.time() \n",
    "    frame = cv2.imread(f)\n",
    "    person_detection.predict(frame)\n",
    "    if person_detection.frame_processed>=person_detection.num_requests:\n",
    "        frame,attr,res = person_detection.postprocess_op()\n",
    "        initial_w,initial_h = frame.shape[1],frame.shape[0]\n",
    "        trim_frames,bbox, res1 = output_support.trim_frame_with_result(frame,res[0],threshold=thresh,return_results=True,offset=10,resolution_thresh_range=[.006,.05])\n",
    "        op_frame = output_support.label_obj_detection(frame, np.expand_dims(res1,axis=[0,1]),thresh,['person'])\n",
    "        if poly_intersection_shapely(bbox[0])\n",
    "        for f in trim_frames:\n",
    "            frame_idx+=1\n",
    "            cv2.imwrite(saving_dir+\"image_\"+str(frame_idx).zfill(5)+\".jpg\",f)\n",
    "        cv2.imshow(\"preview\",op_frame)\n",
    "        k = cv2.waitKey(1)\n",
    "        if k==ord('q'):\n",
    "            break\n",
    "            \n",
    "\n",
    "    \n",
    "cv2.destroyAllWindows()\n"
   ]
  },
  {
   "cell_type": "markdown",
   "metadata": {},
   "source": [
    "##### for images as videos\n"
   ]
  },
  {
   "cell_type": "code",
   "execution_count": 51,
   "metadata": {
    "ExecuteTime": {
     "end_time": "2021-09-13T11:16:28.765011Z",
     "start_time": "2021-09-13T11:15:36.626077Z"
    }
   },
   "outputs": [],
   "source": [
    "vid_list= []\n",
    "thresh = .4\n",
    "saving_dir = \"/media/prateek/shared_space/DATA_N_MODELS/useful_vids/helmet_vest/hirakud/30-09-2021/cropped_frames/\"\n",
    "vid_list = glob.glob(\"/media/prateek/shared_space/DATA_N_MODELS/useful_vids/helmet_vest/hirakud/30-09-2021/*\")\n",
    "os.makedirs(saving_dir,exist_ok=True)\n",
    "\n",
    "fps_async = []\n",
    "frame_idx = 0\n",
    "cv2.namedWindow(\"preview\",cv2.WINDOW_NORMAL)\n",
    "for vid_file in vid_list:\n",
    "    person_detection.reinit_model()\n",
    "    if not vid_file.endswith(\".mp4\"):\n",
    "        continue\n",
    "    cap = cv2.VideoCapture(vid_file)\n",
    "    while cap.isOpened():\n",
    "        ret,frame = cap.read()\n",
    "        if not ret:\n",
    "            break\n",
    "        t0 = time.time() \n",
    "#         frame = cv2.imread(f)\n",
    "        person_detection.predict(frame)\n",
    "        if person_detection.frame_processed>=person_detection.num_requests:\n",
    "            frame,attr,res = person_detection.postprocess_op()\n",
    "            initial_w,initial_h = frame.shape[1],frame.shape[0]\n",
    "            trim_frames,bbox, res1 = output_support.trim_frame_with_result(frame,res[0],threshold=thresh,return_results=True,offset=10,resolution_thresh_range=[.006,.05])\n",
    "            op_frame = output_support.label_obj_detection(frame, np.expand_dims(res1,axis=[0,1]),thresh,['person'])\n",
    "            rejected_li = []\n",
    "            if len(bbox)>1:\n",
    "                combs = list(combinations(list(range(len(bbox))),2))\n",
    "                for idx0,comb in enumerate(combs): \n",
    "                    if ( comb[0] in rejected_li) or ( comb[1] in rejected_li):\n",
    "                        continue\n",
    "                    if poly_intersection_shapely(bbox2poly(bbox[comb[0]]),bbox2poly(bbox[comb[1]]),.1):\n",
    "                        rejected_li.extend(comb)\n",
    "#                     print(rejected_li)\n",
    "                        \n",
    "                        \n",
    "                        \n",
    "                        \n",
    "                \n",
    "            for idx,f in enumerate(trim_frames):\n",
    "                if idx in rejected_li:\n",
    "                    continue\n",
    "                frame_idx+=1\n",
    "                cv2.imwrite(saving_dir+\"image_\"+str(frame_idx).zfill(5)+\".jpg\",f)\n",
    "            cv2.imshow(\"preview\",op_frame)\n",
    "            k = cv2.waitKey(1)\n",
    "            if k==ord('q'):\n",
    "                break\n",
    "    cap.release()\n",
    "            \n",
    "\n",
    "    \n",
    "cv2.destroyAllWindows()\n",
    "\n"
   ]
  },
  {
   "cell_type": "code",
   "execution_count": null,
   "metadata": {},
   "outputs": [],
   "source": []
  }
 ],
 "metadata": {
  "kernelspec": {
   "display_name": "openvino",
   "language": "python",
   "name": "openvino"
  },
  "language_info": {
   "codemirror_mode": {
    "name": "ipython",
    "version": 3
   },
   "file_extension": ".py",
   "mimetype": "text/x-python",
   "name": "python",
   "nbconvert_exporter": "python",
   "pygments_lexer": "ipython3",
   "version": "3.6.8"
  },
  "widgets": {
   "application/vnd.jupyter.widget-state+json": {
    "state": {},
    "version_major": 2,
    "version_minor": 0
   }
  }
 },
 "nbformat": 4,
 "nbformat_minor": 4
}
