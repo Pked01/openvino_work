{
 "cells": [
  {
   "cell_type": "code",
   "execution_count": 1,
   "metadata": {
    "execution": {
     "iopub.execute_input": "2021-07-02T09:58:17.449795Z",
     "iopub.status.busy": "2021-07-02T09:58:17.449628Z",
     "iopub.status.idle": "2021-07-02T09:58:18.297651Z",
     "shell.execute_reply": "2021-07-02T09:58:18.296947Z",
     "shell.execute_reply.started": "2021-07-02T09:58:17.449770Z"
    },
    "tags": []
   },
   "outputs": [],
   "source": [
    "import cv2,os,time,glob\n",
    "os.sys.path.append('../utilities/')\n",
    "from datetime import datetime\n",
    "import numpy as np\n",
    "import IPython.display as Disp\n",
    "import support_utility_openvino\n",
    "import matplotlib.pyplot as plt\n",
    "import ipywidgets as widgets\n",
    "from shapely.geometry import Polygon,Point\n"
   ]
  },
  {
   "cell_type": "code",
   "execution_count": null,
   "metadata": {},
   "outputs": [],
   "source": []
  },
  {
   "cell_type": "code",
   "execution_count": 2,
   "metadata": {
    "execution": {
     "iopub.execute_input": "2021-07-02T09:58:18.301788Z",
     "iopub.status.busy": "2021-07-02T09:58:18.301624Z",
     "iopub.status.idle": "2021-07-02T09:58:18.308240Z",
     "shell.execute_reply": "2021-07-02T09:58:18.307777Z",
     "shell.execute_reply.started": "2021-07-02T09:58:18.301757Z"
    },
    "tags": []
   },
   "outputs": [],
   "source": [
    "import imagesize\n",
    "import xml.etree.ElementTree as ET\n"
   ]
  },
  {
   "cell_type": "code",
   "execution_count": 3,
   "metadata": {
    "execution": {
     "iopub.execute_input": "2021-07-02T09:58:42.206236Z",
     "iopub.status.busy": "2021-07-02T09:58:42.205690Z",
     "iopub.status.idle": "2021-07-02T09:58:42.209473Z",
     "shell.execute_reply": "2021-07-02T09:58:42.208731Z",
     "shell.execute_reply.started": "2021-07-02T09:58:42.206194Z"
    },
    "tags": []
   },
   "outputs": [],
   "source": [
    "model_path = \"/media/prateek/shared_space/Notebooks/git_repos/openvino_training_extensions/pytorch_toolkit/object_detection/custom_model/person_detection_1/outputs/openvino/alt_ssd_export/2020_03_18_person_detection.xml\""
   ]
  },
  {
   "cell_type": "code",
   "execution_count": 4,
   "metadata": {
    "execution": {
     "iopub.execute_input": "2021-07-02T09:58:44.314183Z",
     "iopub.status.busy": "2021-07-02T09:58:44.312737Z",
     "iopub.status.idle": "2021-07-02T09:58:44.569713Z",
     "shell.execute_reply": "2021-07-02T09:58:44.567764Z",
     "shell.execute_reply.started": "2021-07-02T09:58:44.313995Z"
    },
    "tags": []
   },
   "outputs": [
    {
     "name": "stdout",
     "output_type": "stream",
     "text": [
      "Available Devices :  ['CPU', 'GNA', 'GPU']\n"
     ]
    }
   ],
   "source": [
    "detector_model = support_utility_openvino.async_infer()\n",
    "output_support = support_utility_openvino.create_plot()"
   ]
  },
  {
   "cell_type": "code",
   "execution_count": 5,
   "metadata": {
    "execution": {
     "iopub.execute_input": "2021-07-02T09:58:46.192448Z",
     "iopub.status.busy": "2021-07-02T09:58:46.192251Z",
     "iopub.status.idle": "2021-07-02T09:58:46.372509Z",
     "shell.execute_reply": "2021-07-02T09:58:46.372004Z",
     "shell.execute_reply.started": "2021-07-02T09:58:46.192424Z"
    },
    "tags": []
   },
   "outputs": [
    {
     "name": "stdout",
     "output_type": "stream",
     "text": [
      "OPTIMIZATION_CAPABILITIES for CPU:  ['FP32', 'FP16', 'INT8', 'BIN']\n",
      "model inputs : dict_keys(['image'])\n",
      "model outputs :  dict_keys(['detection_out'])\n"
     ]
    }
   ],
   "source": [
    "detector_model.load_model(model_path,\"CPU\")"
   ]
  },
  {
   "cell_type": "code",
   "execution_count": 63,
   "metadata": {
    "execution": {
     "iopub.execute_input": "2021-02-10T07:34:13.276601Z",
     "iopub.status.busy": "2021-02-10T07:34:13.276400Z",
     "iopub.status.idle": "2021-02-10T07:38:19.041871Z",
     "shell.execute_reply": "2021-02-10T07:38:19.040967Z",
     "shell.execute_reply.started": "2021-02-10T07:34:13.276577Z"
    }
   },
   "outputs": [],
   "source": [
    "cap = cv2.VideoCapture(f)\n",
    "while True:\n",
    "    ret,frame = cap.read()\n",
    "    thresh = variance_of_laplacian(frame)\n",
    "    cv2.putText(frame,str(thresh),(30,30),cv2.FONT_HERSHEY_COMPLEX_SMALL,1,cv2.LINE_AA)\n",
    "    cv2.imshow(\"preview\",frame)\n",
    "    k = cv2.waitKey(1)\n",
    "    if k==ord('q'):\n",
    "        break\n",
    "cv2.destroyAllWindows()\n",
    "cap.release()"
   ]
  },
  {
   "cell_type": "code",
   "execution_count": 60,
   "metadata": {
    "execution": {
     "iopub.execute_input": "2021-02-10T07:29:19.075190Z",
     "iopub.status.busy": "2021-02-10T07:29:19.074422Z",
     "iopub.status.idle": "2021-02-10T07:29:19.079499Z",
     "shell.execute_reply": "2021-02-10T07:29:19.078355Z",
     "shell.execute_reply.started": "2021-02-10T07:29:19.075126Z"
    }
   },
   "outputs": [],
   "source": [
    "def variance_of_laplacian(image):\n",
    "    # compute the Laplacian of the image and then return the focus\n",
    "    # measure, which is simply the variance of the Laplacian\n",
    "    return cv2.Laplacian(image, cv2.CV_64F).var()\n"
   ]
  },
  {
   "cell_type": "code",
   "execution_count": 17,
   "metadata": {
    "execution": {
     "iopub.execute_input": "2021-07-02T11:22:36.224043Z",
     "iopub.status.busy": "2021-07-02T11:22:36.223722Z",
     "iopub.status.idle": "2021-07-02T11:22:58.123689Z",
     "shell.execute_reply": "2021-07-02T11:22:58.123069Z",
     "shell.execute_reply.started": "2021-07-02T11:22:36.224003Z"
    },
    "tags": []
   },
   "outputs": [],
   "source": [
    "files = glob.glob(\"/media/prateek/shared_space/DATA_N_MODELS/useful_vids/person_dataset/VIKRAM_WOLLEN/combined_dataset/*\")\n",
    "project_name = \"person_detection\"\n",
    "thresh = .5\n",
    "\n",
    "skip_frame = 100 ### number of frames for which you want to skip the video\n",
    "image_num = 0\n",
    "d = datetime.now()\n",
    "image_folder_path = \"images/\"+project_name+\"/\"+str(d.year)+\"_\"+str(d.month).zfill(2)+\"_\"+str(d.day).zfill(2)+\"_\"+str(d.hour).zfill(2)+\"/\"\n",
    "os.makedirs(image_folder_path,exist_ok= True)\n",
    "label_dict = {0:\"person\"}\n",
    "\n",
    "annotation = ET.Element(\"annotations\")\n",
    "detector_model.reinit_model()\n",
    "\n",
    "for f in files:\n",
    "    ## images\n",
    "    frame = cv2.imread(f)\n",
    "    ##videos\n",
    "    \n",
    "#     cap = cv2.VideoCapture(f)\n",
    "#     while True:\n",
    "#         try:\n",
    "#             cap.set(1,int(cap.get(1))+skip_frame)\n",
    "#         except Exception as e:\n",
    "#             print(e)\n",
    "#         ret,frame = cap.read()\n",
    "#         if not ret:\n",
    "#             break\n",
    "    detector_model.predict(frame)\n",
    "    if detector_model.frame_processed>=detector_model.num_requests:\n",
    "        frame, attrs, res = detector_model.postprocess_op()\n",
    "        res_filt,bboxes = output_support.res2bbox(res[0],(frame.shape[1],frame.shape[0]),thresh=thresh)\n",
    "        if len(bboxes)>0:\n",
    "            frame_op = output_support.label_obj_detection(frame, res[0],thresh,[\"person\"])\n",
    "            cv2.imshow(\"preview\",frame_op)\n",
    "            k = cv2.waitKey(1)\n",
    "            if k==ord('q'):\n",
    "                cv2.destroyAllWindows()\n",
    "                break\n",
    "            filename = os.path.join(image_folder_path,str(image_num).zfill(6)+\".jpg\")\n",
    "            cv2.imwrite(filename,frame)\n",
    "            class_ids = res_filt[:,1].astype(int)\n",
    "            height,width = frame.shape[:2]\n",
    "            image = ET.Element(\"image\")\n",
    "            image.set(\"name\",str(image_num).zfill(6)+\".jpg\")\n",
    "            image.set(\"id\" ,str(image_num))\n",
    "            image.set(\"width\",str(width))\n",
    "            image.set(\"height\",str(height))\n",
    "            for idx,b in enumerate(bboxes):\n",
    "                box = ET.SubElement(image,\"box\")\n",
    "                box.set(\"label\",label_dict[class_ids[idx]])\n",
    "                box.set(\"occluded\",\"0\")\n",
    "                box.set(\"xtl\",str(b[0]))\n",
    "                box.set(\"ytl\",str(b[1]))\n",
    "                box.set(\"xbr\",str(b[2]))\n",
    "                box.set(\"ybr\",str(b[3]))\n",
    "            annotation.append(image)\n",
    "            image_num+=1\n",
    "    \n",
    "                \n",
    "\n",
    "                \n",
    "                \n",
    "               \n",
    "        \n",
    "\n",
    "mydata = ET.tostring(annotation)\n",
    "myfile = open(os.path.join(image_folder_path,\"annotation.xml\"), \"wb\")\n",
    "myfile.write(mydata)\n",
    "myfile.close()\n",
    "cv2.destroyAllWindows()"
   ]
  },
  {
   "cell_type": "code",
   "execution_count": 9,
   "metadata": {
    "execution": {
     "iopub.execute_input": "2021-07-02T10:20:31.067670Z",
     "iopub.status.busy": "2021-07-02T10:20:31.067413Z",
     "iopub.status.idle": "2021-07-02T10:20:31.072142Z",
     "shell.execute_reply": "2021-07-02T10:20:31.071348Z",
     "shell.execute_reply.started": "2021-07-02T10:20:31.067627Z"
    }
   },
   "outputs": [
    {
     "data": {
      "text/plain": [
       "array([0, 0, 0])"
      ]
     },
     "execution_count": 9,
     "metadata": {},
     "output_type": "execute_result"
    }
   ],
   "source": [
    "class_ids"
   ]
  },
  {
   "cell_type": "markdown",
   "metadata": {},
   "source": [
    "### annotation for frames only not for video"
   ]
  },
  {
   "cell_type": "code",
   "execution_count": null,
   "metadata": {},
   "outputs": [],
   "source": [
    "#!/usr/bin/env python\n",
    "# coding:utf-8\n",
    "import imagesize\n",
    "import xml.etree.ElementTree as ET\n",
    "annotation = ET.Element(\"annotations\")\n",
    "for row in df.iterrows():\n",
    "    width, height = imagesize.get(row[1][\"filename\"])\n",
    "    image = ET.Element(\"image\")\n",
    "    image.set(\"name\",row[1][\"filename\"].replace(\"/media/prateek/prateek_space/dataset/UTCL\",\"/home/computer_vision/Downloads/Notebooks/UTCL\"))\n",
    "    image.set(\"id\" ,str(row[0]))\n",
    "    image.set(\"width\",str(width))\n",
    "    image.set(\"height\",str(height))\n",
    "    if not np.isnan(row[1][\"helmet_coords\"]).any():\n",
    "        coords = row[1][\"helmet_coords\"]\n",
    "        box = ET.SubElement(image,\"box\")\n",
    "        box.set(\"label\",row[1][\"helmet_label\"])\n",
    "        box.set(\"occluded\",\"0\")\n",
    "        box.set(\"xtl\",str(coords[0]))\n",
    "        box.set(\"ytl\",str(coords[1]))\n",
    "        box.set(\"xbr\",str(coords[2]))\n",
    "        box.set(\"ybr\",str(coords[3]))\n",
    "    if not np.isnan(row[1][\"vest_coords\"]).any():\n",
    "        coords = row[1][\"vest_coords\"]\n",
    "        box = ET.SubElement(image,\"box\")\n",
    "        box.set(\"label\",row[1][\"vest_label\"])\n",
    "        box.set(\"occluded\",\"0\")\n",
    "        box.set(\"xtl\",str(coords[0]))\n",
    "        box.set(\"ytl\",str(coords[1]))\n",
    "        box.set(\"xbr\",str(coords[2]))\n",
    "        box.set(\"ybr\",str(coords[3]))\n",
    "    annotation.append(image)\n",
    "    "
   ]
  }
 ],
 "metadata": {
  "kernelspec": {
   "display_name": "openvino",
   "language": "python",
   "name": "openvino"
  },
  "language_info": {
   "codemirror_mode": {
    "name": "ipython",
    "version": 3
   },
   "file_extension": ".py",
   "mimetype": "text/x-python",
   "name": "python",
   "nbconvert_exporter": "python",
   "pygments_lexer": "ipython3",
   "version": "3.6.8"
  },
  "widgets": {
   "application/vnd.jupyter.widget-state+json": {
    "state": {},
    "version_major": 2,
    "version_minor": 0
   }
  }
 },
 "nbformat": 4,
 "nbformat_minor": 4
}
