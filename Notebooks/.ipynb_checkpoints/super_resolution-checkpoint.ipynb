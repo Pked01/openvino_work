{
 "cells": [
  {
   "cell_type": "code",
   "execution_count": 31,
   "metadata": {
    "ExecuteTime": {
     "end_time": "2020-04-25T08:31:08.079933Z",
     "start_time": "2020-04-25T08:31:08.077846Z"
    }
   },
   "outputs": [],
   "source": [
    "import cv2\n",
    "import support_utility_openvino\n",
    "import numpy as np"
   ]
  },
  {
   "cell_type": "code",
   "execution_count": 2,
   "metadata": {
    "ExecuteTime": {
     "end_time": "2020-04-25T08:00:04.593832Z",
     "start_time": "2020-04-25T08:00:04.591744Z"
    }
   },
   "outputs": [],
   "source": [
    "model_path = \"/home/prateek/prateek_space/intel_model_dump/intel/single-image-super-resolution-1033/FP32/single-image-super-resolution-1033.xml\"\n",
    "cpu_extension = \"../build_samples/intel64/Release/lib/libcpu_extension.so\"\n",
    "device = \"CPU\""
   ]
  },
  {
   "cell_type": "code",
   "execution_count": 3,
   "metadata": {
    "ExecuteTime": {
     "end_time": "2020-04-25T08:00:27.336901Z",
     "start_time": "2020-04-25T08:00:27.334393Z"
    }
   },
   "outputs": [],
   "source": [
    "model_detection = support_utility_openvino.async_infer()\n",
    "\n",
    "model_detection.load_model(model_path,device,cpu_extension)"
   ]
  },
  {
   "cell_type": "code",
   "execution_count": 97,
   "metadata": {
    "ExecuteTime": {
     "end_time": "2020-04-25T14:36:39.599394Z",
     "start_time": "2020-04-25T14:36:22.840973Z"
    }
   },
   "outputs": [],
   "source": [
    "channel = \"/media/prateek/PK_HDD/Movies/Hindi/Ramayan - The Legend of Prince Ram(1992)-8plH4CW7Feo.mp4\"\n",
    "channel = 0\n",
    "cap = cv2.VideoCapture(channel)\n",
    "\n",
    "while True:\n",
    "    ret,frame = cap.read()\n",
    "    bicupic = cv2.resize(frame,(1920,1080), interpolation = cv2.INTER_CUBIC) \n",
    "    model_detection.preprocess_frame(frame)\n",
    "    bicupic =  bicupic.transpose((2, 0, 1))\n",
    "    model_detection.exec_net.requests[0].inputs['0'][:] = model_detection.in_frame\n",
    "    model_detection.exec_net.requests[1].inputs['1'][:] = np.expand_dims(bicupic, axis=0)\n",
    "    res = [model_detection.exec_net.requests[0].outputs[node] for node in model_detection.out_blob ][0][0]\n",
    "    res *= 255\n",
    "    # for ensurance that all values in necessary diapasone\n",
    "    res = np.clip(res, 0., 255.)\n",
    "    # transpose CHW -> HWC and convert to unsigned int\n",
    "    res = res.transpose((1, 2, 0)).astype(np.uint8)\n",
    "    cv2.imshow(\"preview\",res)\n",
    "    k = cv2.waitKey(1)\n",
    "    if k==ord('q'):\n",
    "        break\n",
    "\n",
    "cap.release()\n",
    "cv2.destroyAllWindows()"
   ]
  },
  {
   "cell_type": "code",
   "execution_count": 96,
   "metadata": {
    "ExecuteTime": {
     "end_time": "2020-04-25T14:35:36.707862Z",
     "start_time": "2020-04-25T14:35:36.705142Z"
    }
   },
   "outputs": [],
   "source": [
    "cap.release()"
   ]
  },
  {
   "cell_type": "code",
   "execution_count": 91,
   "metadata": {
    "ExecuteTime": {
     "end_time": "2020-04-25T14:28:40.265876Z",
     "start_time": "2020-04-25T14:28:40.259415Z"
    }
   },
   "outputs": [
    {
     "data": {
      "text/plain": [
       "(1, 3, 1080, 1920)"
      ]
     },
     "execution_count": 91,
     "metadata": {},
     "output_type": "execute_result"
    }
   ],
   "source": [
    "np.expand_dims(bicupic, axis=0).shape"
   ]
  },
  {
   "cell_type": "code",
   "execution_count": 85,
   "metadata": {
    "ExecuteTime": {
     "end_time": "2020-04-25T14:21:30.821368Z",
     "start_time": "2020-04-25T14:21:30.810949Z"
    }
   },
   "outputs": [
    {
     "data": {
      "text/plain": [
       "{'90': <openvino.inference_engine.ie_api.CDataPtr at 0x7f391740bb30>}"
      ]
     },
     "execution_count": 85,
     "metadata": {},
     "output_type": "execute_result"
    }
   ],
   "source": [
    "transposed_image = np.transpose(original_image, (2,0,1))\n",
    "transposed_upsampled_image = np.transpose(upsample_image, (2, 0, 1))\n",
    "# CHW -> NCHW (where N is batch size) and fill feed dictionary\n",
    "input_data = {\n",
    "'0': np.expand_dims(transposed_image, axis=0),\n",
    " '1': np.expand_dims(transposed_upsampled_image, axis=0)\n",
    "}"
   ]
  },
  {
   "cell_type": "code",
   "execution_count": 82,
   "metadata": {
    "ExecuteTime": {
     "end_time": "2020-04-25T14:19:17.821563Z",
     "start_time": "2020-04-25T14:19:17.811748Z"
    }
   },
   "outputs": [
    {
     "data": {
      "text/plain": [
       "(3, 1080, 1920)"
      ]
     },
     "execution_count": 82,
     "metadata": {},
     "output_type": "execute_result"
    }
   ],
   "source": [
    "res *= 255\n",
    "# for ensurance that all values in necessary diapasone\n",
    "res = np.clip(res, 0., 255.)\n",
    "# transpose CHW -> HWC and convert to unsigned int\n",
    "res = res.transpose((1, 2, 0)).astype(np.uint8)"
   ]
  },
  {
   "cell_type": "code",
   "execution_count": 68,
   "metadata": {
    "ExecuteTime": {
     "end_time": "2020-04-25T13:34:31.560562Z",
     "start_time": "2020-04-25T13:34:31.386351Z"
    }
   },
   "outputs": [],
   "source": [
    "op = model_detection.exec_net.requests[0].infer()\n"
   ]
  },
  {
   "cell_type": "code",
   "execution_count": 69,
   "metadata": {
    "ExecuteTime": {
     "end_time": "2020-04-25T13:34:33.163226Z",
     "start_time": "2020-04-25T13:34:33.158368Z"
    }
   },
   "outputs": [],
   "source": [
    "op"
   ]
  },
  {
   "cell_type": "code",
   "execution_count": 65,
   "metadata": {
    "ExecuteTime": {
     "end_time": "2020-04-25T13:33:20.032158Z",
     "start_time": "2020-04-25T13:33:20.026026Z"
    }
   },
   "outputs": [
    {
     "data": {
      "text/plain": [
       "(1, 3, 360, 640)"
      ]
     },
     "execution_count": 65,
     "metadata": {},
     "output_type": "execute_result"
    }
   ],
   "source": [
    "model_detection.in_frame.shape"
   ]
  },
  {
   "cell_type": "code",
   "execution_count": 60,
   "metadata": {
    "ExecuteTime": {
     "end_time": "2020-04-25T08:40:22.037236Z",
     "start_time": "2020-04-25T08:40:11.828970Z"
    },
    "scrolled": true
   },
   "outputs": [],
   "source": [
    "exec_net.requests[0].infer()\n",
    "\n",
    "    \n",
    "\n",
    "    model_detection.predict(frame)\n",
    "    if model_detection.frame_processed>model_detection.buffer_shape:\n",
    "        frame,attr,res = model_detection.postprocess_op()\n",
    "        op = res[0][0].transpose((1, 2, 0))\n",
    "        op = cv2.normalize(op, None, 0, 255,cv2.NORM_MINMAX,  cv2.CV_8UC1)\n",
    "        cv2.imshow(\"preview\",op)\n",
    "        k = cv2.waitKey(1)\n",
    "        if k==ord('q'):\n",
    "            cv2.destroyAllWindows()\n",
    "            cap.release()\n",
    "            break\n",
    "        "
   ]
  },
  {
   "cell_type": "code",
   "execution_count": 57,
   "metadata": {
    "ExecuteTime": {
     "end_time": "2020-04-25T08:39:42.456541Z",
     "start_time": "2020-04-25T08:39:42.453579Z"
    }
   },
   "outputs": [],
   "source": [
    "cap.release()"
   ]
  },
  {
   "cell_type": "code",
   "execution_count": null,
   "metadata": {},
   "outputs": [],
   "source": [
    "cv2.resize"
   ]
  }
 ],
 "metadata": {
  "kernelspec": {
   "display_name": "openvino",
   "language": "python",
   "name": "openvino"
  },
  "language_info": {
   "codemirror_mode": {
    "name": "ipython",
    "version": 3
   },
   "file_extension": ".py",
   "mimetype": "text/x-python",
   "name": "python",
   "nbconvert_exporter": "python",
   "pygments_lexer": "ipython3",
   "version": "3.6.8"
  }
 },
 "nbformat": 4,
 "nbformat_minor": 2
}
