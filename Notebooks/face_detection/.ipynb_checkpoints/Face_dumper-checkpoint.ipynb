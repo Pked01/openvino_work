{
 "cells": [
  {
   "cell_type": "code",
   "execution_count": 1,
   "metadata": {
    "ExecuteTime": {
     "end_time": "2020-01-17T10:17:16.556678Z",
     "start_time": "2020-01-17T10:17:16.550981Z"
    }
   },
   "outputs": [],
   "source": [
    "face_detection_path = '/media/prateek/prateek_space/intel_model_dump/intel/face-detection-adas-0001/FP32/face-detection-adas-0001.xml'\n",
    "cpu_extension = '../build_samples/intel64/Release/lib/libcpu_extension.so'\n",
    "device = 'CPU'\n"
   ]
  },
  {
   "cell_type": "code",
   "execution_count": 2,
   "metadata": {
    "ExecuteTime": {
     "end_time": "2020-01-17T10:17:17.597327Z",
     "start_time": "2020-01-17T10:17:17.034299Z"
    }
   },
   "outputs": [],
   "source": [
    "import time,cv2,os,glob\n",
    "from datetime import datetime\n",
    "import numpy as np\n",
    "import IPython.display as Disp\n",
    "import support_utility_openvino"
   ]
  },
  {
   "cell_type": "code",
   "execution_count": 3,
   "metadata": {
    "ExecuteTime": {
     "end_time": "2020-01-14T11:15:12.601955Z",
     "start_time": "2020-01-14T11:15:12.370947Z"
    },
    "scrolled": true
   },
   "outputs": [
    {
     "name": "stdout",
     "output_type": "stream",
     "text": [
      "loading sample element\n"
     ]
    }
   ],
   "source": [
    "face_detection_model = support_utility_openvino.async_infer(4)\n",
    "face_detection_model.load_model(cpu_exension_path=cpu_extension,model_path=face_detection_path,device=device)\n",
    "output_support = support_utility_openvino.create_plot()"
   ]
  },
  {
   "cell_type": "code",
   "execution_count": 4,
   "metadata": {
    "ExecuteTime": {
     "end_time": "2020-01-14T11:15:13.943585Z",
     "start_time": "2020-01-14T11:15:13.937336Z"
    }
   },
   "outputs": [],
   "source": [
    "filename = 0"
   ]
  },
  {
   "cell_type": "code",
   "execution_count": 5,
   "metadata": {
    "ExecuteTime": {
     "end_time": "2020-01-14T11:15:14.488152Z",
     "start_time": "2020-01-14T11:15:14.484310Z"
    }
   },
   "outputs": [],
   "source": [
    "def dump_images(images,res_thresh=20000):\n",
    "    dump_path = datetime.now().strftime(\"%Y_%m_%d_%H\")\n",
    "    os.makedirs(dump_path,exist_ok=True)\n",
    "    list_of_files = glob.glob(dump_path+\"/*\") # * means all if need specific format then *.csv\n",
    "    try:\n",
    "        latest_file = max(list_of_files, key=os.path.getctime)\n",
    "        filename = int(latest_file.split(\"/\")[-1].replace('.jpg',''))+1\n",
    "    except:\n",
    "        filename = 0\n",
    "        pass\n",
    "    for im in images:\n",
    "        if im.shape[0]*im.shape[1]>res_thresh:\n",
    "            cv2.imwrite(os.path.join(dump_path,str(filename).zfill(8)+'.jpg'),im)\n",
    "            filename+=1\n",
    "        \n",
    "    "
   ]
  },
  {
   "cell_type": "code",
   "execution_count": 8,
   "metadata": {
    "ExecuteTime": {
     "end_time": "2020-01-14T11:19:23.962496Z",
     "start_time": "2020-01-14T11:19:09.644680Z"
    }
   },
   "outputs": [],
   "source": [
    "res_thresh = 20000\n",
    "cap = cv2.VideoCapture('/media/prateek/prateek_space/dataset/veraval_entry_gate/veraval_cut_videos.mp4')\n",
    "ret,frame = cap.read()\n",
    "fps = []\n",
    "thresh = .8\n",
    "skip_frames = 30\n",
    "# dets = []\n",
    "while True:\n",
    "    for i  in range(skip_frames):\n",
    "        ret,frame = cap.read()\n",
    "    fps = fps[-100:]\n",
    "    Disp.clear_output(wait=True)\n",
    "    ret,frame = cap.read()\n",
    "    if not ret:\n",
    "        break\n",
    "    t1 = time.time()\n",
    "    face_detection_model.predict(frame)\n",
    "    if face_detection_model.frame_processed>face_detection_model.buffer_shape:\n",
    "        try:\n",
    "            frame,attr,res = face_detection_model.postprocess_op()\n",
    "            op,bboxes = output_support.trim_frame_with_result(frame,res[0],threshold=thresh,offset=40)\n",
    "            dump_images(op,res_thresh)\n",
    "        \n",
    "            \n",
    "\n",
    "        except Exception as e:\n",
    "            print(e)\n",
    "#         print(vehicle_detection.cursor_id,vehicle_detection.frame_processed)\n",
    "\n",
    "cap.release()\n",
    "cv2.destroyAllWindows()\n",
    "        \n",
    "        \n",
    "    "
   ]
  },
  {
   "cell_type": "markdown",
   "metadata": {},
   "source": [
    "#############################"
   ]
  },
  {
   "cell_type": "code",
   "execution_count": null,
   "metadata": {},
   "outputs": [],
   "source": []
  }
 ],
 "metadata": {
  "kernelspec": {
   "display_name": "openvino",
   "language": "python",
   "name": "openvino"
  },
  "language_info": {
   "codemirror_mode": {
    "name": "ipython",
    "version": 3
   },
   "file_extension": ".py",
   "mimetype": "text/x-python",
   "name": "python",
   "nbconvert_exporter": "python",
   "pygments_lexer": "ipython3",
   "version": "3.6.8"
  }
 },
 "nbformat": 4,
 "nbformat_minor": 2
}
