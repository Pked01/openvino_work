{
 "cells": [
  {
   "cell_type": "code",
   "execution_count": 1,
   "metadata": {
    "execution": {
     "iopub.execute_input": "2021-09-27T07:58:17.717043Z",
     "iopub.status.busy": "2021-09-27T07:58:17.716823Z",
     "iopub.status.idle": "2021-09-27T07:58:17.879111Z",
     "shell.execute_reply": "2021-09-27T07:58:17.878516Z",
     "shell.execute_reply.started": "2021-09-27T07:58:17.717016Z"
    },
    "tags": []
   },
   "outputs": [],
   "source": [
    "import os,cv2\n",
    "os.sys.path.append(\"../utilities/\")\n"
   ]
  },
  {
   "cell_type": "code",
   "execution_count": 2,
   "metadata": {
    "execution": {
     "iopub.execute_input": "2021-09-27T07:58:17.880450Z",
     "iopub.status.busy": "2021-09-27T07:58:17.880134Z",
     "iopub.status.idle": "2021-09-27T07:58:18.841641Z",
     "shell.execute_reply": "2021-09-27T07:58:18.841056Z",
     "shell.execute_reply.started": "2021-09-27T07:58:17.880408Z"
    },
    "tags": []
   },
   "outputs": [
    {
     "name": "stderr",
     "output_type": "stream",
     "text": [
      "/home/prateek/.virtualenvs/openvino/lib/python3.6/site-packages/sklearn/utils/linear_assignment_.py:22: FutureWarning: The linear_assignment_ module is deprecated in 0.21 and will be removed from 0.23. Use scipy.optimize.linear_sum_assignment instead.\n",
      "  FutureWarning)\n"
     ]
    }
   ],
   "source": [
    "import numpy as np\n",
    "\n",
    "import support_utility_openvino\n",
    "from mobileface_sort_v1 import Sort\n"
   ]
  },
  {
   "cell_type": "code",
   "execution_count": 3,
   "metadata": {
    "execution": {
     "iopub.execute_input": "2021-09-27T07:58:18.842775Z",
     "iopub.status.busy": "2021-09-27T07:58:18.842537Z",
     "iopub.status.idle": "2021-09-27T07:58:18.845233Z",
     "shell.execute_reply": "2021-09-27T07:58:18.844813Z",
     "shell.execute_reply.started": "2021-09-27T07:58:18.842699Z"
    },
    "tags": []
   },
   "outputs": [],
   "source": [
    "detection_model_path = '/media/prateek/shared_space/DATA_N_MODELS/useful_models/openvino/face-detection-retail-0004/FP32/face-detection-retail-0004.xml'\n",
    "device = 'CPU'\n",
    "output_support = support_utility_openvino.create_plot()"
   ]
  },
  {
   "cell_type": "code",
   "execution_count": 4,
   "metadata": {
    "execution": {
     "iopub.execute_input": "2021-09-27T07:58:18.846148Z",
     "iopub.status.busy": "2021-09-27T07:58:18.845937Z",
     "iopub.status.idle": "2021-09-27T07:58:18.983274Z",
     "shell.execute_reply": "2021-09-27T07:58:18.982731Z",
     "shell.execute_reply.started": "2021-09-27T07:58:18.846091Z"
    },
    "tags": []
   },
   "outputs": [
    {
     "name": "stdout",
     "output_type": "stream",
     "text": [
      "Available Devices :  ['CPU', 'GNA', 'GPU']\n",
      "OPTIMIZATION_CAPABILITIES for CPU:  ['FP32', 'FP16', 'INT8', 'BIN']\n",
      "model inputs : dict_keys(['data'])\n",
      "model outputs :  dict_keys(['detection_out'])\n"
     ]
    }
   ],
   "source": [
    "face_detection = support_utility_openvino.async_infer(4)\n",
    "face_detection.load_model(model_path=detection_model_path,device=device)"
   ]
  },
  {
   "cell_type": "code",
   "execution_count": 5,
   "metadata": {
    "execution": {
     "iopub.execute_input": "2021-09-27T07:58:18.984144Z",
     "iopub.status.busy": "2021-09-27T07:58:18.983968Z",
     "iopub.status.idle": "2021-09-27T07:58:18.986286Z",
     "shell.execute_reply": "2021-09-27T07:58:18.985878Z",
     "shell.execute_reply.started": "2021-09-27T07:58:18.984120Z"
    },
    "tags": []
   },
   "outputs": [],
   "source": [
    "channel = \"/media/prateek/shared_space/DATA_N_MODELS/useful_vids/veraval/face_detection/202003211445.mp4\"\n",
    "# channel = \"/media/prateek/prateek_space/dataset/veraval_production/videos/social_distancing/Chemical road_IP Camera3_Chemical road_20190831095808_20190831095934_80790759.mp4\""
   ]
  },
  {
   "cell_type": "code",
   "execution_count": 9,
   "metadata": {
    "execution": {
     "iopub.execute_input": "2021-09-27T07:55:48.733586Z",
     "iopub.status.busy": "2021-09-27T07:55:48.732809Z",
     "iopub.status.idle": "2021-09-27T07:55:58.191702Z",
     "shell.execute_reply": "2021-09-27T07:55:58.190691Z",
     "shell.execute_reply.started": "2021-09-27T07:55:48.733492Z"
    },
    "tags": []
   },
   "outputs": [
    {
     "data": {
      "text/plain": [
       "(0.002459490740740741, 0.07465277777777778)"
      ]
     },
     "execution_count": 9,
     "metadata": {},
     "output_type": "execute_result"
    }
   ],
   "source": [
    "cap = cv2.VideoCapture(channel)\n",
    "ret,frame = cap.read()\n",
    "output_support.get_resolution_thresh(frame)"
   ]
  },
  {
   "cell_type": "code",
   "execution_count": 6,
   "metadata": {
    "execution": {
     "iopub.execute_input": "2021-09-27T07:58:24.714405Z",
     "iopub.status.busy": "2021-09-27T07:58:24.713526Z",
     "iopub.status.idle": "2021-09-27T07:58:29.358599Z",
     "shell.execute_reply": "2021-09-27T07:58:29.357929Z",
     "shell.execute_reply.started": "2021-09-27T07:58:24.714289Z"
    },
    "tags": []
   },
   "outputs": [
    {
     "name": "stderr",
     "output_type": "stream",
     "text": [
      "/home/prateek/.virtualenvs/openvino/lib/python3.6/site-packages/sklearn/utils/linear_assignment_.py:128: FutureWarning: The linear_assignment function is deprecated in 0.21 and will be removed from 0.23. Use scipy.optimize.linear_sum_assignment instead.\n",
      "  FutureWarning)\n"
     ]
    },
    {
     "ename": "NameError",
     "evalue": "name 'videowriter' is not defined",
     "output_type": "error",
     "traceback": [
      "\u001b[0;31m---------------------------------------------------------------------------\u001b[0m",
      "\u001b[0;31mNameError\u001b[0m                                 Traceback (most recent call last)",
      "\u001b[0;32m<ipython-input-6-982ec28f94e1>\u001b[0m in \u001b[0;36m<module>\u001b[0;34m\u001b[0m\n\u001b[1;32m     36\u001b[0m                 \u001b[0;32mbreak\u001b[0m\u001b[0;34m\u001b[0m\u001b[0;34m\u001b[0m\u001b[0m\n\u001b[1;32m     37\u001b[0m \u001b[0;34m\u001b[0m\u001b[0m\n\u001b[0;32m---> 38\u001b[0;31m \u001b[0mvideowriter\u001b[0m\u001b[0;34m.\u001b[0m\u001b[0mrelease\u001b[0m\u001b[0;34m(\u001b[0m\u001b[0;34m)\u001b[0m\u001b[0;34m\u001b[0m\u001b[0;34m\u001b[0m\u001b[0m\n\u001b[0m\u001b[1;32m     39\u001b[0m \u001b[0mcap\u001b[0m\u001b[0;34m.\u001b[0m\u001b[0mrelease\u001b[0m\u001b[0;34m(\u001b[0m\u001b[0;34m)\u001b[0m\u001b[0;34m\u001b[0m\u001b[0;34m\u001b[0m\u001b[0m\n\u001b[1;32m     40\u001b[0m \u001b[0mcv2\u001b[0m\u001b[0;34m.\u001b[0m\u001b[0mdestroyAllWindows\u001b[0m\u001b[0;34m(\u001b[0m\u001b[0;34m)\u001b[0m\u001b[0;34m\u001b[0m\u001b[0;34m\u001b[0m\u001b[0m\n",
      "\u001b[0;31mNameError\u001b[0m: name 'videowriter' is not defined"
     ]
    }
   ],
   "source": [
    "mot_tracker = Sort(10, 3)\n",
    "\n",
    "thresh = .2\n",
    "\n",
    "cap = cv2.VideoCapture(channel)\n",
    "frame_width, frame_height = int(cap.get(3)),int(cap.get(4))\n",
    "# ratio_li = []\n",
    "write_video = False\n",
    "if write_video:\n",
    "    fourcc = cv2.VideoWriter_fourcc(*'X264')\n",
    "    videowriter = cv2.VideoWriter(\"../output_vids/face_detection/\"+\"sort_face_Tracker\"+\".mp4\",fourcc, 30, (int(cap.get(3)),int(cap.get(4))))\n",
    "face_detection.reinit_model()\n",
    "while True:\n",
    "\n",
    "    ret,frame = cap.read()\n",
    "    if not ret:\n",
    "        break\n",
    "    face_detection.predict(frame)\n",
    "    if face_detection.frame_processed>=face_detection.num_requests:\n",
    "        frame,attr,res = face_detection.postprocess_op()\n",
    "        res_filt,bboxes = output_support.res2bbox(res[0],(frame_width,frame_height),[.002,.1],thresh = thresh,return_res=True)\n",
    "        if len(bboxes)>0:\n",
    "            ids = [[0]]*len(bboxes)\n",
    "            dets = np.concatenate((bboxes,ids),axis=1)\n",
    "            trackers = mot_tracker.update(dets)\n",
    "            for d in trackers:\n",
    "                cv2.rectangle(frame, (int(d[0]), int(d[1])), (int(d[2]), int(d[3])), (255,255,255), 3)\n",
    "                cv2.putText(frame, str('%s%d' % ('face', d[4])), \n",
    "                           (int(d[0]), int(d[1]) - 5), cv2.FONT_HERSHEY_COMPLEX , 0.8, (255,255,255), 2)\n",
    "            cv2.imshow(\"preview\",frame)\n",
    "            k = cv2.waitKey(1)\n",
    "            if write_video:\n",
    "                videowriter.write(frame)\n",
    "                \n",
    "            if k==ord('q'):\n",
    "                break\n",
    "if write_video:                \n",
    "    videowriter.release()\n",
    "cap.release()\n",
    "cv2.destroyAllWindows()"
   ]
  },
  {
   "cell_type": "code",
   "execution_count": null,
   "metadata": {},
   "outputs": [],
   "source": []
  }
 ],
 "metadata": {
  "kernelspec": {
   "display_name": "openvino",
   "language": "python",
   "name": "openvino"
  },
  "language_info": {
   "codemirror_mode": {
    "name": "ipython",
    "version": 3
   },
   "file_extension": ".py",
   "mimetype": "text/x-python",
   "name": "python",
   "nbconvert_exporter": "python",
   "pygments_lexer": "ipython3",
   "version": "3.6.8"
  },
  "widgets": {
   "application/vnd.jupyter.widget-state+json": {
    "state": {},
    "version_major": 2,
    "version_minor": 0
   }
  }
 },
 "nbformat": 4,
 "nbformat_minor": 4
}
