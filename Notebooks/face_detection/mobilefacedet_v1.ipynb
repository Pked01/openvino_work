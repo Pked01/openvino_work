{
 "cells": [
  {
   "cell_type": "code",
   "execution_count": 1,
   "metadata": {
    "execution": {
     "iopub.execute_input": "2020-08-25T10:01:34.522511Z",
     "iopub.status.busy": "2020-08-25T10:01:34.522290Z",
     "iopub.status.idle": "2020-08-25T10:01:34.685907Z",
     "shell.execute_reply": "2020-08-25T10:01:34.685405Z",
     "shell.execute_reply.started": "2020-08-25T10:01:34.522472Z"
    }
   },
   "outputs": [],
   "source": [
    "import os,cv2,time\n",
    "import numpy as np"
   ]
  },
  {
   "cell_type": "code",
   "execution_count": 2,
   "metadata": {
    "execution": {
     "iopub.execute_input": "2020-08-25T10:01:34.686767Z",
     "iopub.status.busy": "2020-08-25T10:01:34.686606Z",
     "iopub.status.idle": "2020-08-25T10:01:34.689353Z",
     "shell.execute_reply": "2020-08-25T10:01:34.688797Z",
     "shell.execute_reply.started": "2020-08-25T10:01:34.686744Z"
    }
   },
   "outputs": [],
   "source": [
    "os.sys.path.append(\"../utilities/\")\n",
    "os.sys.path.append(\"mobileface_det_yolov3/\")\n"
   ]
  },
  {
   "cell_type": "code",
   "execution_count": 3,
   "metadata": {
    "execution": {
     "iopub.execute_input": "2020-08-25T10:01:34.690412Z",
     "iopub.status.busy": "2020-08-25T10:01:34.690244Z",
     "iopub.status.idle": "2020-08-25T10:01:34.866563Z",
     "shell.execute_reply": "2020-08-25T10:01:34.865808Z",
     "shell.execute_reply.started": "2020-08-25T10:01:34.690389Z"
    }
   },
   "outputs": [],
   "source": [
    "import support_utility_openvino\n",
    "from yolov3_util import get_objects,filter_objects"
   ]
  },
  {
   "cell_type": "code",
   "execution_count": 4,
   "metadata": {
    "execution": {
     "iopub.execute_input": "2020-08-25T10:01:35.522413Z",
     "iopub.status.busy": "2020-08-25T10:01:35.521534Z",
     "iopub.status.idle": "2020-08-25T10:01:35.532255Z",
     "shell.execute_reply": "2020-08-25T10:01:35.529276Z",
     "shell.execute_reply.started": "2020-08-25T10:01:35.522295Z"
    }
   },
   "outputs": [],
   "source": [
    "output_support = support_utility_openvino.create_plot()"
   ]
  },
  {
   "cell_type": "code",
   "execution_count": 5,
   "metadata": {
    "execution": {
     "iopub.execute_input": "2020-08-25T10:01:35.536976Z",
     "iopub.status.busy": "2020-08-25T10:01:35.535765Z",
     "iopub.status.idle": "2020-08-25T10:01:35.543211Z",
     "shell.execute_reply": "2020-08-25T10:01:35.541767Z",
     "shell.execute_reply.started": "2020-08-25T10:01:35.536848Z"
    }
   },
   "outputs": [],
   "source": [
    "model_path = \"/media/prateek/prateek_space/intel_model_dump/public/mobilefacedet-v1-mxnet/openvino_model/mobilefacedet_v1_mxnet-0000.xml\"\n",
    "mask_model_path = \"/media/prateek/prateek_space/model_files/mask_detection/mobilenet/basemaskmodel_mobilenet.xml\""
   ]
  },
  {
   "cell_type": "code",
   "execution_count": 6,
   "metadata": {
    "execution": {
     "iopub.execute_input": "2020-08-25T10:01:35.582695Z",
     "iopub.status.busy": "2020-08-25T10:01:35.582487Z",
     "iopub.status.idle": "2020-08-25T10:01:35.670567Z",
     "shell.execute_reply": "2020-08-25T10:01:35.670047Z",
     "shell.execute_reply.started": "2020-08-25T10:01:35.582669Z"
    }
   },
   "outputs": [
    {
     "name": "stdout",
     "output_type": "stream",
     "text": [
      "Available Devices :  ['CPU', 'GNA', 'GPU']\n"
     ]
    }
   ],
   "source": [
    "model_facedet = support_utility_openvino.async_infer()"
   ]
  },
  {
   "cell_type": "code",
   "execution_count": 7,
   "metadata": {
    "execution": {
     "iopub.execute_input": "2020-08-25T10:01:36.514150Z",
     "iopub.status.busy": "2020-08-25T10:01:36.513918Z",
     "iopub.status.idle": "2020-08-25T10:01:36.765647Z",
     "shell.execute_reply": "2020-08-25T10:01:36.765182Z",
     "shell.execute_reply.started": "2020-08-25T10:01:36.514119Z"
    }
   },
   "outputs": [
    {
     "name": "stdout",
     "output_type": "stream",
     "text": [
      "OPTIMIZATION_CAPABILITIES for CPU:  ['FP32', 'FP16', 'INT8', 'BIN']\n",
      "model inputs : dict_keys(['data'])\n",
      "model outputs :  dict_keys(['yolov30_yolooutputv30_conv0_fwd/YoloRegion', 'yolov30_yolooutputv31_conv0_fwd/YoloRegion', 'yolov30_yolooutputv32_conv0_fwd/YoloRegion'])\n"
     ]
    }
   ],
   "source": [
    "model_facedet.load_model(model_path,\"CPU\",input_format=\"NHWC\")"
   ]
  },
  {
   "cell_type": "code",
   "execution_count": 8,
   "metadata": {
    "execution": {
     "iopub.execute_input": "2020-08-25T10:01:37.533825Z",
     "iopub.status.busy": "2020-08-25T10:01:37.533455Z",
     "iopub.status.idle": "2020-08-25T10:01:37.541813Z",
     "shell.execute_reply": "2020-08-25T10:01:37.541107Z",
     "shell.execute_reply.started": "2020-08-25T10:01:37.533776Z"
    }
   },
   "outputs": [
    {
     "name": "stdout",
     "output_type": "stream",
     "text": [
      "Available Devices :  ['CPU', 'GNA', 'GPU']\n"
     ]
    }
   ],
   "source": [
    "mask_det = support_utility_openvino.async_infer(ie_network=model_facedet.ie)"
   ]
  },
  {
   "cell_type": "code",
   "execution_count": 9,
   "metadata": {
    "execution": {
     "iopub.execute_input": "2020-08-25T10:01:40.554194Z",
     "iopub.status.busy": "2020-08-25T10:01:40.553761Z",
     "iopub.status.idle": "2020-08-25T10:01:55.332157Z",
     "shell.execute_reply": "2020-08-25T10:01:55.331716Z",
     "shell.execute_reply.started": "2020-08-25T10:01:40.554139Z"
    }
   },
   "outputs": [
    {
     "name": "stdout",
     "output_type": "stream",
     "text": [
      "OPTIMIZATION_CAPABILITIES for GPU:  ['FP32', 'BIN', 'FP16']\n",
      "model inputs : dict_keys(['input_1_2'])\n",
      "model outputs :  dict_keys(['act_softmax_2/Softmax'])\n"
     ]
    }
   ],
   "source": [
    "mask_det.load_model(mask_model_path,\"GPU\")"
   ]
  },
  {
   "cell_type": "code",
   "execution_count": 10,
   "metadata": {
    "execution": {
     "iopub.execute_input": "2020-08-25T10:01:55.333088Z",
     "iopub.status.busy": "2020-08-25T10:01:55.332897Z",
     "iopub.status.idle": "2020-08-25T10:01:55.435244Z",
     "shell.execute_reply": "2020-08-25T10:01:55.434835Z",
     "shell.execute_reply.started": "2020-08-25T10:01:55.333029Z"
    }
   },
   "outputs": [],
   "source": [
    "layer_params = []\n",
    "for layer_name in model_facedet.out_blob:\n",
    "    layer_params.append(model_facedet.net.layers[layer_name].params)"
   ]
  },
  {
   "cell_type": "code",
   "execution_count": 23,
   "metadata": {
    "execution": {
     "iopub.execute_input": "2020-08-27T06:50:36.743810Z",
     "iopub.status.busy": "2020-08-27T06:50:36.742959Z",
     "iopub.status.idle": "2020-08-27T06:51:27.435536Z",
     "shell.execute_reply": "2020-08-27T06:51:27.434522Z",
     "shell.execute_reply.started": "2020-08-27T06:50:36.743748Z"
    }
   },
   "outputs": [],
   "source": [
    "channel = \"/media/prateek/prateek_space/dataset/jayshree rishra textlie/Worsted Cam-6 (13.07.20).mp4\"\n",
    "cap  = cv2.VideoCapture(channel)\n",
    "\n",
    "thresh = .3\n",
    "iou_thresh = .4\n",
    "color = (255,0,0)\n",
    "frame_height, frame_width = (int(cap.get(4)),int(cap.get(3)))\n",
    "cv2.namedWindow(\"preview\",cv2.WINDOW_NORMAL)\n",
    "model_facedet.reinit_model()\n",
    "# mask_det.reinit_model()\n",
    "mask_labels = [\"mask\",\"no_mask\"]\n",
    "while True:\n",
    "    t1 = time.time()\n",
    "    ret,frame = cap.read()\n",
    "    if not ret:\n",
    "        break\n",
    "    op = model_facedet.predict(frame)\n",
    "    if model_facedet.frame_processed>=model_facedet.num_requests:\n",
    "        frame,attr,res = model_facedet.postprocess_op()\n",
    "        objects = get_objects(res,layer_params,(model_facedet.height,model_facedet.width),(frame_height, frame_width),thresh,False)\n",
    "        objects = filter_objects(objects,iou_thresh,thresh)\n",
    "        if len(objects)>0:\n",
    "\n",
    "            res = [[1,1,loc[\"confidence\"],loc[\"xmin\"]/frame_width,loc[\"ymin\"]/frame_height,loc[\"xmax\"]/frame_width,loc[\"ymax\"]/frame_height]  for loc in objects]\n",
    "            res = np.reshape(res,(1,1,len(res),7))\n",
    "            op,updated_box,res_filt = output_support.trim_frame_with_result(frame,res,offset=5,return_results=True,threshold=thresh)\n",
    "            res_masks = mask_det.predict_batch_async(op)\n",
    "            mask_pred_labels = [res_mask[0].argmax() for res_mask in res_masks]\n",
    "            for bbox,label in zip(updated_box,mask_pred_labels):\n",
    "                color = (0,255,0)\n",
    "                if label==1:\n",
    "                    color = (0,0,255)\n",
    "                frame = output_support.create_bbox(frame,[tuple(bbox[:2]),tuple(bbox[2:])],color)\n",
    "            frame = output_support.write_text(frame,\"FPS :%.2f\"%(1/(time.time()-t1)),text_color=(0, 0, 0),font_scale=1)\n",
    "\n",
    "#         frame = output_support.label_obj_detection(frame,res,labels=[\"face\"],thresh=thresh)\n",
    "        \n",
    "#         for loc in objects:\n",
    "#             xmin  = max(loc[\"xmin\"],0)\n",
    "#             ymin  = max(loc[\"ymin\"],0)\n",
    "#             xmax = min(loc[\"xmax\"],frame_width)\n",
    "#             ymax = min(loc[\"ymax\"],frame_height)\n",
    "# #             output_support.trim_frame_with_bboxes\n",
    "#             cv2.rectangle(frame, (xmin, ymin), (xmax, ymax), color, 2)\n",
    "        cv2.imshow(\"preview\",frame)\n",
    "        k = cv2.waitKey(1)\n",
    "        if k==ord('q'):\n",
    "            break\n",
    "            \n",
    "cv2.destroyAllWindows()\n",
    "cap.release()\n",
    "            \n",
    "\n",
    "            \n",
    "            "
   ]
  },
  {
   "cell_type": "code",
   "execution_count": 13,
   "metadata": {
    "execution": {
     "iopub.execute_input": "2020-08-25T05:28:04.553536Z",
     "iopub.status.busy": "2020-08-25T05:28:04.552674Z",
     "iopub.status.idle": "2020-08-25T05:28:04.568908Z",
     "shell.execute_reply": "2020-08-25T05:28:04.566391Z",
     "shell.execute_reply.started": "2020-08-25T05:28:04.553412Z"
    }
   },
   "outputs": [
    {
     "name": "stdout",
     "output_type": "stream",
     "text": [
      "[1, 18, 8, 8]\n",
      "[1, 18, 16, 16]\n",
      "[1, 18, 32, 32]\n"
     ]
    }
   ],
   "source": [
    "for layer_name in model_facedet.out_blob:\n",
    "    print(model_facedet.net.layers[model_facedet.net.layers[layer_name].parents[0]].out_data[0].shape)"
   ]
  },
  {
   "cell_type": "code",
   "execution_count": 9,
   "metadata": {
    "execution": {
     "iopub.execute_input": "2020-08-25T07:44:52.553034Z",
     "iopub.status.busy": "2020-08-25T07:44:52.552412Z",
     "iopub.status.idle": "2020-08-25T07:44:52.615362Z",
     "shell.execute_reply": "2020-08-25T07:44:52.614448Z",
     "shell.execute_reply.started": "2020-08-25T07:44:52.552955Z"
    }
   },
   "outputs": [
    {
     "ename": "KeyError",
     "evalue": "0",
     "output_type": "error",
     "traceback": [
      "\u001b[0;31m---------------------------------------------------------------------------\u001b[0m",
      "\u001b[0;31mKeyError\u001b[0m                                  Traceback (most recent call last)",
      "\u001b[0;32m<ipython-input-9-4101449b4c54>\u001b[0m in \u001b[0;36m<module>\u001b[0;34m\u001b[0m\n\u001b[0;32m----> 1\u001b[0;31m \u001b[0mobjects\u001b[0m \u001b[0;34m=\u001b[0m \u001b[0mget_objects\u001b[0m\u001b[0;34m(\u001b[0m\u001b[0mop\u001b[0m\u001b[0;34m,\u001b[0m\u001b[0mlayer_params\u001b[0m\u001b[0;34m,\u001b[0m\u001b[0;34m(\u001b[0m\u001b[0;36m256\u001b[0m\u001b[0;34m,\u001b[0m\u001b[0;36m256\u001b[0m\u001b[0;34m)\u001b[0m\u001b[0;34m,\u001b[0m\u001b[0mframe\u001b[0m\u001b[0;34m.\u001b[0m\u001b[0mshape\u001b[0m\u001b[0;34m[\u001b[0m\u001b[0;34m:\u001b[0m\u001b[0;34m-\u001b[0m\u001b[0;36m1\u001b[0m\u001b[0;34m]\u001b[0m\u001b[0;34m,\u001b[0m\u001b[0;36m.4\u001b[0m\u001b[0;34m,\u001b[0m\u001b[0;32mFalse\u001b[0m\u001b[0;34m)\u001b[0m\u001b[0;34m\u001b[0m\u001b[0;34m\u001b[0m\u001b[0m\n\u001b[0m",
      "\u001b[0;32m/media/prateek/shared_space/Notebooks/abg/openvino/Notebooks/face_detection/mobileface_det_yolov3/yolov3_util.py\u001b[0m in \u001b[0;36mget_objects\u001b[0;34m(output, output_layers_params, new_frame_height_width, source_height_width, prob_threshold, is_proportional)\u001b[0m\n\u001b[1;32m    163\u001b[0m     \u001b[0;32mfor\u001b[0m \u001b[0midx\u001b[0m\u001b[0;34m,\u001b[0m\u001b[0mlayer_params\u001b[0m \u001b[0;32min\u001b[0m \u001b[0menumerate\u001b[0m\u001b[0;34m(\u001b[0m\u001b[0moutput_layers_params\u001b[0m\u001b[0;34m)\u001b[0m\u001b[0;34m:\u001b[0m\u001b[0;34m\u001b[0m\u001b[0;34m\u001b[0m\u001b[0m\n\u001b[1;32m    164\u001b[0m         \u001b[0mout_blob\u001b[0m \u001b[0;34m=\u001b[0m \u001b[0moutput\u001b[0m\u001b[0;34m[\u001b[0m\u001b[0midx\u001b[0m\u001b[0;34m]\u001b[0m\u001b[0;34m\u001b[0m\u001b[0;34m\u001b[0m\u001b[0m\n\u001b[0;32m--> 165\u001b[0;31m         \u001b[0mlayer_params\u001b[0m \u001b[0;34m=\u001b[0m \u001b[0mYoloParams\u001b[0m\u001b[0;34m(\u001b[0m\u001b[0mlayer_params\u001b[0m\u001b[0;34m[\u001b[0m\u001b[0midx\u001b[0m\u001b[0;34m]\u001b[0m\u001b[0;34m,\u001b[0m \u001b[0mout_blob\u001b[0m\u001b[0;34m.\u001b[0m\u001b[0mshape\u001b[0m\u001b[0;34m[\u001b[0m\u001b[0;36m2\u001b[0m\u001b[0;34m]\u001b[0m\u001b[0;34m)\u001b[0m\u001b[0;34m\u001b[0m\u001b[0;34m\u001b[0m\u001b[0m\n\u001b[0m\u001b[1;32m    166\u001b[0m         objects += parse_yolo_region(out_blob, new_frame_height_width, source_height_width, layer_params,\n\u001b[1;32m    167\u001b[0m                                      prob_threshold, is_proportional)\n",
      "\u001b[0;31mKeyError\u001b[0m: 0"
     ]
    }
   ],
   "source": [
    "channel = \"/home/prateek/prateek_space/dataset/veraval_production/videos/face_veraval/202003211445.mp4\"\n",
    "cap  = cv2.VideoCapture(channel)\n",
    "ret,frame = cap.read()\n",
    "objects = get_objects(op,layer_params,(256,256),frame.shape[:-1],.4,False)"
   ]
  },
  {
   "cell_type": "code",
   "execution_count": 8,
   "metadata": {
    "execution": {
     "iopub.execute_input": "2020-08-25T07:44:15.538258Z",
     "iopub.status.busy": "2020-08-25T07:44:15.537991Z",
     "iopub.status.idle": "2020-08-25T07:44:15.556060Z",
     "shell.execute_reply": "2020-08-25T07:44:15.555560Z",
     "shell.execute_reply.started": "2020-08-25T07:44:15.538205Z"
    }
   },
   "outputs": [],
   "source": [
    "op = model_facedet.predict_sync(frame)"
   ]
  },
  {
   "cell_type": "code",
   "execution_count": 7,
   "metadata": {
    "execution": {
     "iopub.execute_input": "2020-08-25T07:44:10.521087Z",
     "iopub.status.busy": "2020-08-25T07:44:10.520223Z",
     "iopub.status.idle": "2020-08-25T07:44:10.647764Z",
     "shell.execute_reply": "2020-08-25T07:44:10.647238Z",
     "shell.execute_reply.started": "2020-08-25T07:44:10.520965Z"
    }
   },
   "outputs": [],
   "source": [
    "channel = \"/home/prateek/prateek_space/dataset/veraval_production/videos/face_veraval/202003211445.mp4\"\n",
    "cap  = cv2.VideoCapture(channel)\n",
    "cv2.namedWindow(\"preview\",cv2.WINDOW_NORMAL)\n",
    "while True:\n",
    "    ret,frame = cap.read()\n",
    "    break\n",
    "    if not ret:\n",
    "        break\n",
    "    detection, detect_masks = detector.detect(frame)\n",
    "    for i, (score, xmin, ymin, xmax, ymax) in enumerate(zip(*detection.face_detection)):\n",
    "        xmin = int(max(0, xmin))\n",
    "        ymin = int(max(0, ymin))\n",
    "        xmax = int(min(frame.shape[1], xmax))\n",
    "        ymax = int(min(frame.shape[0], ymax))\n",
    "        color = (255, 0, 0)\n",
    "        cv2.rectangle(frame, (xmin, ymin), (xmax, ymax), color, 2)\n",
    "        cv2.putText(frame, str(round(score * 100, 1)) + ' %', (xmin, ymin - 7),\n",
    "                     cv2.FONT_HERSHEY_COMPLEX, 0.6, color, 1)\n",
    "        for j in range(5):\n",
    "            x = detection.landmarks_regression[0][i, j].astype(np.int)\n",
    "            y = detection.landmarks_regression[1][i, j].astype(np.int)\n",
    "            cv2.circle(frame, (x, y), 2, (0, 255, 255), 2)\n",
    "\n",
    "    cv2.putText(frame, 'summary: {:.1f} FPS'.format(\n",
    "        1.0 / detector.infer_time), (5, 15), cv2.FONT_HERSHEY_COMPLEX, 0.5, (0, 0, 200))\n",
    "    cv2.imshow(\"preview\",frame)\n",
    "    k = cv2.waitKey(1)\n",
    "    if k==ord('q'):\n",
    "        break\n",
    "\n",
    "\n",
    "cv2.destroyAllWindows()\n",
    "cap.release()"
   ]
  },
  {
   "cell_type": "code",
   "execution_count": null,
   "metadata": {},
   "outputs": [],
   "source": [
    "model"
   ]
  },
  {
   "cell_type": "code",
   "execution_count": 14,
   "metadata": {
    "execution": {
     "iopub.execute_input": "2020-08-19T13:04:17.977507Z",
     "iopub.status.busy": "2020-08-19T13:04:17.976465Z",
     "iopub.status.idle": "2020-08-19T13:04:17.991774Z",
     "shell.execute_reply": "2020-08-19T13:04:17.989059Z",
     "shell.execute_reply.started": "2020-08-19T13:04:17.977358Z"
    }
   },
   "outputs": [
    {
     "data": {
      "text/plain": [
       "[256, 256]"
      ]
     },
     "execution_count": 14,
     "metadata": {},
     "output_type": "execute_result"
    }
   ],
   "source": [
    "model_facedet.exec_net.input_info['data'].input_data.shape[1:3]"
   ]
  },
  {
   "cell_type": "code",
   "execution_count": null,
   "metadata": {},
   "outputs": [],
   "source": []
  }
 ],
 "metadata": {
  "kernelspec": {
   "display_name": "openvino",
   "language": "python",
   "name": "openvino"
  },
  "language_info": {
   "codemirror_mode": {
    "name": "ipython",
    "version": 3
   },
   "file_extension": ".py",
   "mimetype": "text/x-python",
   "name": "python",
   "nbconvert_exporter": "python",
   "pygments_lexer": "ipython3",
   "version": "3.6.8"
  },
  "widgets": {
   "application/vnd.jupyter.widget-state+json": {
    "state": {},
    "version_major": 2,
    "version_minor": 0
   }
  }
 },
 "nbformat": 4,
 "nbformat_minor": 4
}
