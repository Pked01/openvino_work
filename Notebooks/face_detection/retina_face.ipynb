{
 "cells": [
  {
   "cell_type": "code",
   "execution_count": 1,
   "metadata": {
    "execution": {
     "iopub.execute_input": "2020-08-25T04:12:38.646314Z",
     "iopub.status.busy": "2020-08-25T04:12:38.646122Z",
     "iopub.status.idle": "2020-08-25T04:12:38.649838Z",
     "shell.execute_reply": "2020-08-25T04:12:38.648880Z",
     "shell.execute_reply.started": "2020-08-25T04:12:38.646289Z"
    }
   },
   "outputs": [],
   "source": [
    "import os\n",
    "os.sys.path.append(\"retinaface\")"
   ]
  },
  {
   "cell_type": "code",
   "execution_count": 2,
   "metadata": {
    "execution": {
     "iopub.execute_input": "2020-08-25T04:12:39.518430Z",
     "iopub.status.busy": "2020-08-25T04:12:39.516894Z",
     "iopub.status.idle": "2020-08-25T04:12:39.707691Z",
     "shell.execute_reply": "2020-08-25T04:12:39.707106Z",
     "shell.execute_reply.started": "2020-08-25T04:12:39.518241Z"
    }
   },
   "outputs": [],
   "source": [
    "from detector import Detector\n",
    "from openvino.inference_engine import IECore\n",
    "import cv2\n",
    "import numpy as np"
   ]
  },
  {
   "cell_type": "code",
   "execution_count": 3,
   "metadata": {
    "execution": {
     "iopub.execute_input": "2020-08-25T04:12:40.553952Z",
     "iopub.status.busy": "2020-08-25T04:12:40.553335Z",
     "iopub.status.idle": "2020-08-25T04:12:40.559824Z",
     "shell.execute_reply": "2020-08-25T04:12:40.558424Z",
     "shell.execute_reply.started": "2020-08-25T04:12:40.553869Z"
    }
   },
   "outputs": [],
   "source": [
    "model_path = \"/media/prateek/prateek_space/intel_model_dump/public/retinaface-resnet50/openvino_model/R50-0000.xml\"\n",
    "face_thresh = .5"
   ]
  },
  {
   "cell_type": "code",
   "execution_count": 4,
   "metadata": {
    "execution": {
     "iopub.execute_input": "2020-08-25T04:12:41.538787Z",
     "iopub.status.busy": "2020-08-25T04:12:41.537947Z",
     "iopub.status.idle": "2020-08-25T04:13:34.554617Z",
     "shell.execute_reply": "2020-08-25T04:13:34.554109Z",
     "shell.execute_reply.started": "2020-08-25T04:12:41.538672Z"
    }
   },
   "outputs": [],
   "source": [
    "channel = \"/home/prateek/prateek_space/dataset/veraval_production/videos/face_veraval/202003211445.mp4\"\n",
    "cap  = cv2.VideoCapture(channel)\n",
    "\n",
    "ie = IECore()\n",
    "detector = Detector(ie,model_path, face_thresh, \"MULTI:CPU,GPU\")"
   ]
  },
  {
   "cell_type": "code",
   "execution_count": 5,
   "metadata": {
    "execution": {
     "iopub.execute_input": "2020-08-25T04:13:34.555740Z",
     "iopub.status.busy": "2020-08-25T04:13:34.555574Z",
     "iopub.status.idle": "2020-08-25T04:13:40.261664Z",
     "shell.execute_reply": "2020-08-25T04:13:40.260879Z",
     "shell.execute_reply.started": "2020-08-25T04:13:34.555716Z"
    }
   },
   "outputs": [],
   "source": [
    "cv2.namedWindow(\"preview\",cv2.WINDOW_NORMAL)\n",
    "while True:\n",
    "    ret,frame = cap.read()\n",
    "    if not ret:\n",
    "        break\n",
    "    detection, detect_masks = detector.detect(frame)\n",
    "    for i, (score, xmin, ymin, xmax, ymax) in enumerate(zip(*detection.face_detection)):\n",
    "        xmin = int(max(0, xmin))\n",
    "        ymin = int(max(0, ymin))\n",
    "        xmax = int(min(frame.shape[1], xmax))\n",
    "        ymax = int(min(frame.shape[0], ymax))\n",
    "        color = (255, 0, 0)\n",
    "        cv2.rectangle(frame, (xmin, ymin), (xmax, ymax), color, 2)\n",
    "        cv2.putText(frame, str(round(score * 100, 1)) + ' %', (xmin, ymin - 7),\n",
    "                     cv2.FONT_HERSHEY_COMPLEX, 0.6, color, 1)\n",
    "        for j in range(5):\n",
    "            x = detection.landmarks_regression[0][i, j].astype(np.int)\n",
    "            y = detection.landmarks_regression[1][i, j].astype(np.int)\n",
    "            cv2.circle(frame, (x, y), 2, (0, 255, 255), 2)\n",
    "\n",
    "    cv2.putText(frame, 'summary: {:.1f} FPS'.format(\n",
    "        1.0 / detector.infer_time), (5, 15), cv2.FONT_HERSHEY_COMPLEX, 0.5, (0, 0, 200))\n",
    "    cv2.imshow(\"preview\",frame)\n",
    "    k = cv2.waitKey(1)\n",
    "    if k==ord('q'):\n",
    "        break\n",
    "\n",
    "\n",
    "cv2.destroyAllWindows()\n",
    "cap.release()"
   ]
  }
 ],
 "metadata": {
  "kernelspec": {
   "display_name": "openvino",
   "language": "python",
   "name": "openvino"
  },
  "language_info": {
   "codemirror_mode": {
    "name": "ipython",
    "version": 3
   },
   "file_extension": ".py",
   "mimetype": "text/x-python",
   "name": "python",
   "nbconvert_exporter": "python",
   "pygments_lexer": "ipython3",
   "version": "3.6.8"
  }
 },
 "nbformat": 4,
 "nbformat_minor": 4
}
