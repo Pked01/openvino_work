{
 "cells": [
  {
   "cell_type": "code",
   "execution_count": 1,
   "metadata": {
    "execution": {
     "iopub.execute_input": "2021-09-27T08:00:08.828288Z",
     "iopub.status.busy": "2021-09-27T08:00:08.828071Z",
     "iopub.status.idle": "2021-09-27T08:00:08.989278Z",
     "shell.execute_reply": "2021-09-27T08:00:08.988323Z",
     "shell.execute_reply.started": "2021-09-27T08:00:08.828262Z"
    },
    "tags": []
   },
   "outputs": [],
   "source": [
    "import os,cv2\n",
    "os.sys.path.append(\"../utilities/\")\n"
   ]
  },
  {
   "cell_type": "code",
   "execution_count": 3,
   "metadata": {
    "execution": {
     "iopub.execute_input": "2021-09-27T08:00:37.057855Z",
     "iopub.status.busy": "2021-09-27T08:00:37.057183Z",
     "iopub.status.idle": "2021-09-27T08:00:37.063136Z",
     "shell.execute_reply": "2021-09-27T08:00:37.061772Z",
     "shell.execute_reply.started": "2021-09-27T08:00:37.057757Z"
    },
    "tags": []
   },
   "outputs": [],
   "source": [
    "import numpy as np\n",
    "\n",
    "import support_utility_openvino\n",
    "from mobileface_sort_v1 import Sort\n"
   ]
  },
  {
   "cell_type": "code",
   "execution_count": 4,
   "metadata": {
    "execution": {
     "iopub.execute_input": "2021-09-27T08:00:42.663236Z",
     "iopub.status.busy": "2021-09-27T08:00:42.662895Z",
     "iopub.status.idle": "2021-09-27T08:00:42.666815Z",
     "shell.execute_reply": "2021-09-27T08:00:42.666078Z",
     "shell.execute_reply.started": "2021-09-27T08:00:42.663194Z"
    },
    "tags": []
   },
   "outputs": [],
   "source": [
    "detection_model_path = '/media/prateek/shared_space/DATA_N_MODELS/useful_models/openvino/face-detection-retail-0004/FP32/face-detection-retail-0004.xml'\n",
    "device = 'CPU'\n",
    "output_support = support_utility_openvino.create_plot()"
   ]
  },
  {
   "cell_type": "code",
   "execution_count": 5,
   "metadata": {
    "execution": {
     "iopub.execute_input": "2021-09-27T08:00:46.141955Z",
     "iopub.status.busy": "2021-09-27T08:00:46.141335Z",
     "iopub.status.idle": "2021-09-27T08:00:46.313955Z",
     "shell.execute_reply": "2021-09-27T08:00:46.313410Z",
     "shell.execute_reply.started": "2021-09-27T08:00:46.141874Z"
    },
    "tags": []
   },
   "outputs": [
    {
     "name": "stdout",
     "output_type": "stream",
     "text": [
      "Available Devices :  ['CPU', 'GNA', 'GPU']\n",
      "OPTIMIZATION_CAPABILITIES for CPU:  ['FP32', 'FP16', 'INT8', 'BIN']\n",
      "model inputs : dict_keys(['data'])\n",
      "model outputs :  dict_keys(['detection_out'])\n"
     ]
    }
   ],
   "source": [
    "face_detection = support_utility_openvino.async_infer(4)\n",
    "face_detection.load_model(model_path=detection_model_path,device=device)"
   ]
  },
  {
   "cell_type": "code",
   "execution_count": 6,
   "metadata": {
    "execution": {
     "iopub.execute_input": "2021-09-27T08:00:49.556614Z",
     "iopub.status.busy": "2021-09-27T08:00:49.556271Z",
     "iopub.status.idle": "2021-09-27T08:00:49.560251Z",
     "shell.execute_reply": "2021-09-27T08:00:49.559179Z",
     "shell.execute_reply.started": "2021-09-27T08:00:49.556572Z"
    },
    "tags": []
   },
   "outputs": [],
   "source": [
    "channel = \"/media/prateek/shared_space/DATA_N_MODELS/useful_vids/veraval/face_detection/202003211445.mp4\"\n",
    "# channel = \"/media/prateek/prateek_space/dataset/veraval_production/videos/social_distancing/Chemical road_IP Camera3_Chemical road_20190831095808_20190831095934_80790759.mp4\""
   ]
  },
  {
   "cell_type": "code",
   "execution_count": 9,
   "metadata": {
    "execution": {
     "iopub.execute_input": "2021-09-27T12:23:21.948479Z",
     "iopub.status.busy": "2021-09-27T12:23:21.948223Z",
     "iopub.status.idle": "2021-09-27T12:23:35.994447Z",
     "shell.execute_reply": "2021-09-27T12:23:35.993692Z",
     "shell.execute_reply.started": "2021-09-27T12:23:21.948449Z"
    },
    "tags": []
   },
   "outputs": [
    {
     "data": {
      "text/plain": [
       "(0.0021768904320987655, 0.10534143518518518)"
      ]
     },
     "execution_count": 9,
     "metadata": {},
     "output_type": "execute_result"
    }
   ],
   "source": [
    "cap = cv2.VideoCapture(channel)\n",
    "ret,frame = cap.read()\n",
    "output_support.get_resolution_thresh(frame)"
   ]
  },
  {
   "cell_type": "code",
   "execution_count": 10,
   "metadata": {
    "execution": {
     "iopub.execute_input": "2021-09-27T12:25:16.893671Z",
     "iopub.status.busy": "2021-09-27T12:25:16.893421Z",
     "iopub.status.idle": "2021-09-27T12:25:29.692889Z",
     "shell.execute_reply": "2021-09-27T12:25:29.692158Z",
     "shell.execute_reply.started": "2021-09-27T12:25:16.893641Z"
    },
    "tags": []
   },
   "outputs": [],
   "source": [
    "mot_tracker = Sort(10, 3)\n",
    "\n",
    "thresh = .2\n",
    "\n",
    "cap = cv2.VideoCapture(channel)\n",
    "frame_width, frame_height = int(cap.get(3)),int(cap.get(4))\n",
    "# ratio_li = []\n",
    "write_video = False\n",
    "if write_video:\n",
    "    fourcc = cv2.VideoWriter_fourcc(*'X264')\n",
    "    videowriter = cv2.VideoWriter(\"../output_vids/face_detection/\"+\"sort_face_Tracker\"+\".mp4\",fourcc, 30, (int(cap.get(3)),int(cap.get(4))))\n",
    "face_detection.reinit_model()\n",
    "while True:\n",
    "\n",
    "    ret,frame = cap.read()\n",
    "    if not ret:\n",
    "        break\n",
    "    face_detection.predict(frame)\n",
    "    if face_detection.frame_processed>=face_detection.num_requests:\n",
    "        frame,attr,res = face_detection.postprocess_op()\n",
    "        res_filt,bboxes = output_support.res2bbox(res[0],(frame_width,frame_height),[.002,.1],thresh = thresh,return_res=True)\n",
    "        if len(bboxes)>0:\n",
    "            ids = [[0]]*len(bboxes)\n",
    "            dets = np.concatenate((bboxes,ids),axis=1)\n",
    "            trackers = mot_tracker.update(dets)\n",
    "            for d in trackers:\n",
    "                cv2.rectangle(frame, (int(d[0]), int(d[1])), (int(d[2]), int(d[3])), (255,255,255), 3)\n",
    "                cv2.putText(frame, str('%s%d' % ('face', d[4])), \n",
    "                           (int(d[0]), int(d[1]) - 5), cv2.FONT_HERSHEY_COMPLEX , 0.8, (255,255,255), 2)\n",
    "            cv2.imshow(\"preview\",frame)\n",
    "            k = cv2.waitKey(1)\n",
    "            if write_video:\n",
    "                videowriter.write(frame)\n",
    "                \n",
    "            if k==ord('q'):\n",
    "                break\n",
    "if write_video:                \n",
    "    videowriter.release()\n",
    "cap.release()\n",
    "cv2.destroyAllWindows()"
   ]
  },
  {
   "cell_type": "code",
   "execution_count": null,
   "metadata": {},
   "outputs": [],
   "source": []
  }
 ],
 "metadata": {
  "kernelspec": {
   "display_name": "openvino",
   "language": "python",
   "name": "openvino"
  },
  "language_info": {
   "codemirror_mode": {
    "name": "ipython",
    "version": 3
   },
   "file_extension": ".py",
   "mimetype": "text/x-python",
   "name": "python",
   "nbconvert_exporter": "python",
   "pygments_lexer": "ipython3",
   "version": "3.6.8"
  },
  "widgets": {
   "application/vnd.jupyter.widget-state+json": {
    "state": {},
    "version_major": 2,
    "version_minor": 0
   }
  }
 },
 "nbformat": 4,
 "nbformat_minor": 4
}
