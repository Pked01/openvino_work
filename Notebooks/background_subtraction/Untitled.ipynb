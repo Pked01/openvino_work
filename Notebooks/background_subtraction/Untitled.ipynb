{
 "cells": [
  {
   "cell_type": "code",
   "execution_count": 3,
   "id": "51cfedd7-c4c4-4379-950b-8bd8cb1d72d5",
   "metadata": {
    "execution": {
     "iopub.execute_input": "2021-07-29T09:22:35.194458Z",
     "iopub.status.busy": "2021-07-29T09:22:35.194179Z",
     "iopub.status.idle": "2021-07-29T09:22:35.197711Z",
     "shell.execute_reply": "2021-07-29T09:22:35.197025Z",
     "shell.execute_reply.started": "2021-07-29T09:22:35.194427Z"
    },
    "tags": []
   },
   "outputs": [],
   "source": [
    "import cv2\n",
    "import numpy as np"
   ]
  },
  {
   "cell_type": "code",
   "execution_count": 4,
   "id": "e9e551f1-0bb6-41a5-9f60-c4a9d1878027",
   "metadata": {
    "execution": {
     "iopub.execute_input": "2021-07-29T09:22:35.320536Z",
     "iopub.status.busy": "2021-07-29T09:22:35.319883Z",
     "iopub.status.idle": "2021-07-29T09:22:35.328319Z",
     "shell.execute_reply": "2021-07-29T09:22:35.326012Z",
     "shell.execute_reply.started": "2021-07-29T09:22:35.320463Z"
    }
   },
   "outputs": [],
   "source": [
    "channel  = \"/home/prateek/shared_space/DATA_N_MODELS/useful_vids/face_detection/202003211445.mp4\""
   ]
  },
  {
   "cell_type": "code",
   "execution_count": 5,
   "id": "3151bab9-47fd-4711-8494-de989b9bae18",
   "metadata": {
    "execution": {
     "iopub.execute_input": "2021-07-29T09:22:35.492833Z",
     "iopub.status.busy": "2021-07-29T09:22:35.492228Z",
     "iopub.status.idle": "2021-07-29T09:22:35.565592Z",
     "shell.execute_reply": "2021-07-29T09:22:35.565173Z",
     "shell.execute_reply.started": "2021-07-29T09:22:35.492764Z"
    },
    "tags": []
   },
   "outputs": [],
   "source": [
    "cap = cv2.VideoCapture(channel)"
   ]
  },
  {
   "cell_type": "code",
   "execution_count": 17,
   "id": "543d37f7-c81d-44e8-bf1b-0e2345803d72",
   "metadata": {
    "execution": {
     "iopub.execute_input": "2021-07-29T09:31:56.641105Z",
     "iopub.status.busy": "2021-07-29T09:31:56.640931Z",
     "iopub.status.idle": "2021-07-29T09:31:56.651263Z",
     "shell.execute_reply": "2021-07-29T09:31:56.650798Z",
     "shell.execute_reply.started": "2021-07-29T09:31:56.641091Z"
    },
    "tags": []
   },
   "outputs": [],
   "source": [
    "bgsb =  cv2.createBackgroundSubtractorMOG2(4000,16,True)"
   ]
  },
  {
   "cell_type": "code",
   "execution_count": 18,
   "id": "cc18e28c-8022-492d-ad71-f672471d94a0",
   "metadata": {
    "execution": {
     "iopub.execute_input": "2021-07-29T09:31:57.150653Z",
     "iopub.status.busy": "2021-07-29T09:31:57.150041Z",
     "iopub.status.idle": "2021-07-29T09:32:21.642010Z",
     "shell.execute_reply": "2021-07-29T09:32:21.641417Z",
     "shell.execute_reply.started": "2021-07-29T09:31:57.150579Z"
    },
    "tags": []
   },
   "outputs": [],
   "source": [
    "for i in range(1000):\n",
    "    ret,frame = cap.read()\n",
    "    bgsb.apply(frame,.01)"
   ]
  },
  {
   "cell_type": "code",
   "execution_count": 19,
   "id": "b618b3f1-ae1a-4a84-a617-98b65ba2856a",
   "metadata": {
    "execution": {
     "iopub.execute_input": "2021-07-29T09:32:21.642958Z",
     "iopub.status.busy": "2021-07-29T09:32:21.642811Z",
     "iopub.status.idle": "2021-07-29T09:33:29.615823Z",
     "shell.execute_reply": "2021-07-29T09:33:29.613914Z",
     "shell.execute_reply.started": "2021-07-29T09:32:21.642939Z"
    },
    "tags": []
   },
   "outputs": [],
   "source": [
    "cv2.imshow(\"preview\",bgsb.getBackgroundImage())\n",
    "cv2.waitKey(0)\n",
    "cv2.destroyAllWindows()"
   ]
  },
  {
   "cell_type": "code",
   "execution_count": null,
   "id": "8cf8c068-a66d-422c-a3e6-1f9241549a60",
   "metadata": {},
   "outputs": [],
   "source": []
  }
 ],
 "metadata": {
  "kernelspec": {
   "display_name": "cv_p38",
   "language": "python",
   "name": "cv_p38"
  },
  "language_info": {
   "codemirror_mode": {
    "name": "ipython",
    "version": 3
   },
   "file_extension": ".py",
   "mimetype": "text/x-python",
   "name": "python",
   "nbconvert_exporter": "python",
   "pygments_lexer": "ipython3",
   "version": "3.8.0"
  },
  "widgets": {
   "application/vnd.jupyter.widget-state+json": {
    "state": {},
    "version_major": 2,
    "version_minor": 0
   }
  }
 },
 "nbformat": 4,
 "nbformat_minor": 5
}
