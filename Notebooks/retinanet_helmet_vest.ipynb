{
 "cells": [
  {
   "cell_type": "code",
   "execution_count": 13,
   "metadata": {
    "ExecuteTime": {
     "end_time": "2019-11-25T07:45:59.659351Z",
     "start_time": "2019-11-25T07:45:59.655398Z"
    }
   },
   "outputs": [],
   "source": [
    "detection_model_path = '/home/prateek/prateek_space/model_files/openvino_model/Retinanet/2019_06_20_11_59_58_resnet50_csv_100.xml'\n",
    "cpu_extension = '../build_samples/intel64/Release/lib/libcpu_extension.so'\n",
    "device = 'CPU'\n"
   ]
  },
  {
   "cell_type": "code",
   "execution_count": 2,
   "metadata": {
    "ExecuteTime": {
     "end_time": "2019-11-22T06:22:02.709423Z",
     "start_time": "2019-11-22T06:22:02.370777Z"
    }
   },
   "outputs": [],
   "source": [
    "import time,cv2\n",
    "import numpy as np\n",
    "import IPython.display as Disp\n",
    "import support_utility_openvino"
   ]
  },
  {
   "cell_type": "code",
   "execution_count": 3,
   "metadata": {
    "ExecuteTime": {
     "end_time": "2019-11-22T06:22:03.385623Z",
     "start_time": "2019-11-22T06:22:02.710496Z"
    }
   },
   "outputs": [
    {
     "name": "stdout",
     "output_type": "stream",
     "text": [
      "loading sample element\n"
     ]
    }
   ],
   "source": [
    "retinanet_detection = support_utility_openvino.async_infer(3)\n",
    "retinanet_detection.load_model(cpu_exension_path=cpu_extension,model_path=detection_model_path,device=device)\n",
    "# try:\n",
    "#     retinanet_detection.predict(np.random.random((1080, 1920, 3)))\n",
    "# except Exception as e:\n",
    "#     print(e)\n",
    "# retinanet_detection.cursor_id = 1\n",
    "# retinanet_detection.frame_processed = 0\n",
    "output_support = support_utility_openvino.create_plot()"
   ]
  },
  {
   "cell_type": "code",
   "execution_count": 4,
   "metadata": {
    "ExecuteTime": {
     "end_time": "2019-11-22T06:22:03.392291Z",
     "start_time": "2019-11-22T06:22:03.388145Z"
    }
   },
   "outputs": [],
   "source": [
    "labels = ['person','helmet','no_helmet','vest','no_vest','worker']\n",
    "bbox_colors = [(0,0,0),(0,255,0),(0,0,255),(0,255,0),(0,0,255),(255,0,0)]"
   ]
  },
  {
   "cell_type": "code",
   "execution_count": 14,
   "metadata": {
    "ExecuteTime": {
     "end_time": "2019-11-25T07:46:26.380538Z",
     "start_time": "2019-11-25T07:46:02.976241Z"
    }
   },
   "outputs": [],
   "source": [
    "cap = cv2.VideoCapture('/media/prateek/prateek_space/dataset/helmet_vest_violation_data/Camera6_spandan office_spandan office_20181219030822_20181219030835_2990866.mp4')\n",
    "cv2.namedWindow(\"preview\",cv2.WINDOW_NORMAL)\n",
    "ret,frame = cap.read()\n",
    "fps = []\n",
    "thresh = .5\n",
    "# dets = []\n",
    "while True:\n",
    "    fps = fps[-100:]\n",
    "    Disp.clear_output(wait=True)\n",
    "    ret,frame = cap.read()\n",
    "    if not ret:\n",
    "        break\n",
    "    t1 = time.time()\n",
    "    retinanet_detection.predict(frame)\n",
    "    if retinanet_detection.frame_processed>retinanet_detection.buffer_shape:\n",
    "        try:\n",
    "            frame,attr,res = retinanet_detection.postprocess_op()\n",
    "            res[0][:,:,:,1] = res[0][:,:,:,1]+1\n",
    "#             op,bboxes = output_support.trim_frame_with_result(frame,res[0],threshold=thresh)\n",
    "#             attrs = [attr_detection.predict_sync(vehicle) for vehicle in op]\n",
    "#             attrs = [(vehicle_colors[np.argmax(att[0])], vehicle_type[np.argmax(att[1])]) for att in attrs]\n",
    "#             dets.append(len(attrs))\n",
    "            fps.append(1/(time.time()-t1))\n",
    "            op_frame = output_support.write_text(frame,\"FPS = %.2f\"%np.mean(fps),text_color = (0,0,0),font_scale=1,font_thickness=2,highlight_color = (127,0,255))\n",
    "#             for idx,b in enumerate(bboxes):\n",
    "#                 op_frame = output_support.create_bbox_with_text(op_frame,(tuple(b[:2]),tuple(b[2:])),\",\".join(attrs[idx]))\n",
    "            op_frame = output_support.label_obj_detection(op_frame,res[0],labels=labels,colors=bbox_colors,font_scale=1,font_thickness = 1,thresh=.5)\n",
    "        except Exception as e:\n",
    "            print(e)\n",
    "#         print(retinanet_detection.cursor_id,retinanet_detection.frame_processed)\n",
    "        cv2.imshow(\"preview\",op_frame)\n",
    "        k = cv2.waitKey(1)\n",
    "        if k==27:\n",
    "            break\n",
    "cap.release()\n",
    "cv2.destroyAllWindows()\n",
    "        \n",
    "        \n",
    "    "
   ]
  },
  {
   "cell_type": "code",
   "execution_count": 11,
   "metadata": {
    "ExecuteTime": {
     "end_time": "2019-11-22T06:38:19.007492Z",
     "start_time": "2019-11-22T06:38:19.002326Z"
    }
   },
   "outputs": [],
   "source": [
    "r1 = retinanet_detection.exec_net.requests[0]"
   ]
  },
  {
   "cell_type": "code",
   "execution_count": null,
   "metadata": {},
   "outputs": [],
   "source": [
    "r1.async_infer"
   ]
  },
  {
   "cell_type": "code",
   "execution_count": 7,
   "metadata": {
    "ExecuteTime": {
     "end_time": "2019-11-22T06:22:40.639420Z",
     "start_time": "2019-11-22T06:22:40.523351Z"
    }
   },
   "outputs": [
    {
     "name": "stdout",
     "output_type": "stream",
     "text": [
      "loading sample element\n"
     ]
    }
   ],
   "source": [
    "retinanet_detection.__load_first_request__()"
   ]
  },
  {
   "cell_type": "code",
   "execution_count": null,
   "metadata": {},
   "outputs": [],
   "source": [
    "alpha=.5"
   ]
  },
  {
   "cell_type": "code",
   "execution_count": null,
   "metadata": {},
   "outputs": [],
   "source": [
    "cv2.addWeighted(overlay, alpha, output, 1 - alpha,0, output)\n",
    "\n"
   ]
  }
 ],
 "metadata": {
  "kernelspec": {
   "display_name": "openvino",
   "language": "python",
   "name": "openvino"
  },
  "language_info": {
   "codemirror_mode": {
    "name": "ipython",
    "version": 3
   },
   "file_extension": ".py",
   "mimetype": "text/x-python",
   "name": "python",
   "nbconvert_exporter": "python",
   "pygments_lexer": "ipython3",
   "version": "3.6.8"
  }
 },
 "nbformat": 4,
 "nbformat_minor": 2
}
