{
 "cells": [
  {
   "cell_type": "code",
   "execution_count": 1,
   "metadata": {
    "ExecuteTime": {
     "end_time": "2019-08-17T11:07:44.110471Z",
     "start_time": "2019-08-17T11:07:24.887387Z"
    }
   },
   "outputs": [
    {
     "name": "stderr",
     "output_type": "stream",
     "text": [
      "Using TensorFlow backend.\n"
     ]
    }
   ],
   "source": [
    "import subprocess,sys\n",
    "from keras import backend as K\n",
    "from keras_retinanet import models\n",
    "import tensorflow as tf\n",
    "import cv2,os,datetime\n",
    "import numpy as np\n",
    "import time\n",
    "from keras_retinanet.utils.visualization import draw_box, draw_caption\n",
    "import pandas as pd\n",
    "import tensorflow.contrib.tensorrt as trt\n",
    "import IPython.display as Disp\n",
    "\n",
    "from keras_retinanet import models"
   ]
  },
  {
   "cell_type": "code",
   "execution_count": 2,
   "metadata": {
    "ExecuteTime": {
     "end_time": "2019-08-17T11:07:44.115023Z",
     "start_time": "2019-08-17T11:07:44.112113Z"
    }
   },
   "outputs": [],
   "source": [
    "t = datetime.datetime.now()\n",
    "file_name = t.strftime(\"%d_%m_%Y_%H_%M_%S_\")"
   ]
  },
  {
   "cell_type": "markdown",
   "metadata": {},
   "source": [
    "##### setting file paths"
   ]
  },
  {
   "cell_type": "code",
   "execution_count": 3,
   "metadata": {
    "ExecuteTime": {
     "end_time": "2019-08-17T11:07:44.203179Z",
     "start_time": "2019-08-17T11:07:44.117222Z"
    }
   },
   "outputs": [],
   "source": [
    "####Get inference model\n",
    "model_name = \"resnet50_csv_28.h5\"\n",
    "retinanet_snapshot = \"../../../dataset/helmet_n_vest/snapshots/\"+model_name\n",
    "inference_model = \"../../../model_with_worker/05_06_2019_09_24_40_resnet50_csv_50.pb\"\n",
    "inference_model_tensorflow = \"../../../model_with_worker/05_06_2019_09_24_40_resnet50_csv_50.pb\""
   ]
  },
  {
   "cell_type": "code",
   "execution_count": 4,
   "metadata": {
    "ExecuteTime": {
     "end_time": "2019-08-17T11:07:44.287054Z",
     "start_time": "2019-08-17T11:07:44.205086Z"
    }
   },
   "outputs": [],
   "source": [
    "def snapshot_to_inference_retinanet(input_model_name,output_model_name,env='cv_p35'):\n",
    "    ! retinanet-convert-model {input_model_name} {output_model_name}\n",
    "    "
   ]
  },
  {
   "cell_type": "code",
   "execution_count": 5,
   "metadata": {
    "ExecuteTime": {
     "end_time": "2019-08-17T11:07:44.360630Z",
     "start_time": "2019-08-17T11:07:44.288445Z"
    }
   },
   "outputs": [],
   "source": [
    "def convert_snapshot_to_protobuf(input_model_name, output_model_name,save_graph_def=False):\n",
    "    !{sys.executable} keras_to_tensorflow.py --input_model={input_model_name}  --output_model={output_model_name} --save_graph_def={save_graph_def}\n",
    "#     subprocess.call(['python keras_to_tensorflow.py --input_model=\"../../retinanet/snapshots_1/resnet50_csv_19.h5\"  --output_model=\"model.pb\"'])\n"
   ]
  },
  {
   "cell_type": "code",
   "execution_count": 6,
   "metadata": {
    "ExecuteTime": {
     "end_time": "2019-08-17T11:07:44.698068Z",
     "start_time": "2019-08-17T11:07:44.362274Z"
    }
   },
   "outputs": [],
   "source": [
    "def get_graph(frozen_model_file):\n",
    "    \"\"\"\n",
    "    returns graphdef(unserialized) object\n",
    "    \"\"\"\n",
    "    with tf.gfile.GFile(frozen_model_file,'rb') as f:\n",
    "        graph_def = tf.GraphDef()\n",
    "        graph_def.ParseFromString(f.read())\n",
    "    return graph_def"
   ]
  },
  {
   "cell_type": "code",
   "execution_count": 7,
   "metadata": {
    "ExecuteTime": {
     "end_time": "2019-08-17T11:09:27.266197Z",
     "start_time": "2019-08-17T11:09:27.263257Z"
    }
   },
   "outputs": [],
   "source": [
    "retinanet_snapshot = '../model_files/Retinanet/tf_model/'\n",
    "inference_model = '/home/prateek/Downloads/Notebooks/abg/keras-retinanet/snapshots/resnet50_coco_best_v2.1.0.h5'\n",
    "inference_model_tensorflow = '../model_files/Retinanet/tf_model/resnet50_coco_best_v2.1.0.pb'"
   ]
  },
  {
   "cell_type": "code",
   "execution_count": null,
   "metadata": {
    "ExecuteTime": {
     "end_time": "2019-08-17T05:49:33.767241Z",
     "start_time": "2019-08-17T05:48:54.619347Z"
    }
   },
   "outputs": [],
   "source": [
    "snapshot_to_inference_retinanet(retinanet_snapshot, inference_model)"
   ]
  },
  {
   "cell_type": "code",
   "execution_count": 8,
   "metadata": {
    "ExecuteTime": {
     "end_time": "2019-08-17T11:11:00.373550Z",
     "start_time": "2019-08-17T11:09:32.964347Z"
    }
   },
   "outputs": [
    {
     "name": "stdout",
     "output_type": "stream",
     "text": [
      "Using TensorFlow backend.\n",
      "WARNING: Logging before flag parsing goes to stderr.\n",
      "W0817 16:39:34.717434 139787627129728 deprecation_wrapper.py:119] From /home/prateek/.virtualenvs/cv_p36/lib/python3.6/site-packages/keras/backend/tensorflow_backend.py:153: The name tf.get_default_graph is deprecated. Please use tf.compat.v1.get_default_graph instead.\n",
      "\n",
      "W0817 16:39:38.252744 139787627129728 deprecation_wrapper.py:119] From /home/prateek/.virtualenvs/cv_p36/lib/python3.6/site-packages/keras/backend/tensorflow_backend.py:517: The name tf.placeholder is deprecated. Please use tf.compat.v1.placeholder instead.\n",
      "\n",
      "W0817 16:39:41.022494 139787627129728 deprecation_wrapper.py:119] From /home/prateek/.virtualenvs/cv_p36/lib/python3.6/site-packages/keras/backend/tensorflow_backend.py:4115: The name tf.random_normal is deprecated. Please use tf.random.normal instead.\n",
      "\n",
      "W0817 16:39:43.930248 139787627129728 deprecation_wrapper.py:119] From /home/prateek/.virtualenvs/cv_p36/lib/python3.6/site-packages/keras/backend/tensorflow_backend.py:4138: The name tf.random_uniform is deprecated. Please use tf.random.uniform instead.\n",
      "\n",
      "W0817 16:39:43.948010 139787627129728 deprecation_wrapper.py:119] From /home/prateek/.virtualenvs/cv_p36/lib/python3.6/site-packages/keras/backend/tensorflow_backend.py:1919: The name tf.nn.fused_batch_norm is deprecated. Please use tf.compat.v1.nn.fused_batch_norm instead.\n",
      "\n",
      "W0817 16:39:45.216203 139787627129728 deprecation_wrapper.py:119] From /home/prateek/.virtualenvs/cv_p36/lib/python3.6/site-packages/keras/backend/tensorflow_backend.py:3976: The name tf.nn.max_pool is deprecated. Please use tf.nn.max_pool2d instead.\n",
      "\n",
      "W0817 16:39:46.338636 139787627129728 deprecation_wrapper.py:119] From /home/prateek/.virtualenvs/cv_p36/lib/python3.6/site-packages/keras/backend/tensorflow_backend.py:4185: The name tf.truncated_normal is deprecated. Please use tf.random.truncated_normal instead.\n",
      "\n",
      "W0817 16:39:47.206314 139787627129728 deprecation_wrapper.py:119] From /home/prateek/.virtualenvs/cv_p36/lib/python3.6/site-packages/keras_retinanet/backend/tensorflow_backend.py:68: The name tf.image.resize_images is deprecated. Please use tf.image.resize instead.\n",
      "\n",
      "W0817 16:39:54.333444 139787627129728 deprecation.py:323] From /home/prateek/.virtualenvs/cv_p36/lib/python3.6/site-packages/keras_retinanet/backend/tensorflow_backend.py:104: add_dispatch_support.<locals>.wrapper (from tensorflow.python.ops.array_ops) is deprecated and will be removed in a future version.\n",
      "Instructions for updating:\n",
      "Use tf.where in 2.0, which has the same broadcast rule as np.where\n",
      "2019-08-17 16:40:17.891421: I tensorflow/core/platform/cpu_feature_guard.cc:142] Your CPU supports instructions that this TensorFlow binary was not compiled to use: AVX2 FMA\n",
      "2019-08-17 16:40:18.050705: I tensorflow/stream_executor/platform/default/dso_loader.cc:42] Successfully opened dynamic library libcuda.so.1\n",
      "2019-08-17 16:40:19.214363: I tensorflow/stream_executor/cuda/cuda_gpu_executor.cc:1005] successful NUMA node read from SysFS had negative value (-1), but there must be at least one NUMA node, so returning NUMA node zero\n",
      "2019-08-17 16:40:19.215450: I tensorflow/compiler/xla/service/service.cc:168] XLA service 0x7a6aa40 executing computations on platform CUDA. Devices:\n",
      "2019-08-17 16:40:19.215517: I tensorflow/compiler/xla/service/service.cc:175]   StreamExecutor device (0): GeForce GTX 1060, Compute Capability 6.1\n",
      "2019-08-17 16:40:19.863958: I tensorflow/core/platform/profile_utils/cpu_utils.cc:94] CPU Frequency: 2808000000 Hz\n",
      "2019-08-17 16:40:19.864451: I tensorflow/compiler/xla/service/service.cc:168] XLA service 0x7b21bd0 executing computations on platform Host. Devices:\n",
      "2019-08-17 16:40:19.864487: I tensorflow/compiler/xla/service/service.cc:175]   StreamExecutor device (0): <undefined>, <undefined>\n",
      "2019-08-17 16:40:19.864718: I tensorflow/stream_executor/cuda/cuda_gpu_executor.cc:1005] successful NUMA node read from SysFS had negative value (-1), but there must be at least one NUMA node, so returning NUMA node zero\n",
      "2019-08-17 16:40:19.865160: I tensorflow/core/common_runtime/gpu/gpu_device.cc:1640] Found device 0 with properties: \n",
      "name: GeForce GTX 1060 major: 6 minor: 1 memoryClockRate(GHz): 1.733\n",
      "pciBusID: 0000:01:00.0\n",
      "2019-08-17 16:40:20.039457: I tensorflow/stream_executor/platform/default/dso_loader.cc:42] Successfully opened dynamic library libcudart.so.10.0\n",
      "2019-08-17 16:40:20.637423: I tensorflow/stream_executor/platform/default/dso_loader.cc:42] Successfully opened dynamic library libcublas.so.10.0\n",
      "2019-08-17 16:40:21.046560: I tensorflow/stream_executor/platform/default/dso_loader.cc:42] Successfully opened dynamic library libcufft.so.10.0\n",
      "2019-08-17 16:40:21.178034: I tensorflow/stream_executor/platform/default/dso_loader.cc:42] Successfully opened dynamic library libcurand.so.10.0\n",
      "2019-08-17 16:40:22.304735: I tensorflow/stream_executor/platform/default/dso_loader.cc:42] Successfully opened dynamic library libcusolver.so.10.0\n",
      "2019-08-17 16:40:23.058650: I tensorflow/stream_executor/platform/default/dso_loader.cc:42] Successfully opened dynamic library libcusparse.so.10.0\n",
      "2019-08-17 16:40:24.257494: I tensorflow/stream_executor/platform/default/dso_loader.cc:42] Successfully opened dynamic library libcudnn.so.7\n",
      "2019-08-17 16:40:24.257652: I tensorflow/stream_executor/cuda/cuda_gpu_executor.cc:1005] successful NUMA node read from SysFS had negative value (-1), but there must be at least one NUMA node, so returning NUMA node zero\n",
      "2019-08-17 16:40:24.258202: I tensorflow/stream_executor/cuda/cuda_gpu_executor.cc:1005] successful NUMA node read from SysFS had negative value (-1), but there must be at least one NUMA node, so returning NUMA node zero\n",
      "2019-08-17 16:40:24.258642: I tensorflow/core/common_runtime/gpu/gpu_device.cc:1763] Adding visible gpu devices: 0\n",
      "2019-08-17 16:40:24.281146: I tensorflow/stream_executor/platform/default/dso_loader.cc:42] Successfully opened dynamic library libcudart.so.10.0\n",
      "2019-08-17 16:40:24.305091: I tensorflow/core/common_runtime/gpu/gpu_device.cc:1181] Device interconnect StreamExecutor with strength 1 edge matrix:\n",
      "2019-08-17 16:40:24.305124: I tensorflow/core/common_runtime/gpu/gpu_device.cc:1187]      0 \n",
      "2019-08-17 16:40:24.305132: I tensorflow/core/common_runtime/gpu/gpu_device.cc:1200] 0:   N \n",
      "2019-08-17 16:40:24.321749: I tensorflow/stream_executor/cuda/cuda_gpu_executor.cc:1005] successful NUMA node read from SysFS had negative value (-1), but there must be at least one NUMA node, so returning NUMA node zero\n",
      "2019-08-17 16:40:24.322208: I tensorflow/stream_executor/cuda/cuda_gpu_executor.cc:1005] successful NUMA node read from SysFS had negative value (-1), but there must be at least one NUMA node, so returning NUMA node zero\n",
      "2019-08-17 16:40:24.322562: I tensorflow/core/common_runtime/gpu/gpu_device.cc:1326] Created TensorFlow device (/job:localhost/replica:0/task:0/device:GPU:0 with 5705 MB memory) -> physical GPU (device: 0, name: GeForce GTX 1060, pci bus id: 0000:01:00.0, compute capability: 6.1)\n",
      "/home/prateek/.virtualenvs/cv_p36/lib/python3.6/site-packages/keras/engine/saving.py:292: UserWarning: No training configuration found in save file: the model was *not* compiled. Compile it manually.\n",
      "  warnings.warn('No training configuration found in save file: '\n",
      "I0817 16:40:40.360221 139787627129728 keras_to_tensorflow.py:131] Converted output node names are: ['filtered_detections/map/TensorArrayStack/TensorArrayGatherV3', 'filtered_detections/map/TensorArrayStack_1/TensorArrayGatherV3', 'filtered_detections/map/TensorArrayStack_2/TensorArrayGatherV3']\n",
      "W0817 16:40:40.361218 139787627129728 deprecation_wrapper.py:119] From keras_to_tensorflow.py:139: The name tf.train.write_graph is deprecated. Please use tf.io.write_graph instead.\n",
      "\n",
      "I0817 16:40:41.412280 139787627129728 keras_to_tensorflow.py:142] Saved the graph definition in ascii format at ../model_files/Retinanet/tf_model/resnet50_coco_best_v2.1.0.pbtxt\n",
      "W0817 16:40:41.466087 139787627129728 deprecation.py:323] From keras_to_tensorflow.py:158: convert_variables_to_constants (from tensorflow.python.framework.graph_util_impl) is deprecated and will be removed in a future version.\n",
      "Instructions for updating:\n",
      "Use `tf.compat.v1.graph_util.convert_variables_to_constants`\n",
      "W0817 16:40:41.466236 139787627129728 deprecation.py:323] From /home/prateek/.virtualenvs/cv_p36/lib/python3.6/site-packages/tensorflow/python/framework/graph_util_impl.py:270: extract_sub_graph (from tensorflow.python.framework.graph_util_impl) is deprecated and will be removed in a future version.\n",
      "Instructions for updating:\n",
      "Use `tf.compat.v1.graph_util.extract_sub_graph`\n"
     ]
    },
    {
     "name": "stdout",
     "output_type": "stream",
     "text": [
      "I0817 16:40:41.754323 139787627129728 graph_util_impl.py:311] Froze 306 variables.\n",
      "I0817 16:40:41.913398 139787627129728 graph_util_impl.py:364] Converted 306 variables to const ops.\n",
      "I0817 16:40:43.185979 139787627129728 keras_to_tensorflow.py:163] Saved the freezed graph at ../model_files/Retinanet/tf_model/resnet50_coco_best_v2.1.0.pb\n"
     ]
    }
   ],
   "source": [
    "convert_snapshot_to_protobuf(inference_model, inference_model_tensorflow,save_graph_def=True)\n",
    "Disp.clear_output(wait=True)"
   ]
  },
  {
   "cell_type": "markdown",
   "metadata": {},
   "source": [
    "##### creating tensorrt model"
   ]
  },
  {
   "cell_type": "code",
   "execution_count": 4,
   "metadata": {
    "ExecuteTime": {
     "end_time": "2019-06-14T05:24:19.287170Z",
     "start_time": "2019-06-14T05:24:19.283874Z"
    }
   },
   "outputs": [],
   "source": [
    "model_input = 'input_1:0'\n",
    "model_output = ['filtered_detections/map/TensorArrayStack/TensorArrayGatherV3:0',\n",
    "               'filtered_detections/map/TensorArrayStack_1/TensorArrayGatherV3:0',\n",
    "               'filtered_detections/map/TensorArrayStack_2/TensorArrayGatherV3:0']"
   ]
  },
  {
   "cell_type": "code",
   "execution_count": 7,
   "metadata": {
    "ExecuteTime": {
     "end_time": "2019-06-14T05:25:01.554794Z",
     "start_time": "2019-06-14T05:24:43.055562Z"
    }
   },
   "outputs": [
    {
     "name": "stdout",
     "output_type": "stream",
     "text": [
      "INFO:tensorflow:Running against TensorRT version 5.0.2\n"
     ]
    }
   ],
   "source": [
    "precision = \"FP16\"\n",
    "batch_size=10\n",
    "workspace_size=1 << 27\n",
    "trt_graph = trt.create_inference_graph(get_graph(inference_model_tensorflow),model_output,\\\n",
    "                                       precision_mode=precision,max_workspace_size_bytes=workspace_size,\\\n",
    "                                      max_batch_size=batch_size,is_dynamic_op=True)\n",
    "\n",
    "with tf.gfile.GFile(inference_model_tensorflow.replace('inference_model','tensorrt_model').replace('.pb','_precision='+precision+'_batchsize='+str(batch_size)+'_trt.pb'),'wb') as f:\n",
    "    f.write(trt_graph.SerializeToString())"
   ]
  },
  {
   "cell_type": "code",
   "execution_count": 9,
   "metadata": {
    "ExecuteTime": {
     "end_time": "2019-06-14T05:38:09.811873Z",
     "start_time": "2019-06-14T05:38:09.673639Z"
    }
   },
   "outputs": [
    {
     "name": "stdout",
     "output_type": "stream",
     "text": [
      "numb. of all_nodes in frozen graph: 2011\n",
      "numb. of trt_engine_nodes in TensorRT graph: 56\n",
      "numb. of all_nodes in TensorRT graph: 1322\n"
     ]
    }
   ],
   "source": [
    "# check how many ops of the original frozen model\n",
    "all_nodes = len([1 for n in get_graph(inference_model_tensorflow).node])\n",
    "print(\"numb. of all_nodes in frozen graph:\", all_nodes)\n",
    "\n",
    "# check how many ops that is converted to TensorRT engine\n",
    "trt_engine_nodes = len([1 for n in trt_graph.node if str(n.op) == 'TRTEngineOp'])\n",
    "print(\"numb. of trt_engine_nodes in TensorRT graph:\", trt_engine_nodes)\n",
    "all_nodes = len([1 for n in trt_graph.node])\n",
    "print(\"numb. of all_nodes in TensorRT graph:\", all_nodes)"
   ]
  },
  {
   "cell_type": "code",
   "execution_count": null,
   "metadata": {},
   "outputs": [],
   "source": []
  }
 ],
 "metadata": {
  "hide_input": false,
  "kernelspec": {
   "display_name": "cv_p36",
   "language": "python",
   "name": "cv_p36"
  },
  "language_info": {
   "codemirror_mode": {
    "name": "ipython",
    "version": 3
   },
   "file_extension": ".py",
   "mimetype": "text/x-python",
   "name": "python",
   "nbconvert_exporter": "python",
   "pygments_lexer": "ipython3",
   "version": "3.6.7"
  }
 },
 "nbformat": 4,
 "nbformat_minor": 2
}
