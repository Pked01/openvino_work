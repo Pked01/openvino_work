{
 "cells": [
  {
   "cell_type": "code",
   "execution_count": 7,
   "metadata": {
    "ExecuteTime": {
     "end_time": "2021-09-27T17:34:31.768275Z",
     "start_time": "2021-09-27T17:34:31.552882Z"
    },
    "execution": {
     "iopub.execute_input": "2021-04-19T11:50:57.961309Z",
     "iopub.status.busy": "2021-04-19T11:50:57.960476Z",
     "iopub.status.idle": "2021-04-19T11:50:57.972858Z",
     "shell.execute_reply": "2021-04-19T11:50:57.970661Z",
     "shell.execute_reply.started": "2021-04-19T11:50:57.961196Z"
    }
   },
   "outputs": [],
   "source": [
    "import time,cv2,os,glob,random\n",
    "os.sys.path.append('../utilities/')\n",
    "from datetime import datetime\n",
    "import numpy as np\n",
    "import IPython.display as Disp\n",
    "import support_utility_openvino\n",
    "import matplotlib.pyplot as plt\n",
    "import ipywidgets as widgets"
   ]
  },
  {
   "cell_type": "code",
   "execution_count": 3,
   "metadata": {
    "ExecuteTime": {
     "end_time": "2021-09-27T17:28:36.783722Z",
     "start_time": "2021-09-27T17:28:36.781731Z"
    },
    "execution": {
     "iopub.execute_input": "2021-04-19T11:50:58.738814Z",
     "iopub.status.busy": "2021-04-19T11:50:58.737873Z",
     "iopub.status.idle": "2021-04-19T11:50:58.748105Z",
     "shell.execute_reply": "2021-04-19T11:50:58.745605Z",
     "shell.execute_reply.started": "2021-04-19T11:50:58.738617Z"
    }
   },
   "outputs": [],
   "source": [
    "model_path = \"/media/prateek/shared_space/DATA_N_MODELS/useful_models/openvino/public/ssd_mobilenet_v1_coco/ssd_mobilenet_v1_coco_2018_01_28/openvino_model/frozen_inference_graph.xml\""
   ]
  },
  {
   "cell_type": "code",
   "execution_count": 8,
   "metadata": {
    "ExecuteTime": {
     "end_time": "2021-09-27T17:34:34.063322Z",
     "start_time": "2021-09-27T17:34:34.060301Z"
    },
    "execution": {
     "iopub.execute_input": "2021-04-19T11:50:59.920392Z",
     "iopub.status.busy": "2021-04-19T11:50:59.919934Z",
     "iopub.status.idle": "2021-04-19T11:50:59.925970Z",
     "shell.execute_reply": "2021-04-19T11:50:59.924584Z",
     "shell.execute_reply.started": "2021-04-19T11:50:59.920333Z"
    }
   },
   "outputs": [],
   "source": [
    "output_support = support_utility_openvino.create_plot()"
   ]
  },
  {
   "cell_type": "code",
   "execution_count": 5,
   "metadata": {
    "ExecuteTime": {
     "end_time": "2021-09-27T17:28:37.510171Z",
     "start_time": "2021-09-27T17:28:37.253640Z"
    },
    "execution": {
     "iopub.execute_input": "2021-04-19T11:51:00.525797Z",
     "iopub.status.busy": "2021-04-19T11:51:00.525549Z",
     "iopub.status.idle": "2021-04-19T11:51:00.750534Z",
     "shell.execute_reply": "2021-04-19T11:51:00.749778Z",
     "shell.execute_reply.started": "2021-04-19T11:51:00.525760Z"
    }
   },
   "outputs": [
    {
     "name": "stdout",
     "output_type": "stream",
     "text": [
      "Available Devices :  ['CPU', 'GNA', 'GPU']\n",
      "OPTIMIZATION_CAPABILITIES for CPU:  ['FP32', 'FP16', 'INT8', 'BIN']\n",
      "model inputs : dict_keys(['image_tensor'])\n",
      "model outputs :  dict_keys(['DetectionOutput'])\n"
     ]
    }
   ],
   "source": [
    "ssd_openvino_model = support_utility_openvino.async_infer(4)\n",
    "ssd_openvino_model.load_model(model_path,\"CPU\")"
   ]
  },
  {
   "cell_type": "code",
   "execution_count": 8,
   "metadata": {
    "ExecuteTime": {
     "end_time": "2021-09-27T17:31:12.185701Z",
     "start_time": "2021-09-27T17:30:15.785242Z"
    },
    "execution": {
     "iopub.execute_input": "2021-04-19T09:57:45.911705Z",
     "iopub.status.busy": "2021-04-19T09:57:45.911383Z",
     "iopub.status.idle": "2021-04-19T09:58:23.229426Z",
     "shell.execute_reply": "2021-04-19T09:58:23.228664Z",
     "shell.execute_reply.started": "2021-04-19T09:57:45.911666Z"
    }
   },
   "outputs": [],
   "source": [
    "channel = \"/media/prateek/shared_space/DATA_N_MODELS/useful_vids/general/vehicle/4K camera example for Traffic Monitoring (Road)-jjlBnrzSGjc.mp4\"\n",
    "thresh = .5\n",
    "cap = cv2.VideoCapture(channel)\n",
    "cap.set(1,500)\n",
    "ret,frame = cap.read()\n",
    "\n",
    "res_thresh = output_support.get_resolution_thresh(frame)\n",
    "\n",
    "cv2.namedWindow(\"openvino\",cv2.WINDOW_NORMAL)\n",
    "ssd_openvino_model.reinit_model()\n",
    "\n",
    "write_video = False\n",
    "if write_video:\n",
    "    fourcc = cv2.VideoWriter_fourcc(*'mp4v')\n",
    "    out = cv2.VideoWriter(\"../output_vids/general/ssd/\"+\"output_ssd_openvino\"+\".mp4\",fourcc, 20, (int(cap.get(3)),int(cap.get(4))))\n",
    "while True:\n",
    "#     Disp.clear_output(wait=True)\n",
    "    fps = fps[-100:]\n",
    "#     for i in range(100):\n",
    "    ret,frame = cap.read()\n",
    "    if not ret:\n",
    "        break\n",
    "\n",
    "    t1 = time.time()\n",
    "    ssd_openvino_model.predict(frame)\n",
    "    if ssd_openvino_model.frame_processed>=ssd_openvino_model.num_requests:\n",
    "        frame,attr,res = ssd_openvino_model.postprocess_op()       \n",
    "        fps.append(1/(time.time()-t1))\n",
    "        \n",
    "        op_frame =  output_support.label_coco(frame,res[0],thresh=thresh,resolution_thresh_range=res_thresh)\n",
    "        \n",
    "\n",
    "        op_frame = output_support.write_text(op_frame,\"FPS = \"+str(np.mean(fps,dtype='int')),text_color=(0, 0, 0))\n",
    "        if write_video:\n",
    "            out.write(op_frame)\n",
    "        cv2.imshow(\"preview\",op_frame)\n",
    "        k = cv2.waitKey(1)\n",
    "        if k==ord('q'):\n",
    "            break\n",
    "if write_video:\n",
    "    out.release()\n",
    "cap.release()\n",
    "cv2.destroyAllWindows()\n",
    "\n",
    "                \n",
    "            \n",
    "\n",
    "    \n",
    "    "
   ]
  },
  {
   "cell_type": "code",
   "execution_count": 9,
   "metadata": {
    "ExecuteTime": {
     "end_time": "2021-09-27T17:35:25.043825Z",
     "start_time": "2021-09-27T17:34:37.174271Z"
    },
    "execution": {
     "iopub.execute_input": "2021-04-15T12:35:23.902380Z",
     "iopub.status.busy": "2021-04-15T12:35:23.901728Z",
     "iopub.status.idle": "2021-04-15T12:36:10.347345Z",
     "shell.execute_reply": "2021-04-15T12:36:10.346697Z",
     "shell.execute_reply.started": "2021-04-15T12:35:23.902305Z"
    }
   },
   "outputs": [],
   "source": [
    "\n",
    "import tensorflow as tf\n",
    "import numpy as np\n",
    "import cv2,time\n",
    "config = tf.ConfigProto()\n",
    "config.gpu_options.allow_growth = True\n",
    "session = tf.Session(config=config)\n",
    "\n",
    "# Read the graph.\n",
    "\n",
    "with tf.gfile.FastGFile('/media/prateek/shared_space/DATA_N_MODELS/useful_models/openvino/public/ssd_mobilenet_v1_coco/ssd_mobilenet_v1_coco_2018_01_28/frozen_inference_graph.pb', 'rb') as f:\n",
    "    graph_def = tf.GraphDef()\n",
    "    graph_def.ParseFromString(f.read())\n",
    "\n",
    "channel = \"/media/prateek/shared_space/DATA_N_MODELS/useful_vids/general/vehicle/4K camera example for Traffic Monitoring (Road)-jjlBnrzSGjc.mp4\"\n",
    "thresh = .5\n",
    "colors = dict(zip(range(1,81),np.random.randint(0,255,(80,3),dtype = np.int16)))\n",
    "cap = cv2.VideoCapture(channel)\n",
    "cap.set(1,500)\n",
    "\n",
    "fps = []\n",
    "write_video = False\n",
    "if write_video:\n",
    "    fps = fps[-100:]\n",
    "    fourcc = cv2.VideoWriter_fourcc(*'mp4v')\n",
    "    out_vid = cv2.VideoWriter(\"../output_vids/general/ssd/\"+\"output_ssd_tensorflow\"+\".mp4\",fourcc, 20, (int(cap.get(3)),int(cap.get(4))))\n",
    "\n",
    "with tf.Session() as sess:\n",
    "    # Restore session\n",
    "    sess.graph.as_default()\n",
    "    tf.import_graph_def(graph_def, name='')\n",
    "\n",
    "    # Read and preprocess an image.\n",
    "    while True:\n",
    "        ret,img  = cap.read()\n",
    "        if not ret:\n",
    "            break\n",
    "        rows = img.shape[0]\n",
    "        cols = img.shape[1]\n",
    "        inp = cv2.resize(img, (300, 300))\n",
    "#         inp = inp[:, :, [2, 1, 0]]  # BGR2RGB\n",
    "        t1 = time.time()\n",
    "        # Run the model\n",
    "        out = sess.run([sess.graph.get_tensor_by_name('num_detections:0'),\n",
    "                        sess.graph.get_tensor_by_name('detection_scores:0'),\n",
    "                        sess.graph.get_tensor_by_name('detection_boxes:0'),\n",
    "                        sess.graph.get_tensor_by_name('detection_classes:0')],\n",
    "                       feed_dict={'image_tensor:0': inp.reshape(1, inp.shape[0], inp.shape[1], 3)})\n",
    "        fps.append(1/(time.time()-t1))\n",
    "\n",
    "        # Visualize detected bounding boxes.\n",
    "        num_detections = int(out[0][0])\n",
    "        for i in range(num_detections):\n",
    "            classId = int(out[3][0][i])\n",
    "            color = tuple(colors[classId])\n",
    "            score = float(out[1][0][i])\n",
    "            bbox = [float(v) for v in out[2][0][i]]\n",
    "            if score > thresh:\n",
    "                x = bbox[1] * cols\n",
    "                y = bbox[0] * rows\n",
    "                right = bbox[3] * cols\n",
    "                bottom = bbox[2] * rows\n",
    "                cv2.rectangle(img, (int(x), int(y)), (int(right), int(bottom)),tuple(map(int,color)), thickness=2)\n",
    "        img = output_support.write_text(img,\"FPS = \"+str(np.mean(fps,dtype='int')),text_color=(0, 0, 0))\n",
    "        if write_video:\n",
    "            out_vid.write(img)\n",
    "        cv2.imshow(\"preview\",img)\n",
    "        k = cv2.waitKey(1)\n",
    "        if k==ord('q'):\n",
    "            break\n",
    "cap.release()\n",
    "cv2.destroyAllWindows()\n",
    "if write_video:\n",
    "    out_vid.release()"
   ]
  },
  {
   "cell_type": "code",
   "execution_count": null,
   "metadata": {},
   "outputs": [],
   "source": []
  }
 ],
 "metadata": {
  "kernelspec": {
   "display_name": "tf_1",
   "language": "python",
   "name": "myenv"
  },
  "language_info": {
   "codemirror_mode": {
    "name": "ipython",
    "version": 3
   },
   "file_extension": ".py",
   "mimetype": "text/x-python",
   "name": "python",
   "nbconvert_exporter": "python",
   "pygments_lexer": "ipython3",
   "version": "3.6.9"
  },
  "widgets": {
   "application/vnd.jupyter.widget-state+json": {
    "state": {},
    "version_major": 2,
    "version_minor": 0
   }
  }
 },
 "nbformat": 4,
 "nbformat_minor": 4
}
