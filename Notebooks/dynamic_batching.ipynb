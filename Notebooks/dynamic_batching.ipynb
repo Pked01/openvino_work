{
 "cells": [
  {
   "cell_type": "code",
   "execution_count": 1,
   "metadata": {
    "ExecuteTime": {
     "end_time": "2019-11-08T09:42:50.588981Z",
     "start_time": "2019-11-08T09:42:50.429025Z"
    }
   },
   "outputs": [],
   "source": [
    "from openvino.inference_engine import IENetwork, IEPlugin\n",
    "import cv2"
   ]
  },
  {
   "cell_type": "code",
   "execution_count": 2,
   "metadata": {
    "ExecuteTime": {
     "end_time": "2019-11-08T09:42:50.594568Z",
     "start_time": "2019-11-08T09:42:50.591194Z"
    }
   },
   "outputs": [],
   "source": [
    "detection_model_path = '/media/prateek/prateek_space/intel_model_dump/intel/vehicle-detection-adas-0002/FP32/vehicle-detection-adas-0002.xml'\n",
    "attr_model_path = '/media/prateek/prateek_space/intel_model_dump/intel/vehicle-attributes-recognition-barrier-0039/FP32/vehicle-attributes-recognition-barrier-0039.xml'\n",
    "cpu_extension = '../build_samples/intel64/Release/lib/libcpu_extension.so'\n",
    "device = 'CPU'\n",
    "max_batch_size = 20"
   ]
  },
  {
   "cell_type": "code",
   "execution_count": 11,
   "metadata": {
    "ExecuteTime": {
     "end_time": "2019-11-08T09:44:02.724127Z",
     "start_time": "2019-11-08T09:44:02.577159Z"
    }
   },
   "outputs": [],
   "source": [
    "net = IENetwork(model=detection_model_path, weights=detection_model_path.replace(\"xml\",\"bin\"))\n",
    "input_blob = next(iter(net.inputs))\n",
    "out_blob = list(net.outputs.keys())\n",
    "plugin = IEPlugin(device=\"CPU\")\n",
    "plugin.add_cpu_extension(cpu_extension)\n",
    "# Set max batch size\n",
    "net.batch_size = 30\n",
    "batch_size, channel, height, width = net.inputs[input_blob].shape\n",
    "\n",
    "# plugin.set_config({\"DYN_BATCH_ENABLED\": \"YES\"})\n",
    "exec_net = plugin.load(network=net)\n",
    "# Set batch size for certain network.\n"
   ]
  },
  {
   "cell_type": "code",
   "execution_count": 4,
   "metadata": {
    "ExecuteTime": {
     "end_time": "2019-11-08T09:42:51.153093Z",
     "start_time": "2019-11-08T09:42:51.146005Z"
    }
   },
   "outputs": [],
   "source": [
    "def preprocess_frame(frame):\n",
    "    \"\"\"\n",
    "    after processing cursor id is updated\n",
    "    \"\"\"\n",
    "    in_frame = cv2.resize(frame.copy(), (width, height))\n",
    "    in_frame = in_frame.transpose((2, 0, 1))  # Change data layout from HWC to CHW\n",
    "    in_frame = in_frame.reshape((1, channel, height, width))\n",
    "    return in_frame"
   ]
  },
  {
   "cell_type": "code",
   "execution_count": 5,
   "metadata": {
    "ExecuteTime": {
     "end_time": "2019-11-08T09:42:53.479147Z",
     "start_time": "2019-11-08T09:42:53.456056Z"
    }
   },
   "outputs": [],
   "source": [
    "im = cv2.imread(\"/media/prateek/shared_space/Notebooks/abg/production_code/vehicle_detection/sample_image.jpeg\")"
   ]
  },
  {
   "cell_type": "code",
   "execution_count": 7,
   "metadata": {
    "ExecuteTime": {
     "end_time": "2019-11-08T09:43:01.354373Z",
     "start_time": "2019-11-08T09:43:01.342246Z"
    }
   },
   "outputs": [],
   "source": [
    "im1 = preprocess_frame(im)"
   ]
  },
  {
   "cell_type": "code",
   "execution_count": 14,
   "metadata": {
    "ExecuteTime": {
     "end_time": "2019-11-08T09:46:27.402794Z",
     "start_time": "2019-11-08T09:46:27.397764Z"
    }
   },
   "outputs": [],
   "source": [
    "import numpy as np"
   ]
  },
  {
   "cell_type": "code",
   "execution_count": 20,
   "metadata": {
    "ExecuteTime": {
     "end_time": "2019-11-08T09:47:38.101796Z",
     "start_time": "2019-11-08T09:47:35.676908Z"
    }
   },
   "outputs": [
    {
     "name": "stdout",
     "output_type": "stream",
     "text": [
      "301 ms ± 3.1 ms per loop (mean ± std. dev. of 7 runs, 1 loop each)\n"
     ]
    }
   ],
   "source": [
    "%%timeit\n",
    "exec_net.infer({input_blob:[im1]})"
   ]
  },
  {
   "cell_type": "code",
   "execution_count": 23,
   "metadata": {
    "ExecuteTime": {
     "end_time": "2019-11-08T09:47:50.674421Z",
     "start_time": "2019-11-08T09:47:48.260609Z"
    }
   },
   "outputs": [
    {
     "name": "stdout",
     "output_type": "stream",
     "text": [
      "301 ms ± 2.77 ms per loop (mean ± std. dev. of 7 runs, 1 loop each)\n"
     ]
    }
   ],
   "source": [
    "%%timeit\n",
    "exec_net.infer({input_blob:[im1]*30})"
   ]
  },
  {
   "cell_type": "code",
   "execution_count": null,
   "metadata": {},
   "outputs": [],
   "source": [
    "from openvino.inference_engine import IENetwork, IEPlugin\n",
    "import cv2\n",
    "class dynamic_batch_infer()"
   ]
  }
 ],
 "metadata": {
  "kernelspec": {
   "display_name": "openvino",
   "language": "python",
   "name": "openvino"
  },
  "language_info": {
   "codemirror_mode": {
    "name": "ipython",
    "version": 3
   },
   "file_extension": ".py",
   "mimetype": "text/x-python",
   "name": "python",
   "nbconvert_exporter": "python",
   "pygments_lexer": "ipython3",
   "version": "3.6.8"
  }
 },
 "nbformat": 4,
 "nbformat_minor": 2
}
