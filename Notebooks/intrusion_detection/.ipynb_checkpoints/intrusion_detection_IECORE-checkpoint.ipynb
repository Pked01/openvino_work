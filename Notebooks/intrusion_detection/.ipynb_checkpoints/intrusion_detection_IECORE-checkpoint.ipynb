{
 "cells": [
  {
   "cell_type": "code",
   "execution_count": 1,
   "metadata": {
    "ExecuteTime": {
     "end_time": "2020-12-29T04:49:18.396642Z",
     "start_time": "2020-12-29T04:49:17.814818Z"
    },
    "execution": {
     "iopub.execute_input": "2021-06-20T16:46:25.034998Z",
     "iopub.status.busy": "2021-06-20T16:46:25.034687Z",
     "iopub.status.idle": "2021-06-20T16:46:25.751149Z",
     "shell.execute_reply": "2021-06-20T16:46:25.750553Z",
     "shell.execute_reply.started": "2021-06-20T16:46:25.034959Z"
    },
    "tags": []
   },
   "outputs": [],
   "source": [
    "import cv2,os,time\n",
    "os.sys.path.append('../utilities/')\n",
    "from datetime import datetime\n",
    "import numpy as np\n",
    "import IPython.display as Disp\n",
    "import support_utility_openvino\n",
    "import matplotlib.pyplot as plt\n",
    "import ipywidgets as widgets\n",
    "from shapely.geometry import Polygon,Point\n"
   ]
  },
  {
   "cell_type": "code",
   "execution_count": 2,
   "metadata": {
    "ExecuteTime": {
     "end_time": "2020-12-29T04:49:18.996934Z",
     "start_time": "2020-12-29T04:49:18.990042Z"
    },
    "execution": {
     "iopub.execute_input": "2021-06-20T16:46:26.336408Z",
     "iopub.status.busy": "2021-06-20T16:46:26.336133Z",
     "iopub.status.idle": "2021-06-20T16:46:26.339465Z",
     "shell.execute_reply": "2021-06-20T16:46:26.339058Z",
     "shell.execute_reply.started": "2021-06-20T16:46:26.336364Z"
    },
    "tags": []
   },
   "outputs": [],
   "source": [
    "output_support = support_utility_openvino.create_plot()"
   ]
  },
  {
   "cell_type": "markdown",
   "metadata": {},
   "source": [
    "##### class for selecting area of interest"
   ]
  },
  {
   "cell_type": "code",
   "execution_count": 3,
   "metadata": {
    "ExecuteTime": {
     "end_time": "2020-12-29T04:49:19.785712Z",
     "start_time": "2020-12-29T04:49:19.738052Z"
    },
    "execution": {
     "iopub.execute_input": "2021-06-20T16:46:28.587651Z",
     "iopub.status.busy": "2021-06-20T16:46:28.586877Z",
     "iopub.status.idle": "2021-06-20T16:46:28.606976Z",
     "shell.execute_reply": "2021-06-20T16:46:28.606479Z",
     "shell.execute_reply.started": "2021-06-20T16:46:28.587552Z"
    },
    "tags": []
   },
   "outputs": [],
   "source": [
    "class bbox_select():\n",
    "    %matplotlib widget\n",
    "\n",
    "\n",
    "    def __init__(self,im):\n",
    "        self.im = im\n",
    "        self.selected_points = []\n",
    "        self.fig,ax = plt.subplots()\n",
    "        self.img = ax.imshow(self.im.copy())\n",
    "        self.ka = self.fig.canvas.mpl_connect('button_press_event', self.onclick)\n",
    "        disconnect_button = widgets.Button(description=\"Disconnect mpl\")\n",
    "        Disp.display(disconnect_button)\n",
    "        disconnect_button.on_click(self.disconnect_mpl)\n",
    "\n",
    "\n",
    "        \n",
    "    def poly_img(self,img,pts):\n",
    "        pts = np.array(pts, np.int32)\n",
    "        pts = pts.reshape((-1,1,2))\n",
    "        cv2.polylines(img,[pts],True,(0,255,255),4)\n",
    "        return img\n",
    "\n",
    "    def onclick(self, event):\n",
    "    #display(str(event))\n",
    "        self.selected_points.append([event.xdata,event.ydata])\n",
    "        if len(self.selected_points)>1:\n",
    "            self.fig\n",
    "            self.img.set_data(self.poly_img(self.im.copy(),self.selected_points))\n",
    "    def disconnect_mpl(self,_):\n",
    "        self.fig.canvas.mpl_disconnect(self.ka)\n",
    "\n",
    "        \n",
    "            "
   ]
  },
  {
   "cell_type": "markdown",
   "metadata": {},
   "source": [
    "- support functions"
   ]
  },
  {
   "cell_type": "code",
   "execution_count": 4,
   "metadata": {
    "ExecuteTime": {
     "end_time": "2020-12-29T04:49:21.392279Z",
     "start_time": "2020-12-29T04:49:21.371889Z"
    },
    "execution": {
     "iopub.execute_input": "2021-06-20T16:46:30.325528Z",
     "iopub.status.busy": "2021-06-20T16:46:30.325312Z",
     "iopub.status.idle": "2021-06-20T16:46:30.336469Z",
     "shell.execute_reply": "2021-06-20T16:46:30.335857Z",
     "shell.execute_reply.started": "2021-06-20T16:46:30.325502Z"
    },
    "tags": []
   },
   "outputs": [],
   "source": [
    "def point_intersection_shapely(polygon, point):\n",
    "    \"\"\"\n",
    "    polygon : set of points for polygon[[x1,y1],[x2,y2]] \n",
    "    point : set of points for polygon[x3,y3] \n",
    "    returns true or false\n",
    "    \"\"\"\n",
    "    p1 = Polygon(polygon)\n",
    "    return p1.contains(Point(point))\n",
    "\n",
    "\n",
    "def poly_intersection_shapely(pt1,pt2,intersection_threshold=.1):\n",
    "    \"\"\"\n",
    "    pt1 : set of points for polygon 1 [[x1,y1],[x2,y2]] \n",
    "    pt2 : set of points for polygon 2[[x1,y1],[x2,y2]] \n",
    "    intersection theshold : intersection threshold for polygon intersection considered with ref to pt2\n",
    "    bool : return True or False\n",
    "    \"\"\"\n",
    "\n",
    "    p1 = Polygon(pt1)\n",
    "    p2 = Polygon(pt2)\n",
    "    intersection_area = p1.intersection(p2).area\n",
    "    if intersection_area/p2.area>intersection_threshold:\n",
    "        return True\n",
    "    return False\n",
    "def filter_result_bbox(frame,result,thresh=.4):\n",
    "    initial_w,initial_h = frame.shape[1],frame.shape[0]\n",
    "    res_filt =  result[np.where(result[:,:,:,2]>thresh)]\n",
    "    res_filt = res_filt[np.min(res_filt,axis=1)>=0]\n",
    "    class_ids = res_filt[:,1].astype(int)\n",
    "    bboxes = np.multiply([[initial_w,initial_h,initial_w,initial_h]],(res_filt[:,3:])).astype('int')\n",
    "    return bboxes"
   ]
  },
  {
   "cell_type": "markdown",
   "metadata": {},
   "source": [
    "#### create ROI"
   ]
  },
  {
   "cell_type": "code",
   "execution_count": 9,
   "metadata": {
    "ExecuteTime": {
     "end_time": "2020-11-12T08:59:35.097720Z",
     "start_time": "2020-11-12T08:59:35.095478Z"
    },
    "execution": {
     "iopub.execute_input": "2021-06-20T16:47:45.574151Z",
     "iopub.status.busy": "2021-06-20T16:47:45.573267Z",
     "iopub.status.idle": "2021-06-20T16:47:45.584224Z",
     "shell.execute_reply": "2021-06-20T16:47:45.582379Z",
     "shell.execute_reply.started": "2021-06-20T16:47:45.574034Z"
    },
    "tags": []
   },
   "outputs": [],
   "source": [
    "channel = \"/media/prateek/shared_space/DATA_N_MODELS/useful_vids/helmet_vest/Camera6_spandan office_spandan office_20181219030138_20181219030153_2989388.mp4\""
   ]
  },
  {
   "cell_type": "markdown",
   "metadata": {},
   "source": []
  },
  {
   "cell_type": "code",
   "execution_count": 10,
   "metadata": {
    "ExecuteTime": {
     "end_time": "2020-11-12T08:59:36.356227Z",
     "start_time": "2020-11-12T08:59:35.316690Z"
    },
    "execution": {
     "iopub.execute_input": "2021-06-20T16:47:46.096927Z",
     "iopub.status.busy": "2021-06-20T16:47:46.096071Z",
     "iopub.status.idle": "2021-06-20T16:47:46.235945Z",
     "shell.execute_reply": "2021-06-20T16:47:46.235319Z",
     "shell.execute_reply.started": "2021-06-20T16:47:46.096816Z"
    },
    "tags": []
   },
   "outputs": [],
   "source": [
    "cap = cv2.VideoCapture(channel)\n",
    "ret,frame = cap.read()"
   ]
  },
  {
   "cell_type": "code",
   "execution_count": 13,
   "metadata": {
    "ExecuteTime": {
     "end_time": "2020-11-12T08:59:36.725433Z",
     "start_time": "2020-11-12T08:59:36.622642Z"
    },
    "execution": {
     "iopub.execute_input": "2021-06-20T16:48:09.032942Z",
     "iopub.status.busy": "2021-06-20T16:48:09.032741Z",
     "iopub.status.idle": "2021-06-20T16:48:09.082431Z",
     "shell.execute_reply": "2021-06-20T16:48:09.081928Z",
     "shell.execute_reply.started": "2021-06-20T16:48:09.032918Z"
    },
    "tags": []
   },
   "outputs": [
    {
     "name": "stderr",
     "output_type": "stream",
     "text": [
      "/home/prateek/.virtualenvs/openvino/lib/python3.6/site-packages/ipywidgets/widgets/widget.py:412: DeprecationWarning: Passing unrecoginized arguments to super(Canvas).__init__().\n",
      "__init__() missing 1 required positional argument: 'figure'\n",
      "This is deprecated in traitlets 4.2.This error will be raised in a future release of traitlets.\n",
      "  super(Widget, self).__init__(**kwargs)\n",
      "/home/prateek/.virtualenvs/openvino/lib/python3.6/site-packages/ipywidgets/widgets/widget.py:412: DeprecationWarning: Passing unrecoginized arguments to super(Toolbar).__init__().\n",
      "__init__() missing 1 required positional argument: 'canvas'\n",
      "This is deprecated in traitlets 4.2.This error will be raised in a future release of traitlets.\n",
      "  super(Widget, self).__init__(**kwargs)\n"
     ]
    },
    {
     "data": {
      "application/vnd.jupyter.widget-view+json": {
       "model_id": "a40446f6cace414e8e8824839a38e59b",
       "version_major": 2,
       "version_minor": 0
      },
      "text/plain": [
       "Canvas(toolbar=Toolbar(toolitems=[('Home', 'Reset original view', 'home', 'home'), ('Back', 'Back to previous …"
      ]
     },
     "metadata": {},
     "output_type": "display_data"
    },
    {
     "data": {
      "application/vnd.jupyter.widget-view+json": {
       "model_id": "3b2f42c9971a4beba3f58092c940ccb5",
       "version_major": 2,
       "version_minor": 0
      },
      "text/plain": [
       "Button(description='Disconnect mpl', style=ButtonStyle())"
      ]
     },
     "metadata": {},
     "output_type": "display_data"
    }
   ],
   "source": [
    "bs = bbox_select(frame)"
   ]
  },
  {
   "cell_type": "code",
   "execution_count": 9,
   "metadata": {
    "execution": {
     "iopub.execute_input": "2020-11-13T04:45:30.123298Z",
     "iopub.status.busy": "2020-11-13T04:45:30.122616Z",
     "iopub.status.idle": "2020-11-13T04:45:30.134647Z",
     "shell.execute_reply": "2020-11-13T04:45:30.132142Z",
     "shell.execute_reply.started": "2020-11-13T04:45:30.123215Z"
    }
   },
   "outputs": [
    {
     "data": {
      "text/plain": [
       "[[611.0478449444292, 707.4024125779343],\n",
       " [879.087964217945, 525.2392247221469],\n",
       " [1115.900108430469, 655.3557874762809],\n",
       " [897.3042830035238, 889.5656004337218]]"
      ]
     },
     "execution_count": 9,
     "metadata": {},
     "output_type": "execute_result"
    }
   ],
   "source": [
    "### selected points\n",
    "bs.selected_points"
   ]
  },
  {
   "cell_type": "code",
   "execution_count": null,
   "metadata": {},
   "outputs": [],
   "source": [
    "# masked_image = np.multiply(image.copy(),\n",
    "#                            cv2.fillPoly(np.zeros(image.shape, np.uint8),\n",
    "#                                         np.array([image_dict['model_config']['roi']], 'int'),\n",
    "#                                         [1, 1, 1]))"
   ]
  },
  {
   "cell_type": "markdown",
   "metadata": {},
   "source": [
    "#### loading model"
   ]
  },
  {
   "cell_type": "code",
   "execution_count": 5,
   "metadata": {
    "execution": {
     "iopub.execute_input": "2021-06-20T16:47:03.125746Z",
     "iopub.status.busy": "2021-06-20T16:47:03.125502Z",
     "iopub.status.idle": "2021-06-20T16:47:03.578673Z",
     "shell.execute_reply": "2021-06-20T16:47:03.578160Z",
     "shell.execute_reply.started": "2021-06-20T16:47:03.125707Z"
    },
    "tags": []
   },
   "outputs": [
    {
     "name": "stdout",
     "output_type": "stream",
     "text": [
      "Available Devices :  ['CPU', 'GNA', 'GPU']\n",
      "OPTIMIZATION_CAPABILITIES for CPU:  ['FP32', 'FP16', 'INT8', 'BIN']\n",
      "model inputs : dict_keys(['image'])\n",
      "model outputs :  dict_keys(['detection_out'])\n"
     ]
    }
   ],
   "source": [
    "model_path = '/home/prateek/prateek_space/intel_model_dump/intel/person-detection-0100/FP32/person-detection-0100.xml'\n",
    "# model_path = '/home/prateek/prateek_space/model_files/openvino_model/2020_07_11_person_detection/frozen_inference_graph.xml'\n",
    "# model_path = \"/home/prateek/prateek_space/model_files/openvino_model/2020_08_22_person_detection/frozen_inference_graph.xml\"\n",
    "model_path = \"/media/prateek/shared_space/Notebooks/git_repos/openvino_training_extensions/pytorch_toolkit/object_detection/custom_model/person_detection_1/outputs/openvino/alt_ssd_export/2020_03_18_person_detection.xml\"\n",
    "model_path = \"/media/prateek/shared_space/DATA_N_MODELS/useful_models/helmet_vest/2021_06_18_person_detection/model.xml\"\n",
    "threshold = .5\n",
    "device = 'CPU'\n",
    "\n",
    "person_detection = support_utility_openvino.async_infer(4)\n",
    "person_detection.load_model(model_path=model_path,device=device)"
   ]
  },
  {
   "cell_type": "markdown",
   "metadata": {},
   "source": [
    "#### for video"
   ]
  },
  {
   "cell_type": "code",
   "execution_count": 22,
   "metadata": {
    "execution": {
     "iopub.execute_input": "2021-06-20T16:59:31.402155Z",
     "iopub.status.busy": "2021-06-20T16:59:31.401836Z",
     "iopub.status.idle": "2021-06-20T16:59:51.580839Z",
     "shell.execute_reply": "2021-06-20T16:59:51.579255Z",
     "shell.execute_reply.started": "2021-06-20T16:59:31.402119Z"
    },
    "tags": []
   },
   "outputs": [],
   "source": [
    "channel = \"/media/prateek/shared_space/DATA_N_MODELS/useful_vids/1/helmet_vest/CSY_IP Camera15_CSY_20340104021919_20340104021928_17675913.mp4\"\n",
    "write_video = False\n",
    "show_bbox = True\n",
    "fps_async = []\n",
    "cap = cv2.VideoCapture(channel)\n",
    "initial_w,initial_h = cap.get(3), cap.get(4)\n",
    "\n",
    "# for idx,channel in enumerate(glob.glob(\"/media/prateek/prateek_space/helmet_n_vest/test_data/2019_09_12_Taloja_video_data/2019-09-12/stacker _bay_hot_mill_side_view/*\")):\n",
    "#     cap = cv2.VideoCapture(channel)\n",
    "thresh = .5\n",
    "intersection_thresh = .1\n",
    "cv2.namedWindow(\"preview\",cv2.WINDOW_NORMAL)\n",
    "cap.set(1,0)\n",
    "person_detection.reinit_model()\n",
    "if write_video:\n",
    "    fourcc = cv2.VideoWriter_fourcc(*'mp4v')\n",
    "    videowriter = cv2.VideoWriter(\"../output_vids/intrusion/veraval/\"+\"h2bottling\"+\".mp4\",fourcc, 10, (int(cap.get(3)),int(cap.get(4))))\n",
    "while True:\n",
    "    t0 = time.time() \n",
    "    ret, frame = cap.read()\n",
    "#     frame = cv2.resize(frame,(1344,756))\n",
    "\n",
    "    if not ret:\n",
    "        break\n",
    "       \n",
    "    person_detection.predict(frame)\n",
    "    if person_detection.frame_processed>=person_detection.num_requests:\n",
    "        frame,attr,res = person_detection.postprocess_op()\n",
    "        bboxes = filter_result_bbox(frame,res[0],thresh = thresh)\n",
    "        t1 = time.time()    \n",
    "        fps_async.append(1/(t1-t0))\n",
    "\n",
    "        res_filt =  res[0][np.where(res[0][:,:,:,2]>thresh)]\n",
    "        bboxes = np.multiply([[initial_w,initial_h,initial_w,initial_h]],(res_filt[:,3:])).astype('int')\n",
    "        if show_bbox:\n",
    "            frame = bs.poly_img(frame,bs.selected_points)\n",
    "        for b in bboxes:\n",
    "        ## mask based intersection\n",
    "#             intersection = poly_intersection_mask(frame,bs.selected_points,[[b[0],b[1]],[b[2],b[1]],[b[2],b[3]],[b[0],b[3]]])\n",
    "#             print(intersection)\n",
    "            \n",
    "            if poly_intersection_shapely(bs.selected_points,[[b[0],b[1]],[b[2],b[1]],[b[2],b[3]],[b[0],b[3]]],intersection_threshold=intersection_thresh)and(point_intersection_shapely(bs.selected_points,[b[0],b[3]]) or point_intersection_shapely(bs.selected_points,[b[2],b[3]])):\n",
    "                cv2.rectangle(frame, (b[0], b[1]), (b[2], b[3]), (0,0,255), 2)            \n",
    "            else:\n",
    "                # if not intersecting\n",
    "#                 pass\n",
    "                cv2.rectangle(frame, (b[0], b[1]), (b[2], b[3]), (0,0,0), 2)\n",
    "        frame = output_support.write_text(frame,\"FPS :%.2f\"%np.median(fps_async),text_color=(0, 0, 0),font_scale=1)\n",
    "        \n",
    "#         dst = cv2.warpPerspective(frame,M,(int(width),int(height)))\n",
    "        if write_video:\n",
    "            videowriter.write(frame)\n",
    "        cv2.imshow(\"preview\",frame)\n",
    "        k = cv2.waitKey(0)\n",
    "        if k==ord('q'):\n",
    "            break\n",
    "\n",
    "if write_video:\n",
    "    videowriter.release()\n",
    "cv2.destroyAllWindows()\n",
    "cap.release()\n",
    "\n"
   ]
  },
  {
   "cell_type": "markdown",
   "metadata": {},
   "source": [
    "####  for images"
   ]
  },
  {
   "cell_type": "code",
   "execution_count": 26,
   "metadata": {
    "ExecuteTime": {
     "end_time": "2020-12-29T05:06:31.283395Z",
     "start_time": "2020-12-29T05:06:31.277830Z"
    },
    "execution": {
     "iopub.execute_input": "2021-05-25T14:00:26.162692Z",
     "iopub.status.busy": "2021-05-25T14:00:26.162091Z",
     "iopub.status.idle": "2021-05-25T14:00:26.215122Z",
     "shell.execute_reply": "2021-05-25T14:00:26.214445Z",
     "shell.execute_reply.started": "2021-05-25T14:00:26.162613Z"
    }
   },
   "outputs": [],
   "source": [
    "file_path = \"/media/prateek/shared_space/DATA_N_MODELS/useful_vids/person_dataset/VIKRAM_WOLLEN/FLEX4CAM11//\"\n",
    "def get_all_file_path(source_dir,ext='.csv'):\n",
    "    \"\"\"\n",
    "    all images with csv extension exist in set of dirs\n",
    "    \"\"\"\n",
    "    op =[]\n",
    "    for root, dirs, files in os.walk(source_dir):\n",
    "        for file in files:\n",
    "            if file.endswith(ext):\n",
    "                \n",
    "                 op.append(os.path.join(os.path.abspath(root), file))\n",
    "    return op\n",
    "all_jpg = get_all_file_path(file_path,\".jpg\")"
   ]
  },
  {
   "cell_type": "code",
   "execution_count": 27,
   "metadata": {
    "ExecuteTime": {
     "end_time": "2020-12-29T05:06:33.050404Z",
     "start_time": "2020-12-29T05:06:32.854384Z"
    },
    "execution": {
     "iopub.execute_input": "2021-05-25T14:00:26.825964Z",
     "iopub.status.busy": "2021-05-25T14:00:26.825094Z",
     "iopub.status.idle": "2021-05-25T14:00:26.980117Z",
     "shell.execute_reply": "2021-05-25T14:00:26.979476Z",
     "shell.execute_reply.started": "2021-05-25T14:00:26.825843Z"
    }
   },
   "outputs": [
    {
     "name": "stdout",
     "output_type": "stream",
     "text": [
      "Available Devices :  ['CPU', 'GNA', 'GPU']\n",
      "OPTIMIZATION_CAPABILITIES for CPU:  ['FP32', 'FP16', 'INT8', 'BIN']\n",
      "model inputs : dict_keys(['image'])\n",
      "model outputs :  dict_keys(['detection_out'])\n"
     ]
    }
   ],
   "source": [
    "model_path = \"/media/prateek/shared_space/Notebooks/git_repos/openvino_training_extensions/pytorch_toolkit/object_detection/custom_model/person_detection/export/alt_ssd_export/model.xml\"\n",
    "# model_path = '/home/prateek/prateek_space/model_files/openvino_model/2020_07_11_person_detection/frozen_inference_graph.xml'\n",
    "# model_path = \"/media/prateek/PK_HDD/intel_model_zoo/intel/person-detection-0202/FP32/person-detection-0202.xml\"\n",
    "\n",
    "threshold = .5\n",
    "device = 'CPU'\n",
    "\n",
    "person_detection = support_utility_openvino.async_infer(4)\n",
    "person_detection.load_model(model_path=model_path,device=device)"
   ]
  },
  {
   "cell_type": "code",
   "execution_count": 29,
   "metadata": {
    "ExecuteTime": {
     "end_time": "2020-12-29T05:07:19.512288Z",
     "start_time": "2020-12-29T05:06:33.432418Z"
    },
    "execution": {
     "iopub.execute_input": "2021-05-25T14:00:53.645198Z",
     "iopub.status.busy": "2021-05-25T14:00:53.644906Z",
     "iopub.status.idle": "2021-05-25T14:02:13.118193Z",
     "shell.execute_reply": "2021-05-25T14:02:13.115893Z",
     "shell.execute_reply.started": "2021-05-25T14:00:53.645162Z"
    }
   },
   "outputs": [],
   "source": [
    "thresh = .4\n",
    "intersection_thresh = .1\n",
    "waittime = 1\n",
    "person_detection.reinit_model()\n",
    "fps_async = []\n",
    "show_bbox = False\n",
    "cv2.namedWindow(\"preview\",cv2.WINDOW_NORMAL)\n",
    "write_frames = False\n",
    "if write_frames:\n",
    "    save_path = \"../output_vids/person_detection/vikram_wollens/\"\n",
    "    os.makedirs(save_path,exist_ok=True)\n",
    "    image_idx = 0\n",
    "for f in all_jpg:\n",
    "    t0 = time.time() \n",
    "    frame = cv2.imread(f)\n",
    "    person_detection.predict(frame)\n",
    "    if person_detection.frame_processed>person_detection.num_requests:\n",
    "        frame,attr,res = person_detection.postprocess_op()\n",
    "        initial_w,initial_h = frame.shape[1],frame.shape[0]\n",
    "        bboxes = filter_result_bbox(frame,res[0],thresh = thresh)\n",
    "        t1 = time.time()    \n",
    "        fps_async.append(1/(t1-t0))\n",
    "\n",
    "        res_filt =  res[0][np.where(res[0][:,:,:,2]>thresh)]\n",
    "        bboxes = np.multiply([[initial_w,initial_h,initial_w,initial_h]],(res_filt[:,3:])).astype('int')\n",
    "        if show_bbox:\n",
    "            frame = bs.poly_img(frame,bs.selected_points)\n",
    "        for b in bboxes:\n",
    "        ## mask based intersection\n",
    "    #             intersection = poly_intersection_mask(frame,bs.selected_points,[[b[0],b[1]],[b[2],b[1]],[b[2],b[3]],[b[0],b[3]]])\n",
    "    #             print(intersection)\n",
    "\n",
    "#             if poly_intersection_shapely(bs.selected_points,[[b[0],b[1]],[b[2],b[1]],[b[2],b[3]],[b[0],b[3]]],intersection_threshold=intersection_thresh)and(point_intersection_shapely(bs.selected_points,[b[0],b[3]]) or point_intersection_shapely(bs.selected_points,[b[2],b[3]])):\n",
    "#                 cv2.rectangle(frame, (b[0], b[1]), (b[2], b[3]), (0,0,255), 2)            \n",
    "#             else:\n",
    "#                 # if not intersecting\n",
    "#     #                 pass\n",
    "            cv2.rectangle(frame, (b[0], b[1]), (b[2], b[3]), (0,0,0), 2)\n",
    "        frame = output_support.write_text(frame,\"FPS :%.2f\"%np.median(fps_async),text_color=(0, 0, 0),font_scale=1)\n",
    "\n",
    "    #         dst = cv2.warpPerspective(frame,M,(int(width),int(height)))\n",
    "        if write_frames:\n",
    "            cv2.imwrite(os.path.join(save_path,str(image_idx).zfill(5)+\".jpg\"),frame)\n",
    "            image_idx+=1\n",
    "\n",
    "        cv2.imshow(\"preview\",cv2.resize(frame,(640,480)))\n",
    "        k = cv2.waitKey(waittime)\n",
    "        if k==ord('s'):#switch\n",
    "            if waittime==1:\n",
    "                    waittime = 0\n",
    "            else:\n",
    "                waittime = 1\n",
    "        if k==ord('q'):\n",
    "            break\n",
    "\n",
    "\n",
    "cv2.destroyAllWindows()"
   ]
  },
  {
   "cell_type": "code",
   "execution_count": 21,
   "metadata": {
    "execution": {
     "iopub.execute_input": "2021-05-25T13:29:35.204627Z",
     "iopub.status.busy": "2021-05-25T13:29:35.203776Z",
     "iopub.status.idle": "2021-05-25T13:29:35.218106Z",
     "shell.execute_reply": "2021-05-25T13:29:35.216453Z",
     "shell.execute_reply.started": "2021-05-25T13:29:35.204515Z"
    }
   },
   "outputs": [
    {
     "data": {
      "text/plain": [
       "False"
      ]
     },
     "execution_count": 21,
     "metadata": {},
     "output_type": "execute_result"
    }
   ],
   "source": [
    "cv2.imwrite(os.path.join(save_path,str(image_idx).zfill(5),\".jpg\"),frame)"
   ]
  },
  {
   "cell_type": "code",
   "execution_count": 22,
   "metadata": {
    "execution": {
     "iopub.execute_input": "2021-05-25T13:32:07.445169Z",
     "iopub.status.busy": "2021-05-25T13:32:07.444890Z",
     "iopub.status.idle": "2021-05-25T13:32:07.449658Z",
     "shell.execute_reply": "2021-05-25T13:32:07.449081Z",
     "shell.execute_reply.started": "2021-05-25T13:32:07.445133Z"
    }
   },
   "outputs": [
    {
     "data": {
      "text/plain": [
       "'../output_vids/person_detection/vikram_wollens/00116/.jpg'"
      ]
     },
     "execution_count": 22,
     "metadata": {},
     "output_type": "execute_result"
    }
   ],
   "source": [
    "os.path.join(save_path,str(image_idx).zfill(5),\".jpg\")"
   ]
  },
  {
   "cell_type": "code",
   "execution_count": null,
   "metadata": {},
   "outputs": [],
   "source": [
    "os.path.exists()"
   ]
  }
 ],
 "metadata": {
  "kernelspec": {
   "display_name": "openvino",
   "language": "python",
   "name": "openvino"
  },
  "language_info": {
   "codemirror_mode": {
    "name": "ipython",
    "version": 3
   },
   "file_extension": ".py",
   "mimetype": "text/x-python",
   "name": "python",
   "nbconvert_exporter": "python",
   "pygments_lexer": "ipython3",
   "version": "3.6.8"
  },
  "widgets": {
   "application/vnd.jupyter.widget-state+json": {
    "state": {
     "0385aecf457a428680d33ba00cc841dc": {
      "model_module": "@jupyter-widgets/base",
      "model_module_version": "1.2.0",
      "model_name": "LayoutModel",
      "state": {}
     },
     "0896ccb1edca4f34b82dc6659539f0a9": {
      "model_module": "@jupyter-widgets/base",
      "model_module_version": "1.2.0",
      "model_name": "LayoutModel",
      "state": {}
     },
     "1ef513dbe5d64f8e9592cf2fcfb3e8b6": {
      "model_module": "@jupyter-widgets/base",
      "model_module_version": "1.2.0",
      "model_name": "LayoutModel",
      "state": {}
     },
     "3b2f42c9971a4beba3f58092c940ccb5": {
      "model_module": "@jupyter-widgets/controls",
      "model_module_version": "1.5.0",
      "model_name": "ButtonModel",
      "state": {
       "description": "Disconnect mpl",
       "layout": "IPY_MODEL_1ef513dbe5d64f8e9592cf2fcfb3e8b6",
       "style": "IPY_MODEL_8bf39de28a524e1084e329fb36794557"
      }
     },
     "6b59dd563a1048a3b2f375dc50121d50": {
      "model_module": "@jupyter-widgets/base",
      "model_module_version": "1.2.0",
      "model_name": "LayoutModel",
      "state": {}
     },
     "7aa0b443603645b89d7cc3ccf367fbb6": {
      "model_module": "@jupyter-widgets/base",
      "model_module_version": "1.2.0",
      "model_name": "LayoutModel",
      "state": {}
     },
     "8004c3e042e146c2a11c1b92708d3f2a": {
      "model_module": "@jupyter-widgets/controls",
      "model_module_version": "1.5.0",
      "model_name": "ButtonStyleModel",
      "state": {}
     },
     "8bf39de28a524e1084e329fb36794557": {
      "model_module": "@jupyter-widgets/controls",
      "model_module_version": "1.5.0",
      "model_name": "ButtonStyleModel",
      "state": {}
     },
     "94abe16256124f1fbc1264ca01ed1d89": {
      "model_module": "@jupyter-widgets/base",
      "model_module_version": "1.2.0",
      "model_name": "LayoutModel",
      "state": {}
     },
     "9fe4adbed00c4c4591900064e6564680": {
      "model_module": "@jupyter-widgets/base",
      "model_module_version": "1.2.0",
      "model_name": "LayoutModel",
      "state": {}
     },
     "a67e02db42324b42a9a110232e8252f3": {
      "model_module": "@jupyter-widgets/base",
      "model_module_version": "1.2.0",
      "model_name": "LayoutModel",
      "state": {}
     },
     "b3cd704ad6234f5ab1211ef0c8a97f1d": {
      "model_module": "@jupyter-widgets/controls",
      "model_module_version": "1.5.0",
      "model_name": "ButtonModel",
      "state": {
       "description": "Disconnect mpl",
       "layout": "IPY_MODEL_a67e02db42324b42a9a110232e8252f3",
       "style": "IPY_MODEL_8004c3e042e146c2a11c1b92708d3f2a"
      }
     },
     "b46d5ac6aab04b5a8d88a09454da8e98": {
      "model_module": "@jupyter-widgets/base",
      "model_module_version": "1.2.0",
      "model_name": "LayoutModel",
      "state": {}
     },
     "b928648e47fe40a69b8fa1d353893500": {
      "model_module": "@jupyter-widgets/controls",
      "model_module_version": "1.5.0",
      "model_name": "ButtonModel",
      "state": {
       "description": "Disconnect mpl",
       "layout": "IPY_MODEL_dfe05c8c24e4461985a46f059f093bb0",
       "style": "IPY_MODEL_e75a1d63a3c043919117e90ea256f105"
      }
     },
     "dfe05c8c24e4461985a46f059f093bb0": {
      "model_module": "@jupyter-widgets/base",
      "model_module_version": "1.2.0",
      "model_name": "LayoutModel",
      "state": {}
     },
     "dff799fe462a4444b3f3900d0dbc5b81": {
      "model_module": "@jupyter-widgets/base",
      "model_module_version": "1.2.0",
      "model_name": "LayoutModel",
      "state": {}
     },
     "e75a1d63a3c043919117e90ea256f105": {
      "model_module": "@jupyter-widgets/controls",
      "model_module_version": "1.5.0",
      "model_name": "ButtonStyleModel",
      "state": {}
     }
    },
    "version_major": 2,
    "version_minor": 0
   }
  }
 },
 "nbformat": 4,
 "nbformat_minor": 4
}
